{
 "cells": [
  {
   "cell_type": "code",
   "execution_count": 1,
   "metadata": {},
   "outputs": [
    {
     "name": "stdout",
     "output_type": "stream",
     "text": [
      "Generator just started. send can now be used <<<<<<<\n",
      "you have sent 1\n",
      "Generator just started. send can now be used <<<<<<<\n",
      "you have sent 2\n"
     ]
    }
   ],
   "source": [
    "def func():\n",
    "    while True:\n",
    "        sent = yield \"Generator just started. send can now be used <<<<<<<\"\n",
    "        yield \"you have sent {}\".format(sent)\n",
    "        \n",
    "        \n",
    "g = func()\n",
    "print(next(g))\n",
    "print(g.send(1))\n",
    "print(next(g))\n",
    "print(g.send(2))"
   ]
  },
  {
   "cell_type": "code",
   "execution_count": 2,
   "metadata": {},
   "outputs": [
    {
     "data": {
      "text/plain": [
       "<matplotlib.lines.Line2D at 0x7f67cc5a7898>"
      ]
     },
     "execution_count": 2,
     "metadata": {},
     "output_type": "execute_result"
    }
   ],
   "source": [
    "import pandas as pd\n",
    "\n",
    "df = pd.DataFrame(index=pd.date_range(\"2019-07-01\", \"2019-07-31\"))\n",
    "df[\"y\"] = pd.np.logspace(0, 1, num=len(df))\n",
    "\n",
    "ax = df.plot()\n",
    "# you can add here as many lines as you want\n",
    "ax.axhline(6, color=\"red\", linestyle=\"--\")\n",
    "ax.axvline(\"2019-07-24\", color=\"red\", linestyle=\"--\")"
   ]
  },
  {
   "cell_type": "code",
   "execution_count": 3,
   "metadata": {},
   "outputs": [
    {
     "data": {
      "image/png": "[encoded data removed]",
      "text/plain": [
       "<Figure size 432x288 with 1 Axes>"
      ]
     },
     "metadata": {
      "needs_background": "light"
     },
     "output_type": "display_data"
    }
   ],
   "source": [
    "import matplotlib.pyplot as plt\n",
    "import numpy as np\n",
    "\n",
    "x = np.linspace(0, 2*np.pi, 1000)\n",
    "y1 = np.sin(x)\n",
    "\n",
    "f = plt.figure()\n",
    "\n",
    "ax = f.add_subplot(111)\n",
    "\n",
    "plt.plot(x, y1, '-b', label='sine')\n",
    "\n",
    "# plt.axvline(x=np.pi,color='red')\n",
    "\n",
    "ax.axvline(x=np.pi, color=\"red\", lw=3 , label=\"hi\")\n",
    "plt.text(np.pi+0.1,1.1,'Evil Hack\\nEvent',rotation=0)\n",
    "\n",
    "\n",
    "plt.title('Matplotlib Vertical Line')\n",
    "\n",
    "plt.xlim(0, 2.0*np.pi)\n",
    "plt.ylim(-1.5, 1.5)\n",
    "\n",
    "plt.savefig('matplotlib_vertical_line.png', bbox_inches='tight')\n",
    "plt.show()"
   ]
  },
  {
   "cell_type": "code",
   "execution_count": 4,
   "metadata": {},
   "outputs": [
    {
     "data": {
      "text/plain": [
       "3.141592653589793"
      ]
     },
     "execution_count": 4,
     "metadata": {},
     "output_type": "execute_result"
    }
   ],
   "source": [
    "np.pi"
   ]
  }
 ],
 "metadata": {
  "kernelspec": {
   "display_name": "virtualenv_ethcluster",
   "language": "python",
   "name": "virtualenv_ethcluster"
  },
  "language_info": {
   "codemirror_mode": {
    "name": "ipython",
    "version": 3
   },
   "file_extension": ".py",
   "mimetype": "text/x-python",
   "name": "python",
   "nbconvert_exporter": "python",
   "pygments_lexer": "ipython3",
   "version": "3.6.9"
  }
 },
 "nbformat": 4,
 "nbformat_minor": 2
}

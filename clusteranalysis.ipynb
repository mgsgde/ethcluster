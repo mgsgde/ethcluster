{
 "cells": [
  {
   "cell_type": "code",
   "execution_count": 16,
   "metadata": {},
   "outputs": [],
   "source": [
    "# needed so that build files can be executed in the right directory\n",
    "import os\n",
    "os.chdir('/home/mgsgde/masterarbeit/ethcluster')"
   ]
  },
  {
   "cell_type": "markdown",
   "metadata": {},
   "source": [
    "# Tools"
   ]
  },
  {
   "cell_type": "code",
   "execution_count": 17,
   "metadata": {},
   "outputs": [],
   "source": [
    "import pandas as pd\n",
    "import numpy as np\n",
    "import seaborn as sns\n",
    "from sklearn.cluster import KMeans\n",
    "from sklearn.preprocessing import LabelEncoder\n",
    "from sklearn.preprocessing import MinMaxScaler\n",
    "import matplotlib.pyplot as plt\n",
    "from sklearn.decomposition import PCA\n",
    "from sklearn.preprocessing import StandardScaler\n",
    "from google.cloud import bigquery\n",
    "import time\n",
    "from sklearn import metrics\n",
    "from sklearn.metrics import pairwise_distances\n",
    "import seaborn as sns\n",
    "import simplejson as json\n",
    "import os\n",
    "from datetime import timedelta\n",
    "import webbrowser\n",
    "import papermill as pm\n",
    "from enum import Enum\n",
    "import re\n",
    "import simplejson as json\n",
    "from IPython.core.interactiveshell import InteractiveShell\n",
    "from sklearn.ensemble import IsolationForest\n",
    "from sklearn.cluster import OPTICS\n",
    "from collections import Counter"
   ]
  },
  {
   "cell_type": "code",
   "execution_count": 18,
   "metadata": {},
   "outputs": [
    {
     "name": "stdout",
     "output_type": "stream",
     "text": [
      "env: GOOGLE_APPLICATION_CREDENTIALS=./secrets/bigquery-service-account.json\n"
     ]
    }
   ],
   "source": [
    "# InteractiveShell.ast_node_interactivity = \"all\"\n",
    "%env GOOGLE_APPLICATION_CREDENTIALS=./secrets/bigquery-service-account.json\n",
    "client = bigquery.Client()"
   ]
  },
  {
   "cell_type": "markdown",
   "metadata": {},
   "source": [
    "# Configuration"
   ]
  },
  {
   "cell_type": "code",
   "execution_count": 19,
   "metadata": {},
   "outputs": [],
   "source": [
    "max_number_of_clusters = 30\n",
    "min_number_of_clusters = 2\n",
    "\n",
    "class OUTLIER_REMOVAL(Enum):\n",
    "    NONE = 1 \n",
    "    VARIANCE_THRESHOLD_WITHIN_CLUSTER = 2 \n",
    "    ISOLATION_FOREST = 3 \n",
    "\n",
    "outlier_removal = OUTLIER_REMOVAL.ISOLATION_FOREST.value\n",
    "\n",
    "class CLUSTER_METHOD(Enum):\n",
    "    KMEANS = 1 \n",
    "    OPTICS = 2 \n",
    "\n",
    "cluster_method = CLUSTER_METHOD.KMEANS.value\n",
    "\n",
    "# exclude_features = [\"stddev_received_tx\",\n",
    "#                     \"stddev_sent_tx\",\n",
    "#                     \"avg_time_diff_sent_tx\",\n",
    "#                     \"avg_time_diff_received_tx\",\n",
    "#                     \"balance\",\n",
    "#                     \"usd_received\",\n",
    "#                     \"usd_sent\",\n",
    "#                     \"avg_usd_sent\",\n",
    "#                     \"avg_usd_received\",\n",
    "#                     \"monthly_usd_sent\",\n",
    "#                     \"monthly_usd_received\",\n",
    "#                     \"monthly_outgoing_txns\",\n",
    "#                     \"monthly_incoming_txns\",\n",
    "#                     \"avg_wei_sent\",\n",
    "#                     \"avg_wei_received\",\n",
    "#                     \"monthly_wei_sent\",\n",
    "#                     \"monthly_wei_received\"                                 \n",
    "#                      ]\n",
    "exclude_features = []\n",
    "\n",
    "# cannot be false when variance threshold as outlierremoval is set\n",
    "reset_clustering_result = True"
   ]
  },
  {
   "cell_type": "code",
   "execution_count": 20,
   "metadata": {
    "tags": [
     "parameters"
    ]
   },
   "outputs": [],
   "source": [
    "number_of_addresses = 100\n",
    "\n",
    "# format: yyyy-mm-dd\n",
    "observation_period_start = \"2020-01-01 00:00:00+00\"\n",
    "observation_period_end = \"2020-01-02 00:00:00+00\"\n",
    "\n",
    "class ADDRESS_SELECTION(Enum):\n",
    "    RANDOM = 1 # selects random features.index, that have been active within the observation period.\n",
    "    RICHEST = 2 # selects the accounts that have the most ether # not yet implemented\n",
    "    HIGHEST_TURNOVER = 3 # selects the accounts that have the most ether received + sent\n",
    "\n",
    "address_selection = ADDRESS_SELECTION.RICHEST.value\n",
    "\n",
    "# max USD amount to spent for executing sql queries\n",
    "max_bigquery_costs_usd = 2\n",
    "\n",
    "# Delete existing tables\n",
    "reset_feature_tables = False"
   ]
  },
  {
   "cell_type": "markdown",
   "metadata": {},
   "source": [
    "# Create feature table in bigquery"
   ]
  },
  {
   "cell_type": "code",
   "execution_count": 21,
   "metadata": {},
   "outputs": [],
   "source": [
    "table_name = \"features\"\n",
    "table_id = \"{}_{}_{}_{}_{}\".format(table_name, ADDRESS_SELECTION(address_selection).name, number_of_addresses, re.sub(r'[-.+: ]', '_', observation_period_start),re.sub(r'[-.+: ]', '_', observation_period_end))"
   ]
  },
  {
   "cell_type": "code",
   "execution_count": 22,
   "metadata": {},
   "outputs": [
    {
     "data": {
      "application/vnd.jupyter.widget-view+json": {
       "model_id": "6eca48cd6bc64d729646de4dfdfd80bb",
       "version_major": 2,
       "version_minor": 0
      },
      "text/plain": [
       "HBox(children=(FloatProgress(value=0.0, description='Executing', max=73.0, style=ProgressStyle(description_wid…"
      ]
     },
     "metadata": {},
     "output_type": "display_data"
    },
    {
     "name": "stdout",
     "output_type": "stream",
     "text": [
      "\n"
     ]
    }
   ],
   "source": [
    "try:\n",
    "    pm.execute_notebook(\n",
    "       './bigquery/features.ipynb',\n",
    "       './build/{}.build.ipynb'.format(table_id),\n",
    "       parameters = dict(number_of_addresses=number_of_addresses, observation_period_start=observation_period_start,observation_period_end=observation_period_end, address_selection=address_selection,max_bigquery_costs_usd=max_bigquery_costs_usd, reset = reset_feature_tables),\n",
    "       cwd = \"./bigquery\"\n",
    "    )\n",
    "except Exception as e:\n",
    "    if \"does already exist\" in e.args[0]:\n",
    "        print(\"Feature table does already exist.\")\n",
    "        pass\n",
    "    else:\n",
    "        raise"
   ]
  },
  {
   "cell_type": "markdown",
   "metadata": {},
   "source": [
    "# Load feature table from bigquery"
   ]
  },
  {
   "cell_type": "code",
   "execution_count": 23,
   "metadata": {},
   "outputs": [
    {
     "name": "stdout",
     "output_type": "stream",
     "text": [
      "Loading data from bigquery ...\n",
      "Time to retrieve data from BigQuery: 0 Minutes.\n"
     ]
    }
   ],
   "source": [
    "filename = '{}.json'.format(table_id)\n",
    "data_dir = \"./data\"\n",
    "\n",
    "if filename not in os.listdir(\"./data\") or reset_feature_tables == True:\n",
    "     \n",
    "    print(\"Loading data from bigquery ...\")\n",
    "    \n",
    "    sql = \"\"\"\n",
    "        SELECT *\n",
    "        FROM `masterarbeit-245718.ethereum_us.{table_id_features}` \n",
    "        \"\"\".format(table_id_features = table_id)\n",
    "\n",
    "    query_job = client.query(sql)  \n",
    "    \n",
    "    start = time.time();\n",
    "    \n",
    "    features = query_job.result().to_dataframe(); \n",
    "    features = features.set_index(\"address\")\n",
    "    \n",
    "    done = time.time();\n",
    "    elapsed = round(done - start);\n",
    "    \n",
    "    print(\"Time to retrieve data from BigQuery: {} Minutes.\".format(round(elapsed/60)))\n",
    "    \n",
    "    with open('{}/{}'.format(data_dir, filename), 'w') as json_file:\n",
    "        json.dump(features.to_dict(), json_file, use_decimal=True, default=str)\n",
    "        \n",
    "else: \n",
    "    \n",
    "    print(\"Loading data from local cache ...\")\n",
    "    \n",
    "    start = time.time();\n",
    "    \n",
    "    with open('./data/{}'.format(filename), \"r\") as file:  \n",
    "        file_content_json = json.load(file);\n",
    "        \n",
    "    done = time.time();\n",
    "    elapsed = round(done - start);\n",
    "    \n",
    "    features = pd.DataFrame(file_content_json) \n",
    "    \n",
    "    print(\"Time to retrieve data from local cache: {} Seconds.\".format(elapsed))\n",
    "        \n",
    "features = features.dropna()"
   ]
  },
  {
   "cell_type": "code",
   "execution_count": 24,
   "metadata": {},
   "outputs": [
    {
     "name": "stdout",
     "output_type": "stream",
     "text": [
      "Size of the account feature dataset: 0.0 Megabytes.\n"
     ]
    }
   ],
   "source": [
    "m = features.memory_usage();\n",
    "total_bytes = m.sum();\n",
    "total_megabytes = total_bytes/10**6;\n",
    "print(\"Size of the account feature dataset: {} Megabytes.\".format(round(total_megabytes)))"
   ]
  },
  {
   "cell_type": "markdown",
   "metadata": {},
   "source": [
    "# Set avg_time_diff and stddev 0 values to max"
   ]
  },
  {
   "cell_type": "code",
   "execution_count": 25,
   "metadata": {},
   "outputs": [],
   "source": [
    "features[\"avg_time_diff_sent_tx\"] = features[\"avg_time_diff_sent_tx\"].replace(to_replace=0.0, value=max(features[\"avg_time_diff_sent_tx\"]))\n",
    "features[\"avg_time_diff_received_tx\"] = features[\"avg_time_diff_received_tx\"].replace(to_replace=0.0, value=max(features[\"avg_time_diff_received_tx\"]))"
   ]
  },
  {
   "cell_type": "code",
   "execution_count": 26,
   "metadata": {},
   "outputs": [],
   "source": [
    "features[\"stddev_received_tx\"] = features[\"stddev_received_tx\"].replace(to_replace=0.0, value=max(features[\"stddev_received_tx\"]))\n",
    "features[\"stddev_sent_tx\"] = features[\"stddev_sent_tx\"].replace(to_replace=0.0, value=max(features[\"stddev_sent_tx\"]))"
   ]
  },
  {
   "cell_type": "markdown",
   "metadata": {},
   "source": [
    "# Exclude features"
   ]
  },
  {
   "cell_type": "code",
   "execution_count": 27,
   "metadata": {},
   "outputs": [],
   "source": [
    "if len(exclude_features) > 0:\n",
    "    features = features.drop(columns=exclude_features) "
   ]
  },
  {
   "cell_type": "markdown",
   "metadata": {},
   "source": [
    "# Standardise feature values, so that all feature values have the same mean and stddev"
   ]
  },
  {
   "cell_type": "code",
   "execution_count": 28,
   "metadata": {},
   "outputs": [],
   "source": [
    "scaler = StandardScaler(copy=True, with_mean=True, with_std=True);\n",
    "features_std = scaler.fit_transform(features);\n",
    "features_std = pd.DataFrame(features_std, columns=features.columns, index=features.index);"
   ]
  },
  {
   "cell_type": "markdown",
   "metadata": {},
   "source": [
    "# Use Isolationforest to identify outliers"
   ]
  },
  {
   "cell_type": "code",
   "execution_count": 29,
   "metadata": {},
   "outputs": [
    {
     "name": "stdout",
     "output_type": "stream",
     "text": [
      "Number of detected outliers: 14\n"
     ]
    }
   ],
   "source": [
    "clf = IsolationForest(max_samples=\"auto\", behaviour='new', contamination='auto')\n",
    "\n",
    "clf.fit(features_std)\n",
    "pred = clf.predict(features_std)\n",
    "\n",
    "features_clean = features[pred == 1]\n",
    "features_std_clean = features_std[pred == 1]\n",
    "\n",
    "outliers = features[pred == -1]\n",
    "\n",
    "print(\"Number of detected outliers: {}\".format(outliers.shape[0]))"
   ]
  },
  {
   "cell_type": "code",
   "execution_count": 30,
   "metadata": {
    "scrolled": true
   },
   "outputs": [
    {
     "data": {
      "text/html": [
       "<div>\n",
       "<style scoped>\n",
       "    .dataframe tbody tr th:only-of-type {\n",
       "        vertical-align: middle;\n",
       "    }\n",
       "\n",
       "    .dataframe tbody tr th {\n",
       "        vertical-align: top;\n",
       "    }\n",
       "\n",
       "    .dataframe thead th {\n",
       "        text-align: right;\n",
       "    }\n",
       "</style>\n",
       "<table border=\"1\" class=\"dataframe\">\n",
       "  <thead>\n",
       "    <tr style=\"text-align: right;\">\n",
       "      <th></th>\n",
       "      <th>wei_received</th>\n",
       "      <th>wei_sent</th>\n",
       "      <th>balance</th>\n",
       "      <th>number_of_tx_received</th>\n",
       "      <th>number_of_tx_sent</th>\n",
       "      <th>avg_time_diff_received_tx</th>\n",
       "      <th>avg_time_diff_sent_tx</th>\n",
       "      <th>mined_blocks</th>\n",
       "      <th>stddev_received_tx</th>\n",
       "      <th>stddev_sent_tx</th>\n",
       "      <th>...</th>\n",
       "      <th>monthly_wei_sent</th>\n",
       "      <th>monthly_wei_received</th>\n",
       "      <th>monthly_usd_sent</th>\n",
       "      <th>monthly_usd_received</th>\n",
       "      <th>monthly_outgoing_txns</th>\n",
       "      <th>monthly_incoming_txns</th>\n",
       "      <th>number_of_contracts_created</th>\n",
       "      <th>contract_tx</th>\n",
       "      <th>diff_token_used</th>\n",
       "      <th>turnover</th>\n",
       "    </tr>\n",
       "    <tr>\n",
       "      <th>address</th>\n",
       "      <th></th>\n",
       "      <th></th>\n",
       "      <th></th>\n",
       "      <th></th>\n",
       "      <th></th>\n",
       "      <th></th>\n",
       "      <th></th>\n",
       "      <th></th>\n",
       "      <th></th>\n",
       "      <th></th>\n",
       "      <th></th>\n",
       "      <th></th>\n",
       "      <th></th>\n",
       "      <th></th>\n",
       "      <th></th>\n",
       "      <th></th>\n",
       "      <th></th>\n",
       "      <th></th>\n",
       "      <th></th>\n",
       "      <th></th>\n",
       "      <th></th>\n",
       "    </tr>\n",
       "  </thead>\n",
       "  <tbody>\n",
       "    <tr>\n",
       "      <th>0xc02aaa39b223fe8d0a0e5c4f27ead9083c756cc2</th>\n",
       "      <td>34331914444211315237607</td>\n",
       "      <td>27312648661803961215083</td>\n",
       "      <td>7019265782407354022524</td>\n",
       "      <td>12049</td>\n",
       "      <td>3222</td>\n",
       "      <td>7.161936</td>\n",
       "      <td>26.788885</td>\n",
       "      <td>0</td>\n",
       "      <td>23.892761</td>\n",
       "      <td>56.517997</td>\n",
       "      <td>...</td>\n",
       "      <td>27312648661803961215083</td>\n",
       "      <td>34331914444211315237607</td>\n",
       "      <td>3.567032e+06</td>\n",
       "      <td>4.483748e+06</td>\n",
       "      <td>3222.0</td>\n",
       "      <td>12049.0</td>\n",
       "      <td>0</td>\n",
       "      <td>0</td>\n",
       "      <td>0</td>\n",
       "      <td>61644563106015276452690</td>\n",
       "    </tr>\n",
       "    <tr>\n",
       "      <th>0x564286362092d8e7936f0549571a803b203aaced</th>\n",
       "      <td>15723000000000000000000</td>\n",
       "      <td>14066539720600000000000</td>\n",
       "      <td>1656460279400000000000</td>\n",
       "      <td>1</td>\n",
       "      <td>993</td>\n",
       "      <td>54515.000000</td>\n",
       "      <td>86.925403</td>\n",
       "      <td>0</td>\n",
       "      <td>19378.261338</td>\n",
       "      <td>209.142583</td>\n",
       "      <td>...</td>\n",
       "      <td>14066539720600000000000</td>\n",
       "      <td>15723000000000000000000</td>\n",
       "      <td>1.837090e+06</td>\n",
       "      <td>2.053424e+06</td>\n",
       "      <td>993.0</td>\n",
       "      <td>1.0</td>\n",
       "      <td>0</td>\n",
       "      <td>630</td>\n",
       "      <td>84</td>\n",
       "      <td>29789539720600000000000</td>\n",
       "    </tr>\n",
       "    <tr>\n",
       "      <th>0xa7efae728d2936e78bda97dc267687568dd593f3</th>\n",
       "      <td>12639929307010000000000</td>\n",
       "      <td>7862197000000000000000</td>\n",
       "      <td>4777732307010000000000</td>\n",
       "      <td>528</td>\n",
       "      <td>195</td>\n",
       "      <td>159.963947</td>\n",
       "      <td>441.711340</td>\n",
       "      <td>0</td>\n",
       "      <td>747.059715</td>\n",
       "      <td>537.777608</td>\n",
       "      <td>...</td>\n",
       "      <td>7862197000000000000000</td>\n",
       "      <td>12639929307010000000000</td>\n",
       "      <td>1.026803e+06</td>\n",
       "      <td>1.650775e+06</td>\n",
       "      <td>195.0</td>\n",
       "      <td>528.0</td>\n",
       "      <td>0</td>\n",
       "      <td>0</td>\n",
       "      <td>0</td>\n",
       "      <td>20502126307010000000000</td>\n",
       "    </tr>\n",
       "    <tr>\n",
       "      <th>0xd1ceeeeee83f8bcf3bedad437202b6154e9f5405</th>\n",
       "      <td>9496820000000000000000</td>\n",
       "      <td>9212100659877588918316</td>\n",
       "      <td>284719340122411081684</td>\n",
       "      <td>4232</td>\n",
       "      <td>2117</td>\n",
       "      <td>20.394706</td>\n",
       "      <td>40.779773</td>\n",
       "      <td>0</td>\n",
       "      <td>82.272012</td>\n",
       "      <td>118.772189</td>\n",
       "      <td>...</td>\n",
       "      <td>9212100659877588918316</td>\n",
       "      <td>9496820000000000000000</td>\n",
       "      <td>1.203100e+06</td>\n",
       "      <td>1.240285e+06</td>\n",
       "      <td>2117.0</td>\n",
       "      <td>4232.0</td>\n",
       "      <td>0</td>\n",
       "      <td>0</td>\n",
       "      <td>0</td>\n",
       "      <td>18708920659877588918316</td>\n",
       "    </tr>\n",
       "    <tr>\n",
       "      <th>0x876eabf441b2ee5b5b0554fd502a8e0600950cfa</th>\n",
       "      <td>9249928781200000000000</td>\n",
       "      <td>7039047785070000000000</td>\n",
       "      <td>2210880996130000000000</td>\n",
       "      <td>262</td>\n",
       "      <td>171</td>\n",
       "      <td>330.352490</td>\n",
       "      <td>494.941176</td>\n",
       "      <td>0</td>\n",
       "      <td>347.095318</td>\n",
       "      <td>580.758214</td>\n",
       "      <td>...</td>\n",
       "      <td>7039047785070000000000</td>\n",
       "      <td>9249928781200000000000</td>\n",
       "      <td>9.192996e+05</td>\n",
       "      <td>1.208041e+06</td>\n",
       "      <td>171.0</td>\n",
       "      <td>262.0</td>\n",
       "      <td>0</td>\n",
       "      <td>89</td>\n",
       "      <td>40</td>\n",
       "      <td>16288976566270000000000</td>\n",
       "    </tr>\n",
       "  </tbody>\n",
       "</table>\n",
       "<p>5 rows × 27 columns</p>\n",
       "</div>"
      ],
      "text/plain": [
       "                                                       wei_received  \\\n",
       "address                                                               \n",
       "0xc02aaa39b223fe8d0a0e5c4f27ead9083c756cc2  34331914444211315237607   \n",
       "0x564286362092d8e7936f0549571a803b203aaced  15723000000000000000000   \n",
       "0xa7efae728d2936e78bda97dc267687568dd593f3  12639929307010000000000   \n",
       "0xd1ceeeeee83f8bcf3bedad437202b6154e9f5405   9496820000000000000000   \n",
       "0x876eabf441b2ee5b5b0554fd502a8e0600950cfa   9249928781200000000000   \n",
       "\n",
       "                                                           wei_sent  \\\n",
       "address                                                               \n",
       "0xc02aaa39b223fe8d0a0e5c4f27ead9083c756cc2  27312648661803961215083   \n",
       "0x564286362092d8e7936f0549571a803b203aaced  14066539720600000000000   \n",
       "0xa7efae728d2936e78bda97dc267687568dd593f3   7862197000000000000000   \n",
       "0xd1ceeeeee83f8bcf3bedad437202b6154e9f5405   9212100659877588918316   \n",
       "0x876eabf441b2ee5b5b0554fd502a8e0600950cfa   7039047785070000000000   \n",
       "\n",
       "                                                           balance  \\\n",
       "address                                                              \n",
       "0xc02aaa39b223fe8d0a0e5c4f27ead9083c756cc2  7019265782407354022524   \n",
       "0x564286362092d8e7936f0549571a803b203aaced  1656460279400000000000   \n",
       "0xa7efae728d2936e78bda97dc267687568dd593f3  4777732307010000000000   \n",
       "0xd1ceeeeee83f8bcf3bedad437202b6154e9f5405   284719340122411081684   \n",
       "0x876eabf441b2ee5b5b0554fd502a8e0600950cfa  2210880996130000000000   \n",
       "\n",
       "                                            number_of_tx_received  \\\n",
       "address                                                             \n",
       "0xc02aaa39b223fe8d0a0e5c4f27ead9083c756cc2                  12049   \n",
       "0x564286362092d8e7936f0549571a803b203aaced                      1   \n",
       "0xa7efae728d2936e78bda97dc267687568dd593f3                    528   \n",
       "0xd1ceeeeee83f8bcf3bedad437202b6154e9f5405                   4232   \n",
       "0x876eabf441b2ee5b5b0554fd502a8e0600950cfa                    262   \n",
       "\n",
       "                                            number_of_tx_sent  \\\n",
       "address                                                         \n",
       "0xc02aaa39b223fe8d0a0e5c4f27ead9083c756cc2               3222   \n",
       "0x564286362092d8e7936f0549571a803b203aaced                993   \n",
       "0xa7efae728d2936e78bda97dc267687568dd593f3                195   \n",
       "0xd1ceeeeee83f8bcf3bedad437202b6154e9f5405               2117   \n",
       "0x876eabf441b2ee5b5b0554fd502a8e0600950cfa                171   \n",
       "\n",
       "                                            avg_time_diff_received_tx  \\\n",
       "address                                                                 \n",
       "0xc02aaa39b223fe8d0a0e5c4f27ead9083c756cc2                   7.161936   \n",
       "0x564286362092d8e7936f0549571a803b203aaced               54515.000000   \n",
       "0xa7efae728d2936e78bda97dc267687568dd593f3                 159.963947   \n",
       "0xd1ceeeeee83f8bcf3bedad437202b6154e9f5405                  20.394706   \n",
       "0x876eabf441b2ee5b5b0554fd502a8e0600950cfa                 330.352490   \n",
       "\n",
       "                                            avg_time_diff_sent_tx  \\\n",
       "address                                                             \n",
       "0xc02aaa39b223fe8d0a0e5c4f27ead9083c756cc2              26.788885   \n",
       "0x564286362092d8e7936f0549571a803b203aaced              86.925403   \n",
       "0xa7efae728d2936e78bda97dc267687568dd593f3             441.711340   \n",
       "0xd1ceeeeee83f8bcf3bedad437202b6154e9f5405              40.779773   \n",
       "0x876eabf441b2ee5b5b0554fd502a8e0600950cfa             494.941176   \n",
       "\n",
       "                                            mined_blocks  stddev_received_tx  \\\n",
       "address                                                                        \n",
       "0xc02aaa39b223fe8d0a0e5c4f27ead9083c756cc2             0           23.892761   \n",
       "0x564286362092d8e7936f0549571a803b203aaced             0        19378.261338   \n",
       "0xa7efae728d2936e78bda97dc267687568dd593f3             0          747.059715   \n",
       "0xd1ceeeeee83f8bcf3bedad437202b6154e9f5405             0           82.272012   \n",
       "0x876eabf441b2ee5b5b0554fd502a8e0600950cfa             0          347.095318   \n",
       "\n",
       "                                            stddev_sent_tx  ...  \\\n",
       "address                                                     ...   \n",
       "0xc02aaa39b223fe8d0a0e5c4f27ead9083c756cc2       56.517997  ...   \n",
       "0x564286362092d8e7936f0549571a803b203aaced      209.142583  ...   \n",
       "0xa7efae728d2936e78bda97dc267687568dd593f3      537.777608  ...   \n",
       "0xd1ceeeeee83f8bcf3bedad437202b6154e9f5405      118.772189  ...   \n",
       "0x876eabf441b2ee5b5b0554fd502a8e0600950cfa      580.758214  ...   \n",
       "\n",
       "                                                   monthly_wei_sent  \\\n",
       "address                                                               \n",
       "0xc02aaa39b223fe8d0a0e5c4f27ead9083c756cc2  27312648661803961215083   \n",
       "0x564286362092d8e7936f0549571a803b203aaced  14066539720600000000000   \n",
       "0xa7efae728d2936e78bda97dc267687568dd593f3   7862197000000000000000   \n",
       "0xd1ceeeeee83f8bcf3bedad437202b6154e9f5405   9212100659877588918316   \n",
       "0x876eabf441b2ee5b5b0554fd502a8e0600950cfa   7039047785070000000000   \n",
       "\n",
       "                                               monthly_wei_received  \\\n",
       "address                                                               \n",
       "0xc02aaa39b223fe8d0a0e5c4f27ead9083c756cc2  34331914444211315237607   \n",
       "0x564286362092d8e7936f0549571a803b203aaced  15723000000000000000000   \n",
       "0xa7efae728d2936e78bda97dc267687568dd593f3  12639929307010000000000   \n",
       "0xd1ceeeeee83f8bcf3bedad437202b6154e9f5405   9496820000000000000000   \n",
       "0x876eabf441b2ee5b5b0554fd502a8e0600950cfa   9249928781200000000000   \n",
       "\n",
       "                                            monthly_usd_sent  \\\n",
       "address                                                        \n",
       "0xc02aaa39b223fe8d0a0e5c4f27ead9083c756cc2      3.567032e+06   \n",
       "0x564286362092d8e7936f0549571a803b203aaced      1.837090e+06   \n",
       "0xa7efae728d2936e78bda97dc267687568dd593f3      1.026803e+06   \n",
       "0xd1ceeeeee83f8bcf3bedad437202b6154e9f5405      1.203100e+06   \n",
       "0x876eabf441b2ee5b5b0554fd502a8e0600950cfa      9.192996e+05   \n",
       "\n",
       "                                           monthly_usd_received  \\\n",
       "address                                                           \n",
       "0xc02aaa39b223fe8d0a0e5c4f27ead9083c756cc2         4.483748e+06   \n",
       "0x564286362092d8e7936f0549571a803b203aaced         2.053424e+06   \n",
       "0xa7efae728d2936e78bda97dc267687568dd593f3         1.650775e+06   \n",
       "0xd1ceeeeee83f8bcf3bedad437202b6154e9f5405         1.240285e+06   \n",
       "0x876eabf441b2ee5b5b0554fd502a8e0600950cfa         1.208041e+06   \n",
       "\n",
       "                                           monthly_outgoing_txns  \\\n",
       "address                                                            \n",
       "0xc02aaa39b223fe8d0a0e5c4f27ead9083c756cc2                3222.0   \n",
       "0x564286362092d8e7936f0549571a803b203aaced                 993.0   \n",
       "0xa7efae728d2936e78bda97dc267687568dd593f3                 195.0   \n",
       "0xd1ceeeeee83f8bcf3bedad437202b6154e9f5405                2117.0   \n",
       "0x876eabf441b2ee5b5b0554fd502a8e0600950cfa                 171.0   \n",
       "\n",
       "                                            monthly_incoming_txns  \\\n",
       "address                                                             \n",
       "0xc02aaa39b223fe8d0a0e5c4f27ead9083c756cc2                12049.0   \n",
       "0x564286362092d8e7936f0549571a803b203aaced                    1.0   \n",
       "0xa7efae728d2936e78bda97dc267687568dd593f3                  528.0   \n",
       "0xd1ceeeeee83f8bcf3bedad437202b6154e9f5405                 4232.0   \n",
       "0x876eabf441b2ee5b5b0554fd502a8e0600950cfa                  262.0   \n",
       "\n",
       "                                            number_of_contracts_created  \\\n",
       "address                                                                   \n",
       "0xc02aaa39b223fe8d0a0e5c4f27ead9083c756cc2                            0   \n",
       "0x564286362092d8e7936f0549571a803b203aaced                            0   \n",
       "0xa7efae728d2936e78bda97dc267687568dd593f3                            0   \n",
       "0xd1ceeeeee83f8bcf3bedad437202b6154e9f5405                            0   \n",
       "0x876eabf441b2ee5b5b0554fd502a8e0600950cfa                            0   \n",
       "\n",
       "                                           contract_tx diff_token_used  \\\n",
       "address                                                                  \n",
       "0xc02aaa39b223fe8d0a0e5c4f27ead9083c756cc2           0               0   \n",
       "0x564286362092d8e7936f0549571a803b203aaced         630              84   \n",
       "0xa7efae728d2936e78bda97dc267687568dd593f3           0               0   \n",
       "0xd1ceeeeee83f8bcf3bedad437202b6154e9f5405           0               0   \n",
       "0x876eabf441b2ee5b5b0554fd502a8e0600950cfa          89              40   \n",
       "\n",
       "                                                           turnover  \n",
       "address                                                              \n",
       "0xc02aaa39b223fe8d0a0e5c4f27ead9083c756cc2  61644563106015276452690  \n",
       "0x564286362092d8e7936f0549571a803b203aaced  29789539720600000000000  \n",
       "0xa7efae728d2936e78bda97dc267687568dd593f3  20502126307010000000000  \n",
       "0xd1ceeeeee83f8bcf3bedad437202b6154e9f5405  18708920659877588918316  \n",
       "0x876eabf441b2ee5b5b0554fd502a8e0600950cfa  16288976566270000000000  \n",
       "\n",
       "[5 rows x 27 columns]"
      ]
     },
     "execution_count": 30,
     "metadata": {},
     "output_type": "execute_result"
    }
   ],
   "source": [
    "# Display outliers\n",
    "outliers_tmp = outliers.copy()\n",
    "outliers_tmp[\"turnover\"] = outliers[\"wei_received\"] + outliers[\"wei_sent\"]\n",
    "outliers_tmp = outliers_tmp.sort_values(by=[\"turnover\"], ascending=False)\n",
    "outliers_tmp.head()"
   ]
  },
  {
   "cell_type": "code",
   "execution_count": 31,
   "metadata": {},
   "outputs": [],
   "source": [
    "# # opens outliers features.index via etherscan\n",
    "# n = 5 # first n features.index get opened\n",
    "# i = 0\n",
    "# for address, features in outliers_tmp.iterrows():\n",
    "#     webbrowser.open('https://etherscan.io/address/{}'.format(address), new=2)\n",
    "#     i += 1\n",
    "#     if i == n:\n",
    "#         break"
   ]
  },
  {
   "cell_type": "markdown",
   "metadata": {},
   "source": [
    "# Use Isolationforest to remove outliers"
   ]
  },
  {
   "cell_type": "code",
   "execution_count": 32,
   "metadata": {},
   "outputs": [],
   "source": [
    "if outlier_removal == OUTLIER_REMOVAL.ISOLATION_FOREST.value:\n",
    "    features = features_clean\n",
    "    features_std = features_std_clean"
   ]
  },
  {
   "cell_type": "markdown",
   "metadata": {},
   "source": [
    "# Dimension Reduction via Principal Component Analysis"
   ]
  },
  {
   "cell_type": "markdown",
   "metadata": {},
   "source": [
    "**Frage:** Wie viel Varianz sollte von der Teilmenge der Principal Components, welche die meiste Varianz erklären, mindestens erklärt werden? Im Folgenden treffe ich die Annahme, dass 90% ausreicht."
   ]
  },
  {
   "cell_type": "code",
   "execution_count": 33,
   "metadata": {},
   "outputs": [],
   "source": [
    "min_explained_variance = 0.9"
   ]
  },
  {
   "cell_type": "code",
   "execution_count": 34,
   "metadata": {},
   "outputs": [
    {
     "name": "stdout",
     "output_type": "stream",
     "text": [
      "Die 5 ersten PCA-Komponenten erklären mehr als 90.0% der Varianz.\n"
     ]
    }
   ],
   "source": [
    "pca = PCA().fit(features_std)\n",
    "optimal_number_of_clusters = 0\n",
    "for i in np.cumsum(pca.explained_variance_ratio_):\n",
    "    optimal_number_of_clusters = optimal_number_of_clusters + 1\n",
    "    if i > min_explained_variance:\n",
    "        break;\n",
    "\n",
    "print(\"Die {} ersten PCA-Komponenten erklären mehr als {}% der Varianz.\".format(optimal_number_of_clusters, min_explained_variance*100))"
   ]
  },
  {
   "cell_type": "code",
   "execution_count": 35,
   "metadata": {},
   "outputs": [
    {
     "data": {
      "image/png": "[encoded data removed]",
      "text/plain": [
       "<Figure size 720x360 with 1 Axes>"
      ]
     },
     "metadata": {
      "needs_background": "light"
     },
     "output_type": "display_data"
    }
   ],
   "source": [
    "plt.figure(figsize=(10,5))\n",
    "plt.bar(range(1, len(pca.explained_variance_ratio_) + 1, 1), np.cumsum(pca.explained_variance_ratio_))\n",
    "plt.xlabel('Number of Components')\n",
    "plt.ylabel('Variance (%)') #for each component\n",
    "plt.title('PCA: Explained Variance')\n",
    "plt.show()"
   ]
  },
  {
   "cell_type": "code",
   "execution_count": 36,
   "metadata": {},
   "outputs": [
    {
     "data": {
      "text/html": [
       "<div>\n",
       "<style scoped>\n",
       "    .dataframe tbody tr th:only-of-type {\n",
       "        vertical-align: middle;\n",
       "    }\n",
       "\n",
       "    .dataframe tbody tr th {\n",
       "        vertical-align: top;\n",
       "    }\n",
       "\n",
       "    .dataframe thead th {\n",
       "        text-align: right;\n",
       "    }\n",
       "</style>\n",
       "<table border=\"1\" class=\"dataframe\">\n",
       "  <thead>\n",
       "    <tr style=\"text-align: right;\">\n",
       "      <th></th>\n",
       "      <th>0</th>\n",
       "      <th>1</th>\n",
       "      <th>2</th>\n",
       "      <th>3</th>\n",
       "      <th>4</th>\n",
       "    </tr>\n",
       "    <tr>\n",
       "      <th>address</th>\n",
       "      <th></th>\n",
       "      <th></th>\n",
       "      <th></th>\n",
       "      <th></th>\n",
       "      <th></th>\n",
       "    </tr>\n",
       "  </thead>\n",
       "  <tbody>\n",
       "    <tr>\n",
       "      <th>0x88d34944cf554e9cccf4a24292d891f620e9c94f</th>\n",
       "      <td>1.187854</td>\n",
       "      <td>-0.840652</td>\n",
       "      <td>2.519144</td>\n",
       "      <td>-0.287999</td>\n",
       "      <td>-0.467689</td>\n",
       "    </tr>\n",
       "    <tr>\n",
       "      <th>0x5e95c7633d5f20178f21058f0c6af708295ca9dd</th>\n",
       "      <td>-0.333091</td>\n",
       "      <td>-0.526099</td>\n",
       "      <td>0.702882</td>\n",
       "      <td>-0.261957</td>\n",
       "      <td>1.178146</td>\n",
       "    </tr>\n",
       "    <tr>\n",
       "      <th>0x266227beb7a4eb67a81313e14dd29a2225c29d21</th>\n",
       "      <td>-0.400641</td>\n",
       "      <td>-0.934646</td>\n",
       "      <td>-0.067534</td>\n",
       "      <td>0.034360</td>\n",
       "      <td>1.216356</td>\n",
       "    </tr>\n",
       "    <tr>\n",
       "      <th>0x0e466c575e0e1b63b1e340cea6766337133642a0</th>\n",
       "      <td>-1.405808</td>\n",
       "      <td>0.014243</td>\n",
       "      <td>-0.595852</td>\n",
       "      <td>0.529583</td>\n",
       "      <td>-0.150312</td>\n",
       "    </tr>\n",
       "    <tr>\n",
       "      <th>0xf2b2cc38b0e8b2ee87747b21ea4dd17791662a59</th>\n",
       "      <td>-1.441710</td>\n",
       "      <td>0.081872</td>\n",
       "      <td>-0.521559</td>\n",
       "      <td>0.442632</td>\n",
       "      <td>-0.151948</td>\n",
       "    </tr>\n",
       "  </tbody>\n",
       "</table>\n",
       "</div>"
      ],
      "text/plain": [
       "                                                   0         1         2  \\\n",
       "address                                                                    \n",
       "0x88d34944cf554e9cccf4a24292d891f620e9c94f  1.187854 -0.840652  2.519144   \n",
       "0x5e95c7633d5f20178f21058f0c6af708295ca9dd -0.333091 -0.526099  0.702882   \n",
       "0x266227beb7a4eb67a81313e14dd29a2225c29d21 -0.400641 -0.934646 -0.067534   \n",
       "0x0e466c575e0e1b63b1e340cea6766337133642a0 -1.405808  0.014243 -0.595852   \n",
       "0xf2b2cc38b0e8b2ee87747b21ea4dd17791662a59 -1.441710  0.081872 -0.521559   \n",
       "\n",
       "                                                   3         4  \n",
       "address                                                         \n",
       "0x88d34944cf554e9cccf4a24292d891f620e9c94f -0.287999 -0.467689  \n",
       "0x5e95c7633d5f20178f21058f0c6af708295ca9dd -0.261957  1.178146  \n",
       "0x266227beb7a4eb67a81313e14dd29a2225c29d21  0.034360  1.216356  \n",
       "0x0e466c575e0e1b63b1e340cea6766337133642a0  0.529583 -0.150312  \n",
       "0xf2b2cc38b0e8b2ee87747b21ea4dd17791662a59  0.442632 -0.151948  "
      ]
     },
     "execution_count": 36,
     "metadata": {},
     "output_type": "execute_result"
    }
   ],
   "source": [
    "pca = PCA(n_components=optimal_number_of_clusters);\n",
    "features_std_pca = pca.fit_transform(features_std);\n",
    "features_std_pca = pd.DataFrame(features_std_pca);\n",
    "features_std_pca.index = features.index\n",
    "features_std_pca.head()"
   ]
  },
  {
   "cell_type": "markdown",
   "metadata": {},
   "source": [
    "# Caluclate number of clusters via Clinski Harabasz Score (only when using K-MEANS)"
   ]
  },
  {
   "cell_type": "code",
   "execution_count": 37,
   "metadata": {},
   "outputs": [],
   "source": [
    "def estimateNumberOfClusters(features, features_std_pca, max_number_of_clusters):\n",
    "    scores = []\n",
    "    numberOfCluster = []\n",
    "\n",
    "    for i in range(2,max_number_of_clusters,1):\n",
    "        kmeans_tmp = KMeans(n_clusters=i)\n",
    "        kmeans_tmp.fit(features_std_pca)\n",
    "        numberOfCluster.append(i)\n",
    "        scores.append(metrics.calinski_harabasz_score(features, kmeans_tmp.labels_))  \n",
    "    \n",
    "    result = pd.DataFrame(np.transpose(np.array([numberOfCluster, scores])).astype(int), columns=[\"Number of Clusters\", \"C.H. Score\"]);\n",
    "    optimal_number_of_clusters = numberOfCluster[np.argmax(scores)];\n",
    "    \n",
    "    return result, optimal_number_of_clusters;"
   ]
  },
  {
   "cell_type": "code",
   "execution_count": 38,
   "metadata": {},
   "outputs": [],
   "source": [
    "def plotScores(scores):\n",
    "    plt.figure()\n",
    "    plt.bar(scores.iloc[:, 0],scores.iloc[:, 1] )\n",
    "    plt.xlabel('Number of Clusters')\n",
    "    plt.ylabel('C.H. Score') #for each component\n",
    "    plt.title('Calinski Harabasz Score')\n",
    "    plt.show()"
   ]
  },
  {
   "cell_type": "code",
   "execution_count": 39,
   "metadata": {},
   "outputs": [],
   "source": [
    "if cluster_method == CLUSTER_METHOD.KMEANS.value:\n",
    "    scores = []\n",
    "    numberOfCluster = []\n",
    "    \n",
    "    # 3 clusters are not considered to be valid\n",
    "    for i in range(min_number_of_clusters, max_number_of_clusters, 1):\n",
    "        kmeans_tmp = KMeans(n_clusters=i)\n",
    "        kmeans_tmp.fit(features_std_pca)\n",
    "        numberOfCluster.append(i)\n",
    "        scores.append(metrics.calinski_harabasz_score(features, kmeans_tmp.labels_))  \n",
    "    \n",
    "    results = pd.DataFrame(zip(numberOfCluster, scores), columns=[\"number_of_clusters\", \"calinski_score\"])\n",
    "    optimal_number_of_clusters = results.loc[results[\"calinski_score\"].idxmax()].astype(int)[\"number_of_clusters\"]"
   ]
  },
  {
   "cell_type": "code",
   "execution_count": 40,
   "metadata": {
    "scrolled": true
   },
   "outputs": [
    {
     "data": {
      "image/png": "[encoded data removed]",
      "text/plain": [
       "<Figure size 720x360 with 1 Axes>"
      ]
     },
     "metadata": {
      "needs_background": "light"
     },
     "output_type": "display_data"
    },
    {
     "name": "stdout",
     "output_type": "stream",
     "text": [
      "The optimal number of clusters is 26.\n"
     ]
    }
   ],
   "source": [
    "if cluster_method == CLUSTER_METHOD.KMEANS.value:\n",
    "    plt.figure(figsize=(10,5))\n",
    "    bars = plt.bar(x=results[\"number_of_clusters\"], height=results[\"calinski_score\"])\n",
    "    plt.xlabel(results.columns[0])\n",
    "    plt.ylabel(results.columns[1]) \n",
    "    bars[results[\"calinski_score\"].idxmax()].set_color(\"r\")\n",
    "    plt.show()\n",
    "    plt.close()\n",
    "    print(\"The optimal number of clusters is {}.\".format(optimal_number_of_clusters))"
   ]
  },
  {
   "cell_type": "markdown",
   "metadata": {},
   "source": [
    "# Clustering"
   ]
  },
  {
   "cell_type": "code",
   "execution_count": 41,
   "metadata": {},
   "outputs": [
    {
     "name": "stdout",
     "output_type": "stream",
     "text": [
      "Clustering data ...\n",
      "Time to cluster data: 0 Minutes.\n"
     ]
    }
   ],
   "source": [
    "filename = \"clusteranalysis_{}_{}_{}_{}_{}_{}\".format(address_selection, outlier_removal, cluster_method, number_of_addresses, re.sub(r'[-.+: ]', '_', observation_period_start),re.sub(r'[-.+: ]', '_', observation_period_end))\n",
    "data_dir = \"./data\"\n",
    "\n",
    "if filename not in os.listdir(data_dir) or reset_clustering_result == True:\n",
    "    \n",
    "    if cluster_method == CLUSTER_METHOD.KMEANS.value:\n",
    "        cluster_model = KMeans(n_clusters=optimal_number_of_clusters)\n",
    "\n",
    "    if cluster_method == CLUSTER_METHOD.OPTICS.value:\n",
    "        cluster_model = OPTICS()\n",
    "    \n",
    "    print(\"Clustering data ...\")\n",
    "    start = time.time();\n",
    "\n",
    "    cluster_model.fit(features_std_pca)\n",
    "    \n",
    "    features[\"label\"] = cluster_model.labels_\n",
    "    \n",
    "    done = time.time();\n",
    "    elapsed = round(done - start);\n",
    "    print(\"Time to cluster data: {} Minutes.\".format(round(elapsed/60)))\n",
    "    \n",
    "    # save clustering results in order to save time in the next run\n",
    "    with open('{}/{}'.format(data_dir, filename), 'w') as json_file:\n",
    "        json.dump(features.to_dict(), json_file, use_decimal=True, default=str)\n",
    "else:\n",
    "    \n",
    "    print(\"Loading data from local cache ...\")\n",
    "    \n",
    "    start = time.time();\n",
    "    \n",
    "    with open('./data/{}'.format(filename), \"r\") as file:  \n",
    "        file_content_json = json.load(file);\n",
    "        \n",
    "    done = time.time();\n",
    "    elapsed = round(done - start);\n",
    "    \n",
    "    features = pd.DataFrame(file_content_json) \n",
    "    \n",
    "    print(\"Time to retrieve data from local cache: {} Seconds.\".format(elapsed))    "
   ]
  },
  {
   "cell_type": "code",
   "execution_count": 42,
   "metadata": {},
   "outputs": [
    {
     "ename": "SyntaxError",
     "evalue": "unexpected EOF while parsing (<ipython-input-42-8614da8d6364>, line 1)",
     "output_type": "error",
     "traceback": [
      "\u001b[0;36m  File \u001b[0;32m\"<ipython-input-42-8614da8d6364>\"\u001b[0;36m, line \u001b[0;32m1\u001b[0m\n\u001b[0;31m    print(\"Number of Clusters {}\".format(len(features[\"label\"].unique()))\u001b[0m\n\u001b[0m                                                                         ^\u001b[0m\n\u001b[0;31mSyntaxError\u001b[0m\u001b[0;31m:\u001b[0m unexpected EOF while parsing\n"
     ]
    }
   ],
   "source": [
    "print(\"Number of Clusters {}\".format(len(features[\"label\"].unique()))"
   ]
  },
  {
   "cell_type": "code",
   "execution_count": null,
   "metadata": {},
   "outputs": [],
   "source": [
    "len(features)"
   ]
  },
  {
   "cell_type": "markdown",
   "metadata": {},
   "source": [
    "# Remove outliers for each cluster via variance threshold"
   ]
  },
  {
   "cell_type": "code",
   "execution_count": null,
   "metadata": {},
   "outputs": [],
   "source": [
    "features_std_pca.head()"
   ]
  },
  {
   "cell_type": "code",
   "execution_count": null,
   "metadata": {},
   "outputs": [],
   "source": [
    "def remove_outliers(features, cluster_model, threshold):\n",
    "    \n",
    "    features_without_outliers = pd.DataFrame()\n",
    "    labels_without_outliers = []\n",
    "\n",
    "    for label in np.unique(cluster_model.labels_):\n",
    "        centroid = np.array(features_std_pca[cluster_model.labels_ == label].mean())\n",
    "\n",
    "        features_within_cluster = features[cluster_model.labels_ == label];\n",
    "        # distance of each point in cluster to cluster's centroid\n",
    "        distances = features_within_cluster - centroid;\n",
    "        # convert to scalar\n",
    "        distances_norm = np.linalg.norm(distances, axis=1);\n",
    "        # max_distance for this cluster\n",
    "        max_distance = threshold * np.linalg.norm(features_within_cluster.std())\n",
    "        \n",
    "        keep = distances_norm <= max_distance\n",
    "        \n",
    "        features_without_outliers = features_without_outliers.append(features_within_cluster[keep])\n",
    "        labels_without_outliers.extend([label for i in features_within_cluster[keep].iterrows()])\n",
    "        \n",
    "    features_without_outliers[\"label\"] = labels_without_outliers\n",
    "    return features_without_outliers"
   ]
  },
  {
   "cell_type": "code",
   "execution_count": null,
   "metadata": {},
   "outputs": [],
   "source": [
    "if outlier_removal == OUTLIER_REMOVAL.VARIANCE_THRESHOLD_WITHIN_CLUSTER.value:\n",
    "    from sklearn.metrics import calinski_harabaz_score as ch_score\n",
    "    \n",
    "    thresholds = np.linspace(.0001,.6, 20)\n",
    "    \n",
    "    features_tables_without_outliers = [remove_outliers(features_std_pca, cluster_model, t) for t in thresholds]\n",
    "    \n",
    "    scores= []\n",
    "    res = []\n",
    "    \n",
    "    for f,t in zip(features_tables_without_outliers, thresholds):\n",
    "        if not f.empty and len(f[\"label\"].unique()) > 1 and len(f) > 4:\n",
    "            scores.append((metrics.calinski_harabasz_score(f.drop(columns=[\"label\"]), f[\"label\"]), t))\n",
    "            res.append(f)\n",
    "            \n",
    "    scores = [x for x in zip(*scores)]\n",
    "    \n",
    "    plt.plot(scores[1], scores[0])\n",
    "    plt.title('Calinski Harabaz Scores as std threshold changes')    \n",
    "    \n",
    "    optimal_threshold = thresholds[np.argmax(scores)]\n",
    "    features_std_pca_without_outliers = res[np.argmax(scores)]\n",
    "    features = features.reindex(features_std_pca_without_outliers.index)\n",
    "    features_std = features_std.reindex(features_std_pca_without_outliers.index)\n",
    "    features_std_pca = features_std_pca.reindex(features_std_pca_without_outliers.index)  \n",
    "    \n",
    "    print(\"The threshold leading to the highest Calinski Harabaz Score is\", optimal_threshold)"
   ]
  },
  {
   "cell_type": "markdown",
   "metadata": {},
   "source": [
    "# Visualisierung: T-SNE"
   ]
  },
  {
   "cell_type": "code",
   "execution_count": null,
   "metadata": {},
   "outputs": [],
   "source": [
    "# from sklearn.manifold import TSNE\n",
    "\n",
    "# time_start = time.time()\n",
    "\n",
    "# tsne = TSNE(n_components=2, verbose=1, perplexity=40, n_iter=500)\n",
    "# features_std_pca_out_tsne = tsne.fit_transform(features_std_pca_out)\n",
    "# features_std_pca_out_tsne = pd.DataFrame(features_std_pca_out_tsne, columns=[\"1_tsne_comp\",\"1_tsne_comp\"])\n",
    "# features_std_pca_out_tsne.head()\n",
    "\n",
    "# print('t-SNE done! Time elapsed: {} seconds'.format(time.time()-time_start))"
   ]
  },
  {
   "cell_type": "code",
   "execution_count": null,
   "metadata": {},
   "outputs": [],
   "source": [
    "# # Plot Digits t-SNE\n",
    "# import seaborn as sns\n",
    "\n",
    "# # Set style of scatterplot\n",
    "# sns.set_context(\"notebook\", font_scale=1.1)\n",
    "# sns.set_style(\"ticks\")\n",
    "\n",
    "# features_std_pca_out_tsne[\"Label\"] = cluster_model.labels_\n",
    "# features_std_pca_out_tsne.columns = [\"x\", \"y\", \"Label\"]\n",
    "\n",
    "# sns.lmplot(x='x',\n",
    "#            y='y',\n",
    "#            data=features_std_pca_out_tsne,\n",
    "#            fit_reg=False,\n",
    "#            legend=True,\n",
    "#            height=9,\n",
    "#            hue='Label',\n",
    "#            scatter_kws={\"s\":200, \"alpha\":0.3})\n",
    "\n",
    "\n",
    "# plt.title('t-SNE Results:', weight='bold').set_fontsize('14')\n",
    "# plt.xlabel('Prin Comp 1', weight='bold').set_fontsize('10')\n",
    "# plt.ylabel('Prin Comp 2', weight='bold').set_fontsize('10')"
   ]
  },
  {
   "cell_type": "markdown",
   "metadata": {},
   "source": [
    "## Display principal components"
   ]
  },
  {
   "cell_type": "code",
   "execution_count": null,
   "metadata": {},
   "outputs": [],
   "source": [
    "from mpl_toolkits.mplot3d import Axes3D;\n",
    "\n",
    "fig = plt.figure(figsize=(10, 10));\n",
    "ax = Axes3D(fig, elev=-150, azim=110);\n",
    "\n",
    "pca_tmp = PCA(n_components=3)\n",
    "features_std_pca_tmp = pca_tmp.fit_transform(features_std);\n",
    "features_std_pca_tmp = pd.DataFrame(features_std_pca_tmp)\n",
    "features_std_pca_tmp.index = features.index \n",
    "features_std_pca_tmp.columns = [\"1st eigenvector\", \"2st eigenvector\", \"3st eigenvector\"] \n",
    "features_std_pca_tmp[\"label\"] = features[\"label\"]\n",
    "\n",
    "labels = np.sort(features_std_pca_tmp.label.unique())\n",
    "\n",
    "for l in labels:\n",
    "    ax.scatter(features_std_pca_tmp[\"1st eigenvector\"][features_std_pca_tmp[\"label\"] == l], \n",
    "           features_std_pca_tmp[\"2st eigenvector\"][features_std_pca_tmp[\"label\"] == l],\n",
    "           features_std_pca_tmp[\"3st eigenvector\"][features_std_pca_tmp[\"label\"] == l],\n",
    "           label = l, \n",
    "           edgecolor='k', s=40, alpha = 1);\n",
    "\n",
    "ax.set_title(\"First three PCA Components\");\n",
    "ax.set_xlabel(\"1st eigenvector\");\n",
    "ax.w_xaxis.set_ticklabels([]);\n",
    "ax.set_ylabel(\"2nd eigenvector\");\n",
    "ax.w_yaxis.set_ticklabels([]);\n",
    "ax.set_zlabel(\"3rd eigenvector\");\n",
    "ax.w_zaxis.set_ticklabels([]);\n",
    "ax.legend(title= \"Clusters\")"
   ]
  },
  {
   "cell_type": "markdown",
   "metadata": {},
   "source": [
    "# Display cluster means "
   ]
  },
  {
   "cell_type": "code",
   "execution_count": null,
   "metadata": {},
   "outputs": [],
   "source": [
    "clusters = dict() \n",
    "labels = features[\"label\"].unique()\n",
    "labels.sort()\n",
    "\n",
    "for label in labels:\n",
    "    cluster_name = 'cluster_{}'.format(label)\n",
    "    \n",
    "    features_in_cluster = features[features.label == label]\n",
    "    \n",
    "    clusters[cluster_name] = dict()\n",
    "    clusters[cluster_name][\"number_of_addresses\"] = Counter(features[\"label\"])[label]\n",
    "    clusters[cluster_name][\"feature_means\"] = features_in_cluster.drop(columns=[\"label\"]).mean()\n",
    "    \n",
    "feature_means = pd.DataFrame(columns = clusters[cluster_name]['feature_means'].keys())\n",
    "\n",
    "for key in clusters:\n",
    "    clusters[key][\"feature_means\"].name = key\n",
    "    feature_means = feature_means.append(clusters[key][\"feature_means\"])"
   ]
  },
  {
   "cell_type": "code",
   "execution_count": null,
   "metadata": {},
   "outputs": [],
   "source": [
    "feature_means_display = feature_means.round()\n",
    "\n",
    "if \"wei_received\" in feature_means_display.columns:\n",
    "    feature_means_display[\"eth_received\"] = feature_means_display[\"wei_received\"] / 10**18\n",
    "    feature_means_display = feature_means_display.drop(columns=[\"wei_received\"])\n",
    "\n",
    "if \"wei_sent\" in feature_means_display.columns:\n",
    "    feature_means_display[\"eth_sent\"] = feature_means_display[\"wei_sent\"] / 10**18\n",
    "    feature_means_display = feature_means_display.drop(columns=[\"wei_sent\"])\n",
    "\n",
    "    \n",
    "if \"balance\" in feature_means_display.columns:\n",
    "    feature_means_display[\"eth_balance\"] = feature_means_display[\"balance\"] / 10**18\n",
    "    feature_means_display = feature_means_display.drop(columns=[\"balance\"])\n",
    "    \n",
    "if \"avg_wei_sent\" in feature_means_display.columns:\n",
    "    feature_means_display[\"avg_eth_sent\"] = feature_means_display[\"avg_wei_sent\"] / 10**18\n",
    "    feature_means_display = feature_means_display.drop(columns=[\"avg_wei_sent\"])\n",
    "    \n",
    "if \"avg_wei_received\" in feature_means_display.columns:\n",
    "    feature_means_display[\"avg_eth_received\"] = feature_means_display[\"avg_wei_received\"] / 10**18\n",
    "    feature_means_display = feature_means_display.drop(columns=[\"avg_wei_received\"])\n",
    "    \n",
    "if \"monthly_wei_sent\" in feature_means_display.columns:\n",
    "    feature_means_display[\"monthly_eth_sent\"] = feature_means_display[\"monthly_wei_sent\"] / 10**18\n",
    "    feature_means_display = feature_means_display.drop(columns=[\"monthly_wei_sent\"])\n",
    "    \n",
    "if \"monthly_wei_received\" in feature_means_display.columns:\n",
    "    feature_means_display[\"monthly_eth_received\"] = feature_means_display[\"monthly_wei_received\"] / 10**18\n",
    "    feature_means_display = feature_means_display.drop(columns=[\"monthly_wei_received\"])\n",
    "    \n",
    "feature_means_display[\"number_of_addresses\"] = [clusters[c][\"number_of_addresses\"] for c in clusters]\n",
    "\n",
    "if set([\"number_of_addresses\", \"eth_balance\", \"eth_sent\", \"eth_received\"]).issubset(set(feature_means_display.columns)):\n",
    "    cols = list(feature_means_display.columns.values) \n",
    "    cols.pop(cols.index('number_of_addresses')) \n",
    "    cols.pop(cols.index('eth_balance')) \n",
    "    cols.pop(cols.index('eth_sent')) \n",
    "    cols.pop(cols.index('eth_received')) \n",
    "    feature_means_display = feature_means_display[[\"number_of_addresses\", \"eth_balance\", \"eth_sent\", \"eth_received\"]+cols] \n",
    "\n",
    "\n",
    "if len(feature_means_display.columns) > len(feature_means_display.index):\n",
    "    print(\"Number of Addresses: {}\".format(number_of_addresses))\n",
    "    print(\"Observation-Period: {} to {}\".format(observation_period_start, observation_period_end))\n",
    "    display(feature_means_display.T.astype(\"int\"))\n",
    "else:\n",
    "    display(feature_means_display.astype(\"int\"))"
   ]
  },
  {
   "cell_type": "code",
   "execution_count": null,
   "metadata": {},
   "outputs": [],
   "source": [
    "# features[features[\"label\"] == 1]"
   ]
  },
  {
   "cell_type": "code",
   "execution_count": null,
   "metadata": {},
   "outputs": [],
   "source": [
    "# fig, ax = plt.subplots(figsize= (20,10))\n",
    "\n",
    "# scaler = StandardScaler(copy=True, with_mean=True, with_std=True);\n",
    "# features_std = scaler.fit_transform(features);\n",
    "# features_std = pd.DataFrame(features_std, columns=features.columns);\n",
    "# X_reduced = PCA(n_components=2).fit_transform(features_std);\n",
    "\n",
    "# ax.scatter(X_reduced[:, 0], X_reduced[:, 1], c=cluster_model.labels_)\n",
    "# ax.set_xlabel(\"Principal Component 1\")\n",
    "# ax.set_ylabel(\"Principal Component 2\")\n",
    "# pd.Series(cluster_model.labels_).unique()"
   ]
  },
  {
   "cell_type": "code",
   "execution_count": null,
   "metadata": {},
   "outputs": [],
   "source": [
    "# features_std_pca_tmp.idxmax()"
   ]
  },
  {
   "cell_type": "code",
   "execution_count": null,
   "metadata": {},
   "outputs": [],
   "source": [
    "# snowflakes = features_std_pca_tmp.idxmax()\n",
    "# snowflakes\n",
    "# for i in snowflakes:\n",
    "#     print(features.index[i])"
   ]
  },
  {
   "cell_type": "markdown",
   "metadata": {},
   "source": [
    "# Display Cluster means with standardised features via radar plots"
   ]
  },
  {
   "cell_type": "code",
   "execution_count": null,
   "metadata": {},
   "outputs": [],
   "source": [
    "# cluster_data_for_plot1 = cluster_data.drop(columns=[\"cluster_size\"])\n",
    "# cluster_data_for_plot1 = cluster_data_for_plot1 / cluster_data_for_plot1.sum()\n",
    "# cluster_data_for_plot1[\"cluster_size\"] = cluster_data[\"cluster_size\"]\n",
    "# # cluster_data_for_plot1 = cluster_data_for_plot1.reset_index()\n",
    "\n",
    "# ax = cluster_data_for_plot1.plot.barh(x=\"cluster_size\" ,figsize=(15,15))\n",
    "\n",
    "# ax.tick_params(\n",
    "#     which=\"major\",\n",
    "#     axis='x', \n",
    "#     bottom=False\n",
    "#     )\n",
    "\n",
    "# ax.tick_params(\n",
    "#     which=\"major\",\n",
    "#     axis='y', \n",
    "#     labelsize=15\n",
    "#     ) \n",
    "\n",
    "# ylabels = ax.get_yticklabels()\n",
    "\n",
    "# ax.legend(loc=\"lower right\", fontsize=\"larger\")\n",
    "\n",
    "# ax.set_xticklabels([])\n",
    "# ylabel = ax.set_ylabel(\"Size of\\nCluster\", fontsize=\"xx-large\", rotation=0, labelpad=60)"
   ]
  },
  {
   "cell_type": "code",
   "execution_count": null,
   "metadata": {},
   "outputs": [],
   "source": [
    "import math \n",
    "\n",
    "N = len(feature_means.columns)\n",
    "\n",
    "values = {}\n",
    "feature_std_means = pd.DataFrame(columns=features.columns[:-1])\n",
    "\n",
    "for label in labels:\n",
    "    features_in_cluster = features_std[features[\"label\"] == label]\n",
    "    feature_means_tmp = features_in_cluster.mean()\n",
    "    feature_means_tmp.name = 'cluster_{}'.format(label)\n",
    "    feature_std_means = feature_std_means.append(feature_means_tmp)\n",
    "\n",
    "# make all values positive, otherwise bigger values are displayed as if they were smaller \n",
    "feature_std_means_positive = feature_std_means + feature_std_means.max().max()\n",
    "\n",
    "for i,v in feature_std_means.iterrows(): \n",
    "    tmp_values = feature_std_means_positive.loc[i].values.tolist()\n",
    "    tmp_values += tmp_values[:1]\n",
    "    values[i] = tmp_values\n",
    "    \n",
    "angles = [n / float(N) * 2 * math.pi for n in range(N)]\n",
    "angles += angles[:1]\n",
    "\n",
    "fig = plt.figure(figsize=(25,len(values) * 10))\n",
    "\n",
    "i = 0\n",
    "\n",
    "for cluster_name, cluster_values in values.items():\n",
    "\n",
    "    i += 1\n",
    "    axis = plt.subplot(math.ceil(len(values)/2), 2, i, polar=True)\n",
    "    plt.sca(axis)\n",
    "    \n",
    "    plt.xticks(angles[:-1], features.columns, size=15)\n",
    "    \n",
    "    axis.plot(angles, cluster_values, linewidth=1, linestyle='solid')\n",
    "    axis.fill(angles, cluster_values, 'b', alpha=0.1)\n",
    "    axis.set_title(\"({}, addresses: {})\".format(cluster_name, clusters[cluster_name][\"number_of_addresses\"]), color = \"black\", size=25, loc=\"center\", pad=30)"
   ]
  },
  {
   "cell_type": "code",
   "execution_count": null,
   "metadata": {},
   "outputs": [],
   "source": [
    "# from math import pi\n",
    "\n",
    "# cluster_data_for_plot2 = cluster_data_for_plot1.copy()\n",
    "# cluster_data_for_plot2 = cluster_data_for_plot2.drop(columns=[\"cluster_size\"])\n",
    "# cluster_data_for_plot2 = cluster_data_for_plot2.sort_index()\n",
    "# # cluster_data_for_plot2 = cluster_data_for_plot2.set_index(\"index\")\n",
    "\n",
    "# categories=list(cluster_data_for_plot2)\n",
    "# N = len(categories)\n",
    "\n",
    "# values = {}\n",
    "\n",
    "# for i,v in cluster_data_for_plot2.iterrows(): \n",
    "#     tmp_values = cluster_data_for_plot2.loc[i].values.tolist()\n",
    "#     tmp_values += tmp_values[:1]\n",
    "#     values[i] = tmp_values\n",
    "\n",
    "# angles = [n / float(N) * 2 * pi for n in range(N)]\n",
    "# angles += angles[:1]\n",
    "# angles\n",
    " \n",
    "# plt.figure(figsize=(30,40))\n",
    "\n",
    "# for cluster_label, cluster_values in values.items():\n",
    "#     position = int(\"\".join([str(33), str(cluster_label + 1)]))\n",
    "#     axis = plt.subplot(position, polar=True)\n",
    "#     plt.sca(axis)\n",
    "#     plt.xticks(angles[:-1], categories, size=15)\n",
    "\n",
    "# #     plt.ylim(top=1)\n",
    "\n",
    "#     axis.plot(angles, cluster_values, linewidth=1, linestyle='solid')\n",
    "#     axis.fill(angles, cluster_values, 'b', alpha=0.1)\n",
    "# #     a.text(0.1,0.1, cluster_size[i], color = \"red\", size=20)\n",
    "#     axis.set_title(\"Cluster with ID={} has {} addresses\".format(cluster_label, cluster_sizes[cluster_label]), color = \"black\", size=25, loc=\"center\", pad=30)\n",
    "#     axis.set_yticks([t for i,t in enumerate(axis.get_yticks()) if i%2!=0])"
   ]
  },
  {
   "cell_type": "code",
   "execution_count": null,
   "metadata": {},
   "outputs": [],
   "source": [
    "# yticks = axis.get_yticks()\n",
    "# print(yticks)\n",
    "# newyticks = [t for i,t in enumerate(yticks) if i%2==0]\n",
    "# newyticks\n",
    "# # axis.set_yticks()"
   ]
  },
  {
   "cell_type": "code",
   "execution_count": null,
   "metadata": {},
   "outputs": [],
   "source": [
    "# for i,cd in cluster_data.iterrows():a\n",
    "#     x = features.index[cluster_model.labels_==i]\n",
    "#     print(\"Length of cluster with id={}: {}\".format(i, len(x)))\n",
    "#     display(x)\n",
    "#     print(\"############################\")"
   ]
  },
  {
   "cell_type": "markdown",
   "metadata": {},
   "source": [
    "# Clustering Evaluation: Recall, Precision and F1 score "
   ]
  },
  {
   "cell_type": "markdown",
   "metadata": {},
   "source": [
    "Get addresses with labels from etherscan"
   ]
  },
  {
   "cell_type": "code",
   "execution_count": null,
   "metadata": {},
   "outputs": [],
   "source": [
    "import csv\n",
    "\n",
    "addresses_with_es_labels = dict()\n",
    "\n",
    "files = os.listdir(\"./data\")\n",
    "relevant_files = [f for f in files if \"labelcloud\" in f]\n",
    "\n",
    "for f in relevant_files:\n",
    "    with open(\"./data/{}\".format(f), newline=\"\") as csvFile:\n",
    "        reader = csv.reader(csvFile, delimiter=\",\")       \n",
    "        addresses_with_es_labels[f.split(\"_\",1)[0]]  = [row[0] for row in reader if len(row) > 0]"
   ]
  },
  {
   "cell_type": "code",
   "execution_count": null,
   "metadata": {},
   "outputs": [],
   "source": [
    "es_label = 'exchanges'\n",
    "etherscan_labels = pd.DataFrame(columns=[es_label])\n",
    "\n",
    "\n",
    "for addr in list(features.index):\n",
    "    if addr.lower() in addresses_with_es_labels[es_label]:\n",
    "        etherscan_labels = etherscan_labels.append(pd.Series(1, name=addr))\n",
    "   \n",
    "etherscan_labels = etherscan_labels.reindex(index=features.index)\n",
    "etherscan_labels = etherscan_labels.fillna(0)\n",
    "etherscan_labels[es_label] = etherscan_labels[es_label].astype(\"int\")\n",
    "\n",
    "features[\"es_label_{}\".format(es_label)] = etherscan_labels[es_label]\n",
    "features.head()  \n",
    "\n",
    "cluster_list = []\n",
    "\n",
    "for label in features.label.unique():\n",
    "    cluster_list.append(features[features[\"label\"] == label][\"es_label_{}\".format(es_label)])"
   ]
  },
  {
   "cell_type": "code",
   "execution_count": null,
   "metadata": {},
   "outputs": [],
   "source": [
    "import collections as collections\n",
    "from math import factorial as fac\n",
    "\n",
    "def b(x, y):\n",
    "    try:\n",
    "        binom = fac(x) // fac(y) // fac(x - y)\n",
    "    except ValueError:\n",
    "        binom = 0\n",
    "    return binom\n",
    "\n",
    "Counter = collections.Counter\n",
    "\n",
    "num_doc= 0\n",
    "TP = 0\n",
    "FP = 0\n",
    "FN = 0\n",
    "TN = 0\n",
    "c_list = []\n",
    "\n",
    "# Calculate True Positives\n",
    "\n",
    "for c in range(0, len(cluster_list)): \n",
    "    # calculating num_doc count...\n",
    "    num_doc += len(cluster_list[c])\n",
    "\n",
    "    c = Counter(cluster_list[c])\n",
    "    c_list.append(c)\n",
    "    TP += b(c[1], 2) \n",
    "\n",
    "# Calculate False Positives\n",
    "    \n",
    "for c in range(0, len(cluster_list)): \n",
    "    c = Counter(cluster_list[c])\n",
    "    FP += c[1] * c[0]\n",
    "\n",
    "# Add all the cluster together\n",
    "\n",
    "sum = Counter()\n",
    "for c in c_list:\n",
    "    sum += c\n",
    "\n",
    "# Calculating False Negatives\n",
    "\n",
    "for ct in c_list:\n",
    "    fn_temp = 0 \n",
    "\n",
    "    fn_temp += ct[1]*(sum[1]-ct[1])\n",
    "    sum -= ct\n",
    "    FN += fn_temp\n",
    "\n",
    "print(\"TP is %d \" % TP)\n",
    "print(\"FP is %d \" % FP)\n",
    "print(\"FN is %d \" % FN)\n",
    "\n",
    "if TP > 0:\n",
    "    Precision = TP/(TP+FP)\n",
    "    Recall = TP/(TP+FN)\n",
    "    F1=(2*Recall*Precision)/(Recall+Precision)\n",
    "else:\n",
    "    Precision = 0\n",
    "    Recall = 0\n",
    "    F1 = 0\n",
    "    \n",
    "print(\"Precision is %.4f \" % Precision)\n",
    "print(\"Recall is %.4f \" % Recall)\n",
    "print(\"F1 is %.4f \" % F1)"
   ]
  },
  {
   "cell_type": "markdown",
   "metadata": {},
   "source": [
    "# Helper functions to analyse data"
   ]
  },
  {
   "cell_type": "code",
   "execution_count": null,
   "metadata": {},
   "outputs": [],
   "source": [
    "# i = 0\n",
    "# for index, row in features[features.label == 3].iterrows():\n",
    "#     i += 1\n",
    "#     a = row.name\n",
    "#     webbrowser.open('https://etherscan.io/address/{}'.format(a), new=2)\n",
    "#     if i == 5:\n",
    "#         break"
   ]
  },
  {
   "cell_type": "code",
   "execution_count": null,
   "metadata": {},
   "outputs": [],
   "source": [
    "# def open_etherscan(cluster_id, number_of_addresses):\n",
    "#     if len(features.index[features.label==cluster_id]) > number_of_addresses:\n",
    "#         for a in np.random.choice(features.index[cluster_model.labels_==cluster_id], number_of_addresses):\n",
    "#             webbrowser.open('https://etherscan.io/address/{}'.format(a), new=2)\n",
    "#     else:\n",
    "#         for a in features.index[features.label==cluster_id]:\n",
    "#             webbrowser.open('https://etherscan.io/address/{}'.format(a), new=2)\n",
    "    \n",
    "# open_etherscan(1, 3)"
   ]
  },
  {
   "cell_type": "code",
   "execution_count": null,
   "metadata": {},
   "outputs": [],
   "source": [
    "# import collections as collections\n",
    "\n",
    "# Counter = collections.Counter\n",
    "\n",
    "# cluster_list = [['a','a','a','a','a','b'],['a','b','b','b','b','c'],['a','a','c','c','c']]\n",
    "# num_doc= 0\n",
    "# positives = 0\n",
    "# negatives = 0\n",
    "# TP = 0\n",
    "# FP = 0\n",
    "# FN = 0\n",
    "# TN = 0\n",
    "# c_list = []\n",
    "# for c in range(0, len(cluster_list)): \n",
    "#     # calculating num_doc count...\n",
    "#     num_doc += len(cluster_list[c])\n",
    "\n",
    "#     # calculating positives...\n",
    "#     positives +=  (len(cluster_list[c])*(len(cluster_list[c])-1))/2\n",
    "\n",
    "#     # calculating TP...\n",
    "#     c = Counter(cluster_list[c])\n",
    "#     c_list.append(c)\n",
    "#     tp_temp = 0 \n",
    "#     for k,v in dict(c).items():\n",
    "#         if v>1:\n",
    "#             tp_temp += (v*(v-1))/2\n",
    "#     TP += tp_temp \n",
    "\n",
    "# FP = positives - TP\n",
    "# negatives = ((num_doc*(num_doc-1))/2) - positives\n",
    "# # Add all the cluster together\n",
    "# sum = Counter()\n",
    "\n",
    "# for c in c_list:\n",
    "#     sum += c\n",
    "\n",
    "# # calculating FN...\n",
    "# for ct in c_list:\n",
    "#     fn_temp = 0 \n",
    "#     for k,v in dict(ct).items():\n",
    "#         fn_temp += v*(sum[k]-v)\n",
    "#     sum -= ct\n",
    "#     FN += fn_temp\n",
    "# TN = negatives -FN\n",
    "# print(\"num_doc is %d \" % num_doc)\n",
    "# print(\"positives is %d \" % positives)\n",
    "# print(\"TP is %d \" % TP)\n",
    "# print(\"FP is %d \" % FP)\n",
    "# print(\"FN is %d \" % FN)\n",
    "# print(\"TN is %d \" % TN)\n",
    "\n",
    "# Precision = TP/(TP+FP)\n",
    "# print(\"Precision is %.2f \" % Precision)\n",
    "\n",
    "# Recall = TP/(TP+FN)\n",
    "# print(\"Recall is %.2f \" % Recall)\n",
    "\n",
    "# F1=(2*Recall*Precision)/(Recall+Precision)\n",
    "# print(\"F1 is %.2f \" % F1)"
   ]
  },
  {
   "cell_type": "code",
   "execution_count": null,
   "metadata": {},
   "outputs": [],
   "source": [
    "# from urllib.request aimport urlopen, Request\n",
    "# from bs4 import BeautifulSoup"
   ]
  },
  {
   "cell_type": "code",
   "execution_count": null,
   "metadata": {},
   "outputs": [],
   "source": [
    "# headers = {\"User-Aagent\": \"Mozilla/5.0 (Windows NT 6.1) AppleWebKit/537.36 (KHTML, like Gecko) Chrome/41.0.2228.0 Safari/537.3\",\n",
    "#           \"Cookie\": \"_ga=GA1.2.501875784.1580321678; etherscan_cookieconsent=True; __cfduid=d361eede6a818d85e197685c3b1fca6911585732139; ASP.NET_SessionId=ac5xtlkyswxx0jxagox3bc2d; _gid=GA1.2.644739241.1586167885\"}\n",
    "# reg_url = \"https://etherscan.io/accounts/label/exchange/1?ps=100\"\n",
    "# req = Request(url=reg_url, headers=headers) \n",
    "# html = urlopen(req).read().decode('utf-8')"
   ]
  },
  {
   "cell_type": "code",
   "execution_count": null,
   "metadata": {},
   "outputs": [],
   "source": [
    "# res1 = re.findall(\"address/0x.{40}\", html)\n",
    "# res1 = re.findall(\"0x.{40}\", str(res1))"
   ]
  },
  {
   "cell_type": "code",
   "execution_count": null,
   "metadata": {},
   "outputs": [],
   "source": [
    "# from bs4 import BeautifulSoup\n",
    "# soup = BeautifulSoup(html, 'html.parser')\n",
    "# elements = soup.find_all(\"tr\")\n",
    "# elements = list(elements)[1:-1]\n",
    "# exchangeNames = [e.contents[1].get_text() for e in elements]\n",
    "# exchangeAddresses = [e.contents[0].get_text().strip(\" \") for e in elements]\n",
    "# display(len(exchangeNames))\n",
    "# display(len(exchangeAddresses))\n",
    "# # for i in e:\n",
    "# #     print(i.contents[1].get_text())\n",
    "# #     print(i.children[1])"
   ]
  },
  {
   "cell_type": "code",
   "execution_count": null,
   "metadata": {},
   "outputs": [],
   "source": [
    "# exchanges = [(a, \"e\") for i, a in enumerate(features.index) if a.startswith(\"exchange\")]\n",
    "# speculators = [(a, \"x\") for i, a in enumerate(features.index) if a.startswith(\"speculator\")]\n",
    "\n",
    "# exchanges = pd.DataFrame(zip(*exchanges)).T\n",
    "# speculators = pd.DataFrame(zip(*speculators)).T\n",
    "\n",
    "# exchanges.columns = [\"address\", \"should_actual_be_in_cluster\"]\n",
    "# speculators.columns = [\"address\", \"should_actual_be_in_cluster\"]\n",
    "\n",
    "# exchanges = exchanges.set_index(\"address\")\n",
    "# speculators = speculators.set_index(\"address\")\n",
    "\n",
    "# # features.index[cluster_model.labels_ == 2]\n",
    "\n",
    "# tmp = pd.DataFrame(zip(features.index, cluster_model.labels_), columns=[\"address\", \"is_in_cluster\"])\n",
    "# tmp = tmp.set_index(\"address\")\n",
    "\n",
    "# tmp1 = exchanges.append(speculators)\n",
    "\n",
    "# tmp1 = tmp1.join(tmp, on=\"address\", how=\"inner\")\n",
    "\n",
    "# cluster_list = []\n",
    "# for i in tmp1[\"is_in_cluster\"].unique():\n",
    "#     cluster_list.append(list(tmp1[tmp1[\"is_in_cluster\"] == i][\"should_actual_be_in_cluster\"]))\n",
    "\n"
   ]
  },
  {
   "cell_type": "code",
   "execution_count": null,
   "metadata": {},
   "outputs": [],
   "source": [
    "# import collections as collections\n",
    "# from math import factorial as fac\n",
    "\n",
    "# def b(x, y):\n",
    "#     try:\n",
    "#         binom = fac(x) // fac(y) // fac(x - y)\n",
    "#     except ValueError:\n",
    "#         binom = 0\n",
    "#     return binom\n",
    "\n",
    "# Counter = collections.Counter\n",
    "\n",
    "# num_doc= 0\n",
    "# TP = 0\n",
    "# FP = 0\n",
    "# FN = 0\n",
    "# TN = 0\n",
    "# c_list = []\n",
    "# for c in range(0, len(cluster_list)): \n",
    "#     # calculating num_doc count...\n",
    "#     num_doc += len(cluster_list[c])\n",
    "\n",
    "#     c = Counter(cluster_list[c])\n",
    "#     c_list.append(c)\n",
    "#     TP += b(c[\"e\"], 2) \n",
    "    \n",
    "# # Calculate False Positives\n",
    "    \n",
    "# for c in range(0, len(cluster_list)): \n",
    "#     c = Counter(cluster_list[c])\n",
    "#     FP += c[\"e\"] * c[\"x\"]\n",
    "\n",
    "# # Add all the cluster together\n",
    "# sum = Counter()\n",
    "# for c in c_list:\n",
    "#     sum += c\n",
    "\n",
    "# # calculating FN...\n",
    "# for ct in c_list:\n",
    "#     fn_temp = 0 \n",
    "\n",
    "#     fn_temp += ct[\"e\"]*(sum[\"e\"]-ct[\"e\"])\n",
    "#     sum -= ct\n",
    "#     FN += fn_temp\n",
    "\n",
    "\n",
    "# print(\"num_doc is %d \" % num_doc)\n",
    "# print(\"TP is %d \" % TP)\n",
    "# print(\"FP is %d \" % FP)\n",
    "# print(\"FN is %d \" % FN)\n",
    "# print(\"TN is %d \" % TN)\n",
    "\n",
    "# Precision = TP/(TP+FP)\n",
    "# print(\"Precision is %.2f \" % Precision)\n",
    "\n",
    "# Recall = TP/(TP+FN)\n",
    "# print(\"Recall is %.2f \" % Recall)\n",
    "\n",
    "# F1=(2*Recall*Precision)/(Recall+Precision)\n",
    "# print(\"F1 is %.2f \" % F1)\n",
    "\n"
   ]
  },
  {
   "cell_type": "code",
   "execution_count": null,
   "metadata": {},
   "outputs": [],
   "source": [
    "# fig, ax = plt.subplots(figsize= (20,10))\n",
    "\n",
    "# cluster_list.sort(key=len, reverse = True)\n",
    "# ind = range(0, len(cluster_list))\n",
    "\n",
    "# numberOfExchanges = [Counter(cl)[\"e\"] for cl in cluster_list]\n",
    "# numberOfSpeculators = [Counter(cl)[\"x\"] for cl in cluster_list]\n",
    "\n",
    "# line1 = ax.barh(ind, numberOfExchanges)\n",
    "# line2 = ax.barh(ind, numberOfSpeculators, left=numberOfExchanges)\n",
    "\n",
    "# yticklabels = ax.get_yticklabels()\n",
    "\n",
    "# start, end = ax.get_ylim()\n",
    "# ax.set_ylim(-1,7)\n",
    "\n",
    "# ax.yaxis.set_ticks(np.arange(0, 7, 1))\n",
    "\n",
    "# ax.legend((line1, line2), ('Exchanges', 'Unkown'), loc=\"upper right\", fontsize=\"larger\")\n",
    "\n",
    "# yticklabels = ax.set_yticklabels(ind)\n",
    "\n",
    "# ax.tick_params(\n",
    "#     which=\"major\",\n",
    "#     axis='both', \n",
    "#     labelsize=13\n",
    "#     ) \n",
    "# ylabel = ax.set_ylabel(\"Cluster-ID\", fontsize=\"xx-large\", rotation=0, labelpad=60)\n",
    "# ylabel = ax.set_xlabel(\"Number of features.index\", fontsize=\"xx-large\", rotation=0, labelpad=30)\n"
   ]
  },
  {
   "cell_type": "markdown",
   "metadata": {},
   "source": [
    "# Temporary stuff"
   ]
  },
  {
   "cell_type": "code",
   "execution_count": null,
   "metadata": {},
   "outputs": [],
   "source": [
    "# import collections as collections\n",
    "\n",
    "# Counter = collections.Counter\n",
    "\n",
    "# cluster_list = [['a','a','a','a','a','b'],['a','b','b','b','b','c'],['a','a','c','c','c']]\n",
    "# num_doc= 0\n",
    "# positives = 0\n",
    "# negatives = 0\n",
    "# TP = 0\n",
    "# FP = 0\n",
    "# FN = 0\n",
    "# TN = 0\n",
    "# c_list = []\n",
    "# for c in range(0, len(cluster_list)): \n",
    "#     # calculating num_doc count...\n",
    "#     num_doc += len(cluster_list[c])\n",
    "\n",
    "#     # calculating positives...\n",
    "#     positives +=  (len(cluster_list[c])*(len(cluster_list[c])-1))/2\n",
    "\n",
    "#     # calculating TP...\n",
    "#     c = Counter(cluster_list[c])\n",
    "#     c_list.append(c)\n",
    "#     tp_temp = 0 \n",
    "#     for k,v in dict(c).items():\n",
    "#         if v>1:\n",
    "#             tp_temp += (v*(v-1))/2\n",
    "#     TP += tp_temp \n",
    "\n",
    "# FP = positives - TP\n",
    "# negatives = ((num_doc*(num_doc-1))/2) - positives\n",
    "# # Add all the cluster together\n",
    "# sum = Counter()\n",
    "\n",
    "# for c in c_list:\n",
    "#     sum += c\n",
    "\n",
    "# # calculating FN...\n",
    "# for ct in c_list:\n",
    "#     fn_temp = 0 \n",
    "#     for k,v in dict(ct).items():\n",
    "#         fn_temp += v*(sum[k]-v)\n",
    "#     sum -= ct\n",
    "#     FN += fn_temp\n",
    "# TN = negatives -FN\n",
    "# print(\"num_doc is %d \" % num_doc)\n",
    "# print(\"positives is %d \" % positives)\n",
    "# print(\"TP is %d \" % TP)\n",
    "# print(\"FP is %d \" % FP)\n",
    "# print(\"FN is %d \" % FN)\n",
    "# print(\"TN is %d \" % TN)\n",
    "\n",
    "# Precision = TP/(TP+FP)\n",
    "# print(\"Precision is %.2f \" % Precision)\n",
    "\n",
    "# Recall = TP/(TP+FN)\n",
    "# print(\"Recall is %.2f \" % Recall)\n",
    "\n",
    "# F1=(2*Recall*Precision)/(Recall+Precision)\n",
    "# print(\"F1 is %.2f \" % F1)"
   ]
  },
  {
   "cell_type": "markdown",
   "metadata": {},
   "source": [
    "Problem: Mit dem obigen Algorithmus wird die Güte des Clustering Algorithmus ingesamt bestimmt. Ich will aber nur die Güte des Clustering Modell anhand der Exchange Adressen bestimme."
   ]
  },
  {
   "cell_type": "markdown",
   "metadata": {},
   "source": [
    "Lösung?: (#Paare im selben cluster) / (#Paare in unterschiedlichen Clustern)"
   ]
  },
  {
   "cell_type": "code",
   "execution_count": null,
   "metadata": {},
   "outputs": [],
   "source": [
    "# import collections as collections\n",
    "\n",
    "# Counter = collections.Counter\n",
    "\n",
    "# cluster_list = [['a','a','a','a','a','b'],['a','b','b','b','b','c'],['a','a','c','c','c']]\n",
    "# num_doc= 0\n",
    "# positives = 0\n",
    "# negatives = 0\n",
    "# TP = 0\n",
    "# FP = 0\n",
    "# FN = 0\n",
    "# TN = 0\n",
    "# c_list = []\n",
    "# for c in range(0, len(cluster_list)): \n",
    "#     # calculating num_doc count...\n",
    "#     num_doc += len(cluster_list[c])\n",
    "\n",
    "#     # calculating positives...\n",
    "#     positives +=  (len(cluster_list[c])*(len(cluster_list[c])-1))/2\n",
    "\n",
    "#     # calculating TP...\n",
    "#     c = Counter(cluster_list[c])\n",
    "#     c_list.append(c)\n",
    "#     tp_temp = 0 \n",
    "#     for k,v in dict(c).items():\n",
    "#         if v>1:\n",
    "#             tp_temp += (v*(v-1))/2\n",
    "#     TP += tp_temp \n",
    "\n",
    "# FP = positives - TP\n",
    "# negatives = ((num_doc*(num_doc-1))/2) - positives\n",
    "# # Add all the cluster together\n",
    "# sum = Counter()\n",
    "\n",
    "# for c in c_list:\n",
    "#     sum += c\n",
    "\n",
    "# # calculating FN...\n",
    "# for ct in c_list:\n",
    "#     fn_temp = 0 \n",
    "#     for k,v in dict(ct).items():\n",
    "#         fn_temp += v*(sum[k]-v)\n",
    "#     sum -= ct\n",
    "#     FN += fn_temp\n",
    "# TN = negatives -FN\n",
    "# print(\"num_doc is %d \" % num_doc)\n",
    "# print(\"positives is %d \" % positives)\n",
    "# print(\"TP is %d \" % TP)\n",
    "# print(\"FP is %d \" % FP)\n",
    "# print(\"FN is %d \" % FN)\n",
    "# print(\"TN is %d \" % TN)\n",
    "\n",
    "# Precision = TP/(TP+FP)\n",
    "# print(\"Precision is %.2f \" % Precision)\n",
    "\n",
    "# Recall = TP/(TP+FN)\n",
    "# print(\"Recall is %.2f \" % Recall)\n",
    "\n",
    "# F1=(2*Recall*Precision)/(Recall+Precision)\n",
    "# print(\"F1 is %.2f \" % F1)"
   ]
  }
 ],
 "metadata": {
  "kernelspec": {
   "display_name": "Python 3",
   "language": "python",
   "name": "python3"
  },
  "language_info": {
   "codemirror_mode": {
    "name": "ipython",
    "version": 3
   },
   "file_extension": ".py",
   "mimetype": "text/x-python",
   "name": "python",
   "nbconvert_exporter": "python",
   "pygments_lexer": "ipython3",
   "version": "3.6.9"
  }
 },
 "nbformat": 4,
 "nbformat_minor": 2
}

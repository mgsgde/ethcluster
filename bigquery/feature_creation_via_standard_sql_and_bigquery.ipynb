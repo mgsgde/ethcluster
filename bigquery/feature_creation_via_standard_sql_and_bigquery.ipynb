{
 "cells": [
  {
   "cell_type": "code",
   "execution_count": 1,
   "metadata": {},
   "outputs": [
    {
     "name": "stdout",
     "output_type": "stream",
     "text": [
      "env: GOOGLE_APPLICATION_CREDENTIALS=../secrets/bigquery-service-account.json\n"
     ]
    }
   ],
   "source": [
    "import pandas as pd\n",
    "import numpy as np\n",
    "import matplotlib.pyplot as plt\n",
    "from google.cloud import bigquery\n",
    "import time\n",
    "%env GOOGLE_APPLICATION_CREDENTIALS=../secrets/bigquery-service-account.json \n",
    "client = bigquery.Client()\n",
    "from IPython.core.interactiveshell import InteractiveShell\n",
    "InteractiveShell.ast_node_interactivity = \"all\""
   ]
  },
  {
   "cell_type": "code",
   "execution_count": 2,
   "metadata": {},
   "outputs": [],
   "source": [
    "%load_ext google.cloud.bigquery"
   ]
  },
  {
   "cell_type": "code",
   "execution_count": 3,
   "metadata": {},
   "outputs": [
    {
     "name": "stdout",
     "output_type": "stream",
     "text": [
      "Executing query with job ID: 256e699d-73b0-40f5-b164-41922de7b2d0\n",
      "Query executing: 0.70s\n",
      "Query complete after 1.31s\n"
     ]
    }
   ],
   "source": [
    "%%bigquery metadata --project masterarbeit-245718 --verbose \n",
    "SELECT * FROM `bigquery-public-data`.crypto_ethereum.INFORMATION_SCHEMA.COLUMNS where table_name = \"traces\""
   ]
  },
  {
   "cell_type": "code",
   "execution_count": 4,
   "metadata": {},
   "outputs": [],
   "source": [
    "size_sample_data = 200"
   ]
  },
  {
   "cell_type": "markdown",
   "metadata": {},
   "source": [
    "### Generate sample data for \"call_type\""
   ]
  },
  {
   "cell_type": "code",
   "execution_count": 5,
   "metadata": {},
   "outputs": [],
   "source": [
    "# %%bigquery call_types_sql_result --project masterarbeit-245718 --verbose \n",
    "# select DISTINCT call_type from `bigquery-public-data.crypto_ethereum.traces`\n",
    "# where DATE(block_timestamp) >= '2019-07-6' AND DATE(block_timestamp) <= '2019-7-7'"
   ]
  },
  {
   "cell_type": "code",
   "execution_count": 6,
   "metadata": {},
   "outputs": [],
   "source": [
    "call_types = ['call', 'delegatecall', 'staticcall', 'callcode', None]\n",
    "prob_call_types = [0.7, 0.05, 0.025, 0.025, 0.2]"
   ]
  },
  {
   "cell_type": "code",
   "execution_count": 7,
   "metadata": {},
   "outputs": [],
   "source": [
    "call_type_sample = np.random.choice(call_types, 2*size_sample_data, p=prob_call_types)"
   ]
  },
  {
   "cell_type": "markdown",
   "metadata": {},
   "source": [
    "# Generate sample data for \"trace_type\""
   ]
  },
  {
   "cell_type": "code",
   "execution_count": 8,
   "metadata": {},
   "outputs": [],
   "source": [
    "additional_trace_types = [\"create\", \"suicide\", \"reward\", \"genesis\", \"daofork\"]\n",
    "prob_additional_trace_types = [0.025, 0.025, 0.9, 0.025, 0.025]\n",
    "\n",
    "trace_type_sample = []\n",
    "for ct in call_type_sample:\n",
    "    if ct == None:\n",
    "        trace_type_sample.append(np.random.choice(additional_trace_types, p=prob_additional_trace_types))\n",
    "    else:\n",
    "        trace_type_sample.append(\"call\")"
   ]
  },
  {
   "cell_type": "markdown",
   "metadata": {},
   "source": [
    "### Generate sample data for \"status\""
   ]
  },
  {
   "cell_type": "code",
   "execution_count": 9,
   "metadata": {},
   "outputs": [],
   "source": [
    "# %%bigquery status_values --project masterarbeit-245718 --verbose \n",
    "# select DISTINCT status from `bigquery-public-data.crypto_ethereum.traces`\n",
    "# where DATE(block_timestamp) >= '2019-07-6' AND DATE(block_timestamp) <= '2019-7-7'"
   ]
  },
  {
   "cell_type": "code",
   "execution_count": 10,
   "metadata": {},
   "outputs": [],
   "source": [
    "status_values = [0, 1]\n",
    "probs_status_values = [0.05, 0.95]"
   ]
  },
  {
   "cell_type": "code",
   "execution_count": 11,
   "metadata": {},
   "outputs": [],
   "source": [
    "probs_status_values = [0.05, 0.95]"
   ]
  },
  {
   "cell_type": "code",
   "execution_count": 12,
   "metadata": {},
   "outputs": [],
   "source": [
    "status_sample = np.random.choice(status_values, 2*size_sample_data, p=probs_status_values)"
   ]
  },
  {
   "cell_type": "markdown",
   "metadata": {},
   "source": [
    "### Generate sample accounts "
   ]
  },
  {
   "cell_type": "code",
   "execution_count": 13,
   "metadata": {},
   "outputs": [],
   "source": [
    "exchanges = [\"exchange_{}\".format(i) for i in range(1,int(0.05*size_sample_data + 1))]"
   ]
  },
  {
   "cell_type": "code",
   "execution_count": 14,
   "metadata": {},
   "outputs": [],
   "source": [
    "speculators = [\"speculator_{}\".format(i) for i in range(1,int(0.95*size_sample_data + 1))]"
   ]
  },
  {
   "cell_type": "code",
   "execution_count": 15,
   "metadata": {},
   "outputs": [],
   "source": [
    "addresses_testdata = []\n",
    "addresses_testdata.extend(speculators)\n",
    "addresses_testdata.extend(exchanges)"
   ]
  },
  {
   "cell_type": "code",
   "execution_count": 16,
   "metadata": {},
   "outputs": [],
   "source": [
    "addresses_testdata = pd.DataFrame(addresses_testdata, columns=[\"address\"])"
   ]
  },
  {
   "cell_type": "markdown",
   "metadata": {},
   "source": [
    "## Upload 'addresses' table to bigquery "
   ]
  },
  {
   "cell_type": "code",
   "execution_count": 17,
   "metadata": {},
   "outputs": [
    {
     "name": "stderr",
     "output_type": "stream",
     "text": [
      "1it [00:03,  3.73s/it]\n"
     ]
    }
   ],
   "source": [
    "addresses_testdata.to_gbq('ethereum_us.addresses_testdata', if_exists=\"replace\")"
   ]
  },
  {
   "cell_type": "markdown",
   "metadata": {},
   "source": [
    "### Generate sample transactions (speculators to exchanges)"
   ]
  },
  {
   "cell_type": "code",
   "execution_count": 18,
   "metadata": {},
   "outputs": [],
   "source": [
    "from_spec_addresses = [np.random.choice(speculators) for i in range(int(2*size_sample_data/2))]\n",
    "to_ex_addresses = [np.random.choice(exchanges) for i in range(int(2*size_sample_data/2))]\n",
    "values_spec_to_ex = np.random.randint(1, 20, int(2*size_sample_data/2))"
   ]
  },
  {
   "cell_type": "code",
   "execution_count": 19,
   "metadata": {},
   "outputs": [],
   "source": [
    "txdata1 = pd.DataFrame(zip(from_spec_addresses, to_ex_addresses, values_spec_to_ex), columns=[\"from_address\", \"to_address\", \"value\"])"
   ]
  },
  {
   "cell_type": "markdown",
   "metadata": {},
   "source": [
    "### Generate sample transactions (exchanges to speculators)"
   ]
  },
  {
   "cell_type": "code",
   "execution_count": 20,
   "metadata": {},
   "outputs": [],
   "source": [
    "to_spec_addresses = [np.random.choice(speculators) for i in range(int(2*size_sample_data/2))]\n",
    "from_ex_addresses = [np.random.choice(exchanges) for i in range(int(2*size_sample_data/2))]\n",
    "values_ex_to_spec = np.random.randint(1, 5, int(2*size_sample_data/2))"
   ]
  },
  {
   "cell_type": "code",
   "execution_count": 21,
   "metadata": {},
   "outputs": [],
   "source": [
    "txdata2 = pd.DataFrame(zip(from_ex_addresses, to_spec_addresses, values_ex_to_spec), columns=[\"from_address\", \"to_address\", \"value\"])"
   ]
  },
  {
   "cell_type": "markdown",
   "metadata": {},
   "source": [
    "Anmerkung: Die speculators schicken mehr Geld zu den Börsen als umgekehrt."
   ]
  },
  {
   "cell_type": "code",
   "execution_count": 22,
   "metadata": {},
   "outputs": [],
   "source": [
    "txdata = txdata1.append(txdata2).reset_index(drop=True)\n",
    "txdata = txdata.sample(frac=1)"
   ]
  },
  {
   "cell_type": "markdown",
   "metadata": {},
   "source": [
    "### Generate sample \"block_timestamps\""
   ]
  },
  {
   "cell_type": "code",
   "execution_count": 23,
   "metadata": {},
   "outputs": [],
   "source": [
    "import datetime as datetime\n",
    "\n",
    "base = datetime.datetime.strptime(\"2020-02-02\", '%Y-%m-%d')\n",
    "block_timestamps = [base - datetime.timedelta(seconds=x) for x in range(0, 12*size_sample_data, 12)]\n",
    "base = base - datetime.timedelta(days=31)\n",
    "block_timestamps.extend([base - datetime.timedelta(seconds=x) for x in range(0, 12*size_sample_data, 12)])"
   ]
  },
  {
   "cell_type": "markdown",
   "metadata": {},
   "source": [
    "### Merge data to sample \"traces\" table"
   ]
  },
  {
   "cell_type": "code",
   "execution_count": 24,
   "metadata": {},
   "outputs": [],
   "source": [
    "traces_sampleData = txdata.copy()"
   ]
  },
  {
   "cell_type": "code",
   "execution_count": 25,
   "metadata": {},
   "outputs": [],
   "source": [
    "traces_sampleData[\"status\"] = status_sample "
   ]
  },
  {
   "cell_type": "code",
   "execution_count": 26,
   "metadata": {},
   "outputs": [],
   "source": [
    "traces_sampleData[\"call_type\"] = call_type_sample "
   ]
  },
  {
   "cell_type": "code",
   "execution_count": 27,
   "metadata": {},
   "outputs": [],
   "source": [
    "traces_sampleData[\"trace_type\"] = trace_type_sample "
   ]
  },
  {
   "cell_type": "code",
   "execution_count": 28,
   "metadata": {},
   "outputs": [],
   "source": [
    "traces_sampleData[\"block_timestamp\"] = block_timestamps "
   ]
  },
  {
   "cell_type": "code",
   "execution_count": 29,
   "metadata": {},
   "outputs": [
    {
     "data": {
      "text/html": [
       "<div>\n",
       "<style scoped>\n",
       "    .dataframe tbody tr th:only-of-type {\n",
       "        vertical-align: middle;\n",
       "    }\n",
       "\n",
       "    .dataframe tbody tr th {\n",
       "        vertical-align: top;\n",
       "    }\n",
       "\n",
       "    .dataframe thead th {\n",
       "        text-align: right;\n",
       "    }\n",
       "</style>\n",
       "<table border=\"1\" class=\"dataframe\">\n",
       "  <thead>\n",
       "    <tr style=\"text-align: right;\">\n",
       "      <th></th>\n",
       "      <th>from_address</th>\n",
       "      <th>to_address</th>\n",
       "      <th>value</th>\n",
       "      <th>status</th>\n",
       "      <th>call_type</th>\n",
       "      <th>trace_type</th>\n",
       "      <th>block_timestamp</th>\n",
       "    </tr>\n",
       "  </thead>\n",
       "  <tbody>\n",
       "    <tr>\n",
       "      <th>263</th>\n",
       "      <td>exchange_1</td>\n",
       "      <td>speculator_183</td>\n",
       "      <td>1</td>\n",
       "      <td>1</td>\n",
       "      <td>call</td>\n",
       "      <td>call</td>\n",
       "      <td>2020-02-01 23:52:12</td>\n",
       "    </tr>\n",
       "    <tr>\n",
       "      <th>225</th>\n",
       "      <td>exchange_1</td>\n",
       "      <td>speculator_2</td>\n",
       "      <td>1</td>\n",
       "      <td>1</td>\n",
       "      <td>call</td>\n",
       "      <td>call</td>\n",
       "      <td>2020-01-01 23:45:12</td>\n",
       "    </tr>\n",
       "    <tr>\n",
       "      <th>315</th>\n",
       "      <td>exchange_1</td>\n",
       "      <td>speculator_160</td>\n",
       "      <td>2</td>\n",
       "      <td>1</td>\n",
       "      <td>call</td>\n",
       "      <td>call</td>\n",
       "      <td>2020-01-01 23:35:12</td>\n",
       "    </tr>\n",
       "    <tr>\n",
       "      <th>327</th>\n",
       "      <td>exchange_1</td>\n",
       "      <td>speculator_85</td>\n",
       "      <td>2</td>\n",
       "      <td>1</td>\n",
       "      <td>call</td>\n",
       "      <td>call</td>\n",
       "      <td>2020-01-01 23:53:36</td>\n",
       "    </tr>\n",
       "    <tr>\n",
       "      <th>231</th>\n",
       "      <td>exchange_1</td>\n",
       "      <td>speculator_68</td>\n",
       "      <td>2</td>\n",
       "      <td>1</td>\n",
       "      <td>call</td>\n",
       "      <td>call</td>\n",
       "      <td>2020-02-01 23:38:48</td>\n",
       "    </tr>\n",
       "    <tr>\n",
       "      <th>310</th>\n",
       "      <td>exchange_1</td>\n",
       "      <td>speculator_152</td>\n",
       "      <td>2</td>\n",
       "      <td>1</td>\n",
       "      <td>call</td>\n",
       "      <td>call</td>\n",
       "      <td>2020-01-01 23:45:00</td>\n",
       "    </tr>\n",
       "    <tr>\n",
       "      <th>246</th>\n",
       "      <td>exchange_1</td>\n",
       "      <td>speculator_141</td>\n",
       "      <td>1</td>\n",
       "      <td>1</td>\n",
       "      <td>call</td>\n",
       "      <td>call</td>\n",
       "      <td>2020-02-01 23:38:12</td>\n",
       "    </tr>\n",
       "    <tr>\n",
       "      <th>292</th>\n",
       "      <td>exchange_1</td>\n",
       "      <td>speculator_81</td>\n",
       "      <td>4</td>\n",
       "      <td>1</td>\n",
       "      <td>None</td>\n",
       "      <td>reward</td>\n",
       "      <td>2020-02-01 23:38:00</td>\n",
       "    </tr>\n",
       "    <tr>\n",
       "      <th>205</th>\n",
       "      <td>exchange_1</td>\n",
       "      <td>speculator_88</td>\n",
       "      <td>2</td>\n",
       "      <td>1</td>\n",
       "      <td>call</td>\n",
       "      <td>call</td>\n",
       "      <td>2020-01-01 23:35:48</td>\n",
       "    </tr>\n",
       "    <tr>\n",
       "      <th>311</th>\n",
       "      <td>exchange_1</td>\n",
       "      <td>speculator_13</td>\n",
       "      <td>1</td>\n",
       "      <td>1</td>\n",
       "      <td>call</td>\n",
       "      <td>call</td>\n",
       "      <td>2020-01-01 23:27:24</td>\n",
       "    </tr>\n",
       "    <tr>\n",
       "      <th>317</th>\n",
       "      <td>exchange_1</td>\n",
       "      <td>speculator_14</td>\n",
       "      <td>2</td>\n",
       "      <td>1</td>\n",
       "      <td>call</td>\n",
       "      <td>call</td>\n",
       "      <td>2020-01-01 23:43:48</td>\n",
       "    </tr>\n",
       "    <tr>\n",
       "      <th>384</th>\n",
       "      <td>exchange_1</td>\n",
       "      <td>speculator_110</td>\n",
       "      <td>3</td>\n",
       "      <td>1</td>\n",
       "      <td>call</td>\n",
       "      <td>call</td>\n",
       "      <td>2020-02-01 23:25:12</td>\n",
       "    </tr>\n",
       "    <tr>\n",
       "      <th>227</th>\n",
       "      <td>exchange_1</td>\n",
       "      <td>speculator_78</td>\n",
       "      <td>4</td>\n",
       "      <td>1</td>\n",
       "      <td>delegatecall</td>\n",
       "      <td>call</td>\n",
       "      <td>2020-02-01 23:25:24</td>\n",
       "    </tr>\n",
       "    <tr>\n",
       "      <th>224</th>\n",
       "      <td>exchange_1</td>\n",
       "      <td>speculator_109</td>\n",
       "      <td>2</td>\n",
       "      <td>1</td>\n",
       "      <td>call</td>\n",
       "      <td>call</td>\n",
       "      <td>2020-02-01 23:33:24</td>\n",
       "    </tr>\n",
       "    <tr>\n",
       "      <th>217</th>\n",
       "      <td>exchange_1</td>\n",
       "      <td>speculator_163</td>\n",
       "      <td>1</td>\n",
       "      <td>1</td>\n",
       "      <td>None</td>\n",
       "      <td>reward</td>\n",
       "      <td>2020-01-01 23:41:36</td>\n",
       "    </tr>\n",
       "    <tr>\n",
       "      <th>237</th>\n",
       "      <td>exchange_1</td>\n",
       "      <td>speculator_127</td>\n",
       "      <td>1</td>\n",
       "      <td>1</td>\n",
       "      <td>call</td>\n",
       "      <td>call</td>\n",
       "      <td>2020-01-01 23:41:00</td>\n",
       "    </tr>\n",
       "    <tr>\n",
       "      <th>340</th>\n",
       "      <td>exchange_1</td>\n",
       "      <td>speculator_170</td>\n",
       "      <td>3</td>\n",
       "      <td>1</td>\n",
       "      <td>None</td>\n",
       "      <td>reward</td>\n",
       "      <td>2020-02-01 23:32:00</td>\n",
       "    </tr>\n",
       "    <tr>\n",
       "      <th>350</th>\n",
       "      <td>exchange_1</td>\n",
       "      <td>speculator_92</td>\n",
       "      <td>3</td>\n",
       "      <td>1</td>\n",
       "      <td>call</td>\n",
       "      <td>call</td>\n",
       "      <td>2020-01-01 23:36:00</td>\n",
       "    </tr>\n",
       "    <tr>\n",
       "      <th>287</th>\n",
       "      <td>exchange_1</td>\n",
       "      <td>speculator_13</td>\n",
       "      <td>3</td>\n",
       "      <td>1</td>\n",
       "      <td>call</td>\n",
       "      <td>call</td>\n",
       "      <td>2020-02-01 23:45:48</td>\n",
       "    </tr>\n",
       "    <tr>\n",
       "      <th>372</th>\n",
       "      <td>exchange_10</td>\n",
       "      <td>speculator_157</td>\n",
       "      <td>1</td>\n",
       "      <td>1</td>\n",
       "      <td>call</td>\n",
       "      <td>call</td>\n",
       "      <td>2020-02-01 23:47:12</td>\n",
       "    </tr>\n",
       "    <tr>\n",
       "      <th>316</th>\n",
       "      <td>exchange_10</td>\n",
       "      <td>speculator_162</td>\n",
       "      <td>1</td>\n",
       "      <td>1</td>\n",
       "      <td>call</td>\n",
       "      <td>call</td>\n",
       "      <td>2020-01-01 23:44:12</td>\n",
       "    </tr>\n",
       "    <tr>\n",
       "      <th>319</th>\n",
       "      <td>exchange_10</td>\n",
       "      <td>speculator_12</td>\n",
       "      <td>4</td>\n",
       "      <td>1</td>\n",
       "      <td>None</td>\n",
       "      <td>reward</td>\n",
       "      <td>2020-02-01 23:48:48</td>\n",
       "    </tr>\n",
       "    <tr>\n",
       "      <th>389</th>\n",
       "      <td>exchange_10</td>\n",
       "      <td>speculator_8</td>\n",
       "      <td>2</td>\n",
       "      <td>1</td>\n",
       "      <td>call</td>\n",
       "      <td>call</td>\n",
       "      <td>2020-01-01 23:40:12</td>\n",
       "    </tr>\n",
       "    <tr>\n",
       "      <th>213</th>\n",
       "      <td>exchange_10</td>\n",
       "      <td>speculator_46</td>\n",
       "      <td>2</td>\n",
       "      <td>1</td>\n",
       "      <td>call</td>\n",
       "      <td>call</td>\n",
       "      <td>2020-02-01 23:45:24</td>\n",
       "    </tr>\n",
       "    <tr>\n",
       "      <th>298</th>\n",
       "      <td>exchange_10</td>\n",
       "      <td>speculator_56</td>\n",
       "      <td>3</td>\n",
       "      <td>1</td>\n",
       "      <td>call</td>\n",
       "      <td>call</td>\n",
       "      <td>2020-02-01 23:44:48</td>\n",
       "    </tr>\n",
       "    <tr>\n",
       "      <th>325</th>\n",
       "      <td>exchange_10</td>\n",
       "      <td>speculator_156</td>\n",
       "      <td>2</td>\n",
       "      <td>1</td>\n",
       "      <td>call</td>\n",
       "      <td>call</td>\n",
       "      <td>2020-01-01 23:47:12</td>\n",
       "    </tr>\n",
       "    <tr>\n",
       "      <th>377</th>\n",
       "      <td>exchange_10</td>\n",
       "      <td>speculator_65</td>\n",
       "      <td>4</td>\n",
       "      <td>1</td>\n",
       "      <td>call</td>\n",
       "      <td>call</td>\n",
       "      <td>2020-01-01 23:49:12</td>\n",
       "    </tr>\n",
       "    <tr>\n",
       "      <th>335</th>\n",
       "      <td>exchange_10</td>\n",
       "      <td>speculator_23</td>\n",
       "      <td>3</td>\n",
       "      <td>1</td>\n",
       "      <td>call</td>\n",
       "      <td>call</td>\n",
       "      <td>2020-01-01 23:39:36</td>\n",
       "    </tr>\n",
       "    <tr>\n",
       "      <th>260</th>\n",
       "      <td>exchange_10</td>\n",
       "      <td>speculator_71</td>\n",
       "      <td>1</td>\n",
       "      <td>1</td>\n",
       "      <td>None</td>\n",
       "      <td>reward</td>\n",
       "      <td>2020-01-01 23:58:24</td>\n",
       "    </tr>\n",
       "    <tr>\n",
       "      <th>267</th>\n",
       "      <td>exchange_10</td>\n",
       "      <td>speculator_169</td>\n",
       "      <td>1</td>\n",
       "      <td>1</td>\n",
       "      <td>call</td>\n",
       "      <td>call</td>\n",
       "      <td>2020-02-01 23:20:48</td>\n",
       "    </tr>\n",
       "    <tr>\n",
       "      <th>...</th>\n",
       "      <td>...</td>\n",
       "      <td>...</td>\n",
       "      <td>...</td>\n",
       "      <td>...</td>\n",
       "      <td>...</td>\n",
       "      <td>...</td>\n",
       "      <td>...</td>\n",
       "    </tr>\n",
       "    <tr>\n",
       "      <th>42</th>\n",
       "      <td>speculator_8</td>\n",
       "      <td>exchange_3</td>\n",
       "      <td>12</td>\n",
       "      <td>1</td>\n",
       "      <td>call</td>\n",
       "      <td>call</td>\n",
       "      <td>2020-02-01 23:46:36</td>\n",
       "    </tr>\n",
       "    <tr>\n",
       "      <th>97</th>\n",
       "      <td>speculator_8</td>\n",
       "      <td>exchange_9</td>\n",
       "      <td>19</td>\n",
       "      <td>1</td>\n",
       "      <td>call</td>\n",
       "      <td>call</td>\n",
       "      <td>2020-01-01 23:46:48</td>\n",
       "    </tr>\n",
       "    <tr>\n",
       "      <th>4</th>\n",
       "      <td>speculator_80</td>\n",
       "      <td>exchange_7</td>\n",
       "      <td>13</td>\n",
       "      <td>1</td>\n",
       "      <td>call</td>\n",
       "      <td>call</td>\n",
       "      <td>2020-02-01 23:30:12</td>\n",
       "    </tr>\n",
       "    <tr>\n",
       "      <th>11</th>\n",
       "      <td>speculator_81</td>\n",
       "      <td>exchange_3</td>\n",
       "      <td>5</td>\n",
       "      <td>1</td>\n",
       "      <td>call</td>\n",
       "      <td>call</td>\n",
       "      <td>2020-01-01 23:39:12</td>\n",
       "    </tr>\n",
       "    <tr>\n",
       "      <th>27</th>\n",
       "      <td>speculator_81</td>\n",
       "      <td>exchange_2</td>\n",
       "      <td>9</td>\n",
       "      <td>1</td>\n",
       "      <td>None</td>\n",
       "      <td>reward</td>\n",
       "      <td>2020-02-01 23:39:36</td>\n",
       "    </tr>\n",
       "    <tr>\n",
       "      <th>135</th>\n",
       "      <td>speculator_83</td>\n",
       "      <td>exchange_3</td>\n",
       "      <td>13</td>\n",
       "      <td>1</td>\n",
       "      <td>staticcall</td>\n",
       "      <td>call</td>\n",
       "      <td>2020-02-01 23:32:36</td>\n",
       "    </tr>\n",
       "    <tr>\n",
       "      <th>77</th>\n",
       "      <td>speculator_83</td>\n",
       "      <td>exchange_2</td>\n",
       "      <td>8</td>\n",
       "      <td>1</td>\n",
       "      <td>call</td>\n",
       "      <td>call</td>\n",
       "      <td>2020-01-01 23:46:36</td>\n",
       "    </tr>\n",
       "    <tr>\n",
       "      <th>120</th>\n",
       "      <td>speculator_83</td>\n",
       "      <td>exchange_3</td>\n",
       "      <td>12</td>\n",
       "      <td>1</td>\n",
       "      <td>call</td>\n",
       "      <td>call</td>\n",
       "      <td>2020-01-01 23:25:00</td>\n",
       "    </tr>\n",
       "    <tr>\n",
       "      <th>21</th>\n",
       "      <td>speculator_84</td>\n",
       "      <td>exchange_8</td>\n",
       "      <td>1</td>\n",
       "      <td>1</td>\n",
       "      <td>None</td>\n",
       "      <td>reward</td>\n",
       "      <td>2020-02-01 23:49:12</td>\n",
       "    </tr>\n",
       "    <tr>\n",
       "      <th>96</th>\n",
       "      <td>speculator_85</td>\n",
       "      <td>exchange_8</td>\n",
       "      <td>4</td>\n",
       "      <td>1</td>\n",
       "      <td>call</td>\n",
       "      <td>call</td>\n",
       "      <td>2020-01-01 23:28:00</td>\n",
       "    </tr>\n",
       "    <tr>\n",
       "      <th>70</th>\n",
       "      <td>speculator_85</td>\n",
       "      <td>exchange_10</td>\n",
       "      <td>6</td>\n",
       "      <td>1</td>\n",
       "      <td>call</td>\n",
       "      <td>call</td>\n",
       "      <td>2020-02-01 23:59:00</td>\n",
       "    </tr>\n",
       "    <tr>\n",
       "      <th>139</th>\n",
       "      <td>speculator_87</td>\n",
       "      <td>exchange_6</td>\n",
       "      <td>18</td>\n",
       "      <td>1</td>\n",
       "      <td>call</td>\n",
       "      <td>call</td>\n",
       "      <td>2020-01-01 23:39:24</td>\n",
       "    </tr>\n",
       "    <tr>\n",
       "      <th>68</th>\n",
       "      <td>speculator_88</td>\n",
       "      <td>exchange_3</td>\n",
       "      <td>18</td>\n",
       "      <td>1</td>\n",
       "      <td>call</td>\n",
       "      <td>call</td>\n",
       "      <td>2020-01-01 23:31:12</td>\n",
       "    </tr>\n",
       "    <tr>\n",
       "      <th>13</th>\n",
       "      <td>speculator_88</td>\n",
       "      <td>exchange_6</td>\n",
       "      <td>8</td>\n",
       "      <td>1</td>\n",
       "      <td>call</td>\n",
       "      <td>call</td>\n",
       "      <td>2020-02-01 23:22:12</td>\n",
       "    </tr>\n",
       "    <tr>\n",
       "      <th>161</th>\n",
       "      <td>speculator_88</td>\n",
       "      <td>exchange_7</td>\n",
       "      <td>12</td>\n",
       "      <td>1</td>\n",
       "      <td>call</td>\n",
       "      <td>call</td>\n",
       "      <td>2020-01-01 23:34:12</td>\n",
       "    </tr>\n",
       "    <tr>\n",
       "      <th>140</th>\n",
       "      <td>speculator_9</td>\n",
       "      <td>exchange_10</td>\n",
       "      <td>3</td>\n",
       "      <td>1</td>\n",
       "      <td>call</td>\n",
       "      <td>call</td>\n",
       "      <td>2020-02-01 23:50:24</td>\n",
       "    </tr>\n",
       "    <tr>\n",
       "      <th>0</th>\n",
       "      <td>speculator_90</td>\n",
       "      <td>exchange_10</td>\n",
       "      <td>6</td>\n",
       "      <td>1</td>\n",
       "      <td>callcode</td>\n",
       "      <td>call</td>\n",
       "      <td>2020-02-01 23:37:00</td>\n",
       "    </tr>\n",
       "    <tr>\n",
       "      <th>32</th>\n",
       "      <td>speculator_90</td>\n",
       "      <td>exchange_2</td>\n",
       "      <td>7</td>\n",
       "      <td>1</td>\n",
       "      <td>call</td>\n",
       "      <td>call</td>\n",
       "      <td>2020-01-01 23:30:12</td>\n",
       "    </tr>\n",
       "    <tr>\n",
       "      <th>116</th>\n",
       "      <td>speculator_90</td>\n",
       "      <td>exchange_4</td>\n",
       "      <td>17</td>\n",
       "      <td>1</td>\n",
       "      <td>call</td>\n",
       "      <td>call</td>\n",
       "      <td>2020-02-01 23:29:12</td>\n",
       "    </tr>\n",
       "    <tr>\n",
       "      <th>177</th>\n",
       "      <td>speculator_92</td>\n",
       "      <td>exchange_8</td>\n",
       "      <td>17</td>\n",
       "      <td>1</td>\n",
       "      <td>call</td>\n",
       "      <td>call</td>\n",
       "      <td>2020-02-01 23:36:00</td>\n",
       "    </tr>\n",
       "    <tr>\n",
       "      <th>187</th>\n",
       "      <td>speculator_93</td>\n",
       "      <td>exchange_3</td>\n",
       "      <td>10</td>\n",
       "      <td>1</td>\n",
       "      <td>call</td>\n",
       "      <td>call</td>\n",
       "      <td>2020-01-01 23:23:36</td>\n",
       "    </tr>\n",
       "    <tr>\n",
       "      <th>34</th>\n",
       "      <td>speculator_93</td>\n",
       "      <td>exchange_7</td>\n",
       "      <td>11</td>\n",
       "      <td>1</td>\n",
       "      <td>None</td>\n",
       "      <td>reward</td>\n",
       "      <td>2020-02-01 23:22:48</td>\n",
       "    </tr>\n",
       "    <tr>\n",
       "      <th>36</th>\n",
       "      <td>speculator_93</td>\n",
       "      <td>exchange_1</td>\n",
       "      <td>14</td>\n",
       "      <td>1</td>\n",
       "      <td>staticcall</td>\n",
       "      <td>call</td>\n",
       "      <td>2020-01-01 23:55:00</td>\n",
       "    </tr>\n",
       "    <tr>\n",
       "      <th>165</th>\n",
       "      <td>speculator_94</td>\n",
       "      <td>exchange_6</td>\n",
       "      <td>1</td>\n",
       "      <td>1</td>\n",
       "      <td>call</td>\n",
       "      <td>call</td>\n",
       "      <td>2020-01-01 23:56:24</td>\n",
       "    </tr>\n",
       "    <tr>\n",
       "      <th>47</th>\n",
       "      <td>speculator_95</td>\n",
       "      <td>exchange_1</td>\n",
       "      <td>19</td>\n",
       "      <td>1</td>\n",
       "      <td>call</td>\n",
       "      <td>call</td>\n",
       "      <td>2020-02-01 23:31:00</td>\n",
       "    </tr>\n",
       "    <tr>\n",
       "      <th>38</th>\n",
       "      <td>speculator_96</td>\n",
       "      <td>exchange_6</td>\n",
       "      <td>9</td>\n",
       "      <td>1</td>\n",
       "      <td>call</td>\n",
       "      <td>call</td>\n",
       "      <td>2020-02-01 23:41:48</td>\n",
       "    </tr>\n",
       "    <tr>\n",
       "      <th>143</th>\n",
       "      <td>speculator_96</td>\n",
       "      <td>exchange_9</td>\n",
       "      <td>12</td>\n",
       "      <td>1</td>\n",
       "      <td>call</td>\n",
       "      <td>call</td>\n",
       "      <td>2020-01-01 23:26:36</td>\n",
       "    </tr>\n",
       "    <tr>\n",
       "      <th>160</th>\n",
       "      <td>speculator_96</td>\n",
       "      <td>exchange_9</td>\n",
       "      <td>6</td>\n",
       "      <td>1</td>\n",
       "      <td>None</td>\n",
       "      <td>reward</td>\n",
       "      <td>2020-02-01 23:30:48</td>\n",
       "    </tr>\n",
       "    <tr>\n",
       "      <th>54</th>\n",
       "      <td>speculator_97</td>\n",
       "      <td>exchange_3</td>\n",
       "      <td>18</td>\n",
       "      <td>1</td>\n",
       "      <td>call</td>\n",
       "      <td>call</td>\n",
       "      <td>2020-01-01 23:24:36</td>\n",
       "    </tr>\n",
       "    <tr>\n",
       "      <th>163</th>\n",
       "      <td>speculator_98</td>\n",
       "      <td>exchange_6</td>\n",
       "      <td>3</td>\n",
       "      <td>1</td>\n",
       "      <td>call</td>\n",
       "      <td>call</td>\n",
       "      <td>2020-02-01 23:43:00</td>\n",
       "    </tr>\n",
       "  </tbody>\n",
       "</table>\n",
       "<p>400 rows × 7 columns</p>\n",
       "</div>"
      ],
      "text/plain": [
       "      from_address      to_address  value  status     call_type trace_type  \\\n",
       "263     exchange_1  speculator_183      1       1          call       call   \n",
       "225     exchange_1    speculator_2      1       1          call       call   \n",
       "315     exchange_1  speculator_160      2       1          call       call   \n",
       "327     exchange_1   speculator_85      2       1          call       call   \n",
       "231     exchange_1   speculator_68      2       1          call       call   \n",
       "310     exchange_1  speculator_152      2       1          call       call   \n",
       "246     exchange_1  speculator_141      1       1          call       call   \n",
       "292     exchange_1   speculator_81      4       1          None     reward   \n",
       "205     exchange_1   speculator_88      2       1          call       call   \n",
       "311     exchange_1   speculator_13      1       1          call       call   \n",
       "317     exchange_1   speculator_14      2       1          call       call   \n",
       "384     exchange_1  speculator_110      3       1          call       call   \n",
       "227     exchange_1   speculator_78      4       1  delegatecall       call   \n",
       "224     exchange_1  speculator_109      2       1          call       call   \n",
       "217     exchange_1  speculator_163      1       1          None     reward   \n",
       "237     exchange_1  speculator_127      1       1          call       call   \n",
       "340     exchange_1  speculator_170      3       1          None     reward   \n",
       "350     exchange_1   speculator_92      3       1          call       call   \n",
       "287     exchange_1   speculator_13      3       1          call       call   \n",
       "372    exchange_10  speculator_157      1       1          call       call   \n",
       "316    exchange_10  speculator_162      1       1          call       call   \n",
       "319    exchange_10   speculator_12      4       1          None     reward   \n",
       "389    exchange_10    speculator_8      2       1          call       call   \n",
       "213    exchange_10   speculator_46      2       1          call       call   \n",
       "298    exchange_10   speculator_56      3       1          call       call   \n",
       "325    exchange_10  speculator_156      2       1          call       call   \n",
       "377    exchange_10   speculator_65      4       1          call       call   \n",
       "335    exchange_10   speculator_23      3       1          call       call   \n",
       "260    exchange_10   speculator_71      1       1          None     reward   \n",
       "267    exchange_10  speculator_169      1       1          call       call   \n",
       "..             ...             ...    ...     ...           ...        ...   \n",
       "42    speculator_8      exchange_3     12       1          call       call   \n",
       "97    speculator_8      exchange_9     19       1          call       call   \n",
       "4    speculator_80      exchange_7     13       1          call       call   \n",
       "11   speculator_81      exchange_3      5       1          call       call   \n",
       "27   speculator_81      exchange_2      9       1          None     reward   \n",
       "135  speculator_83      exchange_3     13       1    staticcall       call   \n",
       "77   speculator_83      exchange_2      8       1          call       call   \n",
       "120  speculator_83      exchange_3     12       1          call       call   \n",
       "21   speculator_84      exchange_8      1       1          None     reward   \n",
       "96   speculator_85      exchange_8      4       1          call       call   \n",
       "70   speculator_85     exchange_10      6       1          call       call   \n",
       "139  speculator_87      exchange_6     18       1          call       call   \n",
       "68   speculator_88      exchange_3     18       1          call       call   \n",
       "13   speculator_88      exchange_6      8       1          call       call   \n",
       "161  speculator_88      exchange_7     12       1          call       call   \n",
       "140   speculator_9     exchange_10      3       1          call       call   \n",
       "0    speculator_90     exchange_10      6       1      callcode       call   \n",
       "32   speculator_90      exchange_2      7       1          call       call   \n",
       "116  speculator_90      exchange_4     17       1          call       call   \n",
       "177  speculator_92      exchange_8     17       1          call       call   \n",
       "187  speculator_93      exchange_3     10       1          call       call   \n",
       "34   speculator_93      exchange_7     11       1          None     reward   \n",
       "36   speculator_93      exchange_1     14       1    staticcall       call   \n",
       "165  speculator_94      exchange_6      1       1          call       call   \n",
       "47   speculator_95      exchange_1     19       1          call       call   \n",
       "38   speculator_96      exchange_6      9       1          call       call   \n",
       "143  speculator_96      exchange_9     12       1          call       call   \n",
       "160  speculator_96      exchange_9      6       1          None     reward   \n",
       "54   speculator_97      exchange_3     18       1          call       call   \n",
       "163  speculator_98      exchange_6      3       1          call       call   \n",
       "\n",
       "        block_timestamp  \n",
       "263 2020-02-01 23:52:12  \n",
       "225 2020-01-01 23:45:12  \n",
       "315 2020-01-01 23:35:12  \n",
       "327 2020-01-01 23:53:36  \n",
       "231 2020-02-01 23:38:48  \n",
       "310 2020-01-01 23:45:00  \n",
       "246 2020-02-01 23:38:12  \n",
       "292 2020-02-01 23:38:00  \n",
       "205 2020-01-01 23:35:48  \n",
       "311 2020-01-01 23:27:24  \n",
       "317 2020-01-01 23:43:48  \n",
       "384 2020-02-01 23:25:12  \n",
       "227 2020-02-01 23:25:24  \n",
       "224 2020-02-01 23:33:24  \n",
       "217 2020-01-01 23:41:36  \n",
       "237 2020-01-01 23:41:00  \n",
       "340 2020-02-01 23:32:00  \n",
       "350 2020-01-01 23:36:00  \n",
       "287 2020-02-01 23:45:48  \n",
       "372 2020-02-01 23:47:12  \n",
       "316 2020-01-01 23:44:12  \n",
       "319 2020-02-01 23:48:48  \n",
       "389 2020-01-01 23:40:12  \n",
       "213 2020-02-01 23:45:24  \n",
       "298 2020-02-01 23:44:48  \n",
       "325 2020-01-01 23:47:12  \n",
       "377 2020-01-01 23:49:12  \n",
       "335 2020-01-01 23:39:36  \n",
       "260 2020-01-01 23:58:24  \n",
       "267 2020-02-01 23:20:48  \n",
       "..                  ...  \n",
       "42  2020-02-01 23:46:36  \n",
       "97  2020-01-01 23:46:48  \n",
       "4   2020-02-01 23:30:12  \n",
       "11  2020-01-01 23:39:12  \n",
       "27  2020-02-01 23:39:36  \n",
       "135 2020-02-01 23:32:36  \n",
       "77  2020-01-01 23:46:36  \n",
       "120 2020-01-01 23:25:00  \n",
       "21  2020-02-01 23:49:12  \n",
       "96  2020-01-01 23:28:00  \n",
       "70  2020-02-01 23:59:00  \n",
       "139 2020-01-01 23:39:24  \n",
       "68  2020-01-01 23:31:12  \n",
       "13  2020-02-01 23:22:12  \n",
       "161 2020-01-01 23:34:12  \n",
       "140 2020-02-01 23:50:24  \n",
       "0   2020-02-01 23:37:00  \n",
       "32  2020-01-01 23:30:12  \n",
       "116 2020-02-01 23:29:12  \n",
       "177 2020-02-01 23:36:00  \n",
       "187 2020-01-01 23:23:36  \n",
       "34  2020-02-01 23:22:48  \n",
       "36  2020-01-01 23:55:00  \n",
       "165 2020-01-01 23:56:24  \n",
       "47  2020-02-01 23:31:00  \n",
       "38  2020-02-01 23:41:48  \n",
       "143 2020-01-01 23:26:36  \n",
       "160 2020-02-01 23:30:48  \n",
       "54  2020-01-01 23:24:36  \n",
       "163 2020-02-01 23:43:00  \n",
       "\n",
       "[400 rows x 7 columns]"
      ]
     },
     "execution_count": 29,
     "metadata": {},
     "output_type": "execute_result"
    }
   ],
   "source": [
    "traces_sampleData.sort_values(by=\"from_address\")"
   ]
  },
  {
   "cell_type": "markdown",
   "metadata": {},
   "source": [
    "### Upload \"traces\" table to bigquery"
   ]
  },
  {
   "cell_type": "code",
   "execution_count": 30,
   "metadata": {},
   "outputs": [
    {
     "name": "stderr",
     "output_type": "stream",
     "text": [
      "1it [00:04,  4.24s/it]\n"
     ]
    }
   ],
   "source": [
    "traces_sampleData.to_gbq('ethereum_us.traces_sampleData', if_exists=\"replace\")"
   ]
  },
  {
   "cell_type": "markdown",
   "metadata": {},
   "source": [
    "### Test SQL command for retrieving \"weiReceived\", \"weiSent\""
   ]
  },
  {
   "cell_type": "code",
   "execution_count": 31,
   "metadata": {},
   "outputs": [
    {
     "name": "stdout",
     "output_type": "stream",
     "text": [
      "Executing query with job ID: fb688d92-3e79-4c02-a5c5-01ac347755cf\n",
      "Query executing: 1.11s\n",
      "Query complete after 1.93s\n"
     ]
    }
   ],
   "source": [
    "%%bigquery res1 --project masterarbeit-245718 --verbose \n",
    "with weiView as (\n",
    "\n",
    "  with weiReceivedView as (\n",
    "        \n",
    "      -- debits\n",
    "      select to_address, sum(ifnull(value, 0)) as weiReceived\n",
    "      from `ethereum_us.traces_sampleData` \n",
    "      where to_address is not null\n",
    "      and status = 1\n",
    "      and (call_type not in ('delegatecall', 'callcode', 'staticcall') or call_type is null) \n",
    "      group by to_address\n",
    "        \n",
    "  ), weiSentView as (\n",
    "  \n",
    "      -- credits\n",
    "      select from_address, sum(ifnull(value, 0)) as weiSent\n",
    "      from  `ethereum_us.traces_sampleData` \n",
    "      where from_address is not null\n",
    "      and status = 1\n",
    "      and (call_type not in ('delegatecall', 'callcode', 'staticcall') or call_type is null) \n",
    "      group by from_address\n",
    "  ) \n",
    "  select \n",
    "  CASE \n",
    "    when to_address is not null then to_address\n",
    "    when from_address is not null then from_address\n",
    "  end as address, \n",
    "  ifnull(weiReceived,0) as weiReceived, \n",
    "  ifnull(weiSent,0) as weiSent\n",
    "  from weiReceivedView full outer join weiSentView on from_address = to_address\n",
    ") \n",
    "select address, weiReceived, weiSent from weiView right join `ethereum_us.addresses_testdata`  using(address)"
   ]
  },
  {
   "cell_type": "code",
   "execution_count": 32,
   "metadata": {},
   "outputs": [],
   "source": [
    "res2 = res1.copy()\n",
    "res2[\"balance\"] = res1.weiReceived - res1.weiSent\n",
    "res2 = res2.set_index(\"address\")\n",
    "res2 = res2.sort_values(by=\"address\", ascending=False)\n",
    "res2 = res2.astype(\"float\")\n",
    "res2 = res2.fillna(0.)\n",
    "balance_result_sql = res2"
   ]
  },
  {
   "cell_type": "code",
   "execution_count": 33,
   "metadata": {},
   "outputs": [
    {
     "name": "stdout",
     "output_type": "stream",
     "text": [
      "Executing query with job ID: 74286bf7-4b83-4e66-9519-8d3a078e01b5\n",
      "Query executing: 0.44s\n",
      "Query complete after 1.17s\n"
     ]
    }
   ],
   "source": [
    "%%bigquery traces_sampleData --project masterarbeit-245718 --verbose \n",
    "select * from `ethereum_us.traces_sampleData`"
   ]
  },
  {
   "cell_type": "code",
   "execution_count": 34,
   "metadata": {},
   "outputs": [],
   "source": [
    "data1 = [row for (index, row) in traces_sampleData.iterrows() if (row.call_type not in ['delegatecall', 'callcode', 'staticcall'] or row.call_type == None) and row.status == 1]\n",
    "data1 = pd.DataFrame(data1)"
   ]
  },
  {
   "cell_type": "code",
   "execution_count": 35,
   "metadata": {},
   "outputs": [],
   "source": [
    "data2 = pd.DataFrame(index=set(data1[\"from_address\"].unique()) | set(data1[\"to_address\"].unique()))\n",
    "data2[\"weiReceived\"] = data1.groupby('to_address').sum().value\n",
    "data2[\"weiSent\"] = data1.groupby('from_address').sum().value\n",
    "data2[\"weiSent\"] = data2[\"weiSent\"].fillna(0.)\n",
    "data2[\"weiReceived\"] = data2[\"weiReceived\"].fillna(0.)\n",
    "data2[\"balance\"] = data2[\"weiReceived\"] - data2[\"weiSent\"]\n",
    "data2.index = data2.index.rename(\"address\")\n",
    "data2 = data2.reindex(addresses_testdata[\"address\"], fill_value=0.)\n",
    "data2 = data2.sort_values(by=\"address\", ascending=False)\n",
    "balance_result_py = data2"
   ]
  },
  {
   "cell_type": "code",
   "execution_count": 36,
   "metadata": {},
   "outputs": [
    {
     "data": {
      "text/html": [
       "<div>\n",
       "<style scoped>\n",
       "    .dataframe tbody tr th:only-of-type {\n",
       "        vertical-align: middle;\n",
       "    }\n",
       "\n",
       "    .dataframe tbody tr th {\n",
       "        vertical-align: top;\n",
       "    }\n",
       "\n",
       "    .dataframe thead th {\n",
       "        text-align: right;\n",
       "    }\n",
       "</style>\n",
       "<table border=\"1\" class=\"dataframe\">\n",
       "  <thead>\n",
       "    <tr style=\"text-align: right;\">\n",
       "      <th></th>\n",
       "      <th>weiReceived</th>\n",
       "      <th>weiSent</th>\n",
       "      <th>balance</th>\n",
       "    </tr>\n",
       "    <tr>\n",
       "      <th>address</th>\n",
       "      <th></th>\n",
       "      <th></th>\n",
       "      <th></th>\n",
       "    </tr>\n",
       "  </thead>\n",
       "  <tbody>\n",
       "    <tr>\n",
       "      <th>speculator_99</th>\n",
       "      <td>4.0</td>\n",
       "      <td>0.0</td>\n",
       "      <td>4.0</td>\n",
       "    </tr>\n",
       "    <tr>\n",
       "      <th>speculator_98</th>\n",
       "      <td>0.0</td>\n",
       "      <td>3.0</td>\n",
       "      <td>-3.0</td>\n",
       "    </tr>\n",
       "    <tr>\n",
       "      <th>speculator_97</th>\n",
       "      <td>2.0</td>\n",
       "      <td>18.0</td>\n",
       "      <td>-16.0</td>\n",
       "    </tr>\n",
       "    <tr>\n",
       "      <th>speculator_96</th>\n",
       "      <td>0.0</td>\n",
       "      <td>27.0</td>\n",
       "      <td>-27.0</td>\n",
       "    </tr>\n",
       "    <tr>\n",
       "      <th>speculator_95</th>\n",
       "      <td>0.0</td>\n",
       "      <td>19.0</td>\n",
       "      <td>-19.0</td>\n",
       "    </tr>\n",
       "  </tbody>\n",
       "</table>\n",
       "</div>"
      ],
      "text/plain": [
       "               weiReceived  weiSent  balance\n",
       "address                                     \n",
       "speculator_99          4.0      0.0      4.0\n",
       "speculator_98          0.0      3.0     -3.0\n",
       "speculator_97          2.0     18.0    -16.0\n",
       "speculator_96          0.0     27.0    -27.0\n",
       "speculator_95          0.0     19.0    -19.0"
      ]
     },
     "execution_count": 36,
     "metadata": {},
     "output_type": "execute_result"
    },
    {
     "data": {
      "text/html": [
       "<div>\n",
       "<style scoped>\n",
       "    .dataframe tbody tr th:only-of-type {\n",
       "        vertical-align: middle;\n",
       "    }\n",
       "\n",
       "    .dataframe tbody tr th {\n",
       "        vertical-align: top;\n",
       "    }\n",
       "\n",
       "    .dataframe thead th {\n",
       "        text-align: right;\n",
       "    }\n",
       "</style>\n",
       "<table border=\"1\" class=\"dataframe\">\n",
       "  <thead>\n",
       "    <tr style=\"text-align: right;\">\n",
       "      <th></th>\n",
       "      <th>weiReceived</th>\n",
       "      <th>weiSent</th>\n",
       "      <th>balance</th>\n",
       "    </tr>\n",
       "    <tr>\n",
       "      <th>address</th>\n",
       "      <th></th>\n",
       "      <th></th>\n",
       "      <th></th>\n",
       "    </tr>\n",
       "  </thead>\n",
       "  <tbody>\n",
       "    <tr>\n",
       "      <th>speculator_99</th>\n",
       "      <td>4.0</td>\n",
       "      <td>0.0</td>\n",
       "      <td>4.0</td>\n",
       "    </tr>\n",
       "    <tr>\n",
       "      <th>speculator_98</th>\n",
       "      <td>0.0</td>\n",
       "      <td>3.0</td>\n",
       "      <td>-3.0</td>\n",
       "    </tr>\n",
       "    <tr>\n",
       "      <th>speculator_97</th>\n",
       "      <td>2.0</td>\n",
       "      <td>18.0</td>\n",
       "      <td>-16.0</td>\n",
       "    </tr>\n",
       "    <tr>\n",
       "      <th>speculator_96</th>\n",
       "      <td>0.0</td>\n",
       "      <td>27.0</td>\n",
       "      <td>-27.0</td>\n",
       "    </tr>\n",
       "    <tr>\n",
       "      <th>speculator_95</th>\n",
       "      <td>0.0</td>\n",
       "      <td>19.0</td>\n",
       "      <td>-19.0</td>\n",
       "    </tr>\n",
       "  </tbody>\n",
       "</table>\n",
       "</div>"
      ],
      "text/plain": [
       "               weiReceived  weiSent  balance\n",
       "address                                     \n",
       "speculator_99          4.0      0.0      4.0\n",
       "speculator_98          0.0      3.0     -3.0\n",
       "speculator_97          2.0     18.0    -16.0\n",
       "speculator_96          0.0     27.0    -27.0\n",
       "speculator_95          0.0     19.0    -19.0"
      ]
     },
     "execution_count": 36,
     "metadata": {},
     "output_type": "execute_result"
    }
   ],
   "source": [
    "balance_result_py.head()\n",
    "balance_result_sql.head()"
   ]
  },
  {
   "cell_type": "code",
   "execution_count": 37,
   "metadata": {},
   "outputs": [
    {
     "name": "stdout",
     "output_type": "stream",
     "text": [
      "weiSent, weiReceived Test succeeded!!\n"
     ]
    }
   ],
   "source": [
    "pd.testing.assert_frame_equal(balance_result_py, balance_result_sql)\n",
    "print(\"weiSent, weiReceived Test succeeded!!\")"
   ]
  },
  {
   "cell_type": "markdown",
   "metadata": {},
   "source": [
    "### Test SQL command for retrieving \"txSent\" and \"txReceived\""
   ]
  },
  {
   "cell_type": "code",
   "execution_count": 38,
   "metadata": {},
   "outputs": [
    {
     "name": "stdout",
     "output_type": "stream",
     "text": [
      "Executing query with job ID: 18db4405-eaea-4ee6-b8f7-1a7dcc2a5310\n",
      "Query executing: 1.02s\n",
      "Query complete after 1.85s\n"
     ]
    }
   ],
   "source": [
    "%%bigquery res2 --project masterarbeit-245718 --verbose \n",
    "with txView as (\n",
    "\n",
    "  with txSent as (\n",
    "      SELECT from_address, count(*) as numberOfTranscationsSent FROM `masterarbeit-245718.ethereum_us.traces_sampleData` \n",
    "      where to_address is not null and status = 1 and (call_type not in ('delegatecall', 'callcode', 'staticcall') or call_type is null) \n",
    "      group by from_address\n",
    "    ), txReceived as (\n",
    "      SELECT to_address, count(*) as numberOfTranscationsReceived FROM `masterarbeit-245718.ethereum_us.traces_sampleData` \n",
    "      where to_address is not null and status = 1 and (call_type not in ('delegatecall', 'callcode', 'staticcall') or call_type is null) \n",
    "      group by to_address\n",
    "    ) \n",
    "    SELECT \n",
    "    CASE  \n",
    "      WHEN to_address IS NOT NULL THEN to_address\n",
    "      WHEN from_address IS NOT NULL THEN from_address\n",
    "    END AS address,\n",
    "    IFNULL(numberOfTranscationsReceived, 0) as numberOfTranscationsReceived, \n",
    "    IFNULL(numberOfTranscationsSent, 0) as numberOfTranscationsSent\n",
    "    from txReceived FULL OUTER JOIN txSent on to_address = from_address\n",
    ") \n",
    "\n",
    "    select address, numberOfTranscationsReceived, numberOfTranscationsSent from txView right join `ethereum_us.addresses_testdata` using(address)"
   ]
  },
  {
   "cell_type": "code",
   "execution_count": 39,
   "metadata": {},
   "outputs": [],
   "source": [
    "res3 = res2.copy()\n",
    "res3 = res3.fillna(0.)\n",
    "res3 = res3.sort_values(by=\"address\", ascending=False)\n",
    "tx_sent_received_result_sql = res3.set_index(\"address\", drop=True)"
   ]
  },
  {
   "cell_type": "code",
   "execution_count": 40,
   "metadata": {},
   "outputs": [],
   "source": [
    "data3 = pd.DataFrame(index=set(data1[\"from_address\"].unique()) | set(data1[\"to_address\"].unique()))\n",
    "data3[\"numberOfTranscationsReceived\"] = data1.groupby('to_address').count().value\n",
    "data3[\"numberOfTranscationsSent\"] = data1.groupby('from_address').count().value\n",
    "data3 = data3.fillna(0)\n",
    "data3 = data3.astype(\"int\")\n",
    "data3.index = data3.index.rename(\"address\")\n",
    "data3 = data3.reindex(addresses_testdata[\"address\"], fill_value=0.)\n",
    "data3 = data3.sort_values(by=\"address\", ascending=False)\n",
    "tx_sent_received_result_py = data3"
   ]
  },
  {
   "cell_type": "code",
   "execution_count": 41,
   "metadata": {},
   "outputs": [
    {
     "name": "stdout",
     "output_type": "stream",
     "text": [
      "txSent, txReceived Test succeeded !!\n"
     ]
    }
   ],
   "source": [
    "pd.testing.assert_frame_equal(tx_sent_received_result_py, tx_sent_received_result_sql)\n",
    "print(\"txSent, txReceived Test succeeded !!\")"
   ]
  },
  {
   "cell_type": "markdown",
   "metadata": {},
   "source": [
    "### Test avg time between tx"
   ]
  },
  {
   "cell_type": "code",
   "execution_count": 42,
   "metadata": {},
   "outputs": [
    {
     "name": "stdout",
     "output_type": "stream",
     "text": [
      "Executing query with job ID: 74f61d7a-ec14-4fbc-b638-6946013a15fa\n",
      "Query executing: 1.08s\n",
      "Query complete after 2.00s\n"
     ]
    }
   ],
   "source": [
    "%%bigquery res4 --project masterarbeit-245718 --verbose \n",
    "with timeRecView as (\n",
    "\n",
    "  with receivedTx as (\n",
    "    SELECT to_address, count(*) as numberOfTranscationsReceived FROM `masterarbeit-245718.ethereum_us.traces_sampleData` \n",
    "    where to_address is not null \n",
    "      and status = 1 \n",
    "      and (call_type not in ('delegatecall', 'callcode', 'staticcall') or call_type is null)\n",
    "    group by to_address),\n",
    "  \n",
    "  timeStampDiffs as (\n",
    "    SELECT to_address, TIMESTAMP_DIFF(MAX(block_timestamp), MIN( block_timestamp ), second ) as timestampDiff\n",
    "    FROM `masterarbeit-245718.ethereum_us.traces_sampleData`\n",
    "    where to_address is not null \n",
    "      and status = 1 \n",
    "      and (call_type not in ('delegatecall', 'callcode', 'staticcall') or call_type is null)\n",
    "    group by to_address\n",
    "  \n",
    "  ) select to_address as address, \n",
    "  CASE \n",
    "    when (numberOfTranscationsReceived - 1)  > 0 then timestampDiff / (numberOfTranscationsReceived - 1) \n",
    "    else 0\n",
    "  end as avgTimeDiffBetweenReceivedTransactions\n",
    "  from receivedTx inner join  timeStampDiffs using(to_address)\n",
    ")\n",
    "\n",
    "select address, ifnull(avgTimeDiffBetweenReceivedTransactions,0) as avgTimeDiffBetweenReceivedTransactions from timeRecView right join `ethereum_us.addresses_testdata` using(address)"
   ]
  },
  {
   "cell_type": "code",
   "execution_count": 43,
   "metadata": {},
   "outputs": [],
   "source": [
    "res6 = res4.set_index(\"address\", drop=True)\n",
    "res6 = res6.fillna(0.)\n",
    "res6 = res6.sort_values(by=\"address\")\n",
    "avg_time_diff_receivedtx_result_sql = res6"
   ]
  },
  {
   "cell_type": "code",
   "execution_count": 44,
   "metadata": {},
   "outputs": [
    {
     "name": "stdout",
     "output_type": "stream",
     "text": [
      "Executing query with job ID: 6821e15d-038b-4488-92e6-8bbadef1fb99\n",
      "Query executing: 1.69s\n",
      "Query complete after 2.20s\n"
     ]
    }
   ],
   "source": [
    "%%bigquery res5 --project masterarbeit-245718 --verbose \n",
    "with timeSentView as (\n",
    "\n",
    "  with sentTx as (\n",
    "    SELECT from_address, count(*) as numberOfTranscationsSent FROM `masterarbeit-245718.ethereum_us.traces_sampleData` \n",
    "    where to_address is not null \n",
    "      and status = 1 \n",
    "      and (call_type not in ('delegatecall', 'callcode', 'staticcall') or call_type is null)\n",
    "    group by from_address),\n",
    "  timeStampDiffs as (\n",
    "    SELECT from_address, TIMESTAMP_DIFF(MAX(block_timestamp), MIN( block_timestamp ), second ) as timestampDiff\n",
    "    FROM `masterarbeit-245718.ethereum_us.traces_sampleData`\n",
    "    where to_address is not null \n",
    "      and status = 1 \n",
    "      and (call_type not in ('delegatecall', 'callcode', 'staticcall') or call_type is null)\n",
    "    group by from_address\n",
    "  ) select from_address as address, \n",
    "  CASE \n",
    "    when (numberOfTranscationsSent - 1)  > 0 then timestampDiff / (numberOfTranscationsSent - 1) \n",
    "    else 0\n",
    "  end as avgTimeDiffBetweenSentTransactions\n",
    "     from sentTx inner join  timeStampDiffs using(from_address)\n",
    ")\n",
    "\n",
    "select address, ifnull(avgTimeDiffBetweenSentTransactions,0) as avgTimeDiffBetweenSentTransactions from timeSentView right join `ethereum_us.addresses_testdata` using(address)"
   ]
  },
  {
   "cell_type": "code",
   "execution_count": 45,
   "metadata": {},
   "outputs": [],
   "source": [
    "res6 = res5.set_index(\"address\", drop=True)\n",
    "res6 = res6.fillna(0.)\n",
    "res6 = res6.sort_values(by=\"address\")\n",
    "avg_time_diff_senttx_result_sql = res6"
   ]
  },
  {
   "cell_type": "code",
   "execution_count": 46,
   "metadata": {},
   "outputs": [
    {
     "name": "stderr",
     "output_type": "stream",
     "text": [
      "/home/mgsgde/.local/lib/python3.6/site-packages/pandas/core/arrays/timedeltas.py:523: RuntimeWarning: invalid value encountered in true_divide\n",
      "  result = self._data / other\n"
     ]
    }
   ],
   "source": [
    "res7 = [row for (index, row) in traces_sampleData.iterrows() if (row.call_type not in ['delegatecall', 'callcode', 'staticcall'] or row.call_type == None) and row.status == 1]\n",
    "res7 = pd.DataFrame(res7)\n",
    "res8 = res7.groupby(\"from_address\").max().block_timestamp\n",
    "res9 = res7.groupby(\"from_address\").min().block_timestamp\n",
    "res10 = res8 - res9\n",
    "res10 = res10.rename(\"seconds_diff\")\n",
    "res10 = tx_sent_received_result_py.join(res10, how=\"right\").drop(\"numberOfTranscationsReceived\", axis=1)\n",
    "res10 = res10.fillna(0.)\n",
    "res10[\"avgTimeDiffBetweenSentTransactions\"] = res10[\"seconds_diff\"] / (res10[\"numberOfTranscationsSent\"] - 1)\n",
    "res10[\"avgTimeDiffBetweenSentTransactions\"] = res10[\"avgTimeDiffBetweenSentTransactions\"].fillna(datetime.timedelta(0))\n",
    "res10 = res10.reindex(addresses_testdata[\"address\"], fill_value=0.)\n",
    "res10.index = res10.index.rename(\"address\")\n",
    "res10 = res10.sort_values(by=\"address\")\n",
    "res10 = res10.drop([\"numberOfTranscationsSent\", \"seconds_diff\"],axis=1)\n",
    "res10[\"avgTimeDiffBetweenSentTransactions\"] = [ts.total_seconds() for ts in res10[\"avgTimeDiffBetweenSentTransactions\"]]\n",
    "avg_time_diff_senttx_result_py = res10"
   ]
  },
  {
   "cell_type": "code",
   "execution_count": 47,
   "metadata": {},
   "outputs": [
    {
     "name": "stdout",
     "output_type": "stream",
     "text": [
      "avgTimeDiffBetweenSentTransactions Test succeeded !!\n"
     ]
    }
   ],
   "source": [
    "pd.testing.assert_frame_equal(avg_time_diff_senttx_result_sql, avg_time_diff_senttx_result_py)\n",
    "print(\"avgTimeDiffBetweenSentTransactions Test succeeded !!\")"
   ]
  },
  {
   "cell_type": "code",
   "execution_count": 48,
   "metadata": {},
   "outputs": [],
   "source": [
    "features = balance_result_sql.join(tx_sent_received_result_sql,how=\"left\")\n",
    "features = features.join(avg_time_diff_senttx_result_sql)\n",
    "features = features.join(avg_time_diff_receivedtx_result_sql)\n",
    "features = features.sort_values(by=\"balance\", ascending=False)\n",
    "features = features.fillna(0.0)\n",
    "import sys\n",
    "# addresses that have sent/received only one transaction get the avg time max * 2\n",
    "features[\"avgTimeDiffBetweenSentTransactions\"] = features[\"avgTimeDiffBetweenSentTransactions\"].replace(to_replace=0.0, value=2 * max(features[\"avgTimeDiffBetweenSentTransactions\"]))\n",
    "features[\"avgTimeDiffBetweenReceivedTransactions\"] = features[\"avgTimeDiffBetweenReceivedTransactions\"].replace(to_replace=0.0, value=2 * max(features[\"avgTimeDiffBetweenReceivedTransactions\"]))"
   ]
  },
  {
   "cell_type": "code",
   "execution_count": 49,
   "metadata": {},
   "outputs": [],
   "source": [
    "features = features.reset_index()"
   ]
  },
  {
   "cell_type": "code",
   "execution_count": 50,
   "metadata": {},
   "outputs": [
    {
     "name": "stderr",
     "output_type": "stream",
     "text": [
      "1it [00:03,  4.00s/it]\n"
     ]
    }
   ],
   "source": [
    "features.to_gbq('ethereum_us.features_sampleData', if_exists=\"replace\")"
   ]
  },
  {
   "cell_type": "markdown",
   "metadata": {},
   "source": [
    "# Test mined Blocks"
   ]
  },
  {
   "cell_type": "code",
   "execution_count": 51,
   "metadata": {},
   "outputs": [
    {
     "name": "stdout",
     "output_type": "stream",
     "text": [
      "Executing query with job ID: e4ae1092-fca9-4f69-80f7-662ba18cd073\n",
      "Query executing: 0.49s\n",
      "Query complete after 1.32s\n"
     ]
    }
   ],
   "source": [
    "%%bigquery sql_res_minedblocks --project masterarbeit-245718 --verbose \n",
    "\n",
    "with minedBlocksView as (\n",
    "    SELECT to_address as address, count(*) as mined_blocks FROM `masterarbeit-245718.ethereum_us.traces_sampleData`\n",
    "        where trace_type = \"reward\"\n",
    "        group by to_address\n",
    "    )\n",
    "select address, ifnull(mined_blocks,0) as minedBlocks from minedBlocksView right join `ethereum_us.addresses_testdata` using(address)\n"
   ]
  },
  {
   "cell_type": "code",
   "execution_count": 52,
   "metadata": {},
   "outputs": [
    {
     "data": {
      "text/html": [
       "<div>\n",
       "<style scoped>\n",
       "    .dataframe tbody tr th:only-of-type {\n",
       "        vertical-align: middle;\n",
       "    }\n",
       "\n",
       "    .dataframe tbody tr th {\n",
       "        vertical-align: top;\n",
       "    }\n",
       "\n",
       "    .dataframe thead th {\n",
       "        text-align: right;\n",
       "    }\n",
       "</style>\n",
       "<table border=\"1\" class=\"dataframe\">\n",
       "  <thead>\n",
       "    <tr style=\"text-align: right;\">\n",
       "      <th></th>\n",
       "      <th>address</th>\n",
       "      <th>weiReceived</th>\n",
       "      <th>weiSent</th>\n",
       "      <th>balance</th>\n",
       "      <th>numberOfTranscationsReceived</th>\n",
       "      <th>numberOfTranscationsSent</th>\n",
       "      <th>avgTimeDiffBetweenSentTransactions</th>\n",
       "      <th>avgTimeDiffBetweenReceivedTransactions</th>\n",
       "    </tr>\n",
       "  </thead>\n",
       "  <tbody>\n",
       "    <tr>\n",
       "      <th>0</th>\n",
       "      <td>exchange_9</td>\n",
       "      <td>232.0</td>\n",
       "      <td>57.0</td>\n",
       "      <td>175.0</td>\n",
       "      <td>23.0</td>\n",
       "      <td>21.0</td>\n",
       "      <td>134014.200000</td>\n",
       "      <td>121842.000000</td>\n",
       "    </tr>\n",
       "    <tr>\n",
       "      <th>1</th>\n",
       "      <td>exchange_2</td>\n",
       "      <td>195.0</td>\n",
       "      <td>25.0</td>\n",
       "      <td>170.0</td>\n",
       "      <td>17.0</td>\n",
       "      <td>10.0</td>\n",
       "      <td>297709.333333</td>\n",
       "      <td>167542.500000</td>\n",
       "    </tr>\n",
       "    <tr>\n",
       "      <th>2</th>\n",
       "      <td>exchange_3</td>\n",
       "      <td>199.0</td>\n",
       "      <td>33.0</td>\n",
       "      <td>166.0</td>\n",
       "      <td>18.0</td>\n",
       "      <td>13.0</td>\n",
       "      <td>223335.000000</td>\n",
       "      <td>157683.529412</td>\n",
       "    </tr>\n",
       "    <tr>\n",
       "      <th>3</th>\n",
       "      <td>exchange_10</td>\n",
       "      <td>228.0</td>\n",
       "      <td>65.0</td>\n",
       "      <td>163.0</td>\n",
       "      <td>22.0</td>\n",
       "      <td>29.0</td>\n",
       "      <td>95730.857143</td>\n",
       "      <td>127653.142857</td>\n",
       "    </tr>\n",
       "    <tr>\n",
       "      <th>4</th>\n",
       "      <td>exchange_4</td>\n",
       "      <td>194.0</td>\n",
       "      <td>42.0</td>\n",
       "      <td>152.0</td>\n",
       "      <td>17.0</td>\n",
       "      <td>16.0</td>\n",
       "      <td>178688.800000</td>\n",
       "      <td>167537.250000</td>\n",
       "    </tr>\n",
       "  </tbody>\n",
       "</table>\n",
       "</div>"
      ],
      "text/plain": [
       "       address  weiReceived  weiSent  balance  numberOfTranscationsReceived  \\\n",
       "0   exchange_9        232.0     57.0    175.0                          23.0   \n",
       "1   exchange_2        195.0     25.0    170.0                          17.0   \n",
       "2   exchange_3        199.0     33.0    166.0                          18.0   \n",
       "3  exchange_10        228.0     65.0    163.0                          22.0   \n",
       "4   exchange_4        194.0     42.0    152.0                          17.0   \n",
       "\n",
       "   numberOfTranscationsSent  avgTimeDiffBetweenSentTransactions  \\\n",
       "0                      21.0                       134014.200000   \n",
       "1                      10.0                       297709.333333   \n",
       "2                      13.0                       223335.000000   \n",
       "3                      29.0                        95730.857143   \n",
       "4                      16.0                       178688.800000   \n",
       "\n",
       "   avgTimeDiffBetweenReceivedTransactions  \n",
       "0                           121842.000000  \n",
       "1                           167542.500000  \n",
       "2                           157683.529412  \n",
       "3                           127653.142857  \n",
       "4                           167537.250000  "
      ]
     },
     "execution_count": 52,
     "metadata": {},
     "output_type": "execute_result"
    }
   ],
   "source": [
    "features.head()"
   ]
  },
  {
   "cell_type": "markdown",
   "metadata": {},
   "source": [
    "# Test var(avgTimeDiff...)"
   ]
  },
  {
   "cell_type": "code",
   "execution_count": 53,
   "metadata": {},
   "outputs": [
    {
     "name": "stdout",
     "output_type": "stream",
     "text": [
      "Executing query with job ID: 4805552b-bd7e-475a-a897-64f35c8ca8ae\n",
      "Query executing: 0.50s\n",
      "Query complete after 2.53s\n"
     ]
    }
   ],
   "source": [
    "%%bigquery res_sql_stddev --project masterarbeit-245718 --verbose \n",
    "\n",
    "with timestamp_var as (\n",
    "    with timestamps_diffs as (\n",
    "        \n",
    "        with timestamps_preceding_tx as (\n",
    "            \n",
    "            with timestamps_sent_tx as (\n",
    "                select from_address, block_timestamp from `masterarbeit-245718.ethereum_us.traces_sampleData`\n",
    "                    where from_address is not null \n",
    "                      and status = 1 \n",
    "                      and (call_type not in ('delegatecall', 'callcode', 'staticcall') or call_type is null)\n",
    "            )\n",
    "            \n",
    "            select from_address, block_timestamp,\n",
    "                lag(block_timestamp) OVER (partition by from_address order by block_timestamp asc) as preceding_block_timestamp \n",
    "            from timestamps_sent_tx\n",
    "        )\n",
    "        \n",
    "        select from_address, block_timestamp, preceding_block_timestamp, \n",
    "            TIMESTAMP_DIFF(block_timestamp, preceding_block_timestamp, second) as timestampdiff\n",
    "        from timestamps_preceding_tx\n",
    "    )\n",
    "    select from_address as address, STDDEV_SAMP(timestampdiff) as stddev_sample  \n",
    "    from timestamps_diffs group by from_address \n",
    ") \n",
    "select * from timestamp_var right join `ethereum_us.addresses_testdata` using(address)"
   ]
  },
  {
   "cell_type": "code",
   "execution_count": 54,
   "metadata": {},
   "outputs": [],
   "source": [
    "stddev_result_sql = res_sql_stddev.set_index(\"address\")\n",
    "stddev_result_sql = stddev_result_sql.reindex(addresses_testdata[\"address\"])\n",
    "stddev_result_sql = stddev_result_sql.fillna(res_sql_stddev[\"stddev_sample\"].max())\n",
    "stddev_result_sql = stddev_result_sql.sort_values(by=\"address\")"
   ]
  },
  {
   "cell_type": "code",
   "execution_count": 55,
   "metadata": {},
   "outputs": [
    {
     "name": "stdout",
     "output_type": "stream",
     "text": [
      "Executing query with job ID: 8c0e04f2-9142-40b7-a60e-c7a2c548fafa\n",
      "Query executing: 1.07s\n",
      "Query complete after 1.68s\n"
     ]
    }
   ],
   "source": [
    "%%bigquery res_sql_stddev --project masterarbeit-245718 --verbose \n",
    "\n",
    "with timestamp_var as (\n",
    "    \n",
    "    with timestamps_diffs as (\n",
    "        \n",
    "        with timestamps_preceding_tx as (\n",
    "            \n",
    "            with timestamps_sent_tx as (\n",
    "                select to_address, block_timestamp from `masterarbeit-245718.ethereum_us.traces_sampleData`\n",
    "                    where to_address is not null \n",
    "                      and status = 1 \n",
    "                      and (call_type not in ('delegatecall', 'callcode', 'staticcall') or call_type is null)\n",
    "            )\n",
    "            \n",
    "            select to_address, block_timestamp,\n",
    "                lag(block_timestamp) OVER (partition by to_address order by block_timestamp asc) as preceding_block_timestamp \n",
    "            from timestamps_sent_tx\n",
    "        )\n",
    "        \n",
    "        select to_address, block_timestamp, preceding_block_timestamp, \n",
    "            TIMESTAMP_DIFF(block_timestamp, preceding_block_timestamp, second) as timestampdiff\n",
    "        from timestamps_preceding_tx\n",
    "    )\n",
    "    select to_address as address, STDDEV_SAMP(timestampdiff) as stddev_sample  \n",
    "    from timestamps_diffs group by to_address \n",
    ") \n",
    "select * from timestamp_var right join `ethereum_us.addresses_testdata` using(address)"
   ]
  },
  {
   "cell_type": "code",
   "execution_count": 56,
   "metadata": {},
   "outputs": [],
   "source": [
    "stddev_result_sql = res_sql_stddev.set_index(\"address\")\n",
    "stddev_result_sql = stddev_result_sql.reindex(addresses_testdata[\"address\"])\n",
    "stddev_result_sql = stddev_result_sql.fillna(res_sql_stddev[\"stddev_sample\"].max())\n",
    "stddev_result_sql = stddev_result_sql.sort_values(by=\"stddev_sample\")"
   ]
  },
  {
   "cell_type": "markdown",
   "metadata": {},
   "source": [
    "# Verifikation der var(avgTimeDiff...) Tabelle via Python"
   ]
  },
  {
   "cell_type": "code",
   "execution_count": 57,
   "metadata": {},
   "outputs": [],
   "source": [
    "res7 = [row for (index, row) in traces_sampleData.iterrows() if (row.call_type not in ['delegatecall', 'callcode', 'staticcall'] or row.call_type == None) and row.status == 1]\n",
    "res7 = pd.DataFrame(res7)\n",
    "res7 = res7.sort_values(by=\"block_timestamp\", ascending=True)"
   ]
  },
  {
   "cell_type": "code",
   "execution_count": 58,
   "metadata": {},
   "outputs": [],
   "source": [
    "def calculateDifference(df):\n",
    "#     from_address = df[\"from_address\"].reset_index(drop=True)[0]\n",
    "    variance = df[\"block_timestamp\"].diff().std()\n",
    "    return variance\n",
    "#     return pd.DataFrame({\"variance\": [variance]})\n",
    "\n",
    "res8 = res7.groupby(\"to_address\").apply(lambda df: df[\"block_timestamp\"].diff().std() )\n",
    "res8 = pd.DataFrame(res8, columns=[\"stddev_sample\"])\n",
    "res8 = res8.reindex(addresses_testdata[\"address\"])\n",
    "res8 = res8.fillna(res8.max())\n",
    "res8[\"stddev_sample\"] = res8[\"stddev_sample\"] / np.timedelta64(1, 's')\n",
    "res8 = res8.sort_values(by=\"stddev_sample\")\n",
    "stddev_result_py = res8"
   ]
  },
  {
   "cell_type": "code",
   "execution_count": 59,
   "metadata": {},
   "outputs": [
    {
     "name": "stdout",
     "output_type": "stream",
     "text": [
      "stddev Test succeeded !!\n"
     ]
    }
   ],
   "source": [
    "# pd.testing.assert_frame_equal(stddev_result_py, stddev_result_sql)\n",
    "np.testing.assert_almost_equal(list(stddev_result_py[\"stddev_sample\"]), list(stddev_result_sql[\"stddev_sample\"]), decimal=2)\n",
    "print(\"stddev Test succeeded !!\")"
   ]
  },
  {
   "cell_type": "markdown",
   "metadata": {},
   "source": [
    "# Erstellen der ETH USD Tabelle"
   ]
  },
  {
   "cell_type": "code",
   "execution_count": 60,
   "metadata": {},
   "outputs": [],
   "source": [
    "import os \n",
    "from datetime import datetime"
   ]
  },
  {
   "cell_type": "code",
   "execution_count": 61,
   "metadata": {},
   "outputs": [
    {
     "data": {
      "text/html": [
       "<div>\n",
       "<style scoped>\n",
       "    .dataframe tbody tr th:only-of-type {\n",
       "        vertical-align: middle;\n",
       "    }\n",
       "\n",
       "    .dataframe tbody tr th {\n",
       "        vertical-align: top;\n",
       "    }\n",
       "\n",
       "    .dataframe thead th {\n",
       "        text-align: right;\n",
       "    }\n",
       "</style>\n",
       "<table border=\"1\" class=\"dataframe\">\n",
       "  <thead>\n",
       "    <tr style=\"text-align: right;\">\n",
       "      <th></th>\n",
       "      <th>usd_eth_timestamp</th>\n",
       "      <th>avg_usd_eth</th>\n",
       "    </tr>\n",
       "  </thead>\n",
       "  <tbody>\n",
       "    <tr>\n",
       "      <th>1645</th>\n",
       "      <td>2020-02-07</td>\n",
       "      <td>217.722564</td>\n",
       "    </tr>\n",
       "    <tr>\n",
       "      <th>1646</th>\n",
       "      <td>2020-02-08</td>\n",
       "      <td>220.987190</td>\n",
       "    </tr>\n",
       "    <tr>\n",
       "      <th>1647</th>\n",
       "      <td>2020-02-09</td>\n",
       "      <td>226.423241</td>\n",
       "    </tr>\n",
       "    <tr>\n",
       "      <th>1648</th>\n",
       "      <td>2020-02-10</td>\n",
       "      <td>223.632332</td>\n",
       "    </tr>\n",
       "    <tr>\n",
       "      <th>1649</th>\n",
       "      <td>2020-02-11</td>\n",
       "      <td>222.864899</td>\n",
       "    </tr>\n",
       "  </tbody>\n",
       "</table>\n",
       "</div>"
      ],
      "text/plain": [
       "     usd_eth_timestamp  avg_usd_eth\n",
       "1645        2020-02-07   217.722564\n",
       "1646        2020-02-08   220.987190\n",
       "1647        2020-02-09   226.423241\n",
       "1648        2020-02-10   223.632332\n",
       "1649        2020-02-11   222.864899"
      ]
     },
     "execution_count": 61,
     "metadata": {},
     "output_type": "execute_result"
    }
   ],
   "source": [
    "eth_usd_res = pd.read_csv('../data/eth_usd.csv') \n",
    "# Preview the first 5 lines of the loaded data \n",
    "eth_usd = eth_usd_res.copy()\n",
    "eth_usd[\"avg_usd_eth\"] = (eth_usd_res[\"High\"] + eth_usd_res[\"Low\"]) / 2\n",
    "eth_usd[\"usd_eth_timestamp\"] = [datetime.strptime(ts, \"%Y-%m-%d\") for ts in eth_usd_res[\"Date\"]]\n",
    "eth_usd = eth_usd.loc[:, [\"usd_eth_timestamp\", \"avg_usd_eth\"]]\n",
    "# data.sort_values(by=\"avg\", ascending=False)\n",
    "# data.iloc[data[\"avg_usd_eth\"].idxmax(),:]\n",
    "eth_usd.tail()"
   ]
  },
  {
   "cell_type": "code",
   "execution_count": 62,
   "metadata": {},
   "outputs": [
    {
     "name": "stderr",
     "output_type": "stream",
     "text": [
      "1it [00:03,  3.36s/it]\n"
     ]
    }
   ],
   "source": [
    "eth_usd.to_gbq('ethereum_us.usd_eth', if_exists=\"replace\")"
   ]
  },
  {
   "cell_type": "code",
   "execution_count": 63,
   "metadata": {},
   "outputs": [
    {
     "name": "stdout",
     "output_type": "stream",
     "text": [
      "Executing query with job ID: 97f8c743-5a5e-48e7-be46-a9959b7bcb6f\n",
      "Query executing: 0.50s\n",
      "Query complete after 1.32s\n"
     ]
    }
   ],
   "source": [
    "%%bigquery traces_usd --project masterarbeit-245718 --verbose \n",
    "\n",
    "select * from `masterarbeit-245718.ethereum_us.traces_sampleData` as traces left join `masterarbeit-245718.ethereum_us.usd_eth` as usd_eth \n",
    "  on (TIMESTAMP_TRUNC(usd_eth.usd_eth_timestamp, DAY, 'UTC') = TIMESTAMP_TRUNC(traces.block_timestamp, DAY, 'UTC'))"
   ]
  },
  {
   "cell_type": "code",
   "execution_count": 64,
   "metadata": {},
   "outputs": [
    {
     "name": "stderr",
     "output_type": "stream",
     "text": [
      "1it [00:03,  3.56s/it]\n"
     ]
    }
   ],
   "source": [
    "traces_usd.to_gbq('ethereum_us.traces_usd_sampleData', if_exists=\"replace\")"
   ]
  },
  {
   "cell_type": "markdown",
   "metadata": {},
   "source": [
    "# Active Months"
   ]
  },
  {
   "cell_type": "code",
   "execution_count": 233,
   "metadata": {},
   "outputs": [
    {
     "name": "stdout",
     "output_type": "stream",
     "text": [
      "Executing query with job ID: 3d96a201-9753-4d5e-9aeb-37cb21cc5e91\n",
      "Query executing: 0.79s\n",
      "Query complete after 1.40s\n"
     ]
    }
   ],
   "source": [
    "%%bigquery active_months_result_sql --project masterarbeit-245718 --verbose \n",
    "\n",
    "with traces_clean as (\n",
    "    select * from `masterarbeit-245718.ethereum_us.traces_sampleData` where \n",
    "    status = 1 and (call_type not in ('delegatecall', 'callcode', 'staticcall') or call_type is null) \n",
    "    \n",
    "), tx_received as (\n",
    "    select \n",
    "        TIMESTAMP_TRUNC(block_timestamp, MONTH, 'UTC') as month, \n",
    "        to_address,\n",
    "        count(*) as number_tx_received\n",
    "    from traces_clean\n",
    "    group by TIMESTAMP_TRUNC(block_timestamp, MONTH, 'UTC'), to_address\n",
    "    \n",
    "), tx_sent as (\n",
    "    select \n",
    "        TIMESTAMP_TRUNC(block_timestamp, MONTH, 'UTC') as month, \n",
    "        from_address,\n",
    "        count(*) as number_tx_sent\n",
    "    from traces_clean\n",
    "    group by TIMESTAMP_TRUNC(block_timestamp, MONTH, 'UTC'), from_address\n",
    "    \n",
    "), monthly_tx as (\n",
    "    select \n",
    "        CASE  \n",
    "          WHEN tx_sent.from_address IS NOT NULL THEN tx_sent.from_address\n",
    "          WHEN tx_received.to_address IS NOT NULL THEN tx_received.to_address\n",
    "        END AS address,\n",
    "        CASE  \n",
    "          WHEN tx_sent.month IS NOT NULL THEN tx_sent.month\n",
    "          WHEN tx_received.month IS NOT NULL THEN tx_received.month\n",
    "        END AS month,\n",
    "        ifnull(number_tx_sent,0) as number_tx_sent, \n",
    "        ifnull(number_tx_received,0) as number_tx_received \n",
    "    from tx_sent full join tx_received \n",
    "        on (tx_sent.from_address = tx_received.to_address and tx_sent.month = tx_received.month)\n",
    "\n",
    "), active_months_view as (\n",
    "    select \n",
    "        address, \n",
    "        countif(number_tx_sent > 0 or number_tx_received > 0) as active_months \n",
    "    from monthly_tx group by address order by address ASC \n",
    ")\n",
    "\n",
    "select \n",
    "    address, \n",
    "    ifnull(active_months,0) as active_months \n",
    "from ethereum_us.addresses_testdata left join active_months_view using(address)\n",
    "\n"
   ]
  },
  {
   "cell_type": "markdown",
   "metadata": {},
   "source": [
    "# Tests für active_months feature"
   ]
  },
  {
   "cell_type": "code",
   "execution_count": 234,
   "metadata": {},
   "outputs": [],
   "source": [
    "traces = [row for (index, row) in traces_sampleData.iterrows() if (row.call_type not in ['delegatecall', 'callcode', 'staticcall'] or row.call_type == None) and row.status == 1]\n",
    "traces = pd.DataFrame(traces)"
   ]
  },
  {
   "cell_type": "code",
   "execution_count": 235,
   "metadata": {},
   "outputs": [],
   "source": [
    "def address_was_active(address, month):\n",
    "    for i,t in traces.iterrows():\n",
    "        if (t[\"from_address\"] == address or t[\"to_address\"] == address) and (month.strftime(\"%Y-%m\") == t[\"block_timestamp\"].strftime(\"%Y-%m\")):\n",
    "            return True\n",
    "    return False\n",
    "        "
   ]
  },
  {
   "cell_type": "code",
   "execution_count": 236,
   "metadata": {},
   "outputs": [
    {
     "data": {
      "text/plain": [
       "{'speculator_1': 2,\n",
       " 'speculator_2': 1,\n",
       " 'speculator_3': 1,\n",
       " 'speculator_4': 2,\n",
       " 'speculator_5': 1,\n",
       " 'speculator_7': 1,\n",
       " 'speculator_8': 2,\n",
       " 'speculator_9': 1,\n",
       " 'speculator_10': 1,\n",
       " 'speculator_12': 2,\n",
       " 'speculator_13': 2,\n",
       " 'speculator_14': 2,\n",
       " 'speculator_15': 1,\n",
       " 'speculator_16': 2,\n",
       " 'speculator_18': 2,\n",
       " 'speculator_21': 1,\n",
       " 'speculator_22': 1,\n",
       " 'speculator_23': 2,\n",
       " 'speculator_24': 1,\n",
       " 'speculator_25': 2,\n",
       " 'speculator_26': 1,\n",
       " 'speculator_27': 1,\n",
       " 'speculator_28': 1,\n",
       " 'speculator_29': 1,\n",
       " 'speculator_31': 1,\n",
       " 'speculator_32': 1,\n",
       " 'speculator_33': 2,\n",
       " 'speculator_34': 1,\n",
       " 'speculator_36': 2,\n",
       " 'speculator_37': 1,\n",
       " 'speculator_38': 1,\n",
       " 'speculator_39': 1,\n",
       " 'speculator_41': 1,\n",
       " 'speculator_42': 1,\n",
       " 'speculator_43': 1,\n",
       " 'speculator_44': 2,\n",
       " 'speculator_45': 1,\n",
       " 'speculator_46': 1,\n",
       " 'speculator_47': 1,\n",
       " 'speculator_48': 1,\n",
       " 'speculator_49': 1,\n",
       " 'speculator_50': 1,\n",
       " 'speculator_51': 1,\n",
       " 'speculator_53': 1,\n",
       " 'speculator_54': 2,\n",
       " 'speculator_55': 1,\n",
       " 'speculator_56': 2,\n",
       " 'speculator_57': 1,\n",
       " 'speculator_60': 1,\n",
       " 'speculator_62': 1,\n",
       " 'speculator_63': 1,\n",
       " 'speculator_64': 1,\n",
       " 'speculator_65': 2,\n",
       " 'speculator_66': 2,\n",
       " 'speculator_68': 1,\n",
       " 'speculator_69': 1,\n",
       " 'speculator_70': 1,\n",
       " 'speculator_71': 2,\n",
       " 'speculator_74': 1,\n",
       " 'speculator_77': 1,\n",
       " 'speculator_78': 2,\n",
       " 'speculator_79': 1,\n",
       " 'speculator_80': 1,\n",
       " 'speculator_81': 2,\n",
       " 'speculator_82': 1,\n",
       " 'speculator_83': 1,\n",
       " 'speculator_84': 1,\n",
       " 'speculator_85': 2,\n",
       " 'speculator_87': 1,\n",
       " 'speculator_88': 2,\n",
       " 'speculator_89': 1,\n",
       " 'speculator_90': 2,\n",
       " 'speculator_91': 2,\n",
       " 'speculator_92': 2,\n",
       " 'speculator_93': 2,\n",
       " 'speculator_94': 1,\n",
       " 'speculator_95': 1,\n",
       " 'speculator_96': 2,\n",
       " 'speculator_97': 1,\n",
       " 'speculator_98': 1,\n",
       " 'speculator_99': 2,\n",
       " 'speculator_100': 2,\n",
       " 'speculator_101': 2,\n",
       " 'speculator_102': 1,\n",
       " 'speculator_103': 1,\n",
       " 'speculator_104': 1,\n",
       " 'speculator_105': 1,\n",
       " 'speculator_106': 1,\n",
       " 'speculator_107': 1,\n",
       " 'speculator_109': 2,\n",
       " 'speculator_110': 2,\n",
       " 'speculator_111': 1,\n",
       " 'speculator_112': 1,\n",
       " 'speculator_113': 1,\n",
       " 'speculator_114': 2,\n",
       " 'speculator_115': 2,\n",
       " 'speculator_116': 1,\n",
       " 'speculator_117': 2,\n",
       " 'speculator_118': 1,\n",
       " 'speculator_119': 2,\n",
       " 'speculator_121': 1,\n",
       " 'speculator_122': 1,\n",
       " 'speculator_124': 2,\n",
       " 'speculator_125': 1,\n",
       " 'speculator_126': 1,\n",
       " 'speculator_127': 2,\n",
       " 'speculator_128': 1,\n",
       " 'speculator_129': 2,\n",
       " 'speculator_130': 1,\n",
       " 'speculator_131': 2,\n",
       " 'speculator_132': 2,\n",
       " 'speculator_133': 2,\n",
       " 'speculator_134': 1,\n",
       " 'speculator_135': 1,\n",
       " 'speculator_137': 2,\n",
       " 'speculator_138': 2,\n",
       " 'speculator_139': 2,\n",
       " 'speculator_140': 2,\n",
       " 'speculator_141': 1,\n",
       " 'speculator_143': 1,\n",
       " 'speculator_144': 2,\n",
       " 'speculator_145': 1,\n",
       " 'speculator_146': 2,\n",
       " 'speculator_147': 2,\n",
       " 'speculator_148': 1,\n",
       " 'speculator_149': 2,\n",
       " 'speculator_150': 1,\n",
       " 'speculator_152': 1,\n",
       " 'speculator_153': 1,\n",
       " 'speculator_154': 2,\n",
       " 'speculator_155': 1,\n",
       " 'speculator_156': 2,\n",
       " 'speculator_157': 1,\n",
       " 'speculator_158': 2,\n",
       " 'speculator_160': 2,\n",
       " 'speculator_162': 2,\n",
       " 'speculator_163': 2,\n",
       " 'speculator_166': 2,\n",
       " 'speculator_167': 1,\n",
       " 'speculator_168': 2,\n",
       " 'speculator_169': 1,\n",
       " 'speculator_170': 2,\n",
       " 'speculator_171': 1,\n",
       " 'speculator_173': 1,\n",
       " 'speculator_175': 1,\n",
       " 'speculator_176': 2,\n",
       " 'speculator_177': 2,\n",
       " 'speculator_178': 1,\n",
       " 'speculator_179': 1,\n",
       " 'speculator_180': 2,\n",
       " 'speculator_183': 1,\n",
       " 'speculator_184': 1,\n",
       " 'speculator_186': 1,\n",
       " 'speculator_188': 2,\n",
       " 'speculator_190': 2,\n",
       " 'exchange_1': 2,\n",
       " 'exchange_2': 2,\n",
       " 'exchange_3': 2,\n",
       " 'exchange_4': 2,\n",
       " 'exchange_5': 2,\n",
       " 'exchange_6': 2,\n",
       " 'exchange_7': 2,\n",
       " 'exchange_8': 2,\n",
       " 'exchange_9': 2,\n",
       " 'exchange_10': 2}"
      ]
     },
     "execution_count": 236,
     "metadata": {},
     "output_type": "execute_result"
    }
   ],
   "source": [
    "from datetime import timedelta\n",
    "\n",
    "active_months = {}\n",
    "\n",
    "min_ts = traces[\"block_timestamp\"].min()\n",
    "max_ts = traces[\"block_timestamp\"].max()\n",
    "min_ts = min_ts.to_pydatetime()\n",
    "max_ts = max_ts.to_pydatetime()\n",
    "\n",
    "         \n",
    "months = [month.to_pydatetime() for month in pd.date_range(start=min_ts, end=(max_ts + timedelta(days=31)), freq=\"MS\")]\n",
    "\n",
    "for index,address in addresses_testdata.iterrows():\n",
    "    for month in months:\n",
    "        if (address_was_active(address[0], month)):\n",
    "            active_months[address[0]] = active_months[address[0]] + 1 if address[0] in active_months else 1 "
   ]
  },
  {
   "cell_type": "code",
   "execution_count": 237,
   "metadata": {},
   "outputs": [
    {
     "name": "stdout",
     "output_type": "stream",
     "text": [
      "active months Test succeeded!!\n"
     ]
    }
   ],
   "source": [
    "s = pd.Series(active_months)\n",
    "df = pd.DataFrame(s)\n",
    "df = df.reindex(addresses_testdata[\"address\"])\n",
    "df = df.reset_index()\n",
    "df.columns=[\"address\", \"active_months\"]\n",
    "df = df.fillna(0.)\n",
    "df[\"active_months\"] = df[\"active_months\"].astype(int)\n",
    "active_months_result_py  = df\n",
    "pd.testing.assert_frame_equal(active_months_result_py, active_months_result_sql)\n",
    "print(\"active months Test succeeded!!\")"
   ]
  },
  {
   "cell_type": "markdown",
   "metadata": {},
   "source": [
    "# Deprecated"
   ]
  },
  {
   "cell_type": "code",
   "execution_count": 66,
   "metadata": {},
   "outputs": [],
   "source": [
    "# %%bigquery res6 --project masterarbeit-245718 --verbose \n",
    "\n",
    "# SELECT\n",
    "# * \n",
    "# FROM\n",
    "# `masterarbeit-245718.ethereum_us.INFORMATION_SCHEMA.TABLES`\n"
   ]
  },
  {
   "cell_type": "code",
   "execution_count": 67,
   "metadata": {},
   "outputs": [],
   "source": [
    "# tablesToDelete = [tn for tn in res6[\"table_name\"] if tn.startswith(\"top40k_19_20\")]\n",
    "\n",
    "# for t in tablesToDelete:\n",
    "#      client.delete_table(\"ethereum_us.{}\".format(t), not_found_ok=True)  "
   ]
  },
  {
   "cell_type": "code",
   "execution_count": null,
   "metadata": {},
   "outputs": [],
   "source": []
  },
  {
   "cell_type": "code",
   "execution_count": 68,
   "metadata": {},
   "outputs": [],
   "source": [
    "# view_ref = shared_dataset_ref.table(\"my_shared_view\")\n",
    "# view = bigquery.Table(view_ref)\n",
    "# sql_template = 'SELECT name, post_abbr FROM `{}.{}.{}` WHERE name LIKE \"W%\"'\n",
    "# view.view_query = sql_template.format(project, source_dataset_id, source_table_id)\n",
    "# view = client.create_table(view)  # API request\n",
    "\n",
    "# print(\"Successfully created view at {}\".format(view.full_table_id))"
   ]
  },
  {
   "cell_type": "code",
   "execution_count": null,
   "metadata": {},
   "outputs": [],
   "source": []
  }
 ],
 "metadata": {
  "kernelspec": {
   "display_name": "Python 3",
   "language": "python",
   "name": "python3"
  },
  "language_info": {
   "codemirror_mode": {
    "name": "ipython",
    "version": 3
   },
   "file_extension": ".py",
   "mimetype": "text/x-python",
   "name": "python",
   "nbconvert_exporter": "python",
   "pygments_lexer": "ipython3",
   "version": "3.6.9"
  }
 },
 "nbformat": 4,
 "nbformat_minor": 2
}

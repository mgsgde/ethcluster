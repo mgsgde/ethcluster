{
 "cells": [
  {
   "cell_type": "markdown",
   "metadata": {},
   "source": [
    "# Creating the feature table in BigQuery"
   ]
  },
  {
   "cell_type": "markdown",
   "metadata": {},
   "source": [
    "## Configuration of Sample"
   ]
  },
  {
   "cell_type": "code",
   "execution_count": 125,
   "metadata": {},
   "outputs": [],
   "source": [
    "# Due to the nature of selecting random rows via sql the number of addresses is approximated\n",
    "approximate_number_of_addresses = 5000\n",
    "\n",
    "# (start, end), format: dd.mm.yyyy\n",
    "observation_period = (\"2020-02-15\", \"2020-02-15\") \n",
    "\n",
    "# \"random\", \"richest\"\n",
    "# random: selects random addresses, that have been active within the observation period.\n",
    "# richest: selects the accounts that have the most ether\n",
    "address_selection = \"random\" "
   ]
  },
  {
   "cell_type": "markdown",
   "metadata": {},
   "source": [
    "## Creating Views"
   ]
  },
  {
   "cell_type": "markdown",
   "metadata": {},
   "source": [
    "Setup"
   ]
  },
  {
   "cell_type": "code",
   "execution_count": 126,
   "metadata": {},
   "outputs": [],
   "source": [
    "from google.cloud import bigquery\n",
    "import simplejson as json\n",
    "import os\n",
    "from datetime import datetime\n",
    "import pandas as pd\n",
    "\n",
    "os.environ[\"GOOGLE_APPLICATION_CREDENTIALS\"] = \"../secrets/bigquery-service-account.json\"\n",
    "client = bigquery.Client()\n",
    "dataset_id = \"ethereum_us\"\n",
    "view_names = []\n",
    "view_ids = {}"
   ]
  },
  {
   "cell_type": "markdown",
   "metadata": {},
   "source": [
    "Delete all views"
   ]
  },
  {
   "cell_type": "code",
   "execution_count": 127,
   "metadata": {},
   "outputs": [],
   "source": [
    "view_ids_to_be_deleted = [t.table_id for t in client.list_tables(dataset_id) if \"view\" in t.table_id]\n",
    "\n",
    "for view_id in view_ids_to_be_deleted:\n",
    "     client.delete_table(\"{}.{}\".format(dataset_id, view_id), not_found_ok=True)  "
   ]
  },
  {
   "cell_type": "markdown",
   "metadata": {},
   "source": [
    "Create view \"traces\""
   ]
  },
  {
   "cell_type": "code",
   "execution_count": 128,
   "metadata": {},
   "outputs": [
    {
     "name": "stdout",
     "output_type": "stream",
     "text": [
      "Successfully created view: 'traces_random_5000_2020_02_15_2020_02_15_view'\n"
     ]
    }
   ],
   "source": [
    "view_names.append(\"traces\")\n",
    "current_view_name = view_names[-1]\n",
    "sql_query = \"\"\"\n",
    "      select * from `bigquery-public-data.crypto_ethereum.traces`\n",
    "        where status = 1\n",
    "            and DATE(block_timestamp) >= '{start}' \n",
    "            and DATE(block_timestamp) <= '{end}'\n",
    "      \"\"\".format(start=observation_period[0], end=observation_period[1]); \n",
    "\n",
    "view_ids[current_view_name] = \"{}_{}_{}_{}_{}_view\".format(current_view_name, address_selection, approximate_number_of_addresses, observation_period[0].replace(\"-\",\"_\"),observation_period[1].replace(\"-\",\"_\"))\n",
    "view_ref = client.dataset(dataset_id).table(view_ids[current_view_name])\n",
    "view = bigquery.Table(view_ref)\n",
    "view.view_query = sql_query\n",
    "view = client.create_table(view)  # API request\n",
    "print(\"Successfully created view: '{}'\".format(view_ids[current_view_name]))"
   ]
  },
  {
   "cell_type": "markdown",
   "metadata": {},
   "source": [
    "Create view \"addresses\""
   ]
  },
  {
   "cell_type": "code",
   "execution_count": 129,
   "metadata": {
    "scrolled": true
   },
   "outputs": [
    {
     "name": "stdout",
     "output_type": "stream",
     "text": [
      "Successfully created view: 'addresses_random_5000_2020_02_15_2020_02_15_view'\n"
     ]
    }
   ],
   "source": [
    "view_names.append(\"addresses\")\n",
    "current_view_name = view_names[-1]\n",
    "\n",
    "# todo: address_selection == \"richest\"\n",
    "if address_selection == \"random\":\n",
    "    sql_query = \"\"\"\n",
    "                with addresses_traces as (\n",
    "                    select distinct from_address as address from masterarbeit-245718.ethereum_us.{view_id_traces}\n",
    "                    UNION ALL\n",
    "                    select distinct to_address as address from masterarbeit-245718.ethereum_us.{view_id_traces}\n",
    "                ) \n",
    "                select * from addresses_traces where RAND() < {approximate_number_of_addresses}/(SELECT COUNT(*) FROM addresses_traces)\n",
    "                \"\"\".format(view_id_traces=view_ids[\"traces\"], approximate_number_of_addresses=approximate_number_of_addresses)\n",
    "\n",
    "view_ids[current_view_name] = \"{}_{}_{}_{}_{}_view\".format(current_view_name, address_selection, approximate_number_of_addresses, observation_period[0].replace(\"-\",\"_\"),observation_period[1].replace(\"-\",\"_\"))\n",
    "view_ref = client.dataset(dataset_id).table(view_ids[current_view_name])\n",
    "view = bigquery.Table(view_ref)\n",
    "view.view_query = sql_query\n",
    "view = client.create_table(view)  # API request\n",
    "print(\"Successfully created view: '{}'\".format(view_ids[current_view_name]))"
   ]
  },
  {
   "cell_type": "markdown",
   "metadata": {},
   "source": [
    "Create view \"wei\""
   ]
  },
  {
   "cell_type": "code",
   "execution_count": 130,
   "metadata": {},
   "outputs": [
    {
     "name": "stdout",
     "output_type": "stream",
     "text": [
      "Successfully created view: 'wei_random_5000_2020_02_15_2020_02_15_view'\n"
     ]
    }
   ],
   "source": [
    "view_names.append(\"wei\")\n",
    "current_view_name = view_names[-1]\n",
    "sql_query = \"\"\"\n",
    "            with weiView as (\n",
    "\n",
    "              with weiReceivedView as (\n",
    "                    \n",
    "                  -- debits\n",
    "                  select to_address, sum(ifnull(value, 0)) as weiReceived\n",
    "                  from masterarbeit-245718.ethereum_us.{view_id_traces}\n",
    "                  where to_address is not null\n",
    "                  and status = 1\n",
    "                  and (call_type not in ('delegatecall', 'callcode', 'staticcall') or call_type is null) \n",
    "                  group by to_address\n",
    "                    \n",
    "              ), weiSentView as (\n",
    "              \n",
    "                  -- credits\n",
    "                  select from_address, sum(ifnull(value, 0)) as weiSent\n",
    "                  from  masterarbeit-245718.ethereum_us.{view_id_traces} \n",
    "                  where from_address is not null\n",
    "                  and status = 1\n",
    "                  and (call_type not in ('delegatecall', 'callcode', 'staticcall') or call_type is null) \n",
    "                  group by from_address\n",
    "              ) \n",
    "              select \n",
    "                  CASE \n",
    "                    when to_address is not null then to_address\n",
    "                    when from_address is not null then from_address\n",
    "                  end as address, \n",
    "                  ifnull(weiReceived,0) as weiReceived, \n",
    "                  ifnull(weiSent,0) as weiSent\n",
    "              from weiReceivedView full outer join weiSentView on from_address = to_address\n",
    "            ) \n",
    "            select address, weiReceived, weiSent from weiView right join masterarbeit-245718.ethereum_us.{view_id_addresses} using(address)\n",
    "            \"\"\".format(view_id_traces=view_ids[\"traces\"], view_id_addresses=view_ids[\"addresses\"])\n",
    "\n",
    "view_ids[current_view_name] = \"{}_{}_{}_{}_{}_view\".format(current_view_name, address_selection, approximate_number_of_addresses, observation_period[0].replace(\"-\",\"_\"),observation_period[1].replace(\"-\",\"_\"))\n",
    "view_ref = client.dataset(dataset_id).table(view_ids[current_view_name])\n",
    "view = bigquery.Table(view_ref)\n",
    "view.view_query = sql_query\n",
    "view = client.create_table(view)  # API request\n",
    "print(\"Successfully created view: '{}'\".format(view_ids[current_view_name]))"
   ]
  },
  {
   "cell_type": "markdown",
   "metadata": {},
   "source": [
    "Create view \"tx\""
   ]
  },
  {
   "cell_type": "code",
   "execution_count": 131,
   "metadata": {},
   "outputs": [
    {
     "name": "stdout",
     "output_type": "stream",
     "text": [
      "Successfully created view: 'tx_random_5000_2020_02_15_2020_02_15_view'\n"
     ]
    }
   ],
   "source": [
    "view_names.append(\"tx\")\n",
    "current_view_name = view_names[-1]\n",
    "sql_query = \"\"\"\n",
    "            with txView as (\n",
    "\n",
    "              with txSent as (\n",
    "              \n",
    "                  SELECT from_address, count(*) as numberOfTranscationsSent FROM masterarbeit-245718.ethereum_us.{view_id_traces}\n",
    "                  where to_address is not null and status = 1 and (call_type not in ('delegatecall', 'callcode', 'staticcall') or call_type is null) \n",
    "                  group by from_address\n",
    "                  \n",
    "                ), txReceived as (\n",
    "                \n",
    "                  SELECT to_address, count(*) as numberOfTranscationsReceived FROM masterarbeit-245718.ethereum_us.{view_id_traces}\n",
    "                  where to_address is not null and status = 1 and (call_type not in ('delegatecall', 'callcode', 'staticcall') or call_type is null) \n",
    "                  group by to_address\n",
    "                ) \n",
    "                \n",
    "                SELECT \n",
    "                    CASE  \n",
    "                      WHEN to_address IS NOT NULL THEN to_address\n",
    "                      WHEN from_address IS NOT NULL THEN from_address\n",
    "                    END AS address,\n",
    "                    IFNULL(numberOfTranscationsReceived, 0) as numberOfTranscationsReceived, \n",
    "                    IFNULL(numberOfTranscationsSent, 0) as numberOfTranscationsSent\n",
    "                from txReceived FULL OUTER JOIN txSent on to_address = from_address\n",
    "            ) \n",
    "            \n",
    "            select address, numberOfTranscationsReceived, numberOfTranscationsSent from txView right join masterarbeit-245718.ethereum_us.{view_id_addresses} using(address)\n",
    "            \n",
    "            \"\"\".format(view_id_traces=view_ids[\"traces\"], view_id_addresses=view_ids[\"addresses\"])\n",
    "\n",
    "view_ids[current_view_name] = \"{}_{}_{}_{}_{}_view\".format(current_view_name, address_selection, approximate_number_of_addresses, observation_period[0].replace(\"-\",\"_\"),observation_period[1].replace(\"-\",\"_\"))\n",
    "view_ref = client.dataset(dataset_id).table(view_ids[current_view_name])\n",
    "view = bigquery.Table(view_ref)\n",
    "view.view_query = sql_query\n",
    "view = client.create_table(view)  # API request\n",
    "print(\"Successfully created view: '{}'\".format(view_ids[current_view_name]))"
   ]
  },
  {
   "cell_type": "markdown",
   "metadata": {},
   "source": [
    "Create view \"avg_time_diff_received_tx\""
   ]
  },
  {
   "cell_type": "code",
   "execution_count": 132,
   "metadata": {},
   "outputs": [
    {
     "name": "stdout",
     "output_type": "stream",
     "text": [
      "Successfully created view: 'avg_time_diff_received_tx_random_5000_2020_02_15_2020_02_15_view'\n"
     ]
    }
   ],
   "source": [
    "view_names.append(\"avg_time_diff_received_tx\")\n",
    "current_view_name = view_names[-1]\n",
    "sql_query = \"\"\"\n",
    "           with timeRecView as (\n",
    "\n",
    "              with receivedTx as (\n",
    "              \n",
    "                SELECT to_address, count(*) as numberOfTranscationsReceived \n",
    "                FROM masterarbeit-245718.ethereum_us.{view_id_traces} \n",
    "                where to_address is not null \n",
    "                  and status = 1 \n",
    "                  and (call_type not in ('delegatecall', 'callcode', 'staticcall') or call_type is null)\n",
    "                group by to_address\n",
    "              \n",
    "              ), timeStampDiffs as (\n",
    "              \n",
    "                SELECT to_address, TIMESTAMP_DIFF(MAX(block_timestamp), MIN( block_timestamp ), second ) as timestampDiff\n",
    "                FROM masterarbeit-245718.ethereum_us.{view_id_traces}\n",
    "                where to_address is not null \n",
    "                  and status = 1 \n",
    "                  and (call_type not in ('delegatecall', 'callcode', 'staticcall') or call_type is null)\n",
    "                group by to_address\n",
    "              \n",
    "              ) \n",
    "              \n",
    "              select to_address as address, \n",
    "                  CASE \n",
    "                    when (numberOfTranscationsReceived - 1)  > 0 then timestampDiff / (numberOfTranscationsReceived - 1) \n",
    "                    else 0\n",
    "                  end as avgTimeDiffBetweenReceivedTransactions\n",
    "              from receivedTx inner join  timeStampDiffs using(to_address)\n",
    "            )\n",
    "            \n",
    "            select address, ifnull(avgTimeDiffBetweenReceivedTransactions,0) as avg_time_diff_received_tx from timeRecView right join masterarbeit-245718.ethereum_us.{view_id_addresses} using(address)         \n",
    "            \n",
    "            \"\"\".format(view_id_traces=view_ids[\"traces\"], view_id_addresses=view_ids[\"addresses\"])\n",
    "\n",
    "view_ids[current_view_name] = \"{}_{}_{}_{}_{}_view\".format(current_view_name, address_selection, approximate_number_of_addresses, observation_period[0].replace(\"-\",\"_\"),observation_period[1].replace(\"-\",\"_\"))\n",
    "view_ref = client.dataset(dataset_id).table(view_ids[current_view_name])\n",
    "view = bigquery.Table(view_ref)\n",
    "view.view_query = sql_query\n",
    "view = client.create_table(view)  # API request\n",
    "print(\"Successfully created view: '{}'\".format(view_ids[current_view_name]))"
   ]
  },
  {
   "cell_type": "markdown",
   "metadata": {},
   "source": [
    "Create view \"avg_time_diff_sent_tx\""
   ]
  },
  {
   "cell_type": "code",
   "execution_count": 133,
   "metadata": {},
   "outputs": [
    {
     "name": "stdout",
     "output_type": "stream",
     "text": [
      "Successfully created view: 'avg_time_diff_sent_tx_random_5000_2020_02_15_2020_02_15_view'\n"
     ]
    }
   ],
   "source": [
    "view_names.append(\"avg_time_diff_sent_tx\")\n",
    "current_view_name = view_names[-1]\n",
    "sql_query = \"\"\"\n",
    "            with timeSentView as (\n",
    "\n",
    "              with sentTx as (\n",
    "              \n",
    "                SELECT from_address, count(*) as numberOfTranscationsSent \n",
    "                FROM masterarbeit-245718.ethereum_us.{view_id_traces}\n",
    "                where to_address is not null \n",
    "                    and status = 1 \n",
    "                    and (call_type not in ('delegatecall', 'callcode', 'staticcall') or call_type is null)\n",
    "                group by from_address\n",
    "                \n",
    "              ), timeStampDiffs as (\n",
    "              \n",
    "                SELECT from_address, TIMESTAMP_DIFF(MAX(block_timestamp), MIN( block_timestamp ), second ) as timestampDiff\n",
    "                FROM masterarbeit-245718.ethereum_us.{view_id_traces}\n",
    "                where to_address is not null \n",
    "                  and status = 1 \n",
    "                  and (call_type not in ('delegatecall', 'callcode', 'staticcall') or call_type is null)\n",
    "                group by from_address\n",
    "                \n",
    "            ) \n",
    "              \n",
    "            select from_address as address, \n",
    "                CASE \n",
    "                    when (numberOfTranscationsSent - 1)  > 0 then \n",
    "                        timestampDiff / (numberOfTranscationsSent - 1) \n",
    "                    else \n",
    "                        0\n",
    "                end as avgTimeDiffBetweenSentTransactions\n",
    "            from sentTx inner join  timeStampDiffs using(from_address)\n",
    "            )\n",
    "            \n",
    "            select address, ifnull(avgTimeDiffBetweenSentTransactions,0) as avg_time_diff_sent_tx from timeSentView right join masterarbeit-245718.ethereum_us.{view_id_addresses} using(address)        \n",
    "            \n",
    "            \"\"\".format(view_id_traces=view_ids[\"traces\"], view_id_addresses=view_ids[\"addresses\"])\n",
    "\n",
    "view_ids[current_view_name] = \"{}_{}_{}_{}_{}_view\".format(current_view_name, address_selection, approximate_number_of_addresses, observation_period[0].replace(\"-\",\"_\"),observation_period[1].replace(\"-\",\"_\"))\n",
    "view_ref = client.dataset(dataset_id).table(view_ids[current_view_name])\n",
    "view = bigquery.Table(view_ref)\n",
    "view.view_query = sql_query\n",
    "view = client.create_table(view)  # API request\n",
    "print(\"Successfully created view: '{}'\".format(view_ids[current_view_name]))"
   ]
  },
  {
   "cell_type": "markdown",
   "metadata": {},
   "source": [
    "Create view \"mined_blocks\""
   ]
  },
  {
   "cell_type": "code",
   "execution_count": 134,
   "metadata": {},
   "outputs": [
    {
     "name": "stdout",
     "output_type": "stream",
     "text": [
      "Successfully created view: 'mined_blocks_random_5000_2020_02_15_2020_02_15_view'\n"
     ]
    }
   ],
   "source": [
    "view_names.append(\"mined_blocks\")\n",
    "current_view_name = view_names[-1]\n",
    "sql_query = \"\"\"\n",
    "            with minedBlocksView as (\n",
    "                SELECT to_address as address, count(*) as mined_blocks \n",
    "                FROM masterarbeit-245718.ethereum_us.{view_id_traces}\n",
    "                where trace_type = \"reward\"\n",
    "                group by to_address\n",
    "            )\n",
    "            \n",
    "            select address, ifnull(mined_blocks,0) as minedBlocks from minedBlocksView right join  masterarbeit-245718.ethereum_us.{view_id_addresses} using(address)\n",
    "\n",
    "            \"\"\".format(view_id_traces=view_ids[\"traces\"], view_id_addresses=view_ids[\"addresses\"])\n",
    "\n",
    "view_ids[current_view_name] = \"{}_{}_{}_{}_{}_view\".format(current_view_name, address_selection, approximate_number_of_addresses, observation_period[0].replace(\"-\",\"_\"),observation_period[1].replace(\"-\",\"_\"))\n",
    "view_ref = client.dataset(dataset_id).table(view_ids[current_view_name])\n",
    "view = bigquery.Table(view_ref)\n",
    "view.view_query = sql_query\n",
    "view = client.create_table(view)  # API request\n",
    "print(\"Successfully created view: '{}'\".format(view_ids[current_view_name]))"
   ]
  },
  {
   "cell_type": "markdown",
   "metadata": {},
   "source": [
    "Create view \"stddev_received_tx\""
   ]
  },
  {
   "cell_type": "code",
   "execution_count": 135,
   "metadata": {},
   "outputs": [
    {
     "name": "stdout",
     "output_type": "stream",
     "text": [
      "Successfully created view: 'stddev_received_tx_random_5000_2020_02_15_2020_02_15_view'\n"
     ]
    }
   ],
   "source": [
    "view_names.append(\"stddev_received_tx\")\n",
    "current_view_name = view_names[-1]\n",
    "sql_query = \"\"\"\n",
    "            with timestamp_var as (\n",
    "                \n",
    "                with timestamps_diffs as (\n",
    "                    \n",
    "                    with timestamps_preceding_tx as (\n",
    "                        \n",
    "                        with timestamps_received_tx as (\n",
    "                        \n",
    "                            select to_address, block_timestamp \n",
    "                            from masterarbeit-245718.ethereum_us.{view_id_traces}\n",
    "                            where to_address is not null \n",
    "                                and status = 1 \n",
    "                                and (call_type not in ('delegatecall', 'callcode', 'staticcall') or call_type is null)\n",
    "                        )\n",
    "                        \n",
    "                        select to_address, block_timestamp,\n",
    "                            lag(block_timestamp) OVER (partition by to_address order by block_timestamp asc) as preceding_block_timestamp \n",
    "                        from timestamps_received_tx\n",
    "                    )\n",
    "                    \n",
    "                    select to_address, block_timestamp, preceding_block_timestamp, \n",
    "                        TIMESTAMP_DIFF(block_timestamp, preceding_block_timestamp, second) as timestampdiff\n",
    "                    from timestamps_preceding_tx\n",
    "                )\n",
    "                \n",
    "                select to_address as address, STDDEV_SAMP(timestampdiff) as stddev_sample  \n",
    "                from timestamps_diffs group by to_address \n",
    "            ) \n",
    "            \n",
    "            select * from timestamp_var right join masterarbeit-245718.ethereum_us.{view_id_addresses} using(address)\n",
    "            \n",
    "            \"\"\".format(view_id_traces=view_ids[\"traces\"], view_id_addresses=view_ids[\"addresses\"])\n",
    "\n",
    "view_ids[current_view_name] = \"{}_{}_{}_{}_{}_view\".format(current_view_name, address_selection, approximate_number_of_addresses, observation_period[0].replace(\"-\",\"_\"),observation_period[1].replace(\"-\",\"_\"))\n",
    "view_ref = client.dataset(dataset_id).table(view_ids[current_view_name])\n",
    "view = bigquery.Table(view_ref)\n",
    "view.view_query = sql_query\n",
    "view = client.create_table(view)  # API request\n",
    "print(\"Successfully created view: '{}'\".format(view_ids[current_view_name]))"
   ]
  },
  {
   "cell_type": "markdown",
   "metadata": {},
   "source": [
    "Create view \"stddev_sent_tx\""
   ]
  },
  {
   "cell_type": "code",
   "execution_count": 136,
   "metadata": {},
   "outputs": [
    {
     "name": "stdout",
     "output_type": "stream",
     "text": [
      "Successfully created view: 'stddev_sent_tx_random_5000_2020_02_15_2020_02_15_view'\n"
     ]
    }
   ],
   "source": [
    "view_names.append(\"stddev_sent_tx\")\n",
    "current_view_name = view_names[-1]\n",
    "sql_query = \"\"\"\n",
    "            with timestamp_var as (\n",
    "            \n",
    "                with timestamps_diffs as (\n",
    "                    \n",
    "                    with timestamps_preceding_tx as (\n",
    "                        \n",
    "                        with timestamps_sent_tx as (\n",
    "                        \n",
    "                            select from_address, block_timestamp \n",
    "                            from masterarbeit-245718.ethereum_us.{view_id_traces}\n",
    "                            where from_address is not null \n",
    "                                and status = 1 \n",
    "                                and (call_type not in ('delegatecall', 'callcode', 'staticcall') or call_type is null)\n",
    "                        )\n",
    "                        \n",
    "                        select from_address, block_timestamp,\n",
    "                            lag(block_timestamp) OVER (partition by from_address order by block_timestamp asc) as preceding_block_timestamp \n",
    "                        from timestamps_sent_tx\n",
    "                    )\n",
    "                    \n",
    "                    select from_address, block_timestamp, preceding_block_timestamp, \n",
    "                        TIMESTAMP_DIFF(block_timestamp, preceding_block_timestamp, second) as timestampdiff\n",
    "                    from timestamps_preceding_tx\n",
    "                )\n",
    "                \n",
    "                select from_address as address, STDDEV_SAMP(timestampdiff) as stddev_sample  \n",
    "                from timestamps_diffs group by from_address \n",
    "            ) \n",
    "            \n",
    "            select * from timestamp_var right join masterarbeit-245718.ethereum_us.{view_id_addresses} using(address)\n",
    "            \n",
    "            \"\"\".format(view_id_traces=view_ids[\"traces\"], view_id_addresses=view_ids[\"addresses\"])\n",
    "\n",
    "view_ids[current_view_name] = \"{}_{}_{}_{}_{}_view\".format(current_view_name, address_selection, approximate_number_of_addresses, observation_period[0].replace(\"-\",\"_\"),observation_period[1].replace(\"-\",\"_\"))\n",
    "view_ref = client.dataset(dataset_id).table(view_ids[current_view_name])\n",
    "view = bigquery.Table(view_ref)\n",
    "view.view_query = sql_query\n",
    "view = client.create_table(view)  # API request\n",
    "print(\"Successfully created view: '{}'\".format(view_ids[current_view_name]))"
   ]
  },
  {
   "cell_type": "markdown",
   "metadata": {},
   "source": [
    "Create table \"traces_usd\""
   ]
  },
  {
   "cell_type": "code",
   "execution_count": 137,
   "metadata": {},
   "outputs": [
    {
     "name": "stderr",
     "output_type": "stream",
     "text": [
      "1it [00:04,  4.71s/it]\n"
     ]
    }
   ],
   "source": [
    "from urllib.request import urlopen, Request\n",
    "import csv \n",
    "\n",
    "headers = {\"User-Agent\": \"Mozilla/5.0 (Windows NT 6.1) AppleWebKit/537.36 (KHTML, like Gecko) Chrome/41.0.2228.0 Safari/537.3\"}\n",
    "url = 'https://etherscan.io/chart/etherprice?output=csv'\n",
    "req = Request(url=reg_url, headers=headers) \n",
    "html = urlopen(req).read().decode('utf-8')\n",
    "\n",
    "with open('../data/test.csv', 'w') as file:\n",
    "        file.write(html)\n",
    "        \n",
    "eth_usd_res = pd.read_csv('../data/test.csv')  \n",
    "eth_usd = eth_usd_res.copy()\n",
    "eth_usd[\"Date(UTC)\"] = [datetime.strptime(ts, \"%m/%d/%Y\") for ts in eth_usd_res[\"Date(UTC)\"]]\n",
    "eth_usd = eth_usd.drop(columns=[\"UnixTimeStamp\"])\n",
    "eth_usd.columns = [\"usd_eth_timestamp\", \"usd_eth\"]\n",
    "eth_usd[\"usd_eth\"] = pd.to_numeric(eth_usd[\"usd_eth\"])\n",
    "eth_usd.to_gbq('ethereum_us.usd_eth_table', if_exists=\"replace\")"
   ]
  },
  {
   "cell_type": "code",
   "execution_count": 138,
   "metadata": {},
   "outputs": [
    {
     "name": "stdout",
     "output_type": "stream",
     "text": [
      "Successfully created view: 'traces_usd_random_5000_2020_02_15_2020_02_15_view'\n"
     ]
    }
   ],
   "source": [
    "view_names.append(\"traces_usd\")\n",
    "current_view_name = view_names[-1]\n",
    "sql_query = \"\"\"\n",
    "             select from_address, to_address, value, status, call_type, trace_type, block_timestamp, usd_eth * value as value_usd \n",
    "             from `masterarbeit-245718.ethereum_us.{view_id_traces}` as traces_view\n",
    "             left join `masterarbeit-245718.ethereum_us.usd_eth_table` as usd_eth_table \n",
    "                on (TIMESTAMP_TRUNC(usd_eth_table.usd_eth_timestamp, DAY, 'UTC') = TIMESTAMP_TRUNC(traces_view.block_timestamp, DAY, 'UTC'))\n",
    "            \"\"\".format(view_id_traces=view_ids[\"traces\"])\n",
    "\n",
    "view_ids[current_view_name] = \"{}_{}_{}_{}_{}_view\".format(current_view_name, address_selection, approximate_number_of_addresses, observation_period[0].replace(\"-\",\"_\"),observation_period[1].replace(\"-\",\"_\"))\n",
    "view_ref = client.dataset(dataset_id).table(view_ids[current_view_name])\n",
    "view = bigquery.Table(view_ref)\n",
    "view.view_query = sql_query\n",
    "view = client.create_table(view)  # API request\n",
    "print(\"Successfully created view: '{}'\".format(view_ids[current_view_name]))"
   ]
  },
  {
   "cell_type": "markdown",
   "metadata": {},
   "source": [
    "## Merge Views"
   ]
  },
  {
   "cell_type": "code",
   "execution_count": null,
   "metadata": {},
   "outputs": [],
   "source": []
  },
  {
   "cell_type": "markdown",
   "metadata": {},
   "source": [
    "## Estimate Costs"
   ]
  },
  {
   "cell_type": "code",
   "execution_count": null,
   "metadata": {},
   "outputs": [],
   "source": []
  },
  {
   "cell_type": "markdown",
   "metadata": {},
   "source": [
    "## Execute Query (WARNING: this operation costs money!)"
   ]
  },
  {
   "cell_type": "code",
   "execution_count": null,
   "metadata": {},
   "outputs": [],
   "source": []
  },
  {
   "cell_type": "code",
   "execution_count": null,
   "metadata": {},
   "outputs": [],
   "source": []
  },
  {
   "cell_type": "code",
   "execution_count": null,
   "metadata": {},
   "outputs": [],
   "source": []
  }
 ],
 "metadata": {
  "kernelspec": {
   "display_name": "Python 3",
   "language": "python",
   "name": "python3"
  },
  "language_info": {
   "codemirror_mode": {
    "name": "ipython",
    "version": 3
   },
   "file_extension": ".py",
   "mimetype": "text/x-python",
   "name": "python",
   "nbconvert_exporter": "python",
   "pygments_lexer": "ipython3",
   "version": "3.6.9"
  }
 },
 "nbformat": 4,
 "nbformat_minor": 2
}

{
 "cells": [
  {
   "cell_type": "markdown",
   "metadata": {},
   "source": [
    "# Creating the feature table in BigQuery"
   ]
  },
  {
   "cell_type": "markdown",
   "metadata": {},
   "source": [
    "## Configuration"
   ]
  },
  {
   "cell_type": "code",
   "execution_count": 194,
   "metadata": {},
   "outputs": [],
   "source": [
    "from enum import Enum"
   ]
  },
  {
   "cell_type": "code",
   "execution_count": 195,
   "metadata": {
    "tags": [
     "parameters"
    ]
   },
   "outputs": [],
   "source": [
    "number_of_addresses = 100\n",
    "\n",
    "# format: dd.mm.yyyy\n",
    "observation_period_start = \"2020-02-01\"\n",
    "observation_period_end = \"2020-02-01\"\n",
    "\n",
    "class ADDRESS_SELECTION(Enum):\n",
    "    RANDOM = 1 # selects random addresses, that have been active within the observation period.\n",
    "    RICHEST = 2 # selects the accounts that have the most ether # not yet implemented\n",
    "    HIGHEST_TURNOVER = 3 # selects the accounts that have the most ether received + sent\n",
    "\n",
    "address_selection = ADDRESS_SELECTION.RICHEST.value\n",
    "\n",
    "# max USD amount to spent for executing sql queries\n",
    "max_bigquery_costs_usd = 2\n",
    "\n",
    "# Delete old tables\n",
    "reset = True"
   ]
  },
  {
   "cell_type": "markdown",
   "metadata": {},
   "source": [
    "## Creating Views"
   ]
  },
  {
   "cell_type": "markdown",
   "metadata": {},
   "source": [
    "Setup"
   ]
  },
  {
   "cell_type": "code",
   "execution_count": 196,
   "metadata": {},
   "outputs": [],
   "source": [
    "from google.cloud import bigquery\n",
    "import simplejson as json\n",
    "import os\n",
    "from datetime import datetime\n",
    "import pandas as pd\n",
    "\n",
    "observation_period = (observation_period_start, observation_period_end) \n",
    "os.environ[\"GOOGLE_APPLICATION_CREDENTIALS\"] = \"../secrets/bigquery-service-account.json\"\n",
    "client = bigquery.Client()\n",
    "dataset_id = \"ethereum_us\"\n",
    "table_names = []\n",
    "table_ids = {}"
   ]
  },
  {
   "cell_type": "markdown",
   "metadata": {},
   "source": [
    "Deleting all tables"
   ]
  },
  {
   "cell_type": "code",
   "execution_count": 197,
   "metadata": {},
   "outputs": [],
   "source": [
    "table_ids_to_be_deleted = [t.table_id for t in client.list_tables(dataset_id)]\n",
    "\n",
    "for table_id in table_ids_to_be_deleted:\n",
    "    if reset == True or \"view\" in t.table_id or \"tmp\" in t.table_id:\n",
    "        client.delete_table(\"{}.{}\".format(dataset_id, table_id), not_found_ok=True)  "
   ]
  },
  {
   "cell_type": "markdown",
   "metadata": {},
   "source": [
    "Create view \"traces\""
   ]
  },
  {
   "cell_type": "code",
   "execution_count": 198,
   "metadata": {},
   "outputs": [
    {
     "name": "stdout",
     "output_type": "stream",
     "text": [
      "Successfully created view: 'traces_RICHEST_100_2020_02_01_2020_02_01_view'\n"
     ]
    }
   ],
   "source": [
    "table_names.append(\"traces\")\n",
    "current_view_name = table_names[-1]\n",
    "sql = \"\"\"\n",
    "      select * from `bigquery-public-data.crypto_ethereum.traces`\n",
    "        where status = 1\n",
    "            and DATE(block_timestamp) >= '{start}' \n",
    "            and DATE(block_timestamp) <= '{end}'\n",
    "      \"\"\".format(start=observation_period[0], end=observation_period[1]); \n",
    "\n",
    "table_ids[current_view_name] = \"{}_{}_{}_{}_{}_view\".format(current_view_name, ADDRESS_SELECTION(address_selection).name, number_of_addresses, observation_period[0].replace(\"-\",\"_\"),observation_period[1].replace(\"-\",\"_\"))\n",
    "view_ref = client.dataset(dataset_id).table(table_ids[current_view_name])\n",
    "view = bigquery.Table(view_ref)\n",
    "view.view_query = sql\n",
    "view = client.create_table(view)  # API request\n",
    "print(\"Successfully created view: '{}'\".format(table_ids[current_view_name]))"
   ]
  },
  {
   "cell_type": "markdown",
   "metadata": {},
   "source": [
    "Create view \"transactions\""
   ]
  },
  {
   "cell_type": "code",
   "execution_count": 199,
   "metadata": {},
   "outputs": [
    {
     "name": "stdout",
     "output_type": "stream",
     "text": [
      "Successfully created view: 'transactions_RICHEST_100_2020_02_01_2020_02_01_view'\n"
     ]
    }
   ],
   "source": [
    "table_names.append(\"transactions\")\n",
    "current_view_name = table_names[-1]\n",
    "sql = \"\"\"\n",
    "      select * from `bigquery-public-data.crypto_ethereum.transactions`\n",
    "        where receipt_status = 1\n",
    "            and DATE(block_timestamp) >= '{start}' \n",
    "            and DATE(block_timestamp) <= '{end}'\n",
    "      \"\"\".format(start=observation_period[0], end=observation_period[1]); \n",
    "\n",
    "table_ids[current_view_name] = \"{}_{}_{}_{}_{}_view\".format(current_view_name, ADDRESS_SELECTION(address_selection).name, number_of_addresses, observation_period[0].replace(\"-\",\"_\"),observation_period[1].replace(\"-\",\"_\"))\n",
    "view_ref = client.dataset(dataset_id).table(table_ids[current_view_name])\n",
    "view = bigquery.Table(view_ref)\n",
    "view.view_query = sql\n",
    "view = client.create_table(view)  # API request\n",
    "print(\"Successfully created view: '{}'\".format(table_ids[current_view_name]))"
   ]
  },
  {
   "cell_type": "markdown",
   "metadata": {},
   "source": [
    "Create view \"blocks\""
   ]
  },
  {
   "cell_type": "code",
   "execution_count": 200,
   "metadata": {},
   "outputs": [
    {
     "name": "stdout",
     "output_type": "stream",
     "text": [
      "Successfully created view: 'blocks_RICHEST_100_2020_02_01_2020_02_01_view'\n"
     ]
    }
   ],
   "source": [
    "table_names.append(\"blocks\")\n",
    "current_view_name = table_names[-1]\n",
    "sql = \"\"\"\n",
    "      select * from `bigquery-public-data.crypto_ethereum.blocks`\n",
    "        where \n",
    "            DATE(timestamp) >= '{start}' \n",
    "            and DATE(timestamp) <= '{end}'\n",
    "      \"\"\".format(start=observation_period[0], end=observation_period[1]); \n",
    "\n",
    "table_ids[current_view_name] = \"{}_{}_{}_{}_{}_view\".format(current_view_name, ADDRESS_SELECTION(address_selection).name, number_of_addresses, observation_period[0].replace(\"-\",\"_\"),observation_period[1].replace(\"-\",\"_\"))\n",
    "view_ref = client.dataset(dataset_id).table(table_ids[current_view_name])\n",
    "view = bigquery.Table(view_ref)\n",
    "view.view_query = sql\n",
    "view = client.create_table(view)  # API request\n",
    "print(\"Successfully created view: '{}'\".format(table_ids[current_view_name]))"
   ]
  },
  {
   "cell_type": "markdown",
   "metadata": {},
   "source": [
    "Create table \"addresses\" **(WARNING: this operation costs money!)**"
   ]
  },
  {
   "cell_type": "code",
   "execution_count": 201,
   "metadata": {
    "scrolled": true
   },
   "outputs": [
    {
     "name": "stdout",
     "output_type": "stream",
     "text": [
      "256 Megabytes will be processed\n",
      "It will cost $0.00128230845.\n"
     ]
    }
   ],
   "source": [
    "table_names.append(\"addresses\")\n",
    "current_table_name = table_names[-1]\n",
    "table_ids[current_table_name] = \"{}_{}_{}_{}_{}_tmp\".format(current_table_name, ADDRESS_SELECTION(address_selection).name, number_of_addresses, observation_period[0].replace(\"-\",\"_\"),observation_period[1].replace(\"-\",\"_\"))\n",
    "\n",
    "job_config = bigquery.QueryJobConfig(destination=\"masterarbeit-245718.ethereum_us.{table_id}\".format(table_id = table_ids[\"addresses\"]))\n",
    "job_config.dry_run = True\n",
    "job_config.use_query_cache = False\n",
    "\n",
    "if address_selection == ADDRESS_SELECTION.RANDOM.value:\n",
    "    sql = \"\"\"\n",
    "                with addresses_traces as (\n",
    "                    select from_address as address from masterarbeit-245718.ethereum_us.{table_id_traces}\n",
    "                    UNION ALL\n",
    "                    select to_address as address from masterarbeit-245718.ethereum_us.{table_id_traces}\n",
    "                ), distinct_addresses as (\n",
    "                    select distinct address from addresses_traces \n",
    "                )\n",
    "                select address from distinct_addresses order by rand()\n",
    "                LIMIT {number_of_addresses}\n",
    "                \"\"\".format(table_id_traces=table_ids[\"traces\"], number_of_addresses=number_of_addresses)\n",
    "elif address_selection == ADDRESS_SELECTION.HIGHEST_TURNOVER.value:\n",
    "    sql = \"\"\"\n",
    "                with double_entry_book as (\n",
    "                    -- received wei\n",
    "                    select to_address as address, value\n",
    "                    from masterarbeit-245718.ethereum_us.{table_id_traces}\n",
    "                    where to_address is not null\n",
    "                    and status = 1\n",
    "                    and (call_type not in ('delegatecall', 'callcode', 'staticcall') or call_type is null)\n",
    "                    union all\n",
    "                    -- sent wei\n",
    "                    select from_address as address, value\n",
    "                    from masterarbeit-245718.ethereum_us.{table_id_traces}\n",
    "                    where from_address is not null\n",
    "                    and status = 1\n",
    "                    and (call_type not in ('delegatecall', 'callcode', 'staticcall') or call_type is null)\n",
    "                )\n",
    "                select address, sum(value) as turnover\n",
    "                from double_entry_book\n",
    "                group by address\n",
    "                order by turnover desc\n",
    "                limit {number_of_addresses}\n",
    "                \"\"\".format(table_id_traces=table_ids[\"traces\"], number_of_addresses=number_of_addresses)\n",
    "elif address_selection == ADDRESS_SELECTION.RICHEST.value:\n",
    "    sql = \"\"\"\n",
    "            with double_entry_book as (\n",
    "                -- debits\n",
    "                select to_address as address, value as value\n",
    "                from masterarbeit-245718.ethereum_us.{table_id_traces}\n",
    "                where to_address is not null\n",
    "                and status = 1\n",
    "                and (call_type not in ('delegatecall', 'callcode', 'staticcall') or call_type is null)\n",
    "                union all\n",
    "                -- credits\n",
    "                select from_address as address, -value as value\n",
    "                from masterarbeit-245718.ethereum_us.{table_id_traces}\n",
    "                where from_address is not null\n",
    "                and status = 1\n",
    "                and (call_type not in ('delegatecall', 'callcode', 'staticcall') or call_type is null)\n",
    "                union all\n",
    "                -- transaction fees debits\n",
    "                select miner as address, sum(cast(receipt_gas_used as numeric) * cast(gas_price as numeric)) as value\n",
    "                from masterarbeit-245718.ethereum_us.{table_id_transactions} as transactions\n",
    "                join masterarbeit-245718.ethereum_us.{table_id_blocks} as blocks on blocks.number = transactions.block_number\n",
    "                group by blocks.miner\n",
    "                union all\n",
    "                -- transaction fees credits\n",
    "                select from_address as address, -(cast(receipt_gas_used as numeric) * cast(gas_price as numeric)) as value\n",
    "                from masterarbeit-245718.ethereum_us.{table_id_transactions}\n",
    "            )\n",
    "            select address, sum(value) as balance\n",
    "            from double_entry_book\n",
    "            group by address\n",
    "            order by balance desc\n",
    "            limit 40000\n",
    "                \"\"\".format(table_id_traces=table_ids[\"traces\"], number_of_addresses=number_of_addresses,\n",
    "                          table_id_transactions=table_ids[\"transactions\"],table_id_blocks=table_ids[\"blocks\"])\n",
    "    \n",
    "query_job = client.query(sql, job_config=job_config)\n",
    "\n",
    "cost_dollars = (query_job.total_bytes_processed / 10 ** 12) * 5\n",
    "\n",
    "print(\"{} Megabytes will be processed\".format(round(query_job.total_bytes_processed / 10 ** 6)))\n",
    "print(\"It will cost ${}.\".format(cost_dollars))"
   ]
  },
  {
   "cell_type": "code",
   "execution_count": 202,
   "metadata": {},
   "outputs": [
    {
     "name": "stdout",
     "output_type": "stream",
     "text": [
      "Successfully created table: 'addresses_RICHEST_100_2020_02_01_2020_02_01_tmp'\n"
     ]
    }
   ],
   "source": [
    "job_config.dry_run = False\n",
    "\n",
    "# Start the query, passing in the extra configuration.\n",
    "if (cost_dollars > max_bigquery_costs_usd):\n",
    "    raise Exception(\"Warning: This operation costs $ {}.\".format(cost_dollars))\n",
    "\n",
    "query_job = client.query(sql, job_config=job_config)  # Make an API request.\n",
    "result = query_job.result()\n",
    "\n",
    "max_bigquery_costs_usd -= cost_dollars\n",
    "print(\"Successfully created table: '{}'\".format(table_ids[\"addresses\"]))"
   ]
  },
  {
   "cell_type": "markdown",
   "metadata": {},
   "source": [
    "Create view \"wei\""
   ]
  },
  {
   "cell_type": "code",
   "execution_count": 203,
   "metadata": {},
   "outputs": [
    {
     "name": "stdout",
     "output_type": "stream",
     "text": [
      "Successfully created view: 'wei_RICHEST_100_2020_02_01_2020_02_01_view'\n"
     ]
    }
   ],
   "source": [
    "table_names.append(\"wei\")\n",
    "current_view_name = table_names[-1]\n",
    "sql = \"\"\"\n",
    "            with weiView as (\n",
    "\n",
    "              with wei_receivedView as (\n",
    "                    \n",
    "                  -- debits\n",
    "                  select to_address, sum(ifnull(value, 0)) as wei_received\n",
    "                  from masterarbeit-245718.ethereum_us.{table_id_traces}\n",
    "                  where to_address is not null\n",
    "                  and status = 1\n",
    "                  and (call_type not in ('delegatecall', 'callcode', 'staticcall') or call_type is null) \n",
    "                  group by to_address\n",
    "                    \n",
    "              ), wei_sentView as (\n",
    "              \n",
    "                  -- credits\n",
    "                  select from_address, sum(ifnull(value, 0)) as wei_sent\n",
    "                  from  masterarbeit-245718.ethereum_us.{table_id_traces} \n",
    "                  where from_address is not null\n",
    "                  and status = 1\n",
    "                  and (call_type not in ('delegatecall', 'callcode', 'staticcall') or call_type is null) \n",
    "                  group by from_address\n",
    "              ) \n",
    "              select \n",
    "                  CASE \n",
    "                    when to_address is not null then to_address\n",
    "                    when from_address is not null then from_address\n",
    "                  end as address, \n",
    "                  ifnull(wei_received,0) as wei_received, \n",
    "                  ifnull(wei_sent,0) as wei_sent\n",
    "              from wei_receivedView full outer join wei_sentView on from_address = to_address\n",
    "            ) \n",
    "            select address, wei_received, wei_sent from weiView right join masterarbeit-245718.ethereum_us.{table_id_addresses} using(address)\n",
    "            \"\"\".format(table_id_traces=table_ids[\"traces\"], table_id_addresses=table_ids[\"addresses\"])\n",
    "\n",
    "table_ids[current_view_name] = \"{}_{}_{}_{}_{}_view\".format(current_view_name, ADDRESS_SELECTION(address_selection).name, number_of_addresses, observation_period[0].replace(\"-\",\"_\"),observation_period[1].replace(\"-\",\"_\"))\n",
    "view_ref = client.dataset(dataset_id).table(table_ids[current_view_name])\n",
    "view = bigquery.Table(view_ref)\n",
    "view.view_query = sql\n",
    "view = client.create_table(view)  # API request\n",
    "print(\"Successfully created view: '{}'\".format(table_ids[current_view_name]))"
   ]
  },
  {
   "cell_type": "markdown",
   "metadata": {},
   "source": [
    "Create view \"tx\""
   ]
  },
  {
   "cell_type": "code",
   "execution_count": 204,
   "metadata": {},
   "outputs": [
    {
     "name": "stdout",
     "output_type": "stream",
     "text": [
      "Successfully created view: 'tx_RICHEST_100_2020_02_01_2020_02_01_view'\n"
     ]
    }
   ],
   "source": [
    "table_names.append(\"tx\")\n",
    "current_view_name = table_names[-1]\n",
    "sql = \"\"\"\n",
    "            with txView as (\n",
    "\n",
    "              with txSent as (\n",
    "              \n",
    "                  SELECT from_address, count(*) as number_of_tx_sent FROM masterarbeit-245718.ethereum_us.{table_id_traces}\n",
    "                  where to_address is not null and status = 1 and (call_type not in ('delegatecall', 'callcode', 'staticcall') or call_type is null) \n",
    "                  group by from_address\n",
    "                  \n",
    "                ), txReceived as (\n",
    "                \n",
    "                  SELECT to_address, count(*) as number_of_tx_received FROM masterarbeit-245718.ethereum_us.{table_id_traces}\n",
    "                  where to_address is not null and status = 1 and (call_type not in ('delegatecall', 'callcode', 'staticcall') or call_type is null) \n",
    "                  group by to_address\n",
    "                ) \n",
    "                \n",
    "                SELECT \n",
    "                    CASE  \n",
    "                      WHEN to_address IS NOT NULL THEN to_address\n",
    "                      WHEN from_address IS NOT NULL THEN from_address\n",
    "                    END AS address,\n",
    "                    IFNULL(number_of_tx_received, 0) as number_of_tx_received, \n",
    "                    IFNULL(number_of_tx_sent, 0) as number_of_tx_sent\n",
    "                from txReceived FULL OUTER JOIN txSent on to_address = from_address\n",
    "            ) \n",
    "            \n",
    "            select address, number_of_tx_received, number_of_tx_sent from txView right join masterarbeit-245718.ethereum_us.{table_id_addresses} using(address)\n",
    "            \n",
    "            \"\"\".format(table_id_traces=table_ids[\"traces\"], table_id_addresses=table_ids[\"addresses\"])\n",
    "\n",
    "table_ids[current_view_name] = \"{}_{}_{}_{}_{}_view\".format(current_view_name, ADDRESS_SELECTION(address_selection).name, number_of_addresses, observation_period[0].replace(\"-\",\"_\"),observation_period[1].replace(\"-\",\"_\"))\n",
    "view_ref = client.dataset(dataset_id).table(table_ids[current_view_name])\n",
    "view = bigquery.Table(view_ref)\n",
    "view.view_query = sql\n",
    "view = client.create_table(view)  # API request\n",
    "print(\"Successfully created view: '{}'\".format(table_ids[current_view_name]))"
   ]
  },
  {
   "cell_type": "markdown",
   "metadata": {},
   "source": [
    "Create view \"avg_time_diff_received_tx\""
   ]
  },
  {
   "cell_type": "code",
   "execution_count": 205,
   "metadata": {},
   "outputs": [
    {
     "name": "stdout",
     "output_type": "stream",
     "text": [
      "Successfully created view: 'avg_time_diff_received_tx_RICHEST_100_2020_02_01_2020_02_01_view'\n"
     ]
    }
   ],
   "source": [
    "table_names.append(\"avg_time_diff_received_tx\")\n",
    "current_view_name = table_names[-1]\n",
    "sql = \"\"\"\n",
    "           with timeRecView as (\n",
    "\n",
    "              with receivedTx as (\n",
    "              \n",
    "                SELECT to_address, count(*) as number_of_tx_received \n",
    "                FROM masterarbeit-245718.ethereum_us.{table_id_traces} \n",
    "                where to_address is not null \n",
    "                  and status = 1 \n",
    "                  and (call_type not in ('delegatecall', 'callcode', 'staticcall') or call_type is null)\n",
    "                group by to_address\n",
    "              \n",
    "              ), timeStampDiffs as (\n",
    "              \n",
    "                SELECT to_address, TIMESTAMP_DIFF(MAX(block_timestamp), MIN( block_timestamp ), second ) as timestampDiff\n",
    "                FROM masterarbeit-245718.ethereum_us.{table_id_traces}\n",
    "                where to_address is not null \n",
    "                  and status = 1 \n",
    "                  and (call_type not in ('delegatecall', 'callcode', 'staticcall') or call_type is null)\n",
    "                group by to_address\n",
    "              \n",
    "              ) \n",
    "              \n",
    "              select to_address as address, \n",
    "                  CASE \n",
    "                    when (number_of_tx_received - 1)  > 0 then timestampDiff / (number_of_tx_received - 1) \n",
    "                    else 0\n",
    "                  end as avgTimeDiffBetweenReceivedTransactions\n",
    "              from receivedTx inner join  timeStampDiffs using(to_address)\n",
    "            )\n",
    "            \n",
    "            select address, ifnull(avgTimeDiffBetweenReceivedTransactions,0) as avg_time_diff_received_tx from timeRecView right join masterarbeit-245718.ethereum_us.{table_id_addresses} using(address)         \n",
    "            \n",
    "            \"\"\".format(table_id_traces=table_ids[\"traces\"], table_id_addresses=table_ids[\"addresses\"])\n",
    "\n",
    "table_ids[current_view_name] = \"{}_{}_{}_{}_{}_view\".format(current_view_name, ADDRESS_SELECTION(address_selection).name, number_of_addresses, observation_period[0].replace(\"-\",\"_\"),observation_period[1].replace(\"-\",\"_\"))\n",
    "view_ref = client.dataset(dataset_id).table(table_ids[current_view_name])\n",
    "view = bigquery.Table(view_ref)\n",
    "view.view_query = sql\n",
    "view = client.create_table(view)  # API request\n",
    "print(\"Successfully created view: '{}'\".format(table_ids[current_view_name]))"
   ]
  },
  {
   "cell_type": "markdown",
   "metadata": {},
   "source": [
    "Create view \"avg_time_diff_sent_tx\""
   ]
  },
  {
   "cell_type": "code",
   "execution_count": 206,
   "metadata": {},
   "outputs": [
    {
     "name": "stdout",
     "output_type": "stream",
     "text": [
      "Successfully created view: 'avg_time_diff_sent_tx_RICHEST_100_2020_02_01_2020_02_01_view'\n"
     ]
    }
   ],
   "source": [
    "table_names.append(\"avg_time_diff_sent_tx\")\n",
    "current_view_name = table_names[-1]\n",
    "sql = \"\"\"\n",
    "            with timeSentView as (\n",
    "\n",
    "              with sentTx as (\n",
    "              \n",
    "                SELECT from_address, count(*) as number_of_tx_sent \n",
    "                FROM masterarbeit-245718.ethereum_us.{table_id_traces}\n",
    "                where to_address is not null \n",
    "                    and status = 1 \n",
    "                    and (call_type not in ('delegatecall', 'callcode', 'staticcall') or call_type is null)\n",
    "                group by from_address\n",
    "                \n",
    "              ), timeStampDiffs as (\n",
    "              \n",
    "                SELECT from_address, TIMESTAMP_DIFF(MAX(block_timestamp), MIN( block_timestamp ), second ) as timestampDiff\n",
    "                FROM masterarbeit-245718.ethereum_us.{table_id_traces}\n",
    "                where to_address is not null \n",
    "                  and status = 1 \n",
    "                  and (call_type not in ('delegatecall', 'callcode', 'staticcall') or call_type is null)\n",
    "                group by from_address\n",
    "                \n",
    "            ) \n",
    "              \n",
    "            select from_address as address, \n",
    "                CASE \n",
    "                    when (number_of_tx_sent - 1)  > 0 then \n",
    "                        timestampDiff / (number_of_tx_sent - 1) \n",
    "                    else \n",
    "                        0\n",
    "                end as avgTimeDiffBetweenSentTransactions\n",
    "            from sentTx inner join  timeStampDiffs using(from_address)\n",
    "            )\n",
    "            \n",
    "            select address, ifnull(avgTimeDiffBetweenSentTransactions,0) as avg_time_diff_sent_tx from timeSentView right join masterarbeit-245718.ethereum_us.{table_id_addresses} using(address)        \n",
    "            \n",
    "            \"\"\".format(table_id_traces=table_ids[\"traces\"], table_id_addresses=table_ids[\"addresses\"])\n",
    "\n",
    "table_ids[current_view_name] = \"{}_{}_{}_{}_{}_view\".format(current_view_name, ADDRESS_SELECTION(address_selection).name, number_of_addresses, observation_period[0].replace(\"-\",\"_\"),observation_period[1].replace(\"-\",\"_\"))\n",
    "view_ref = client.dataset(dataset_id).table(table_ids[current_view_name])\n",
    "view = bigquery.Table(view_ref)\n",
    "view.view_query = sql\n",
    "view = client.create_table(view)  # API request\n",
    "print(\"Successfully created view: '{}'\".format(table_ids[current_view_name]))"
   ]
  },
  {
   "cell_type": "markdown",
   "metadata": {},
   "source": [
    "Create view \"mined_blocks\""
   ]
  },
  {
   "cell_type": "code",
   "execution_count": 207,
   "metadata": {},
   "outputs": [
    {
     "name": "stdout",
     "output_type": "stream",
     "text": [
      "Successfully created view: 'mined_blocks_RICHEST_100_2020_02_01_2020_02_01_view'\n"
     ]
    }
   ],
   "source": [
    "table_names.append(\"mined_blocks\")\n",
    "current_view_name = table_names[-1]\n",
    "sql = \"\"\"\n",
    "            with mined_blocksView as (\n",
    "                SELECT to_address as address, count(*) as mined_blocks \n",
    "                FROM masterarbeit-245718.ethereum_us.{table_id_traces}\n",
    "                where trace_type = \"reward\"\n",
    "                group by to_address\n",
    "            )\n",
    "            \n",
    "            select address, ifnull(mined_blocks,0) as mined_blocks from mined_blocksView right join  masterarbeit-245718.ethereum_us.{table_id_addresses} using(address)\n",
    "\n",
    "            \"\"\".format(table_id_traces=table_ids[\"traces\"], table_id_addresses=table_ids[\"addresses\"])\n",
    "\n",
    "table_ids[current_view_name] = \"{}_{}_{}_{}_{}_view\".format(current_view_name, ADDRESS_SELECTION(address_selection).name, number_of_addresses, observation_period[0].replace(\"-\",\"_\"),observation_period[1].replace(\"-\",\"_\"))\n",
    "view_ref = client.dataset(dataset_id).table(table_ids[current_view_name])\n",
    "view = bigquery.Table(view_ref)\n",
    "view.view_query = sql\n",
    "view = client.create_table(view)  # API request\n",
    "print(\"Successfully created view: '{}'\".format(table_ids[current_view_name]))"
   ]
  },
  {
   "cell_type": "markdown",
   "metadata": {},
   "source": [
    "Create view \"stddev_received_tx\""
   ]
  },
  {
   "cell_type": "code",
   "execution_count": 208,
   "metadata": {},
   "outputs": [
    {
     "name": "stdout",
     "output_type": "stream",
     "text": [
      "Successfully created view: 'stddev_received_tx_RICHEST_100_2020_02_01_2020_02_01_view'\n"
     ]
    }
   ],
   "source": [
    "table_names.append(\"stddev_received_tx\")\n",
    "current_view_name = table_names[-1]\n",
    "sql = \"\"\"\n",
    "            with timestamp_var as (\n",
    "                \n",
    "                with timestamps_diffs as (\n",
    "                    \n",
    "                    with timestamps_preceding_tx as (\n",
    "                        \n",
    "                        with timestamps_received_tx as (\n",
    "                        \n",
    "                            select to_address, block_timestamp \n",
    "                            from masterarbeit-245718.ethereum_us.{table_id_traces}\n",
    "                            where to_address is not null \n",
    "                                and status = 1 \n",
    "                                and (call_type not in ('delegatecall', 'callcode', 'staticcall') or call_type is null)\n",
    "                        )\n",
    "                        \n",
    "                        select to_address, block_timestamp,\n",
    "                            lag(block_timestamp) OVER (partition by to_address order by block_timestamp asc) as preceding_block_timestamp \n",
    "                        from timestamps_received_tx\n",
    "                    )\n",
    "                    \n",
    "                    select to_address, block_timestamp, preceding_block_timestamp, \n",
    "                        TIMESTAMP_DIFF(block_timestamp, preceding_block_timestamp, second) as timestampdiff\n",
    "                    from timestamps_preceding_tx\n",
    "                )\n",
    "                \n",
    "                select to_address as address, STDDEV_SAMP(timestampdiff) as stddev_received_tx  \n",
    "                from timestamps_diffs group by to_address \n",
    "            ) \n",
    "            \n",
    "            select address, ifnull(stddev_received_tx, 0) as stddev_received_tx from timestamp_var right join masterarbeit-245718.ethereum_us.{table_id_addresses} using(address)\n",
    "            \n",
    "            \"\"\".format(table_id_traces=table_ids[\"traces\"], table_id_addresses=table_ids[\"addresses\"])\n",
    "\n",
    "table_ids[current_view_name] = \"{}_{}_{}_{}_{}_view\".format(current_view_name, ADDRESS_SELECTION(address_selection).name, number_of_addresses, observation_period[0].replace(\"-\",\"_\"),observation_period[1].replace(\"-\",\"_\"))\n",
    "view_ref = client.dataset(dataset_id).table(table_ids[current_view_name])\n",
    "view = bigquery.Table(view_ref)\n",
    "view.view_query = sql\n",
    "view = client.create_table(view)  # API request\n",
    "print(\"Successfully created view: '{}'\".format(table_ids[current_view_name]))"
   ]
  },
  {
   "cell_type": "markdown",
   "metadata": {},
   "source": [
    "Create view \"stddev_sent_tx\""
   ]
  },
  {
   "cell_type": "code",
   "execution_count": 209,
   "metadata": {
    "scrolled": true
   },
   "outputs": [
    {
     "name": "stdout",
     "output_type": "stream",
     "text": [
      "Successfully created view: 'stddev_sent_tx_RICHEST_100_2020_02_01_2020_02_01_view'\n"
     ]
    }
   ],
   "source": [
    "table_names.append(\"stddev_sent_tx\")\n",
    "current_view_name = table_names[-1]\n",
    "sql = \"\"\"\n",
    "            with timestamp_var as (\n",
    "            \n",
    "                with timestamps_diffs as (\n",
    "                    \n",
    "                    with timestamps_preceding_tx as (\n",
    "                        \n",
    "                        with timestamps_sent_tx as (\n",
    "                        \n",
    "                            select from_address, block_timestamp \n",
    "                            from masterarbeit-245718.ethereum_us.{table_id_traces}\n",
    "                            where from_address is not null \n",
    "                                and status = 1 \n",
    "                                and (call_type not in ('delegatecall', 'callcode', 'staticcall') or call_type is null)\n",
    "                        )\n",
    "                        \n",
    "                        select from_address, block_timestamp,\n",
    "                            lag(block_timestamp) OVER (partition by from_address order by block_timestamp asc) as preceding_block_timestamp \n",
    "                        from timestamps_sent_tx\n",
    "                    )\n",
    "                    \n",
    "                    select from_address, block_timestamp, preceding_block_timestamp, \n",
    "                        TIMESTAMP_DIFF(block_timestamp, preceding_block_timestamp, second) as timestampdiff\n",
    "                    from timestamps_preceding_tx\n",
    "                )\n",
    "                \n",
    "                select from_address as address, STDDEV_SAMP(timestampdiff) as stddev_sent_tx  \n",
    "                from timestamps_diffs group by from_address \n",
    "            ) \n",
    "            \n",
    "            select address, ifnull(stddev_sent_tx,0) as stddev_sent_tx from timestamp_var right join masterarbeit-245718.ethereum_us.{table_id_addresses} using(address)\n",
    "            \n",
    "            \"\"\".format(table_id_traces=table_ids[\"traces\"], table_id_addresses=table_ids[\"addresses\"])\n",
    "\n",
    "table_ids[current_view_name] = \"{}_{}_{}_{}_{}_view\".format(current_view_name, ADDRESS_SELECTION(address_selection).name, number_of_addresses, observation_period[0].replace(\"-\",\"_\"),observation_period[1].replace(\"-\",\"_\"))\n",
    "view_ref = client.dataset(dataset_id).table(table_ids[current_view_name])\n",
    "view = bigquery.Table(view_ref)\n",
    "view.view_query = sql\n",
    "view = client.create_table(view)  # API request\n",
    "print(\"Successfully created view: '{}'\".format(table_ids[current_view_name]))"
   ]
  },
  {
   "cell_type": "markdown",
   "metadata": {},
   "source": [
    "Create view \"active_months\""
   ]
  },
  {
   "cell_type": "code",
   "execution_count": 210,
   "metadata": {},
   "outputs": [
    {
     "name": "stdout",
     "output_type": "stream",
     "text": [
      "Successfully created view: 'active_months_RICHEST_100_2020_02_01_2020_02_01_view'\n"
     ]
    }
   ],
   "source": [
    "table_names.append(\"active_months\")\n",
    "current_view_name = table_names[-1]\n",
    "sql = \"\"\"\n",
    "            with tx_received as (\n",
    "            \n",
    "                select \n",
    "                    TIMESTAMP_TRUNC(block_timestamp, MONTH, 'UTC') as month, \n",
    "                    to_address,\n",
    "                    count(*) as number_tx_received\n",
    "                from `masterarbeit-245718.ethereum_us.{table_id_traces}`\n",
    "                group by TIMESTAMP_TRUNC(block_timestamp, MONTH, 'UTC'), to_address\n",
    "                \n",
    "            ), tx_sent as (\n",
    "            \n",
    "                select \n",
    "                    TIMESTAMP_TRUNC(block_timestamp, MONTH, 'UTC') as month, \n",
    "                    from_address,\n",
    "                    count(*) as number_tx_sent\n",
    "                from `masterarbeit-245718.ethereum_us.{table_id_traces}`\n",
    "                group by TIMESTAMP_TRUNC(block_timestamp, MONTH, 'UTC'), from_address\n",
    "                \n",
    "            ), monthly_tx as (\n",
    "            \n",
    "                select \n",
    "                    CASE  \n",
    "                      WHEN tx_sent.from_address IS NOT NULL THEN tx_sent.from_address\n",
    "                      WHEN tx_received.to_address IS NOT NULL THEN tx_received.to_address\n",
    "                    END AS address,\n",
    "                    CASE  \n",
    "                      WHEN tx_sent.month IS NOT NULL THEN tx_sent.month\n",
    "                      WHEN tx_received.month IS NOT NULL THEN tx_received.month\n",
    "                    END AS month,\n",
    "                    ifnull(number_tx_sent,0) as number_tx_sent, \n",
    "                    ifnull(number_tx_received,0) as number_tx_received \n",
    "                from tx_sent full join tx_received \n",
    "                    on (tx_sent.from_address = tx_received.to_address and tx_sent.month = tx_received.month)\n",
    "            \n",
    "            ), active_months_view as (\n",
    "            \n",
    "                select \n",
    "                    address, \n",
    "                    countif(number_tx_sent > 0 or number_tx_received > 0) as active_months \n",
    "                from monthly_tx group by address order by address ASC \n",
    "            )\n",
    "            \n",
    "            select \n",
    "                address, \n",
    "                ifnull(active_months,0) as active_months \n",
    "            from `masterarbeit-245718.ethereum_us.{table_id_addresses}` left join active_months_view using(address)    \n",
    "            \n",
    "            \"\"\".format(table_id_addresses=table_ids[\"addresses\"],table_id_traces=table_ids[\"traces\"], table_id_tx=table_ids[\"tx\"])\n",
    "\n",
    "table_ids[current_view_name] = \"{}_{}_{}_{}_{}_view\".format(current_view_name, ADDRESS_SELECTION(address_selection).name, number_of_addresses, observation_period[0].replace(\"-\",\"_\"),observation_period[1].replace(\"-\",\"_\"))\n",
    "view_ref = client.dataset(dataset_id).table(table_ids[current_view_name])\n",
    "view = bigquery.Table(view_ref)\n",
    "view.view_query = sql\n",
    "view = client.create_table(view)  # API request\n",
    "print(\"Successfully created view: '{}'\".format(table_ids[current_view_name]))"
   ]
  },
  {
   "cell_type": "markdown",
   "metadata": {},
   "source": [
    "Create table \"traces_usd\""
   ]
  },
  {
   "cell_type": "code",
   "execution_count": 211,
   "metadata": {},
   "outputs": [
    {
     "name": "stderr",
     "output_type": "stream",
     "text": [
      "1it [00:07,  7.58s/it]\n"
     ]
    }
   ],
   "source": [
    "from urllib.request import urlopen, Request\n",
    "import csv \n",
    "\n",
    "headers = {\"User-Agent\": \"Mozilla/5.0 (Windows NT 6.1) AppleWebKit/537.36 (KHTML, like Gecko) Chrome/41.0.2228.0 Safari/537.3\"}\n",
    "url = 'https://etherscan.io/chart/etherprice?output=csv'\n",
    "req = Request(url=url, headers=headers) \n",
    "html = urlopen(req).read().decode('utf-8')\n",
    "\n",
    "with open('../data/test.csv', 'w') as file:\n",
    "        file.write(html)\n",
    "        \n",
    "eth_usd_res = pd.read_csv('../data/test.csv')  \n",
    "eth_usd = eth_usd_res.copy()\n",
    "eth_usd[\"Date(UTC)\"] = [datetime.strptime(ts, \"%m/%d/%Y\") for ts in eth_usd_res[\"Date(UTC)\"]]\n",
    "eth_usd = eth_usd.drop(columns=[\"UnixTimeStamp\"])\n",
    "eth_usd.columns = [\"usd_eth_timestamp\", \"usd_eth\"]\n",
    "eth_usd[\"usd_eth\"] = pd.to_numeric(eth_usd[\"usd_eth\"])\n",
    "eth_usd.to_gbq('ethereum_us.usd_eth_table', if_exists=\"replace\")"
   ]
  },
  {
   "cell_type": "code",
   "execution_count": 212,
   "metadata": {},
   "outputs": [
    {
     "name": "stdout",
     "output_type": "stream",
     "text": [
      "Successfully created view: 'traces_usd_RICHEST_100_2020_02_01_2020_02_01_view'\n"
     ]
    }
   ],
   "source": [
    "table_names.append(\"traces_usd\")\n",
    "current_view_name = table_names[-1]\n",
    "sql = \"\"\"\n",
    "             select \n",
    "                 from_address, \n",
    "                 to_address, \n",
    "                 value, \n",
    "                 status, \n",
    "                 call_type, \n",
    "                 trace_type, \n",
    "                 block_timestamp, \n",
    "                 usd_eth * value as value_usd \n",
    "             from `masterarbeit-245718.ethereum_us.{table_id_traces}` as traces_view\n",
    "             left join `masterarbeit-245718.ethereum_us.usd_eth_table` as usd_eth_table \n",
    "                on (TIMESTAMP_TRUNC(usd_eth_table.usd_eth_timestamp, DAY, 'UTC') = TIMESTAMP_TRUNC(traces_view.block_timestamp, DAY, 'UTC'))\n",
    "            \"\"\".format(table_id_traces=table_ids[\"traces\"])\n",
    "\n",
    "table_ids[current_view_name] = \"{}_{}_{}_{}_{}_view\".format(current_view_name, ADDRESS_SELECTION(address_selection).name, number_of_addresses, observation_period[0].replace(\"-\",\"_\"),observation_period[1].replace(\"-\",\"_\"))\n",
    "view_ref = client.dataset(dataset_id).table(table_ids[current_view_name])\n",
    "view = bigquery.Table(view_ref)\n",
    "view.view_query = sql\n",
    "view = client.create_table(view)  # API request\n",
    "print(\"Successfully created view: '{}'\".format(table_ids[current_view_name]))"
   ]
  },
  {
   "cell_type": "markdown",
   "metadata": {},
   "source": [
    "Create table \"usd\""
   ]
  },
  {
   "cell_type": "code",
   "execution_count": 213,
   "metadata": {
    "scrolled": true
   },
   "outputs": [
    {
     "name": "stdout",
     "output_type": "stream",
     "text": [
      "Successfully created view: 'usd_RICHEST_100_2020_02_01_2020_02_01_view'\n"
     ]
    }
   ],
   "source": [
    "table_names.append(\"usd\")\n",
    "current_view_name = table_names[-1]\n",
    "sql = \"\"\"\n",
    "            with usdView as (\n",
    "\n",
    "              with usd_receivedView as (\n",
    "                    \n",
    "                  -- debits\n",
    "                  select to_address, sum(ifnull(value_usd, 0)) as usd_received\n",
    "                  from masterarbeit-245718.ethereum_us.{table_id_traces_usd}\n",
    "                  where to_address is not null\n",
    "                  and status = 1\n",
    "                  and (call_type not in ('delegatecall', 'callcode', 'staticcall') or call_type is null) \n",
    "                  group by to_address\n",
    "                    \n",
    "              ), usd_sentView as (\n",
    "              \n",
    "                  -- credits\n",
    "                  select from_address, sum(ifnull(value_usd, 0)) as usd_sent\n",
    "                  from  masterarbeit-245718.ethereum_us.{table_id_traces_usd} \n",
    "                  where from_address is not null\n",
    "                  and status = 1\n",
    "                  and (call_type not in ('delegatecall', 'callcode', 'staticcall') or call_type is null) \n",
    "                  group by from_address\n",
    "              ) \n",
    "              select \n",
    "                  CASE \n",
    "                    when to_address is not null then to_address\n",
    "                    when from_address is not null then from_address\n",
    "                  end as address, \n",
    "                  ifnull(usd_received,0) as usd_received, \n",
    "                  ifnull(usd_sent,0) as usd_sent\n",
    "              from usd_receivedView full outer join usd_sentView on from_address = to_address\n",
    "            ) \n",
    "            select address, usd_received, usd_sent from usdView right join masterarbeit-245718.ethereum_us.{table_id_addresses} using(address)\n",
    "            \"\"\".format(table_id_traces_usd=table_ids[\"traces_usd\"], table_id_addresses=table_ids[\"addresses\"])\n",
    "\n",
    "table_ids[current_view_name] = \"{}_{}_{}_{}_{}_view\".format(current_view_name, ADDRESS_SELECTION(address_selection).name, number_of_addresses, observation_period[0].replace(\"-\",\"_\"),observation_period[1].replace(\"-\",\"_\"))\n",
    "view_ref = client.dataset(dataset_id).table(table_ids[current_view_name])\n",
    "view = bigquery.Table(view_ref)\n",
    "view.view_query = sql\n",
    "view = client.create_table(view)  # API request\n",
    "print(\"Successfully created view: '{}'\".format(table_ids[current_view_name]))"
   ]
  },
  {
   "cell_type": "markdown",
   "metadata": {},
   "source": [
    "Create View \"wei_avg\""
   ]
  },
  {
   "cell_type": "code",
   "execution_count": 214,
   "metadata": {},
   "outputs": [
    {
     "name": "stdout",
     "output_type": "stream",
     "text": [
      "Successfully created view: 'wei_avg_RICHEST_100_2020_02_01_2020_02_01_view'\n"
     ]
    }
   ],
   "source": [
    "table_names.append(\"wei_avg\")\n",
    "current_view_name = table_names[-1]\n",
    "sql = \"\"\"\n",
    "            with features as (\n",
    "                select * from `masterarbeit-245718.ethereum_us.{table_id_wei}` \n",
    "                inner join `masterarbeit-245718.ethereum_us.{table_id_tx}` using(address) \n",
    "            )\n",
    "            select \n",
    "                address,\n",
    "                CASE \n",
    "                    when number_of_tx_sent > 0 THEN wei_sent / number_of_tx_sent \n",
    "                    when number_of_tx_sent = 0 THEN 0 \n",
    "                END as avg_wei_sent,\n",
    "                CASE \n",
    "                    when number_of_tx_received > 0 THEN wei_received / number_of_tx_received \n",
    "                    when number_of_tx_received = 0 THEN 0 \n",
    "                END as avg_wei_received\n",
    "            from features        \n",
    "            \"\"\".format(table_id_wei=table_ids[\"wei\"], table_id_tx=table_ids[\"tx\"])\n",
    "\n",
    "table_ids[current_view_name] = \"{}_{}_{}_{}_{}_view\".format(current_view_name, ADDRESS_SELECTION(address_selection).name, number_of_addresses, observation_period[0].replace(\"-\",\"_\"),observation_period[1].replace(\"-\",\"_\"))\n",
    "view_ref = client.dataset(dataset_id).table(table_ids[current_view_name])\n",
    "view = bigquery.Table(view_ref)\n",
    "view.view_query = sql\n",
    "view = client.create_table(view)  # API request\n",
    "print(\"Successfully created view: '{}'\".format(table_ids[current_view_name]))"
   ]
  },
  {
   "cell_type": "markdown",
   "metadata": {},
   "source": [
    "Create View \"usd_avg\""
   ]
  },
  {
   "cell_type": "code",
   "execution_count": 215,
   "metadata": {},
   "outputs": [
    {
     "name": "stdout",
     "output_type": "stream",
     "text": [
      "Successfully created view: 'usd_avg_RICHEST_100_2020_02_01_2020_02_01_view'\n"
     ]
    }
   ],
   "source": [
    "table_names.append(\"usd_avg\")\n",
    "current_view_name = table_names[-1]\n",
    "sql = \"\"\"\n",
    "            with features as (\n",
    "                select * from `masterarbeit-245718.ethereum_us.{table_id_usd}` \n",
    "                inner join `masterarbeit-245718.ethereum_us.{table_id_tx}` using(address) \n",
    "            )\n",
    "            select \n",
    "                address, \n",
    "                CASE \n",
    "                    when number_of_tx_sent > 0 THEN usd_sent / number_of_tx_sent \n",
    "                    when number_of_tx_sent = 0 THEN 0 \n",
    "                END as avg_usd_sent,\n",
    "                CASE \n",
    "                    when number_of_tx_received > 0 THEN usd_received / number_of_tx_received \n",
    "                    when number_of_tx_received = 0 THEN 0 \n",
    "                END as avg_usd_received\n",
    "            from features        \n",
    "            \"\"\".format(table_id_usd=table_ids[\"usd\"], table_id_tx=table_ids[\"tx\"])\n",
    "\n",
    "table_ids[current_view_name] = \"{}_{}_{}_{}_{}_view\".format(current_view_name, ADDRESS_SELECTION(address_selection).name, number_of_addresses, observation_period[0].replace(\"-\",\"_\"),observation_period[1].replace(\"-\",\"_\"))\n",
    "view_ref = client.dataset(dataset_id).table(table_ids[current_view_name])\n",
    "view = bigquery.Table(view_ref)\n",
    "view.view_query = sql\n",
    "view = client.create_table(view)  # API request\n",
    "print(\"Successfully created view: '{}'\".format(table_ids[current_view_name]))"
   ]
  },
  {
   "cell_type": "markdown",
   "metadata": {},
   "source": [
    "Create View \"wei_avg_monthly\""
   ]
  },
  {
   "cell_type": "code",
   "execution_count": 216,
   "metadata": {},
   "outputs": [
    {
     "name": "stdout",
     "output_type": "stream",
     "text": [
      "Successfully created view: 'wei_avg_monthly_RICHEST_100_2020_02_01_2020_02_01_view'\n"
     ]
    }
   ],
   "source": [
    "table_names.append(\"wei_avg_monthly\")\n",
    "current_view_name = table_names[-1]\n",
    "sql = \"\"\"\n",
    "            with features as (\n",
    "                select * from `masterarbeit-245718.ethereum_us.{table_id_wei}` \n",
    "                inner join `masterarbeit-245718.ethereum_us.{table_id_active_months}` using(address) \n",
    "            )\n",
    "            select address,\n",
    "                CASE \n",
    "                    when active_months > 0 THEN wei_sent / active_months \n",
    "                    when active_months = 0 THEN 0 \n",
    "                END as monthly_wei_sent,\n",
    "                CASE \n",
    "                     when active_months > 0 THEN wei_received / active_months \n",
    "                     when active_months = 0 THEN 0 \n",
    "                END as monthly_wei_received\n",
    "                from features\n",
    "            \"\"\".format(table_id_wei=table_ids[\"wei\"], table_id_active_months=table_ids[\"active_months\"])\n",
    "\n",
    "table_ids[current_view_name] = \"{}_{}_{}_{}_{}_view\".format(current_view_name, ADDRESS_SELECTION(address_selection).name, number_of_addresses, observation_period[0].replace(\"-\",\"_\"),observation_period[1].replace(\"-\",\"_\"))\n",
    "view_ref = client.dataset(dataset_id).table(table_ids[current_view_name])\n",
    "view = bigquery.Table(view_ref)\n",
    "view.view_query = sql\n",
    "view = client.create_table(view)  # API request\n",
    "print(\"Successfully created view: '{}'\".format(table_ids[current_view_name]))"
   ]
  },
  {
   "cell_type": "markdown",
   "metadata": {},
   "source": [
    "Create View \"usd_avg_monthly\""
   ]
  },
  {
   "cell_type": "code",
   "execution_count": 217,
   "metadata": {},
   "outputs": [
    {
     "name": "stdout",
     "output_type": "stream",
     "text": [
      "Successfully created view: 'usd_avg_monthly_RICHEST_100_2020_02_01_2020_02_01_view'\n"
     ]
    }
   ],
   "source": [
    "table_names.append(\"usd_avg_monthly\")\n",
    "current_view_name = table_names[-1]\n",
    "sql = \"\"\"\n",
    "            with features as (\n",
    "                select * from `masterarbeit-245718.ethereum_us.{table_id_usd}` \n",
    "                inner join `masterarbeit-245718.ethereum_us.{table_id_active_months}` using(address) \n",
    "            )\n",
    "            select address,\n",
    "                CASE \n",
    "                    when active_months > 0 THEN usd_sent / active_months \n",
    "                    when active_months = 0 THEN 0 \n",
    "                END as monthly_usd_sent,\n",
    "                CASE \n",
    "                     when active_months > 0 THEN usd_received / active_months \n",
    "                     when active_months = 0 THEN 0 \n",
    "                END as monthly_usd_received\n",
    "                from features\n",
    "            \"\"\".format(table_id_usd=table_ids[\"usd\"], table_id_active_months=table_ids[\"active_months\"])\n",
    "\n",
    "table_ids[current_view_name] = \"{}_{}_{}_{}_{}_view\".format(current_view_name, ADDRESS_SELECTION(address_selection).name, number_of_addresses, observation_period[0].replace(\"-\",\"_\"),observation_period[1].replace(\"-\",\"_\"))\n",
    "view_ref = client.dataset(dataset_id).table(table_ids[current_view_name])\n",
    "view = bigquery.Table(view_ref)\n",
    "view.view_query = sql\n",
    "view = client.create_table(view)  # API request\n",
    "print(\"Successfully created view: '{}'\".format(table_ids[current_view_name]))"
   ]
  },
  {
   "cell_type": "markdown",
   "metadata": {},
   "source": [
    "Create View \"tx_avg_monthly\""
   ]
  },
  {
   "cell_type": "code",
   "execution_count": 218,
   "metadata": {},
   "outputs": [
    {
     "name": "stdout",
     "output_type": "stream",
     "text": [
      "Successfully created view: 'tx_avg_monthly_RICHEST_100_2020_02_01_2020_02_01_view'\n"
     ]
    }
   ],
   "source": [
    "table_names.append(\"tx_avg_monthly\")\n",
    "current_view_name = table_names[-1]\n",
    "sql = \"\"\"\n",
    "            with features as (\n",
    "                select * from `masterarbeit-245718.ethereum_us.{table_id_tx}` \n",
    "                inner join `masterarbeit-245718.ethereum_us.{table_id_active_months}` using(address) \n",
    "            )\n",
    "            select address,\n",
    "                CASE \n",
    "                    when active_months > 0 THEN number_of_tx_sent / active_months \n",
    "                    when active_months = 0 THEN 0 \n",
    "                END as monthly_outgoing_txns,\n",
    "                CASE \n",
    "                    when active_months > 0 THEN number_of_tx_received / active_months \n",
    "                    when active_months = 0 THEN 0 \n",
    "                END as monthly_incoming_txns\n",
    "            from features\n",
    "            \"\"\".format(table_id_tx=table_ids[\"tx\"], table_id_active_months=table_ids[\"active_months\"])\n",
    "\n",
    "table_ids[current_view_name] = \"{}_{}_{}_{}_{}_view\".format(current_view_name, ADDRESS_SELECTION(address_selection).name, number_of_addresses, observation_period[0].replace(\"-\",\"_\"),observation_period[1].replace(\"-\",\"_\"))\n",
    "view_ref = client.dataset(dataset_id).table(table_ids[current_view_name])\n",
    "view = bigquery.Table(view_ref)\n",
    "view.view_query = sql\n",
    "view = client.create_table(view)  # API request\n",
    "print(\"Successfully created view: '{}'\".format(table_ids[current_view_name]))"
   ]
  },
  {
   "cell_type": "markdown",
   "metadata": {},
   "source": [
    "Create View \"contracts_created\""
   ]
  },
  {
   "cell_type": "code",
   "execution_count": 219,
   "metadata": {},
   "outputs": [
    {
     "name": "stdout",
     "output_type": "stream",
     "text": [
      "Successfully created view: 'contracts_created_RICHEST_100_2020_02_01_2020_02_01_view'\n"
     ]
    }
   ],
   "source": [
    "table_names.append(\"contracts_created\")\n",
    "current_view_name = table_names[-1]\n",
    "\n",
    "sql = \"\"\"\n",
    "            with contract_created_view as (\n",
    "            select \n",
    "                from_address as address, \n",
    "                count(*) as number_of_contracts_created\n",
    "            from `masterarbeit-245718.ethereum_us.{table_id_traces}` \n",
    "                where\n",
    "                    trace_type = \"create\"\n",
    "            group by from_address\n",
    "            order by number_of_contracts_created DESC\n",
    "            )\n",
    "            select \n",
    "                address, \n",
    "                ifnull(number_of_contracts_created,0) as number_of_contracts_created \n",
    "            from contract_created_view right join `masterarbeit-245718.ethereum_us.{table_id_addresses}` using(address)\n",
    "            \"\"\".format(table_id_traces=table_ids[\"traces\"], table_id_addresses = table_ids[\"addresses\"])\n",
    "\n",
    "table_ids[current_view_name] = \"{}_{}_{}_{}_{}_view\".format(current_view_name, ADDRESS_SELECTION(address_selection).name, number_of_addresses, observation_period[0].replace(\"-\",\"_\"),observation_period[1].replace(\"-\",\"_\"))\n",
    "view_ref = client.dataset(dataset_id).table(table_ids[current_view_name])\n",
    "view = bigquery.Table(view_ref)\n",
    "view.view_query = sql\n",
    "view = client.create_table(view)  # API request\n",
    "print(\"Successfully created view: '{}'\".format(table_ids[current_view_name]))"
   ]
  },
  {
   "cell_type": "markdown",
   "metadata": {},
   "source": [
    "Create View \"contract_tx\""
   ]
  },
  {
   "cell_type": "code",
   "execution_count": 220,
   "metadata": {},
   "outputs": [
    {
     "name": "stdout",
     "output_type": "stream",
     "text": [
      "Successfully created view: 'contract_tx_RICHEST_100_2020_02_01_2020_02_01_view'\n"
     ]
    }
   ],
   "source": [
    "table_names.append(\"contract_tx\")\n",
    "current_view_name = table_names[-1]\n",
    "sql = \"\"\"\n",
    "            with contract_tx_view as (\n",
    "            select \n",
    "                from_address as address, \n",
    "                count(*) as contract_tx\n",
    "            from `masterarbeit-245718.ethereum_us.{table_id_traces}` \n",
    "                where\n",
    "                    (input != \"None\" and input != \"0x\" and trace_type = \"call\") or \n",
    "                    trace_type = \"create\" or\n",
    "                    trace_type = \"suicide\"\n",
    "            group by from_address\n",
    "            order by from_address\n",
    "            )\n",
    "            select \n",
    "                address, \n",
    "                ifnull(contract_tx,0) as contract_tx \n",
    "            from contract_tx_view right join `masterarbeit-245718.ethereum_us.{table_id_addresses}` using(address)\n",
    "            \"\"\".format(table_id_traces=table_ids[\"traces\"], table_id_addresses = table_ids[\"addresses\"])\n",
    "\n",
    "table_ids[current_view_name] = \"{}_{}_{}_{}_{}_view\".format(current_view_name, ADDRESS_SELECTION(address_selection).name, number_of_addresses, observation_period[0].replace(\"-\",\"_\"),observation_period[1].replace(\"-\",\"_\"))\n",
    "view_ref = client.dataset(dataset_id).table(table_ids[current_view_name])\n",
    "view = bigquery.Table(view_ref)\n",
    "view.view_query = sql\n",
    "view = client.create_table(view)  # API request\n",
    "print(\"Successfully created view: '{}'\".format(table_ids[current_view_name]))"
   ]
  },
  {
   "cell_type": "markdown",
   "metadata": {},
   "source": [
    "Create View \"diff_token_used\""
   ]
  },
  {
   "cell_type": "code",
   "execution_count": 221,
   "metadata": {},
   "outputs": [
    {
     "name": "stdout",
     "output_type": "stream",
     "text": [
      "Successfully created view: 'diff_token_used_RICHEST_100_2020_02_01_2020_02_01_view'\n"
     ]
    }
   ],
   "source": [
    "table_names.append(\"diff_token_used\")\n",
    "current_view_name = table_names[-1]\n",
    "sql = \"\"\"\n",
    "            with token_transfers as (\n",
    "                select * from bigquery-public-data.crypto_ethereum.token_transfers \n",
    "                where DATE(block_timestamp) >= '{start}' and DATE(block_timestamp) <= '{end}'\n",
    "            ) \n",
    "            select \n",
    "                address, \n",
    "                count(DISTINCT token_address) as diff_token_used\n",
    "            from token_transfers right join `masterarbeit-245718.ethereum_us.{table_id_addresses}` on from_address = address \n",
    "            group by address\n",
    "            order by diff_token_used DESC\n",
    "            \"\"\".format(start=observation_period[0], end=observation_period[1], table_id_addresses=table_ids[\"addresses\"]); \n",
    "\n",
    "table_ids[current_view_name] = \"{}_{}_{}_{}_{}_view\".format(current_view_name, ADDRESS_SELECTION(address_selection).name, number_of_addresses, observation_period[0].replace(\"-\",\"_\"),observation_period[1].replace(\"-\",\"_\"))\n",
    "view_ref = client.dataset(dataset_id).table(table_ids[current_view_name])\n",
    "view = bigquery.Table(view_ref)\n",
    "view.view_query = sql\n",
    "view = client.create_table(view)  # API request\n",
    "print(\"Successfully created view: '{}'\".format(table_ids[current_view_name]))"
   ]
  },
  {
   "cell_type": "markdown",
   "metadata": {},
   "source": [
    "## Merge Views"
   ]
  },
  {
   "cell_type": "code",
   "execution_count": 222,
   "metadata": {},
   "outputs": [],
   "source": [
    "# Remove non-feature views\n",
    "for name in [\"traces\",\"addresses\", \"traces_usd\", \"transactions\", \"blocks\"]:\n",
    "    if name in table_names:\n",
    "        table_names.remove(name)"
   ]
  },
  {
   "cell_type": "code",
   "execution_count": 223,
   "metadata": {},
   "outputs": [
    {
     "name": "stdout",
     "output_type": "stream",
     "text": [
      "Successfully created view: 'features_RICHEST_100_2020_02_01_2020_02_01_view'\n"
     ]
    }
   ],
   "source": [
    "current_view_name = \"features\"\n",
    "sql = \"select * from \"\n",
    "\n",
    "for index, view_name in enumerate(table_names):\n",
    "    sql += \"masterarbeit-245718.ethereum_us.{}\".format(table_ids[view_name])\n",
    "    if index != 0:\n",
    "        sql += \" using(address)\"\n",
    "    if index != (len(table_names) - 1):\n",
    "        sql += \" inner join \"\n",
    "\n",
    "table_ids[current_view_name] = \"{}_{}_{}_{}_{}_view\".format(current_view_name, ADDRESS_SELECTION(address_selection).name, number_of_addresses, observation_period[0].replace(\"-\",\"_\"),observation_period[1].replace(\"-\",\"_\"))\n",
    "view_ref = client.dataset(dataset_id).table(table_ids[current_view_name])\n",
    "view = bigquery.Table(view_ref)\n",
    "view.view_query = sql\n",
    "view = client.create_table(view)  # API request\n",
    "print(\"Successfully created view: '{}'\".format(table_ids[current_view_name]))"
   ]
  },
  {
   "cell_type": "markdown",
   "metadata": {},
   "source": [
    "## Estimate Costs"
   ]
  },
  {
   "cell_type": "code",
   "execution_count": 224,
   "metadata": {},
   "outputs": [
    {
     "name": "stdout",
     "output_type": "stream",
     "text": [
      "587 Megabytes will be processed\n",
      "It will cost $0.00293490337.\n"
     ]
    }
   ],
   "source": [
    "table_name = \"features\"\n",
    "table_id = \"{}_{}_{}_{}_{}\".format(table_name, ADDRESS_SELECTION(address_selection).name, number_of_addresses, observation_period[0].replace(\"-\",\"_\"),observation_period[1].replace(\"-\",\"_\"))\n",
    "\n",
    "job_config = bigquery.QueryJobConfig(destination=\"masterarbeit-245718.ethereum_us.{table_id}\".format(table_id = table_id))\n",
    "job_config.dry_run = True\n",
    "job_config.use_query_cache = False\n",
    "\n",
    "sql = \"\"\"\n",
    "    SELECT *\n",
    "    FROM `masterarbeit-245718.ethereum_us.{table_id_features}` \n",
    "\"\"\".format(table_id_features = table_ids[\"features\"])\n",
    "\n",
    "# Start the query, passing in the extra configuration.\n",
    "query_job = client.query(sql, job_config=job_config)  # Make an API request.\n",
    "\n",
    "cost_dollars = (query_job.total_bytes_processed / 10 ** 12) * 5\n",
    "\n",
    "print(\"{} Megabytes will be processed\".format(round(query_job.total_bytes_processed / 10 ** 6)))\n",
    "print(\"It will cost ${}.\".format(cost_dollars))"
   ]
  },
  {
   "cell_type": "markdown",
   "metadata": {},
   "source": [
    "## Execute Query (WARNING: this operation costs money!)"
   ]
  },
  {
   "cell_type": "code",
   "execution_count": 225,
   "metadata": {},
   "outputs": [
    {
     "name": "stdout",
     "output_type": "stream",
     "text": [
      "Successfully created table: 'features_RICHEST_100_2020_02_01_2020_02_01'\n"
     ]
    }
   ],
   "source": [
    "table_name = \"features\"\n",
    "table_id = \"{}_{}_{}_{}_{}\".format(table_name, ADDRESS_SELECTION(address_selection).name, number_of_addresses, observation_period[0].replace(\"-\",\"_\"),observation_period[1].replace(\"-\",\"_\"))\n",
    "\n",
    "job_config = bigquery.QueryJobConfig(destination=\"masterarbeit-245718.ethereum_us.{table_id}\".format(table_id = table_id))\n",
    "\n",
    "sql = \"\"\"\n",
    "    SELECT *\n",
    "    FROM `masterarbeit-245718.ethereum_us.{table_id_features}` \n",
    "\"\"\".format(table_id_features = table_ids[\"features\"])\n",
    "\n",
    "# Start the query, passing in the extra configuration.\n",
    "if (cost_dollars > max_bigquery_costs_usd):\n",
    "    raise Exception(\"Warning: This operation costs $ {}.\".format(cost_dollars))\n",
    "\n",
    "query_job = client.query(sql, job_config=job_config)  # Make an API request.\n",
    "result = query_job.result()\n",
    "\n",
    "print(\"Successfully created table: '{}'\".format(table_id))"
   ]
  },
  {
   "cell_type": "markdown",
   "metadata": {},
   "source": [
    "# Temporary Scripts"
   ]
  },
  {
   "cell_type": "code",
   "execution_count": 226,
   "metadata": {},
   "outputs": [],
   "source": [
    "# data = result.to_dataframe(); \n",
    "\n",
    "# display(data)\n",
    "\n",
    "# if (data.isna().values.any() == True):\n",
    "#     raise Exception(\"Null values deteceted.\")"
   ]
  },
  {
   "cell_type": "code",
   "execution_count": 227,
   "metadata": {},
   "outputs": [],
   "source": [
    "# table_id = \"{}_{}_{}_{}_{}_tmp\".format(current_view_name, ADDRESS_SELECTION(address_selection).name, number_of_addresses, observation_period[0].replace(\"-\",\"_\"),observation_period[1].replace(\"-\",\"_\"))\n",
    "\n",
    "# job_config = bigquery.QueryJobConfig(destination=\"masterarbeit-245718.ethereum_us.{table_id}\".format(table_id = table_id))\n",
    "\n",
    "# sql = \"\"\"\n",
    "#     SELECT *\n",
    "#     FROM `masterarbeit-245718.ethereum_us.{table_id_diff_token_used}` \n",
    "# \"\"\".format(table_id_diff_token_used = table_ids[\"diff_token_used\"])\n",
    "\n",
    "# # Start the query, passing in the extra configuration.\n",
    "# query_job = client.query(sql, job_config=job_config)  # Make an API request.\n",
    "# data = query_job.result().to_dataframe(); \n",
    "\n",
    "# data"
   ]
  }
 ],
 "metadata": {
  "kernelspec": {
   "display_name": "Python 3",
   "language": "python",
   "name": "python3"
  },
  "language_info": {
   "codemirror_mode": {
    "name": "ipython",
    "version": 3
   },
   "file_extension": ".py",
   "mimetype": "text/x-python",
   "name": "python",
   "nbconvert_exporter": "python",
   "pygments_lexer": "ipython3",
   "version": "3.6.9"
  }
 },
 "nbformat": 4,
 "nbformat_minor": 2
}

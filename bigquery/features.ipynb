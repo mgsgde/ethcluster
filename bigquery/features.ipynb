{
 "cells": [
  {
   "cell_type": "markdown",
   "metadata": {},
   "source": [
    "# Creating the feature table in BigQuery"
   ]
  },
  {
   "cell_type": "markdown",
   "metadata": {},
   "source": [
    "## Configuration of Sample"
   ]
  },
  {
   "cell_type": "code",
   "execution_count": 522,
   "metadata": {},
   "outputs": [],
   "source": [
    "# Due to the nature of selecting random rows via sql the number of addresses is approximated\n",
    "approximate_number_of_addresses = 5000\n",
    "\n",
    "# (start, end), format: dd.mm.yyyy\n",
    "observation_period = (\"2020-02-15\", \"2020-02-15\") \n",
    "\n",
    "# \"random\", \"richest\"\n",
    "# random: selects random addresses, that have been active within the observation period.\n",
    "# richest: selects the accounts that have the most ether\n",
    "address_selection = \"random\" "
   ]
  },
  {
   "cell_type": "markdown",
   "metadata": {},
   "source": [
    "## Creating Views"
   ]
  },
  {
   "cell_type": "markdown",
   "metadata": {},
   "source": [
    "Setup"
   ]
  },
  {
   "cell_type": "code",
   "execution_count": 523,
   "metadata": {},
   "outputs": [],
   "source": [
    "from google.cloud import bigquery\n",
    "import simplejson as json\n",
    "import os\n",
    "from datetime import datetime\n",
    "import pandas as pd\n",
    "\n",
    "os.environ[\"GOOGLE_APPLICATION_CREDENTIALS\"] = \"../secrets/bigquery-service-account.json\"\n",
    "client = bigquery.Client()\n",
    "dataset_id = \"ethereum_us\"\n",
    "view_names = []\n",
    "view_ids = {}"
   ]
  },
  {
   "cell_type": "markdown",
   "metadata": {},
   "source": [
    "Delete all views"
   ]
  },
  {
   "cell_type": "code",
   "execution_count": 524,
   "metadata": {},
   "outputs": [],
   "source": [
    "view_ids_to_be_deleted = [t.table_id for t in client.list_tables(dataset_id) if \"view\" in t.table_id]\n",
    "\n",
    "for view_id in view_ids_to_be_deleted:\n",
    "     client.delete_table(\"{}.{}\".format(dataset_id, view_id), not_found_ok=True)  "
   ]
  },
  {
   "cell_type": "markdown",
   "metadata": {},
   "source": [
    "Create view \"traces\""
   ]
  },
  {
   "cell_type": "code",
   "execution_count": 525,
   "metadata": {},
   "outputs": [
    {
     "name": "stdout",
     "output_type": "stream",
     "text": [
      "Successfully created view: 'traces_random_5000_2020_02_15_2020_02_15_view'\n"
     ]
    }
   ],
   "source": [
    "view_names.append(\"traces\")\n",
    "current_view_name = view_names[-1]\n",
    "sql_query = \"\"\"\n",
    "      select * from `bigquery-public-data.crypto_ethereum.traces`\n",
    "        where status = 1\n",
    "            and DATE(block_timestamp) >= '{start}' \n",
    "            and DATE(block_timestamp) <= '{end}'\n",
    "      \"\"\".format(start=observation_period[0], end=observation_period[1]); \n",
    "\n",
    "view_ids[current_view_name] = \"{}_{}_{}_{}_{}_view\".format(current_view_name, address_selection, approximate_number_of_addresses, observation_period[0].replace(\"-\",\"_\"),observation_period[1].replace(\"-\",\"_\"))\n",
    "view_ref = client.dataset(dataset_id).table(view_ids[current_view_name])\n",
    "view = bigquery.Table(view_ref)\n",
    "view.view_query = sql_query\n",
    "view = client.create_table(view)  # API request\n",
    "print(\"Successfully created view: '{}'\".format(view_ids[current_view_name]))"
   ]
  },
  {
   "cell_type": "markdown",
   "metadata": {},
   "source": [
    "Create view \"addresses\""
   ]
  },
  {
   "cell_type": "code",
   "execution_count": 526,
   "metadata": {
    "scrolled": true
   },
   "outputs": [
    {
     "name": "stdout",
     "output_type": "stream",
     "text": [
      "Successfully created view: 'addresses_random_5000_2020_02_15_2020_02_15_view'\n"
     ]
    }
   ],
   "source": [
    "view_names.append(\"addresses\")\n",
    "current_view_name = view_names[-1]\n",
    "\n",
    "# todo: address_selection == \"richest\"\n",
    "if address_selection == \"random\":\n",
    "    sql_query = \"\"\"\n",
    "                with addresses_traces as (\n",
    "                    select distinct from_address as address from masterarbeit-245718.ethereum_us.{view_id_traces}\n",
    "                    UNION ALL\n",
    "                    select distinct to_address as address from masterarbeit-245718.ethereum_us.{view_id_traces}\n",
    "                ) \n",
    "                select * from addresses_traces where RAND() < {approximate_number_of_addresses}/(SELECT COUNT(*) FROM addresses_traces)\n",
    "                \"\"\".format(view_id_traces=view_ids[\"traces\"], approximate_number_of_addresses=approximate_number_of_addresses)\n",
    "\n",
    "view_ids[current_view_name] = \"{}_{}_{}_{}_{}_view\".format(current_view_name, address_selection, approximate_number_of_addresses, observation_period[0].replace(\"-\",\"_\"),observation_period[1].replace(\"-\",\"_\"))\n",
    "view_ref = client.dataset(dataset_id).table(view_ids[current_view_name])\n",
    "view = bigquery.Table(view_ref)\n",
    "view.view_query = sql_query\n",
    "view = client.create_table(view)  # API request\n",
    "print(\"Successfully created view: '{}'\".format(view_ids[current_view_name]))"
   ]
  },
  {
   "cell_type": "markdown",
   "metadata": {},
   "source": [
    "Create view \"wei\""
   ]
  },
  {
   "cell_type": "code",
   "execution_count": 527,
   "metadata": {},
   "outputs": [
    {
     "name": "stdout",
     "output_type": "stream",
     "text": [
      "Successfully created view: 'wei_random_5000_2020_02_15_2020_02_15_view'\n"
     ]
    }
   ],
   "source": [
    "view_names.append(\"wei\")\n",
    "current_view_name = view_names[-1]\n",
    "sql_query = \"\"\"\n",
    "            with weiView as (\n",
    "\n",
    "              with weiReceivedView as (\n",
    "                    \n",
    "                  -- debits\n",
    "                  select to_address, sum(ifnull(value, 0)) as weiReceived\n",
    "                  from masterarbeit-245718.ethereum_us.{view_id_traces}\n",
    "                  where to_address is not null\n",
    "                  and status = 1\n",
    "                  and (call_type not in ('delegatecall', 'callcode', 'staticcall') or call_type is null) \n",
    "                  group by to_address\n",
    "                    \n",
    "              ), weiSentView as (\n",
    "              \n",
    "                  -- credits\n",
    "                  select from_address, sum(ifnull(value, 0)) as weiSent\n",
    "                  from  masterarbeit-245718.ethereum_us.{view_id_traces} \n",
    "                  where from_address is not null\n",
    "                  and status = 1\n",
    "                  and (call_type not in ('delegatecall', 'callcode', 'staticcall') or call_type is null) \n",
    "                  group by from_address\n",
    "              ) \n",
    "              select \n",
    "                  CASE \n",
    "                    when to_address is not null then to_address\n",
    "                    when from_address is not null then from_address\n",
    "                  end as address, \n",
    "                  ifnull(weiReceived,0) as weiReceived, \n",
    "                  ifnull(weiSent,0) as weiSent\n",
    "              from weiReceivedView full outer join weiSentView on from_address = to_address\n",
    "            ) \n",
    "            select address, weiReceived, weiSent from weiView right join masterarbeit-245718.ethereum_us.{view_id_addresses} using(address)\n",
    "            \"\"\".format(view_id_traces=view_ids[\"traces\"], view_id_addresses=view_ids[\"addresses\"])\n",
    "\n",
    "view_ids[current_view_name] = \"{}_{}_{}_{}_{}_view\".format(current_view_name, address_selection, approximate_number_of_addresses, observation_period[0].replace(\"-\",\"_\"),observation_period[1].replace(\"-\",\"_\"))\n",
    "view_ref = client.dataset(dataset_id).table(view_ids[current_view_name])\n",
    "view = bigquery.Table(view_ref)\n",
    "view.view_query = sql_query\n",
    "view = client.create_table(view)  # API request\n",
    "print(\"Successfully created view: '{}'\".format(view_ids[current_view_name]))"
   ]
  },
  {
   "cell_type": "markdown",
   "metadata": {},
   "source": [
    "Create view \"tx\""
   ]
  },
  {
   "cell_type": "code",
   "execution_count": 528,
   "metadata": {},
   "outputs": [
    {
     "name": "stdout",
     "output_type": "stream",
     "text": [
      "Successfully created view: 'tx_random_5000_2020_02_15_2020_02_15_view'\n"
     ]
    }
   ],
   "source": [
    "view_names.append(\"tx\")\n",
    "current_view_name = view_names[-1]\n",
    "sql_query = \"\"\"\n",
    "            with txView as (\n",
    "\n",
    "              with txSent as (\n",
    "              \n",
    "                  SELECT from_address, count(*) as numberOfTranscationsSent FROM masterarbeit-245718.ethereum_us.{view_id_traces}\n",
    "                  where to_address is not null and status = 1 and (call_type not in ('delegatecall', 'callcode', 'staticcall') or call_type is null) \n",
    "                  group by from_address\n",
    "                  \n",
    "                ), txReceived as (\n",
    "                \n",
    "                  SELECT to_address, count(*) as numberOfTranscationsReceived FROM masterarbeit-245718.ethereum_us.{view_id_traces}\n",
    "                  where to_address is not null and status = 1 and (call_type not in ('delegatecall', 'callcode', 'staticcall') or call_type is null) \n",
    "                  group by to_address\n",
    "                ) \n",
    "                \n",
    "                SELECT \n",
    "                    CASE  \n",
    "                      WHEN to_address IS NOT NULL THEN to_address\n",
    "                      WHEN from_address IS NOT NULL THEN from_address\n",
    "                    END AS address,\n",
    "                    IFNULL(numberOfTranscationsReceived, 0) as numberOfTranscationsReceived, \n",
    "                    IFNULL(numberOfTranscationsSent, 0) as numberOfTranscationsSent\n",
    "                from txReceived FULL OUTER JOIN txSent on to_address = from_address\n",
    "            ) \n",
    "            \n",
    "            select address, numberOfTranscationsReceived, numberOfTranscationsSent from txView right join masterarbeit-245718.ethereum_us.{view_id_addresses} using(address)\n",
    "            \n",
    "            \"\"\".format(view_id_traces=view_ids[\"traces\"], view_id_addresses=view_ids[\"addresses\"])\n",
    "\n",
    "view_ids[current_view_name] = \"{}_{}_{}_{}_{}_view\".format(current_view_name, address_selection, approximate_number_of_addresses, observation_period[0].replace(\"-\",\"_\"),observation_period[1].replace(\"-\",\"_\"))\n",
    "view_ref = client.dataset(dataset_id).table(view_ids[current_view_name])\n",
    "view = bigquery.Table(view_ref)\n",
    "view.view_query = sql_query\n",
    "view = client.create_table(view)  # API request\n",
    "print(\"Successfully created view: '{}'\".format(view_ids[current_view_name]))"
   ]
  },
  {
   "cell_type": "markdown",
   "metadata": {},
   "source": [
    "Create view \"avg_time_diff_received_tx\""
   ]
  },
  {
   "cell_type": "code",
   "execution_count": 529,
   "metadata": {},
   "outputs": [
    {
     "name": "stdout",
     "output_type": "stream",
     "text": [
      "Successfully created view: 'avg_time_diff_received_tx_random_5000_2020_02_15_2020_02_15_view'\n"
     ]
    }
   ],
   "source": [
    "view_names.append(\"avg_time_diff_received_tx\")\n",
    "current_view_name = view_names[-1]\n",
    "sql_query = \"\"\"\n",
    "           with timeRecView as (\n",
    "\n",
    "              with receivedTx as (\n",
    "              \n",
    "                SELECT to_address, count(*) as numberOfTranscationsReceived \n",
    "                FROM masterarbeit-245718.ethereum_us.{view_id_traces} \n",
    "                where to_address is not null \n",
    "                  and status = 1 \n",
    "                  and (call_type not in ('delegatecall', 'callcode', 'staticcall') or call_type is null)\n",
    "                group by to_address\n",
    "              \n",
    "              ), timeStampDiffs as (\n",
    "              \n",
    "                SELECT to_address, TIMESTAMP_DIFF(MAX(block_timestamp), MIN( block_timestamp ), second ) as timestampDiff\n",
    "                FROM masterarbeit-245718.ethereum_us.{view_id_traces}\n",
    "                where to_address is not null \n",
    "                  and status = 1 \n",
    "                  and (call_type not in ('delegatecall', 'callcode', 'staticcall') or call_type is null)\n",
    "                group by to_address\n",
    "              \n",
    "              ) \n",
    "              \n",
    "              select to_address as address, \n",
    "                  CASE \n",
    "                    when (numberOfTranscationsReceived - 1)  > 0 then timestampDiff / (numberOfTranscationsReceived - 1) \n",
    "                    else 0\n",
    "                  end as avgTimeDiffBetweenReceivedTransactions\n",
    "              from receivedTx inner join  timeStampDiffs using(to_address)\n",
    "            )\n",
    "            \n",
    "            select address, ifnull(avgTimeDiffBetweenReceivedTransactions,0) as avg_time_diff_received_tx from timeRecView right join masterarbeit-245718.ethereum_us.{view_id_addresses} using(address)         \n",
    "            \n",
    "            \"\"\".format(view_id_traces=view_ids[\"traces\"], view_id_addresses=view_ids[\"addresses\"])\n",
    "\n",
    "view_ids[current_view_name] = \"{}_{}_{}_{}_{}_view\".format(current_view_name, address_selection, approximate_number_of_addresses, observation_period[0].replace(\"-\",\"_\"),observation_period[1].replace(\"-\",\"_\"))\n",
    "view_ref = client.dataset(dataset_id).table(view_ids[current_view_name])\n",
    "view = bigquery.Table(view_ref)\n",
    "view.view_query = sql_query\n",
    "view = client.create_table(view)  # API request\n",
    "print(\"Successfully created view: '{}'\".format(view_ids[current_view_name]))"
   ]
  },
  {
   "cell_type": "markdown",
   "metadata": {},
   "source": [
    "Create view \"avg_time_diff_sent_tx\""
   ]
  },
  {
   "cell_type": "code",
   "execution_count": 530,
   "metadata": {},
   "outputs": [
    {
     "name": "stdout",
     "output_type": "stream",
     "text": [
      "Successfully created view: 'avg_time_diff_sent_tx_random_5000_2020_02_15_2020_02_15_view'\n"
     ]
    }
   ],
   "source": [
    "view_names.append(\"avg_time_diff_sent_tx\")\n",
    "current_view_name = view_names[-1]\n",
    "sql_query = \"\"\"\n",
    "            with timeSentView as (\n",
    "\n",
    "              with sentTx as (\n",
    "              \n",
    "                SELECT from_address, count(*) as numberOfTranscationsSent \n",
    "                FROM masterarbeit-245718.ethereum_us.{view_id_traces}\n",
    "                where to_address is not null \n",
    "                    and status = 1 \n",
    "                    and (call_type not in ('delegatecall', 'callcode', 'staticcall') or call_type is null)\n",
    "                group by from_address\n",
    "                \n",
    "              ), timeStampDiffs as (\n",
    "              \n",
    "                SELECT from_address, TIMESTAMP_DIFF(MAX(block_timestamp), MIN( block_timestamp ), second ) as timestampDiff\n",
    "                FROM masterarbeit-245718.ethereum_us.{view_id_traces}\n",
    "                where to_address is not null \n",
    "                  and status = 1 \n",
    "                  and (call_type not in ('delegatecall', 'callcode', 'staticcall') or call_type is null)\n",
    "                group by from_address\n",
    "                \n",
    "            ) \n",
    "              \n",
    "            select from_address as address, \n",
    "                CASE \n",
    "                    when (numberOfTranscationsSent - 1)  > 0 then \n",
    "                        timestampDiff / (numberOfTranscationsSent - 1) \n",
    "                    else \n",
    "                        0\n",
    "                end as avgTimeDiffBetweenSentTransactions\n",
    "            from sentTx inner join  timeStampDiffs using(from_address)\n",
    "            )\n",
    "            \n",
    "            select address, ifnull(avgTimeDiffBetweenSentTransactions,0) as avg_time_diff_sent_tx from timeSentView right join masterarbeit-245718.ethereum_us.{view_id_addresses} using(address)        \n",
    "            \n",
    "            \"\"\".format(view_id_traces=view_ids[\"traces\"], view_id_addresses=view_ids[\"addresses\"])\n",
    "\n",
    "view_ids[current_view_name] = \"{}_{}_{}_{}_{}_view\".format(current_view_name, address_selection, approximate_number_of_addresses, observation_period[0].replace(\"-\",\"_\"),observation_period[1].replace(\"-\",\"_\"))\n",
    "view_ref = client.dataset(dataset_id).table(view_ids[current_view_name])\n",
    "view = bigquery.Table(view_ref)\n",
    "view.view_query = sql_query\n",
    "view = client.create_table(view)  # API request\n",
    "print(\"Successfully created view: '{}'\".format(view_ids[current_view_name]))"
   ]
  },
  {
   "cell_type": "markdown",
   "metadata": {},
   "source": [
    "Create view \"mined_blocks\""
   ]
  },
  {
   "cell_type": "code",
   "execution_count": 531,
   "metadata": {},
   "outputs": [
    {
     "name": "stdout",
     "output_type": "stream",
     "text": [
      "Successfully created view: 'mined_blocks_random_5000_2020_02_15_2020_02_15_view'\n"
     ]
    }
   ],
   "source": [
    "view_names.append(\"mined_blocks\")\n",
    "current_view_name = view_names[-1]\n",
    "sql_query = \"\"\"\n",
    "            with minedBlocksView as (\n",
    "                SELECT to_address as address, count(*) as mined_blocks \n",
    "                FROM masterarbeit-245718.ethereum_us.{view_id_traces}\n",
    "                where trace_type = \"reward\"\n",
    "                group by to_address\n",
    "            )\n",
    "            \n",
    "            select address, ifnull(mined_blocks,0) as minedBlocks from minedBlocksView right join  masterarbeit-245718.ethereum_us.{view_id_addresses} using(address)\n",
    "\n",
    "            \"\"\".format(view_id_traces=view_ids[\"traces\"], view_id_addresses=view_ids[\"addresses\"])\n",
    "\n",
    "view_ids[current_view_name] = \"{}_{}_{}_{}_{}_view\".format(current_view_name, address_selection, approximate_number_of_addresses, observation_period[0].replace(\"-\",\"_\"),observation_period[1].replace(\"-\",\"_\"))\n",
    "view_ref = client.dataset(dataset_id).table(view_ids[current_view_name])\n",
    "view = bigquery.Table(view_ref)\n",
    "view.view_query = sql_query\n",
    "view = client.create_table(view)  # API request\n",
    "print(\"Successfully created view: '{}'\".format(view_ids[current_view_name]))"
   ]
  },
  {
   "cell_type": "markdown",
   "metadata": {},
   "source": [
    "Create view \"stddev_received_tx\""
   ]
  },
  {
   "cell_type": "code",
   "execution_count": 532,
   "metadata": {},
   "outputs": [
    {
     "name": "stdout",
     "output_type": "stream",
     "text": [
      "Successfully created view: 'stddev_received_tx_random_5000_2020_02_15_2020_02_15_view'\n"
     ]
    }
   ],
   "source": [
    "view_names.append(\"stddev_received_tx\")\n",
    "current_view_name = view_names[-1]\n",
    "sql_query = \"\"\"\n",
    "            with timestamp_var as (\n",
    "                \n",
    "                with timestamps_diffs as (\n",
    "                    \n",
    "                    with timestamps_preceding_tx as (\n",
    "                        \n",
    "                        with timestamps_received_tx as (\n",
    "                        \n",
    "                            select to_address, block_timestamp \n",
    "                            from masterarbeit-245718.ethereum_us.{view_id_traces}\n",
    "                            where to_address is not null \n",
    "                                and status = 1 \n",
    "                                and (call_type not in ('delegatecall', 'callcode', 'staticcall') or call_type is null)\n",
    "                        )\n",
    "                        \n",
    "                        select to_address, block_timestamp,\n",
    "                            lag(block_timestamp) OVER (partition by to_address order by block_timestamp asc) as preceding_block_timestamp \n",
    "                        from timestamps_received_tx\n",
    "                    )\n",
    "                    \n",
    "                    select to_address, block_timestamp, preceding_block_timestamp, \n",
    "                        TIMESTAMP_DIFF(block_timestamp, preceding_block_timestamp, second) as timestampdiff\n",
    "                    from timestamps_preceding_tx\n",
    "                )\n",
    "                \n",
    "                select to_address as address, STDDEV_SAMP(timestampdiff) as stddev_received_tx  \n",
    "                from timestamps_diffs group by to_address \n",
    "            ) \n",
    "            \n",
    "            select address, stddev_received_tx from timestamp_var right join masterarbeit-245718.ethereum_us.{view_id_addresses} using(address)\n",
    "            \n",
    "            \"\"\".format(view_id_traces=view_ids[\"traces\"], view_id_addresses=view_ids[\"addresses\"])\n",
    "\n",
    "view_ids[current_view_name] = \"{}_{}_{}_{}_{}_view\".format(current_view_name, address_selection, approximate_number_of_addresses, observation_period[0].replace(\"-\",\"_\"),observation_period[1].replace(\"-\",\"_\"))\n",
    "view_ref = client.dataset(dataset_id).table(view_ids[current_view_name])\n",
    "view = bigquery.Table(view_ref)\n",
    "view.view_query = sql_query\n",
    "view = client.create_table(view)  # API request\n",
    "print(\"Successfully created view: '{}'\".format(view_ids[current_view_name]))"
   ]
  },
  {
   "cell_type": "markdown",
   "metadata": {},
   "source": [
    "Create view \"stddev_sent_tx\""
   ]
  },
  {
   "cell_type": "code",
   "execution_count": 533,
   "metadata": {
    "scrolled": true
   },
   "outputs": [
    {
     "name": "stdout",
     "output_type": "stream",
     "text": [
      "Successfully created view: 'stddev_sent_tx_random_5000_2020_02_15_2020_02_15_view'\n"
     ]
    }
   ],
   "source": [
    "view_names.append(\"stddev_sent_tx\")\n",
    "current_view_name = view_names[-1]\n",
    "sql_query = \"\"\"\n",
    "            with timestamp_var as (\n",
    "            \n",
    "                with timestamps_diffs as (\n",
    "                    \n",
    "                    with timestamps_preceding_tx as (\n",
    "                        \n",
    "                        with timestamps_sent_tx as (\n",
    "                        \n",
    "                            select from_address, block_timestamp \n",
    "                            from masterarbeit-245718.ethereum_us.{view_id_traces}\n",
    "                            where from_address is not null \n",
    "                                and status = 1 \n",
    "                                and (call_type not in ('delegatecall', 'callcode', 'staticcall') or call_type is null)\n",
    "                        )\n",
    "                        \n",
    "                        select from_address, block_timestamp,\n",
    "                            lag(block_timestamp) OVER (partition by from_address order by block_timestamp asc) as preceding_block_timestamp \n",
    "                        from timestamps_sent_tx\n",
    "                    )\n",
    "                    \n",
    "                    select from_address, block_timestamp, preceding_block_timestamp, \n",
    "                        TIMESTAMP_DIFF(block_timestamp, preceding_block_timestamp, second) as timestampdiff\n",
    "                    from timestamps_preceding_tx\n",
    "                )\n",
    "                \n",
    "                select from_address as address, STDDEV_SAMP(timestampdiff) as stddev_sent_tx  \n",
    "                from timestamps_diffs group by from_address \n",
    "            ) \n",
    "            \n",
    "            select address, stddev_sent_tx from timestamp_var right join masterarbeit-245718.ethereum_us.{view_id_addresses} using(address)\n",
    "            \n",
    "            \"\"\".format(view_id_traces=view_ids[\"traces\"], view_id_addresses=view_ids[\"addresses\"])\n",
    "\n",
    "view_ids[current_view_name] = \"{}_{}_{}_{}_{}_view\".format(current_view_name, address_selection, approximate_number_of_addresses, observation_period[0].replace(\"-\",\"_\"),observation_period[1].replace(\"-\",\"_\"))\n",
    "view_ref = client.dataset(dataset_id).table(view_ids[current_view_name])\n",
    "view = bigquery.Table(view_ref)\n",
    "view.view_query = sql_query\n",
    "view = client.create_table(view)  # API request\n",
    "print(\"Successfully created view: '{}'\".format(view_ids[current_view_name]))"
   ]
  },
  {
   "cell_type": "markdown",
   "metadata": {},
   "source": [
    "Create view \"active_months\""
   ]
  },
  {
   "cell_type": "code",
   "execution_count": 534,
   "metadata": {},
   "outputs": [
    {
     "name": "stdout",
     "output_type": "stream",
     "text": [
      "Successfully created view: 'active_months_random_5000_2020_02_15_2020_02_15_view'\n"
     ]
    }
   ],
   "source": [
    "view_names.append(\"active_months\")\n",
    "current_view_name = view_names[-1]\n",
    "sql_query = \"\"\"\n",
    "            with tx_received as (\n",
    "            \n",
    "                select \n",
    "                    TIMESTAMP_TRUNC(block_timestamp, MONTH, 'UTC') as month, \n",
    "                    to_address,\n",
    "                    count(*) as number_tx_received\n",
    "                from `masterarbeit-245718.ethereum_us.{view_id_traces}`\n",
    "                group by TIMESTAMP_TRUNC(block_timestamp, MONTH, 'UTC'), to_address\n",
    "                \n",
    "            ), tx_sent as (\n",
    "            \n",
    "                select \n",
    "                    TIMESTAMP_TRUNC(block_timestamp, MONTH, 'UTC') as month, \n",
    "                    from_address,\n",
    "                    count(*) as number_tx_sent\n",
    "                from `masterarbeit-245718.ethereum_us.{view_id_traces}`\n",
    "                group by TIMESTAMP_TRUNC(block_timestamp, MONTH, 'UTC'), from_address\n",
    "                \n",
    "            ), monthly_tx as (\n",
    "            \n",
    "                select \n",
    "                    CASE  \n",
    "                      WHEN tx_sent.from_address IS NOT NULL THEN tx_sent.from_address\n",
    "                      WHEN tx_received.to_address IS NOT NULL THEN tx_received.to_address\n",
    "                    END AS address,\n",
    "                    CASE  \n",
    "                      WHEN tx_sent.month IS NOT NULL THEN tx_sent.month\n",
    "                      WHEN tx_received.month IS NOT NULL THEN tx_received.month\n",
    "                    END AS month,\n",
    "                    ifnull(number_tx_sent,0) as number_tx_sent, \n",
    "                    ifnull(number_tx_received,0) as number_tx_received \n",
    "                from tx_sent full join tx_received \n",
    "                    on (tx_sent.from_address = tx_received.to_address and tx_sent.month = tx_received.month)\n",
    "            \n",
    "            ), active_months_view as (\n",
    "            \n",
    "                select \n",
    "                    address, \n",
    "                    countif(number_tx_sent > 0 or number_tx_received > 0) as active_months \n",
    "                from monthly_tx group by address order by address ASC \n",
    "            )\n",
    "            \n",
    "            select \n",
    "                address, \n",
    "                ifnull(active_months,0) as active_months \n",
    "            from `masterarbeit-245718.ethereum_us.{view_id_addresses}` left join active_months_view using(address)    \n",
    "            \n",
    "            \"\"\".format(view_id_addresses=view_ids[\"addresses\"],view_id_traces=view_ids[\"traces\"], view_id_tx=view_ids[\"tx\"])\n",
    "\n",
    "view_ids[current_view_name] = \"{}_{}_{}_{}_{}_view\".format(current_view_name, address_selection, approximate_number_of_addresses, observation_period[0].replace(\"-\",\"_\"),observation_period[1].replace(\"-\",\"_\"))\n",
    "view_ref = client.dataset(dataset_id).table(view_ids[current_view_name])\n",
    "view = bigquery.Table(view_ref)\n",
    "view.view_query = sql_query\n",
    "view = client.create_table(view)  # API request\n",
    "print(\"Successfully created view: '{}'\".format(view_ids[current_view_name]))"
   ]
  },
  {
   "cell_type": "markdown",
   "metadata": {},
   "source": [
    "Create table \"traces_usd\""
   ]
  },
  {
   "cell_type": "code",
   "execution_count": 535,
   "metadata": {},
   "outputs": [
    {
     "name": "stderr",
     "output_type": "stream",
     "text": [
      "1it [00:07,  7.27s/it]\n"
     ]
    }
   ],
   "source": [
    "from urllib.request import urlopen, Request\n",
    "import csv \n",
    "\n",
    "headers = {\"User-Agent\": \"Mozilla/5.0 (Windows NT 6.1) AppleWebKit/537.36 (KHTML, like Gecko) Chrome/41.0.2228.0 Safari/537.3\"}\n",
    "url = 'https://etherscan.io/chart/etherprice?output=csv'\n",
    "req = Request(url=reg_url, headers=headers) \n",
    "html = urlopen(req).read().decode('utf-8')\n",
    "\n",
    "with open('../data/test.csv', 'w') as file:\n",
    "        file.write(html)\n",
    "        \n",
    "eth_usd_res = pd.read_csv('../data/test.csv')  \n",
    "eth_usd = eth_usd_res.copy()\n",
    "eth_usd[\"Date(UTC)\"] = [datetime.strptime(ts, \"%m/%d/%Y\") for ts in eth_usd_res[\"Date(UTC)\"]]\n",
    "eth_usd = eth_usd.drop(columns=[\"UnixTimeStamp\"])\n",
    "eth_usd.columns = [\"usd_eth_timestamp\", \"usd_eth\"]\n",
    "eth_usd[\"usd_eth\"] = pd.to_numeric(eth_usd[\"usd_eth\"])\n",
    "eth_usd.to_gbq('ethereum_us.usd_eth_table', if_exists=\"replace\")"
   ]
  },
  {
   "cell_type": "code",
   "execution_count": 536,
   "metadata": {},
   "outputs": [
    {
     "name": "stdout",
     "output_type": "stream",
     "text": [
      "Successfully created view: 'traces_usd_random_5000_2020_02_15_2020_02_15_view'\n"
     ]
    }
   ],
   "source": [
    "view_names.append(\"traces_usd\")\n",
    "current_view_name = view_names[-1]\n",
    "sql_query = \"\"\"\n",
    "             select \n",
    "                 from_address, \n",
    "                 to_address, \n",
    "                 value, \n",
    "                 status, \n",
    "                 call_type, \n",
    "                 trace_type, \n",
    "                 block_timestamp, \n",
    "                 usd_eth * value as value_usd \n",
    "             from `masterarbeit-245718.ethereum_us.{view_id_traces}` as traces_view\n",
    "             left join `masterarbeit-245718.ethereum_us.usd_eth_table` as usd_eth_table \n",
    "                on (TIMESTAMP_TRUNC(usd_eth_table.usd_eth_timestamp, DAY, 'UTC') = TIMESTAMP_TRUNC(traces_view.block_timestamp, DAY, 'UTC'))\n",
    "            \"\"\".format(view_id_traces=view_ids[\"traces\"])\n",
    "\n",
    "view_ids[current_view_name] = \"{}_{}_{}_{}_{}_view\".format(current_view_name, address_selection, approximate_number_of_addresses, observation_period[0].replace(\"-\",\"_\"),observation_period[1].replace(\"-\",\"_\"))\n",
    "view_ref = client.dataset(dataset_id).table(view_ids[current_view_name])\n",
    "view = bigquery.Table(view_ref)\n",
    "view.view_query = sql_query\n",
    "view = client.create_table(view)  # API request\n",
    "print(\"Successfully created view: '{}'\".format(view_ids[current_view_name]))"
   ]
  },
  {
   "cell_type": "markdown",
   "metadata": {},
   "source": [
    "Create table \"usd\""
   ]
  },
  {
   "cell_type": "code",
   "execution_count": 537,
   "metadata": {
    "scrolled": true
   },
   "outputs": [
    {
     "name": "stdout",
     "output_type": "stream",
     "text": [
      "Successfully created view: 'usd_random_5000_2020_02_15_2020_02_15_view'\n"
     ]
    }
   ],
   "source": [
    "view_names.append(\"usd\")\n",
    "current_view_name = view_names[-1]\n",
    "sql_query = \"\"\"\n",
    "            with usdView as (\n",
    "\n",
    "              with usdReceivedView as (\n",
    "                    \n",
    "                  -- debits\n",
    "                  select to_address, sum(ifnull(value_usd, 0)) as usdReceived\n",
    "                  from masterarbeit-245718.ethereum_us.{view_id_traces_usd}\n",
    "                  where to_address is not null\n",
    "                  and status = 1\n",
    "                  and (call_type not in ('delegatecall', 'callcode', 'staticcall') or call_type is null) \n",
    "                  group by to_address\n",
    "                    \n",
    "              ), usdSentView as (\n",
    "              \n",
    "                  -- credits\n",
    "                  select from_address, sum(ifnull(value_usd, 0)) as usdSent\n",
    "                  from  masterarbeit-245718.ethereum_us.{view_id_traces_usd} \n",
    "                  where from_address is not null\n",
    "                  and status = 1\n",
    "                  and (call_type not in ('delegatecall', 'callcode', 'staticcall') or call_type is null) \n",
    "                  group by from_address\n",
    "              ) \n",
    "              select \n",
    "                  CASE \n",
    "                    when to_address is not null then to_address\n",
    "                    when from_address is not null then from_address\n",
    "                  end as address, \n",
    "                  ifnull(usdReceived,0) as usdReceived, \n",
    "                  ifnull(usdSent,0) as usdSent\n",
    "              from usdReceivedView full outer join usdSentView on from_address = to_address\n",
    "            ) \n",
    "            select address, usdReceived, usdSent from usdView right join masterarbeit-245718.ethereum_us.{view_id_addresses} using(address)\n",
    "            \"\"\".format(view_id_traces_usd=view_ids[\"traces_usd\"], view_id_addresses=view_ids[\"addresses\"])\n",
    "\n",
    "view_ids[current_view_name] = \"{}_{}_{}_{}_{}_view\".format(current_view_name, address_selection, approximate_number_of_addresses, observation_period[0].replace(\"-\",\"_\"),observation_period[1].replace(\"-\",\"_\"))\n",
    "view_ref = client.dataset(dataset_id).table(view_ids[current_view_name])\n",
    "view = bigquery.Table(view_ref)\n",
    "view.view_query = sql_query\n",
    "view = client.create_table(view)  # API request\n",
    "print(\"Successfully created view: '{}'\".format(view_ids[current_view_name]))"
   ]
  },
  {
   "cell_type": "markdown",
   "metadata": {},
   "source": [
    "Create View \"wei_avg\""
   ]
  },
  {
   "cell_type": "code",
   "execution_count": 538,
   "metadata": {},
   "outputs": [
    {
     "name": "stdout",
     "output_type": "stream",
     "text": [
      "Successfully created view: 'wei_avg_random_5000_2020_02_15_2020_02_15_view'\n"
     ]
    }
   ],
   "source": [
    "view_names.append(\"wei_avg\")\n",
    "current_view_name = view_names[-1]\n",
    "sql_query = \"\"\"\n",
    "            with features as (\n",
    "                select * from `masterarbeit-245718.ethereum_us.{view_id_wei}` \n",
    "                inner join `masterarbeit-245718.ethereum_us.{view_id_tx}` using(address) \n",
    "            )\n",
    "            select \n",
    "                address,\n",
    "                CASE \n",
    "                    when numberOfTranscationsSent > 0 THEN weiSent / numberOfTranscationsSent \n",
    "                    when numberOfTranscationsSent = 0 THEN 0 \n",
    "                END as avg_wei_sent,\n",
    "                CASE \n",
    "                    when numberOfTranscationsReceived > 0 THEN weiReceived / numberOfTranscationsReceived \n",
    "                    when numberOfTranscationsReceived = 0 THEN 0 \n",
    "                END as avg_wei_received\n",
    "            from features        \n",
    "            \"\"\".format(view_id_wei=view_ids[\"wei\"], view_id_tx=view_ids[\"tx\"])\n",
    "\n",
    "view_ids[current_view_name] = \"{}_{}_{}_{}_{}_view\".format(current_view_name, address_selection, approximate_number_of_addresses, observation_period[0].replace(\"-\",\"_\"),observation_period[1].replace(\"-\",\"_\"))\n",
    "view_ref = client.dataset(dataset_id).table(view_ids[current_view_name])\n",
    "view = bigquery.Table(view_ref)\n",
    "view.view_query = sql_query\n",
    "view = client.create_table(view)  # API request\n",
    "print(\"Successfully created view: '{}'\".format(view_ids[current_view_name]))"
   ]
  },
  {
   "cell_type": "markdown",
   "metadata": {},
   "source": [
    "Create View \"usd_avg\""
   ]
  },
  {
   "cell_type": "code",
   "execution_count": 539,
   "metadata": {},
   "outputs": [
    {
     "name": "stdout",
     "output_type": "stream",
     "text": [
      "Successfully created view: 'usd_avg_random_5000_2020_02_15_2020_02_15_view'\n"
     ]
    }
   ],
   "source": [
    "view_names.append(\"usd_avg\")\n",
    "current_view_name = view_names[-1]\n",
    "sql_query = \"\"\"\n",
    "            with features as (\n",
    "                select * from `masterarbeit-245718.ethereum_us.{view_id_usd}` \n",
    "                inner join `masterarbeit-245718.ethereum_us.{view_id_tx}` using(address) \n",
    "            )\n",
    "            select \n",
    "                address, \n",
    "                CASE \n",
    "                    when numberOfTranscationsSent > 0 THEN usdSent / numberOfTranscationsSent \n",
    "                    when numberOfTranscationsSent = 0 THEN 0 \n",
    "                END as avg_usd_sent,\n",
    "                CASE \n",
    "                    when numberOfTranscationsReceived > 0 THEN usdReceived / numberOfTranscationsReceived \n",
    "                    when numberOfTranscationsReceived = 0 THEN 0 \n",
    "                END as avg_usd_received\n",
    "            from features        \n",
    "            \"\"\".format(view_id_usd=view_ids[\"usd\"], view_id_tx=view_ids[\"tx\"])\n",
    "\n",
    "view_ids[current_view_name] = \"{}_{}_{}_{}_{}_view\".format(current_view_name, address_selection, approximate_number_of_addresses, observation_period[0].replace(\"-\",\"_\"),observation_period[1].replace(\"-\",\"_\"))\n",
    "view_ref = client.dataset(dataset_id).table(view_ids[current_view_name])\n",
    "view = bigquery.Table(view_ref)\n",
    "view.view_query = sql_query\n",
    "view = client.create_table(view)  # API request\n",
    "print(\"Successfully created view: '{}'\".format(view_ids[current_view_name]))"
   ]
  },
  {
   "cell_type": "markdown",
   "metadata": {},
   "source": [
    "Create View \"wei_avg_monthly\""
   ]
  },
  {
   "cell_type": "code",
   "execution_count": 540,
   "metadata": {},
   "outputs": [
    {
     "name": "stdout",
     "output_type": "stream",
     "text": [
      "Successfully created view: 'wei_avg_monthly_random_5000_2020_02_15_2020_02_15_view'\n"
     ]
    }
   ],
   "source": [
    "view_names.append(\"wei_avg_monthly\")\n",
    "current_view_name = view_names[-1]\n",
    "sql_query = \"\"\"\n",
    "            with features as (\n",
    "                select * from `masterarbeit-245718.ethereum_us.{view_id_wei}` \n",
    "                inner join `masterarbeit-245718.ethereum_us.{view_id_active_months}` using(address) \n",
    "            )\n",
    "            select address,\n",
    "                CASE \n",
    "                    when active_months > 0 THEN weiSent / active_months \n",
    "                    when active_months = 0 THEN 0 \n",
    "                END as monthly_wei_sent,\n",
    "                CASE \n",
    "                     when active_months > 0 THEN weiReceived / active_months \n",
    "                     when active_months = 0 THEN 0 \n",
    "                END as monthly_wei_received\n",
    "                from features\n",
    "            \"\"\".format(view_id_wei=view_ids[\"wei\"], view_id_active_months=view_ids[\"active_months\"])\n",
    "\n",
    "view_ids[current_view_name] = \"{}_{}_{}_{}_{}_view\".format(current_view_name, address_selection, approximate_number_of_addresses, observation_period[0].replace(\"-\",\"_\"),observation_period[1].replace(\"-\",\"_\"))\n",
    "view_ref = client.dataset(dataset_id).table(view_ids[current_view_name])\n",
    "view = bigquery.Table(view_ref)\n",
    "view.view_query = sql_query\n",
    "view = client.create_table(view)  # API request\n",
    "print(\"Successfully created view: '{}'\".format(view_ids[current_view_name]))"
   ]
  },
  {
   "cell_type": "markdown",
   "metadata": {},
   "source": [
    "Create View \"usd_avg_monthly\""
   ]
  },
  {
   "cell_type": "code",
   "execution_count": 541,
   "metadata": {},
   "outputs": [
    {
     "name": "stdout",
     "output_type": "stream",
     "text": [
      "Successfully created view: 'usd_avg_monthly_random_5000_2020_02_15_2020_02_15_view'\n"
     ]
    }
   ],
   "source": [
    "view_names.append(\"usd_avg_monthly\")\n",
    "current_view_name = view_names[-1]\n",
    "sql_query = \"\"\"\n",
    "            with features as (\n",
    "                select * from `masterarbeit-245718.ethereum_us.{view_id_usd}` \n",
    "                inner join `masterarbeit-245718.ethereum_us.{view_id_active_months}` using(address) \n",
    "            )\n",
    "            select address,\n",
    "                CASE \n",
    "                    when active_months > 0 THEN usdSent / active_months \n",
    "                    when active_months = 0 THEN 0 \n",
    "                END as monthly_usd_sent,\n",
    "                CASE \n",
    "                     when active_months > 0 THEN usdReceived / active_months \n",
    "                     when active_months = 0 THEN 0 \n",
    "                END as monthly_usd_received\n",
    "                from features\n",
    "            \"\"\".format(view_id_usd=view_ids[\"usd\"], view_id_active_months=view_ids[\"active_months\"])\n",
    "\n",
    "view_ids[current_view_name] = \"{}_{}_{}_{}_{}_view\".format(current_view_name, address_selection, approximate_number_of_addresses, observation_period[0].replace(\"-\",\"_\"),observation_period[1].replace(\"-\",\"_\"))\n",
    "view_ref = client.dataset(dataset_id).table(view_ids[current_view_name])\n",
    "view = bigquery.Table(view_ref)\n",
    "view.view_query = sql_query\n",
    "view = client.create_table(view)  # API request\n",
    "print(\"Successfully created view: '{}'\".format(view_ids[current_view_name]))"
   ]
  },
  {
   "cell_type": "markdown",
   "metadata": {},
   "source": [
    "Create View \"tx_avg_monthly\""
   ]
  },
  {
   "cell_type": "code",
   "execution_count": 542,
   "metadata": {},
   "outputs": [
    {
     "name": "stdout",
     "output_type": "stream",
     "text": [
      "Successfully created view: 'tx_avg_monthly_random_5000_2020_02_15_2020_02_15_view'\n"
     ]
    }
   ],
   "source": [
    "view_names.append(\"tx_avg_monthly\")\n",
    "current_view_name = view_names[-1]\n",
    "sql_query = \"\"\"\n",
    "            with features as (\n",
    "                select * from `masterarbeit-245718.ethereum_us.{view_id_tx}` \n",
    "                inner join `masterarbeit-245718.ethereum_us.{view_id_active_months}` using(address) \n",
    "            )\n",
    "            select address,\n",
    "                CASE \n",
    "                    when active_months > 0 THEN numberOfTranscationsSent / active_months \n",
    "                    when active_months = 0 THEN 0 \n",
    "                END as monthly_outgoing_txns,\n",
    "                CASE \n",
    "                    when active_months > 0 THEN numberOfTranscationsReceived / active_months \n",
    "                    when active_months = 0 THEN 0 \n",
    "                END as monthly_incoming_txns\n",
    "            from features\n",
    "            \"\"\".format(view_id_tx=view_ids[\"tx\"], view_id_active_months=view_ids[\"active_months\"])\n",
    "\n",
    "view_ids[current_view_name] = \"{}_{}_{}_{}_{}_view\".format(current_view_name, address_selection, approximate_number_of_addresses, observation_period[0].replace(\"-\",\"_\"),observation_period[1].replace(\"-\",\"_\"))\n",
    "view_ref = client.dataset(dataset_id).table(view_ids[current_view_name])\n",
    "view = bigquery.Table(view_ref)\n",
    "view.view_query = sql_query\n",
    "view = client.create_table(view)  # API request\n",
    "print(\"Successfully created view: '{}'\".format(view_ids[current_view_name]))"
   ]
  },
  {
   "cell_type": "markdown",
   "metadata": {},
   "source": [
    "Create View \"contracts_created\""
   ]
  },
  {
   "cell_type": "code",
   "execution_count": 543,
   "metadata": {},
   "outputs": [
    {
     "name": "stdout",
     "output_type": "stream",
     "text": [
      "Successfully created view: 'contracts_created_random_5000_2020_02_15_2020_02_15_view'\n"
     ]
    }
   ],
   "source": [
    "view_names.append(\"contracts_created\")\n",
    "current_view_name = view_names[-1]\n",
    "sql_query = \"\"\"\n",
    "            select \n",
    "                from_address as address, \n",
    "                count(*) as number_of_contracts_created\n",
    "            from `masterarbeit-245718.ethereum_us.{view_id_traces}`\n",
    "            where status = 1 and trace_type = \"create\"\n",
    "            group by from_address\n",
    "            order by from_address\n",
    "            \"\"\".format(view_id_traces=view_ids[\"traces\"])\n",
    "\n",
    "view_ids[current_view_name] = \"{}_{}_{}_{}_{}_view\".format(current_view_name, address_selection, approximate_number_of_addresses, observation_period[0].replace(\"-\",\"_\"),observation_period[1].replace(\"-\",\"_\"))\n",
    "view_ref = client.dataset(dataset_id).table(view_ids[current_view_name])\n",
    "view = bigquery.Table(view_ref)\n",
    "view.view_query = sql_query\n",
    "view = client.create_table(view)  # API request\n",
    "print(\"Successfully created view: '{}'\".format(view_ids[current_view_name]))"
   ]
  },
  {
   "cell_type": "markdown",
   "metadata": {},
   "source": [
    "Create View \"contract_tx\""
   ]
  },
  {
   "cell_type": "code",
   "execution_count": 544,
   "metadata": {},
   "outputs": [
    {
     "name": "stdout",
     "output_type": "stream",
     "text": [
      "Successfully created view: 'contract_tx_random_5000_2020_02_15_2020_02_15_view'\n"
     ]
    }
   ],
   "source": [
    "view_names.append(\"contract_tx\")\n",
    "current_view_name = view_names[-1]\n",
    "sql_query = \"\"\"\n",
    "            select \n",
    "                from_address as address, count(*) as contract_tx\n",
    "            from `masterarbeit-245718.ethereum_us.{view_id_traces}`\n",
    "                where\n",
    "                    status = 1 and\n",
    "                    (input != \"None\" and input != \"0x\" and trace_type = \"call\") or \n",
    "                    trace_type = \"create\" or\n",
    "                    trace_type = \"suicide\"\n",
    "            group by from_address\n",
    "            order by from_address\n",
    "            \"\"\".format(view_id_traces=view_ids[\"traces\"])\n",
    "\n",
    "view_ids[current_view_name] = \"{}_{}_{}_{}_{}_view\".format(current_view_name, address_selection, approximate_number_of_addresses, observation_period[0].replace(\"-\",\"_\"),observation_period[1].replace(\"-\",\"_\"))\n",
    "view_ref = client.dataset(dataset_id).table(view_ids[current_view_name])\n",
    "view = bigquery.Table(view_ref)\n",
    "view.view_query = sql_query\n",
    "view = client.create_table(view)  # API request\n",
    "print(\"Successfully created view: '{}'\".format(view_ids[current_view_name]))"
   ]
  },
  {
   "cell_type": "markdown",
   "metadata": {},
   "source": [
    "Create View \"diff_token_used\""
   ]
  },
  {
   "cell_type": "code",
   "execution_count": 545,
   "metadata": {},
   "outputs": [
    {
     "name": "stdout",
     "output_type": "stream",
     "text": [
      "Successfully created view: 'diff_token_used_random_5000_2020_02_15_2020_02_15_view'\n"
     ]
    }
   ],
   "source": [
    "view_names.append(\"diff_token_used\")\n",
    "current_view_name = view_names[-1]\n",
    "sql_query = \"\"\"\n",
    "            with token_transfers as (\n",
    "                select * from bigquery-public-data.crypto_ethereum.token_transfers \n",
    "                right join `masterarbeit-245718.ethereum_us.{view_id_addresses}` \n",
    "                on from_address = address \n",
    "                where DATE(block_timestamp) >= '{start}' and DATE(block_timestamp) <= '{end}'\n",
    "            )\n",
    "            select \n",
    "                from_address as address, \n",
    "                count(DISTINCT token_address) as diff_token_used\n",
    "            from token_transfers\n",
    "            group by from_address\n",
    "            order by diff_token_used DESC\n",
    "            \"\"\".format(start=observation_period[0], end=observation_period[1], view_id_addresses=view_ids[\"addresses\"]); \n",
    "\n",
    "view_ids[current_view_name] = \"{}_{}_{}_{}_{}_view\".format(current_view_name, address_selection, approximate_number_of_addresses, observation_period[0].replace(\"-\",\"_\"),observation_period[1].replace(\"-\",\"_\"))\n",
    "view_ref = client.dataset(dataset_id).table(view_ids[current_view_name])\n",
    "view = bigquery.Table(view_ref)\n",
    "view.view_query = sql_query\n",
    "view = client.create_table(view)  # API request\n",
    "print(\"Successfully created view: '{}'\".format(view_ids[current_view_name]))"
   ]
  },
  {
   "cell_type": "markdown",
   "metadata": {},
   "source": [
    "## Merge Views"
   ]
  },
  {
   "cell_type": "code",
   "execution_count": 546,
   "metadata": {},
   "outputs": [],
   "source": [
    "# Remove non-feature views\n",
    "for name in [\"traces\",\"addresses\", \"traces_usd\"]:\n",
    "    view_names.remove(name)"
   ]
  },
  {
   "cell_type": "code",
   "execution_count": 547,
   "metadata": {},
   "outputs": [
    {
     "name": "stdout",
     "output_type": "stream",
     "text": [
      "Successfully created view: 'features_random_5000_2020_02_15_2020_02_15_view'\n"
     ]
    }
   ],
   "source": [
    "current_view_name = \"features\"\n",
    "\n",
    "sql_query = \"select * from \"\n",
    "\n",
    "for index, view_name in enumerate(view_names):\n",
    "    sql_query += \"masterarbeit-245718.ethereum_us.{}\".format(view_ids[view_name])\n",
    "    if index != 0:\n",
    "        sql_query += \" using(address)\"\n",
    "    if index != (len(view_names) - 1):\n",
    "        sql_query += \" inner join \"\n",
    "        \n",
    "# sql_query\n",
    "\n",
    "view_ids[current_view_name] = \"{}_{}_{}_{}_{}_view\".format(current_view_name, address_selection, approximate_number_of_addresses, observation_period[0].replace(\"-\",\"_\"),observation_period[1].replace(\"-\",\"_\"))\n",
    "view_ref = client.dataset(dataset_id).table(view_ids[current_view_name])\n",
    "view = bigquery.Table(view_ref)\n",
    "view.view_query = sql_query\n",
    "view = client.create_table(view)  # API request\n",
    "print(\"Successfully created view: '{}'\".format(view_ids[current_view_name]))"
   ]
  },
  {
   "cell_type": "markdown",
   "metadata": {},
   "source": [
    "## Estimate Costs"
   ]
  },
  {
   "cell_type": "code",
   "execution_count": null,
   "metadata": {},
   "outputs": [],
   "source": []
  },
  {
   "cell_type": "markdown",
   "metadata": {},
   "source": [
    "## Execute Query (WARNING: this operation costs money!)"
   ]
  },
  {
   "cell_type": "code",
   "execution_count": null,
   "metadata": {},
   "outputs": [],
   "source": []
  },
  {
   "cell_type": "code",
   "execution_count": null,
   "metadata": {},
   "outputs": [],
   "source": []
  },
  {
   "cell_type": "code",
   "execution_count": null,
   "metadata": {},
   "outputs": [],
   "source": []
  }
 ],
 "metadata": {
  "kernelspec": {
   "display_name": "Python 3",
   "language": "python",
   "name": "python3"
  },
  "language_info": {
   "codemirror_mode": {
    "name": "ipython",
    "version": 3
   },
   "file_extension": ".py",
   "mimetype": "text/x-python",
   "name": "python",
   "nbconvert_exporter": "python",
   "pygments_lexer": "ipython3",
   "version": "3.6.9"
  }
 },
 "nbformat": 4,
 "nbformat_minor": 2
}

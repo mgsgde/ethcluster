{
 "cells": [
  {
   "cell_type": "markdown",
   "metadata": {},
   "source": [
    "# Setup"
   ]
  },
  {
   "cell_type": "markdown",
   "metadata": {},
   "source": [
    "## Configuration"
   ]
  },
  {
   "cell_type": "code",
   "execution_count": 1,
   "metadata": {},
   "outputs": [],
   "source": [
    "import pandas as pd\n",
    "import numpy as np\n",
    "import matplotlib.pyplot as plt\n",
    "from google.cloud import bigquery\n",
    "import time\n",
    "from IPython.core.interactiveshell import InteractiveShell\n",
    "import simplejson as json\n",
    "import os\n",
    "import re\n",
    "import datetime"
   ]
  },
  {
   "cell_type": "code",
   "execution_count": 2,
   "metadata": {},
   "outputs": [
    {
     "name": "stdout",
     "output_type": "stream",
     "text": [
      "env: GOOGLE_APPLICATION_CREDENTIALS=../secrets/bigquery-service-account.json\n"
     ]
    }
   ],
   "source": [
    "%env GOOGLE_APPLICATION_CREDENTIALS=../secrets/bigquery-service-account.json \n",
    "%load_ext google.cloud.bigquery\n",
    "\n",
    "client = bigquery.Client()\n",
    "InteractiveShell.ast_node_interactivity = \"all\""
   ]
  },
  {
   "cell_type": "markdown",
   "metadata": {},
   "source": [
    "## Create Test-Tables in BigQuery"
   ]
  },
  {
   "cell_type": "code",
   "execution_count": 3,
   "metadata": {},
   "outputs": [],
   "source": [
    "import papermill as pm\n",
    "from enum import Enum"
   ]
  },
  {
   "cell_type": "code",
   "execution_count": 4,
   "metadata": {},
   "outputs": [],
   "source": [
    "number_of_addresses = 100\n",
    "\n",
    "# format: dd.mm.yyyy\n",
    "observation_period_start = \"2020-02-01 05:30:00+00\"\n",
    "observation_period_end = \"2020-02-01 05:40:30+00\"\n",
    "\n",
    "class ADDRESS_SELECTION(Enum):\n",
    "    RANDOM = 1 # selects random addresses, that have been active within the observation period.\n",
    "    RICHEST = 2 # selects the accounts that have the most ether # not yet implemented\n",
    "    HIGHEST_TURNOVER = 3 # selects the accounts that have the most ether received + sent\n",
    "\n",
    "address_selection = ADDRESS_SELECTION.HIGHEST_TURNOVER.value\n",
    "\n",
    "# max USD amount to spent for executing sql queries\n",
    "max_bigquery_costs_usd = 2\n",
    "\n",
    "# Delete old tables\n",
    "reset = True"
   ]
  },
  {
   "cell_type": "code",
   "execution_count": 5,
   "metadata": {},
   "outputs": [],
   "source": [
    "%%capture\n",
    "pm.execute_notebook(\n",
    "   './features.ipynb',\n",
    "   './build/features.build.ipynb',\n",
    "   parameters = dict(observation_period_start=observation_period_start,observation_period_end=observation_period_end, address_selection=address_selection,max_bigquery_costs_usd=max_bigquery_costs_usd, reset = reset)\n",
    ")"
   ]
  },
  {
   "cell_type": "markdown",
   "metadata": {},
   "source": [
    "Todo: Only execute notebook when tables are not yet uploaded to BigQuery"
   ]
  },
  {
   "cell_type": "markdown",
   "metadata": {},
   "source": [
    "# Tests"
   ]
  },
  {
   "cell_type": "code",
   "execution_count": 6,
   "metadata": {},
   "outputs": [],
   "source": [
    "table_ids = dict()"
   ]
  },
  {
   "cell_type": "markdown",
   "metadata": {},
   "source": [
    "## feature view \"wei\" "
   ]
  },
  {
   "cell_type": "code",
   "execution_count": 7,
   "metadata": {},
   "outputs": [],
   "source": [
    "current_view_name = \"wei\"\n",
    "table_ids[current_view_name] = \"{}_{}_{}_{}_{}_view\".format(current_view_name, ADDRESS_SELECTION(address_selection).name, number_of_addresses, re.sub(r'[-.+: ]', '_', observation_period_start),re.sub(r'[-.+: ]', '_', observation_period_end))\n",
    "\n",
    "sql = \"\"\"\n",
    "    SELECT *\n",
    "    FROM `masterarbeit-245718.ethereum_us.{table_id_features}` \n",
    "\"\"\".format(table_id_features = table_ids[\"wei\"])\n",
    "\n",
    "query_job = client.query(sql)  \n",
    "wei_sql = query_job.result().to_dataframe(); \n",
    "wei_sql = wei_sql.set_index(\"address\")"
   ]
  },
  {
   "cell_type": "code",
   "execution_count": 8,
   "metadata": {},
   "outputs": [
    {
     "name": "stdout",
     "output_type": "stream",
     "text": [
      "Loading data from bigquery ...\n",
      "Time to retrieve data from BigQuery: 0 Minutes.\n"
     ]
    }
   ],
   "source": [
    "current_view_name = \"traces\"\n",
    "table_ids[current_view_name] = \"{}_{}_{}_{}_{}_view\".format(current_view_name, ADDRESS_SELECTION(address_selection).name, number_of_addresses, re.sub(r'[-.+: ]', '_', observation_period_start),re.sub(r'[-.+: ]', '_', observation_period_end))\n",
    "\n",
    "filename = '{}.json'.format(table_ids[current_view_name])\n",
    "data_dir = \"../data\"\n",
    "\n",
    "if filename not in os.listdir(data_dir):\n",
    "    \n",
    "    print(\"Loading data from bigquery ...\")\n",
    "    \n",
    "    sql = \"\"\"\n",
    "        SELECT *\n",
    "        FROM `masterarbeit-245718.ethereum_us.{table_id_features}` \n",
    "        \"\"\".format(table_id_features = table_ids[\"traces\"])\n",
    "\n",
    "    query_job = client.query(sql)  \n",
    "    \n",
    "    start = time.time();\n",
    "    \n",
    "    traces_sql = query_job.result().to_dataframe(); \n",
    "    \n",
    "    done = time.time();\n",
    "    elapsed = round(done - start);\n",
    "    \n",
    "    print(\"Time to retrieve data from BigQuery: {} Minutes.\".format(round(elapsed/60)))\n",
    "    \n",
    "    with open('{}/{}'.format(data_dir, filename), 'w') as json_file:\n",
    "        json.dump(traces_sql.to_dict(), json_file, use_decimal=True, default=str)\n",
    "        \n",
    "else: \n",
    "    \n",
    "    print(\"Loading data from local cache ...\")\n",
    "    \n",
    "    start = time.time();\n",
    "    \n",
    "    with open('../data/{}'.format(filename), \"r\") as file:  \n",
    "        file_content_json = json.load(file);\n",
    "        \n",
    "    done = time.time();\n",
    "    elapsed = round(done - start);\n",
    "    \n",
    "    print(\"Time to retrieve data from local cache: {} Seconds.\".format(elapsed))\n",
    "    \n",
    "    traces_sql = pd.DataFrame(file_content_json)      "
   ]
  },
  {
   "cell_type": "code",
   "execution_count": 9,
   "metadata": {},
   "outputs": [
    {
     "name": "stdout",
     "output_type": "stream",
     "text": [
      "Size of traces dataframe: 2.0 Megabytes.\n"
     ]
    }
   ],
   "source": [
    "m = traces_sql.memory_usage();\n",
    "totalBytes = m.sum();\n",
    "totalMegabytes = totalBytes/10**6;\n",
    "print(\"Size of traces dataframe: {} Megabytes.\".format(round(totalMegabytes)))"
   ]
  },
  {
   "cell_type": "code",
   "execution_count": 10,
   "metadata": {},
   "outputs": [],
   "source": [
    "# filter traces\n",
    "traces = [row for (index, row) in traces_sql.iterrows() if (row.call_type not in ['delegatecall', 'callcode', 'staticcall'] or row.call_type == None)]\n",
    "traces = pd.DataFrame(traces)\n",
    "# format traces\n",
    "traces[\"block_timestamp\"] = pd.to_datetime(traces[\"block_timestamp\"])"
   ]
  },
  {
   "cell_type": "code",
   "execution_count": 11,
   "metadata": {},
   "outputs": [],
   "source": [
    "# calculate wei send received values for each address\n",
    "wei_py = pd.DataFrame(index=set(traces_sql[\"from_address\"].unique()) | set(traces_sql[\"to_address\"].unique()))\n",
    "wei_py[\"wei_received\"] = traces.groupby(\"to_address\").apply(lambda row: row[\"value\"].sum())\n",
    "wei_py[\"wei_sent\"] = traces.groupby(\"from_address\").apply(lambda row: row[\"value\"].sum())\n",
    "# refactoring\n",
    "wei_py[\"wei_received\"] = wei_py[\"wei_received\"].fillna(0.)\n",
    "wei_py[\"wei_sent\"] = wei_py[\"wei_sent\"].fillna(0.)\n",
    "wei_py.index = wei_py.index.rename(\"address\")\n",
    "wei_py = wei_py.reindex(wei_sql.index, fill_value=0.)"
   ]
  },
  {
   "cell_type": "code",
   "execution_count": 12,
   "metadata": {},
   "outputs": [
    {
     "data": {
      "text/html": [
       "<div>\n",
       "<style scoped>\n",
       "    .dataframe tbody tr th:only-of-type {\n",
       "        vertical-align: middle;\n",
       "    }\n",
       "\n",
       "    .dataframe tbody tr th {\n",
       "        vertical-align: top;\n",
       "    }\n",
       "\n",
       "    .dataframe thead th {\n",
       "        text-align: right;\n",
       "    }\n",
       "</style>\n",
       "<table border=\"1\" class=\"dataframe\">\n",
       "  <thead>\n",
       "    <tr style=\"text-align: right;\">\n",
       "      <th></th>\n",
       "      <th>wei_received</th>\n",
       "      <th>wei_sent</th>\n",
       "    </tr>\n",
       "    <tr>\n",
       "      <th>address</th>\n",
       "      <th></th>\n",
       "      <th></th>\n",
       "    </tr>\n",
       "  </thead>\n",
       "  <tbody>\n",
       "    <tr>\n",
       "      <th>0x3f5ce5fbfe3e9af3971dd833d26ba9b5c936f0be</th>\n",
       "      <td>1117745663359893508278</td>\n",
       "      <td>257079910000000000</td>\n",
       "    </tr>\n",
       "    <tr>\n",
       "      <th>0x9cc5be83b211620cfe23e25bc65d6da6751bcf09</th>\n",
       "      <td>0</td>\n",
       "      <td>400002942480000000000</td>\n",
       "    </tr>\n",
       "    <tr>\n",
       "      <th>0xd8a83b72377476d0a66683cde20a8aad0b628713</th>\n",
       "      <td>306897425157000000000</td>\n",
       "      <td>14490000000000000000</td>\n",
       "    </tr>\n",
       "    <tr>\n",
       "      <th>0x310962d9a743f1d9f153743b90b2121e040b42d8</th>\n",
       "      <td>0</td>\n",
       "      <td>316002360680000000000</td>\n",
       "    </tr>\n",
       "    <tr>\n",
       "      <th>0xc1c3257c6123f644e359d3efce3c07e9ec75ec36</th>\n",
       "      <td>0</td>\n",
       "      <td>300001025557000000000</td>\n",
       "    </tr>\n",
       "  </tbody>\n",
       "</table>\n",
       "</div>"
      ],
      "text/plain": [
       "                                                      wei_received  \\\n",
       "address                                                              \n",
       "0x3f5ce5fbfe3e9af3971dd833d26ba9b5c936f0be  1117745663359893508278   \n",
       "0x9cc5be83b211620cfe23e25bc65d6da6751bcf09                       0   \n",
       "0xd8a83b72377476d0a66683cde20a8aad0b628713   306897425157000000000   \n",
       "0x310962d9a743f1d9f153743b90b2121e040b42d8                       0   \n",
       "0xc1c3257c6123f644e359d3efce3c07e9ec75ec36                       0   \n",
       "\n",
       "                                                         wei_sent  \n",
       "address                                                            \n",
       "0x3f5ce5fbfe3e9af3971dd833d26ba9b5c936f0be     257079910000000000  \n",
       "0x9cc5be83b211620cfe23e25bc65d6da6751bcf09  400002942480000000000  \n",
       "0xd8a83b72377476d0a66683cde20a8aad0b628713   14490000000000000000  \n",
       "0x310962d9a743f1d9f153743b90b2121e040b42d8  316002360680000000000  \n",
       "0xc1c3257c6123f644e359d3efce3c07e9ec75ec36  300001025557000000000  "
      ]
     },
     "execution_count": 12,
     "metadata": {},
     "output_type": "execute_result"
    },
    {
     "data": {
      "text/html": [
       "<div>\n",
       "<style scoped>\n",
       "    .dataframe tbody tr th:only-of-type {\n",
       "        vertical-align: middle;\n",
       "    }\n",
       "\n",
       "    .dataframe tbody tr th {\n",
       "        vertical-align: top;\n",
       "    }\n",
       "\n",
       "    .dataframe thead th {\n",
       "        text-align: right;\n",
       "    }\n",
       "</style>\n",
       "<table border=\"1\" class=\"dataframe\">\n",
       "  <thead>\n",
       "    <tr style=\"text-align: right;\">\n",
       "      <th></th>\n",
       "      <th>wei_received</th>\n",
       "      <th>wei_sent</th>\n",
       "    </tr>\n",
       "    <tr>\n",
       "      <th>address</th>\n",
       "      <th></th>\n",
       "      <th></th>\n",
       "    </tr>\n",
       "  </thead>\n",
       "  <tbody>\n",
       "    <tr>\n",
       "      <th>0x3f5ce5fbfe3e9af3971dd833d26ba9b5c936f0be</th>\n",
       "      <td>1117745663359893508278</td>\n",
       "      <td>257079910000000000</td>\n",
       "    </tr>\n",
       "    <tr>\n",
       "      <th>0x9cc5be83b211620cfe23e25bc65d6da6751bcf09</th>\n",
       "      <td>0</td>\n",
       "      <td>400002942480000000000</td>\n",
       "    </tr>\n",
       "    <tr>\n",
       "      <th>0xd8a83b72377476d0a66683cde20a8aad0b628713</th>\n",
       "      <td>306897425157000000000</td>\n",
       "      <td>14490000000000000000</td>\n",
       "    </tr>\n",
       "    <tr>\n",
       "      <th>0x310962d9a743f1d9f153743b90b2121e040b42d8</th>\n",
       "      <td>0</td>\n",
       "      <td>316002360680000000000</td>\n",
       "    </tr>\n",
       "    <tr>\n",
       "      <th>0xc1c3257c6123f644e359d3efce3c07e9ec75ec36</th>\n",
       "      <td>0</td>\n",
       "      <td>300001025557000000000</td>\n",
       "    </tr>\n",
       "  </tbody>\n",
       "</table>\n",
       "</div>"
      ],
      "text/plain": [
       "                                                      wei_received  \\\n",
       "address                                                              \n",
       "0x3f5ce5fbfe3e9af3971dd833d26ba9b5c936f0be  1117745663359893508278   \n",
       "0x9cc5be83b211620cfe23e25bc65d6da6751bcf09                       0   \n",
       "0xd8a83b72377476d0a66683cde20a8aad0b628713   306897425157000000000   \n",
       "0x310962d9a743f1d9f153743b90b2121e040b42d8                       0   \n",
       "0xc1c3257c6123f644e359d3efce3c07e9ec75ec36                       0   \n",
       "\n",
       "                                                         wei_sent  \n",
       "address                                                            \n",
       "0x3f5ce5fbfe3e9af3971dd833d26ba9b5c936f0be     257079910000000000  \n",
       "0x9cc5be83b211620cfe23e25bc65d6da6751bcf09  400002942480000000000  \n",
       "0xd8a83b72377476d0a66683cde20a8aad0b628713   14490000000000000000  \n",
       "0x310962d9a743f1d9f153743b90b2121e040b42d8  316002360680000000000  \n",
       "0xc1c3257c6123f644e359d3efce3c07e9ec75ec36  300001025557000000000  "
      ]
     },
     "execution_count": 12,
     "metadata": {},
     "output_type": "execute_result"
    }
   ],
   "source": [
    "wei_py.head()\n",
    "wei_sql.head()"
   ]
  },
  {
   "cell_type": "code",
   "execution_count": 13,
   "metadata": {},
   "outputs": [
    {
     "name": "stdout",
     "output_type": "stream",
     "text": [
      "weiSent, weiReceived Test succeeded!!\n"
     ]
    }
   ],
   "source": [
    "pd.testing.assert_frame_equal(wei_py, wei_sql)\n",
    "print(\"weiSent, weiReceived Test succeeded!!\")"
   ]
  },
  {
   "cell_type": "markdown",
   "metadata": {},
   "source": [
    "### feature view \"tx\""
   ]
  },
  {
   "cell_type": "code",
   "execution_count": 14,
   "metadata": {},
   "outputs": [],
   "source": [
    "current_view_name = \"tx\"\n",
    "table_ids[current_view_name] = \"{}_{}_{}_{}_{}_view\".format(current_view_name, ADDRESS_SELECTION(address_selection).name, number_of_addresses, re.sub(r'[-.+: ]', '_', observation_period_start),re.sub(r'[-.+: ]', '_', observation_period_end))\n",
    "\n",
    "sql = \"\"\"\n",
    "    SELECT *\n",
    "    FROM `masterarbeit-245718.ethereum_us.{table_id_features}` \n",
    "\"\"\".format(table_id_features = table_ids[\"tx\"])\n",
    "\n",
    "query_job = client.query(sql) \n",
    "tx_sql = query_job.result().to_dataframe(); \n",
    "# refactoring\n",
    "tx_sql = tx_sql.set_index(\"address\")"
   ]
  },
  {
   "cell_type": "code",
   "execution_count": 15,
   "metadata": {},
   "outputs": [],
   "source": [
    "# res3 = res2.copy()\n",
    "# res3 = res3.fillna(0.)\n",
    "# res3 = res3.sort_values(by=\"address\", ascending=False)\n",
    "# tx_sent_received_result_sql = res3.set_index(\"address\", drop=True)"
   ]
  },
  {
   "cell_type": "code",
   "execution_count": 16,
   "metadata": {},
   "outputs": [],
   "source": [
    "tx_py = pd.DataFrame(index=set(traces[\"from_address\"].unique()) | set(traces[\"to_address\"].unique()))\n",
    "tx_py[\"number_of_tx_received\"] = traces.groupby('to_address').count().value\n",
    "tx_py[\"number_of_tx_sent\"] = traces.groupby('from_address').count().value\n",
    "tx_py = tx_py.fillna(0)\n",
    "tx_py = tx_py.astype(\"int\")\n",
    "tx_py.index = tx_py.index.rename(\"address\")\n",
    "tx_py = tx_py.reindex(wei_sql.index, fill_value=0.)"
   ]
  },
  {
   "cell_type": "code",
   "execution_count": 17,
   "metadata": {},
   "outputs": [
    {
     "data": {
      "text/html": [
       "<div>\n",
       "<style scoped>\n",
       "    .dataframe tbody tr th:only-of-type {\n",
       "        vertical-align: middle;\n",
       "    }\n",
       "\n",
       "    .dataframe tbody tr th {\n",
       "        vertical-align: top;\n",
       "    }\n",
       "\n",
       "    .dataframe thead th {\n",
       "        text-align: right;\n",
       "    }\n",
       "</style>\n",
       "<table border=\"1\" class=\"dataframe\">\n",
       "  <thead>\n",
       "    <tr style=\"text-align: right;\">\n",
       "      <th></th>\n",
       "      <th>number_of_tx_received</th>\n",
       "      <th>number_of_tx_sent</th>\n",
       "    </tr>\n",
       "    <tr>\n",
       "      <th>address</th>\n",
       "      <th></th>\n",
       "      <th></th>\n",
       "    </tr>\n",
       "  </thead>\n",
       "  <tbody>\n",
       "    <tr>\n",
       "      <th>0x3f5ce5fbfe3e9af3971dd833d26ba9b5c936f0be</th>\n",
       "      <td>41</td>\n",
       "      <td>11</td>\n",
       "    </tr>\n",
       "    <tr>\n",
       "      <th>0x9cc5be83b211620cfe23e25bc65d6da6751bcf09</th>\n",
       "      <td>0</td>\n",
       "      <td>1</td>\n",
       "    </tr>\n",
       "    <tr>\n",
       "      <th>0xd8a83b72377476d0a66683cde20a8aad0b628713</th>\n",
       "      <td>4</td>\n",
       "      <td>2</td>\n",
       "    </tr>\n",
       "    <tr>\n",
       "      <th>0x310962d9a743f1d9f153743b90b2121e040b42d8</th>\n",
       "      <td>0</td>\n",
       "      <td>1</td>\n",
       "    </tr>\n",
       "    <tr>\n",
       "      <th>0xc1c3257c6123f644e359d3efce3c07e9ec75ec36</th>\n",
       "      <td>0</td>\n",
       "      <td>1</td>\n",
       "    </tr>\n",
       "  </tbody>\n",
       "</table>\n",
       "</div>"
      ],
      "text/plain": [
       "                                            number_of_tx_received  \\\n",
       "address                                                             \n",
       "0x3f5ce5fbfe3e9af3971dd833d26ba9b5c936f0be                     41   \n",
       "0x9cc5be83b211620cfe23e25bc65d6da6751bcf09                      0   \n",
       "0xd8a83b72377476d0a66683cde20a8aad0b628713                      4   \n",
       "0x310962d9a743f1d9f153743b90b2121e040b42d8                      0   \n",
       "0xc1c3257c6123f644e359d3efce3c07e9ec75ec36                      0   \n",
       "\n",
       "                                            number_of_tx_sent  \n",
       "address                                                        \n",
       "0x3f5ce5fbfe3e9af3971dd833d26ba9b5c936f0be                 11  \n",
       "0x9cc5be83b211620cfe23e25bc65d6da6751bcf09                  1  \n",
       "0xd8a83b72377476d0a66683cde20a8aad0b628713                  2  \n",
       "0x310962d9a743f1d9f153743b90b2121e040b42d8                  1  \n",
       "0xc1c3257c6123f644e359d3efce3c07e9ec75ec36                  1  "
      ]
     },
     "execution_count": 17,
     "metadata": {},
     "output_type": "execute_result"
    },
    {
     "data": {
      "text/html": [
       "<div>\n",
       "<style scoped>\n",
       "    .dataframe tbody tr th:only-of-type {\n",
       "        vertical-align: middle;\n",
       "    }\n",
       "\n",
       "    .dataframe tbody tr th {\n",
       "        vertical-align: top;\n",
       "    }\n",
       "\n",
       "    .dataframe thead th {\n",
       "        text-align: right;\n",
       "    }\n",
       "</style>\n",
       "<table border=\"1\" class=\"dataframe\">\n",
       "  <thead>\n",
       "    <tr style=\"text-align: right;\">\n",
       "      <th></th>\n",
       "      <th>number_of_tx_received</th>\n",
       "      <th>number_of_tx_sent</th>\n",
       "    </tr>\n",
       "    <tr>\n",
       "      <th>address</th>\n",
       "      <th></th>\n",
       "      <th></th>\n",
       "    </tr>\n",
       "  </thead>\n",
       "  <tbody>\n",
       "    <tr>\n",
       "      <th>0x3f5ce5fbfe3e9af3971dd833d26ba9b5c936f0be</th>\n",
       "      <td>41</td>\n",
       "      <td>11</td>\n",
       "    </tr>\n",
       "    <tr>\n",
       "      <th>0x9cc5be83b211620cfe23e25bc65d6da6751bcf09</th>\n",
       "      <td>0</td>\n",
       "      <td>1</td>\n",
       "    </tr>\n",
       "    <tr>\n",
       "      <th>0xd8a83b72377476d0a66683cde20a8aad0b628713</th>\n",
       "      <td>4</td>\n",
       "      <td>2</td>\n",
       "    </tr>\n",
       "    <tr>\n",
       "      <th>0x310962d9a743f1d9f153743b90b2121e040b42d8</th>\n",
       "      <td>0</td>\n",
       "      <td>1</td>\n",
       "    </tr>\n",
       "    <tr>\n",
       "      <th>0xc1c3257c6123f644e359d3efce3c07e9ec75ec36</th>\n",
       "      <td>0</td>\n",
       "      <td>1</td>\n",
       "    </tr>\n",
       "  </tbody>\n",
       "</table>\n",
       "</div>"
      ],
      "text/plain": [
       "                                            number_of_tx_received  \\\n",
       "address                                                             \n",
       "0x3f5ce5fbfe3e9af3971dd833d26ba9b5c936f0be                     41   \n",
       "0x9cc5be83b211620cfe23e25bc65d6da6751bcf09                      0   \n",
       "0xd8a83b72377476d0a66683cde20a8aad0b628713                      4   \n",
       "0x310962d9a743f1d9f153743b90b2121e040b42d8                      0   \n",
       "0xc1c3257c6123f644e359d3efce3c07e9ec75ec36                      0   \n",
       "\n",
       "                                            number_of_tx_sent  \n",
       "address                                                        \n",
       "0x3f5ce5fbfe3e9af3971dd833d26ba9b5c936f0be                 11  \n",
       "0x9cc5be83b211620cfe23e25bc65d6da6751bcf09                  1  \n",
       "0xd8a83b72377476d0a66683cde20a8aad0b628713                  2  \n",
       "0x310962d9a743f1d9f153743b90b2121e040b42d8                  1  \n",
       "0xc1c3257c6123f644e359d3efce3c07e9ec75ec36                  1  "
      ]
     },
     "execution_count": 17,
     "metadata": {},
     "output_type": "execute_result"
    }
   ],
   "source": [
    "tx_py.head()\n",
    "tx_sql.head()"
   ]
  },
  {
   "cell_type": "code",
   "execution_count": 18,
   "metadata": {},
   "outputs": [
    {
     "name": "stdout",
     "output_type": "stream",
     "text": [
      "txSent, txReceived Test succeeded !!\n"
     ]
    }
   ],
   "source": [
    "pd.testing.assert_frame_equal(tx_py, tx_sql)\n",
    "print(\"txSent, txReceived Test succeeded !!\")"
   ]
  },
  {
   "cell_type": "code",
   "execution_count": 19,
   "metadata": {},
   "outputs": [],
   "source": [
    "# features = balance_result_sql.join(tx_sent_received_result_sql,how=\"left\")\n",
    "# features = features.reset_index()\n",
    "# features.to_gbq('ethereum_us.sample_features', if_exists=\"replace\")"
   ]
  },
  {
   "cell_type": "markdown",
   "metadata": {},
   "source": [
    "### feature view avg_time_diff_sent_tx"
   ]
  },
  {
   "cell_type": "code",
   "execution_count": 20,
   "metadata": {},
   "outputs": [],
   "source": [
    "current_view_name = \"avg_time_diff_sent_tx\"\n",
    "table_ids[current_view_name] = \"{}_{}_{}_{}_{}_view\".format(current_view_name, ADDRESS_SELECTION(address_selection).name, number_of_addresses, re.sub(r'[-.+: ]', '_', observation_period_start),re.sub(r'[-.+: ]', '_', observation_period_end))\n",
    "\n",
    "sql = \"\"\"\n",
    "    SELECT *\n",
    "    FROM `masterarbeit-245718.ethereum_us.{table_id_features}` \n",
    "\"\"\".format(table_id_features = table_ids[\"avg_time_diff_sent_tx\"])\n",
    "\n",
    "query_job = client.query(sql) \n",
    "avg_time_diff_sent_tx_sql = query_job.result().to_dataframe(); \n",
    "# refactoring\n",
    "avg_time_diff_sent_tx_sql = avg_time_diff_sent_tx_sql.set_index(\"address\")"
   ]
  },
  {
   "cell_type": "code",
   "execution_count": 21,
   "metadata": {},
   "outputs": [
    {
     "name": "stderr",
     "output_type": "stream",
     "text": [
      "/home/mgsgde/.local/lib/python3.6/site-packages/pandas/core/arrays/timedeltas.py:523: RuntimeWarning: invalid value encountered in true_divide\n",
      "  result = self._data / other\n"
     ]
    }
   ],
   "source": [
    "traces_tmp = [row for (index, row) in traces.iterrows() if (row.call_type not in ['delegatecall', 'callcode', 'staticcall'] or row.call_type == None) and row.status == 1]\n",
    "traces_tmp = pd.DataFrame(traces_tmp)\n",
    "tmp1 = traces_tmp.groupby(\"from_address\").max().block_timestamp\n",
    "tmp2 = traces_tmp.groupby(\"from_address\").min().block_timestamp\n",
    "tmp3 = tmp1 - tmp2\n",
    "tmp3 = tmp3.rename(\"seconds_diff\")\n",
    "avg_time_diff_sent_tx_py = tx_py.join(tmp3, how=\"right\").drop(\"number_of_tx_received\", axis=1)\n",
    "avg_time_diff_sent_tx_py = avg_time_diff_sent_tx_py.fillna(0.)\n",
    "avg_time_diff_sent_tx_py[\"avg_time_diff_sent_tx\"] = avg_time_diff_sent_tx_py[\"seconds_diff\"] / (avg_time_diff_sent_tx_py[\"number_of_tx_sent\"] - 1)\n",
    "avg_time_diff_sent_tx_py[\"avg_time_diff_sent_tx\"] = avg_time_diff_sent_tx_py[\"avg_time_diff_sent_tx\"].fillna(datetime.timedelta(0))\n",
    "avg_time_diff_sent_tx_py = avg_time_diff_sent_tx_py.reindex(wei_sql.index, fill_value=0.)\n",
    "avg_time_diff_sent_tx_py.index = avg_time_diff_sent_tx_py.index.rename(\"address\")\n",
    "avg_time_diff_sent_tx_py = avg_time_diff_sent_tx_py.drop([\"number_of_tx_sent\", \"seconds_diff\"],axis=1)\n",
    "avg_time_diff_sent_tx_py[\"avg_time_diff_sent_tx\"] = [ts.total_seconds() for ts in avg_time_diff_sent_tx_py[\"avg_time_diff_sent_tx\"]]"
   ]
  },
  {
   "cell_type": "code",
   "execution_count": 22,
   "metadata": {},
   "outputs": [
    {
     "data": {
      "text/html": [
       "<div>\n",
       "<style scoped>\n",
       "    .dataframe tbody tr th:only-of-type {\n",
       "        vertical-align: middle;\n",
       "    }\n",
       "\n",
       "    .dataframe tbody tr th {\n",
       "        vertical-align: top;\n",
       "    }\n",
       "\n",
       "    .dataframe thead th {\n",
       "        text-align: right;\n",
       "    }\n",
       "</style>\n",
       "<table border=\"1\" class=\"dataframe\">\n",
       "  <thead>\n",
       "    <tr style=\"text-align: right;\">\n",
       "      <th></th>\n",
       "      <th>avg_time_diff_sent_tx</th>\n",
       "    </tr>\n",
       "    <tr>\n",
       "      <th>address</th>\n",
       "      <th></th>\n",
       "    </tr>\n",
       "  </thead>\n",
       "  <tbody>\n",
       "    <tr>\n",
       "      <th>0x3f5ce5fbfe3e9af3971dd833d26ba9b5c936f0be</th>\n",
       "      <td>57.0</td>\n",
       "    </tr>\n",
       "    <tr>\n",
       "      <th>0x9cc5be83b211620cfe23e25bc65d6da6751bcf09</th>\n",
       "      <td>0.0</td>\n",
       "    </tr>\n",
       "    <tr>\n",
       "      <th>0xd8a83b72377476d0a66683cde20a8aad0b628713</th>\n",
       "      <td>189.0</td>\n",
       "    </tr>\n",
       "    <tr>\n",
       "      <th>0x310962d9a743f1d9f153743b90b2121e040b42d8</th>\n",
       "      <td>0.0</td>\n",
       "    </tr>\n",
       "    <tr>\n",
       "      <th>0xc1c3257c6123f644e359d3efce3c07e9ec75ec36</th>\n",
       "      <td>0.0</td>\n",
       "    </tr>\n",
       "  </tbody>\n",
       "</table>\n",
       "</div>"
      ],
      "text/plain": [
       "                                            avg_time_diff_sent_tx\n",
       "address                                                          \n",
       "0x3f5ce5fbfe3e9af3971dd833d26ba9b5c936f0be                   57.0\n",
       "0x9cc5be83b211620cfe23e25bc65d6da6751bcf09                    0.0\n",
       "0xd8a83b72377476d0a66683cde20a8aad0b628713                  189.0\n",
       "0x310962d9a743f1d9f153743b90b2121e040b42d8                    0.0\n",
       "0xc1c3257c6123f644e359d3efce3c07e9ec75ec36                    0.0"
      ]
     },
     "execution_count": 22,
     "metadata": {},
     "output_type": "execute_result"
    },
    {
     "data": {
      "text/html": [
       "<div>\n",
       "<style scoped>\n",
       "    .dataframe tbody tr th:only-of-type {\n",
       "        vertical-align: middle;\n",
       "    }\n",
       "\n",
       "    .dataframe tbody tr th {\n",
       "        vertical-align: top;\n",
       "    }\n",
       "\n",
       "    .dataframe thead th {\n",
       "        text-align: right;\n",
       "    }\n",
       "</style>\n",
       "<table border=\"1\" class=\"dataframe\">\n",
       "  <thead>\n",
       "    <tr style=\"text-align: right;\">\n",
       "      <th></th>\n",
       "      <th>avg_time_diff_sent_tx</th>\n",
       "    </tr>\n",
       "    <tr>\n",
       "      <th>address</th>\n",
       "      <th></th>\n",
       "    </tr>\n",
       "  </thead>\n",
       "  <tbody>\n",
       "    <tr>\n",
       "      <th>0x3f5ce5fbfe3e9af3971dd833d26ba9b5c936f0be</th>\n",
       "      <td>57.0</td>\n",
       "    </tr>\n",
       "    <tr>\n",
       "      <th>0x9cc5be83b211620cfe23e25bc65d6da6751bcf09</th>\n",
       "      <td>0.0</td>\n",
       "    </tr>\n",
       "    <tr>\n",
       "      <th>0xd8a83b72377476d0a66683cde20a8aad0b628713</th>\n",
       "      <td>189.0</td>\n",
       "    </tr>\n",
       "    <tr>\n",
       "      <th>0x310962d9a743f1d9f153743b90b2121e040b42d8</th>\n",
       "      <td>0.0</td>\n",
       "    </tr>\n",
       "    <tr>\n",
       "      <th>0xc1c3257c6123f644e359d3efce3c07e9ec75ec36</th>\n",
       "      <td>0.0</td>\n",
       "    </tr>\n",
       "  </tbody>\n",
       "</table>\n",
       "</div>"
      ],
      "text/plain": [
       "                                            avg_time_diff_sent_tx\n",
       "address                                                          \n",
       "0x3f5ce5fbfe3e9af3971dd833d26ba9b5c936f0be                   57.0\n",
       "0x9cc5be83b211620cfe23e25bc65d6da6751bcf09                    0.0\n",
       "0xd8a83b72377476d0a66683cde20a8aad0b628713                  189.0\n",
       "0x310962d9a743f1d9f153743b90b2121e040b42d8                    0.0\n",
       "0xc1c3257c6123f644e359d3efce3c07e9ec75ec36                    0.0"
      ]
     },
     "execution_count": 22,
     "metadata": {},
     "output_type": "execute_result"
    }
   ],
   "source": [
    "avg_time_diff_sent_tx_py.head()\n",
    "avg_time_diff_sent_tx_sql.head()"
   ]
  },
  {
   "cell_type": "code",
   "execution_count": 23,
   "metadata": {},
   "outputs": [
    {
     "name": "stdout",
     "output_type": "stream",
     "text": [
      "avg_time_diff_sent_tx Test succeeded !!\n"
     ]
    }
   ],
   "source": [
    "pd.testing.assert_frame_equal(avg_time_diff_sent_tx_py, avg_time_diff_sent_tx_sql)\n",
    "print(\"avg_time_diff_sent_tx Test succeeded !!\")"
   ]
  },
  {
   "cell_type": "markdown",
   "metadata": {},
   "source": [
    "## feature view \"stddev_received_tx\""
   ]
  },
  {
   "cell_type": "code",
   "execution_count": 25,
   "metadata": {},
   "outputs": [],
   "source": [
    "current_view_name = \"stddev_received_tx\"\n",
    "table_ids[current_view_name] = \"{}_{}_{}_{}_{}_view\".format(current_view_name, ADDRESS_SELECTION(address_selection).name, number_of_addresses, re.sub(r'[-.+: ]', '_', observation_period_start),re.sub(r'[-.+: ]', '_', observation_period_end))\n",
    "\n",
    "sql = \"\"\"\n",
    "    SELECT *\n",
    "    FROM `masterarbeit-245718.ethereum_us.{table_id_features}` \n",
    "\"\"\".format(table_id_features = table_ids[current_view_name])\n",
    "\n",
    "query_job = client.query(sql) \n",
    "stddev_received_tx_sql = query_job.result().to_dataframe(); \n",
    "# refactoring\n",
    "stddev_received_tx_sql = stddev_received_tx_sql.set_index(\"address\")\n",
    "# handle 0 values\n",
    "stddev_received_tx_sql[current_view_name] = stddev_received_tx_sql[current_view_name].replace(to_replace=0.0, value=max(stddev_received_tx_sql[current_view_name]))"
   ]
  },
  {
   "cell_type": "code",
   "execution_count": 26,
   "metadata": {},
   "outputs": [],
   "source": [
    "traces_tmp = traces.sort_values(by=\"block_timestamp\", ascending=True)\n",
    "traces_tmp[\"block_timestamp\"] = pd.to_datetime(traces[\"block_timestamp\"])\n",
    "stddev_received_tx_py = traces_tmp.groupby(\"to_address\").apply(lambda df: df[\"block_timestamp\"].diff().std() )\n",
    "stddev_received_tx_py = pd.DataFrame(stddev_received_tx_py, columns=[\"stddev_received_tx\"])\n",
    "stddev_received_tx_py = stddev_received_tx_py.reindex(wei_sql.index)\n",
    "stddev_received_tx_py = stddev_received_tx_py.fillna(stddev_received_tx_py.max())\n",
    "stddev_received_tx_py[\"stddev_received_tx\"] = [td.total_seconds() for td in stddev_received_tx_py[\"stddev_received_tx\"]]\n",
    "stddev_received_tx_py = stddev_received_tx_py.replace(to_replace=0.0, value=stddev_received_tx_py.max())"
   ]
  },
  {
   "cell_type": "code",
   "execution_count": 27,
   "metadata": {},
   "outputs": [
    {
     "data": {
      "text/html": [
       "<div>\n",
       "<style scoped>\n",
       "    .dataframe tbody tr th:only-of-type {\n",
       "        vertical-align: middle;\n",
       "    }\n",
       "\n",
       "    .dataframe tbody tr th {\n",
       "        vertical-align: top;\n",
       "    }\n",
       "\n",
       "    .dataframe thead th {\n",
       "        text-align: right;\n",
       "    }\n",
       "</style>\n",
       "<table border=\"1\" class=\"dataframe\">\n",
       "  <thead>\n",
       "    <tr style=\"text-align: right;\">\n",
       "      <th></th>\n",
       "      <th>stddev_received_tx</th>\n",
       "    </tr>\n",
       "    <tr>\n",
       "      <th>address</th>\n",
       "      <th></th>\n",
       "    </tr>\n",
       "  </thead>\n",
       "  <tbody>\n",
       "    <tr>\n",
       "      <th>0x3f5ce5fbfe3e9af3971dd833d26ba9b5c936f0be</th>\n",
       "      <td>24.813342</td>\n",
       "    </tr>\n",
       "    <tr>\n",
       "      <th>0x9cc5be83b211620cfe23e25bc65d6da6751bcf09</th>\n",
       "      <td>143.074573</td>\n",
       "    </tr>\n",
       "    <tr>\n",
       "      <th>0xd8a83b72377476d0a66683cde20a8aad0b628713</th>\n",
       "      <td>100.271299</td>\n",
       "    </tr>\n",
       "    <tr>\n",
       "      <th>0x310962d9a743f1d9f153743b90b2121e040b42d8</th>\n",
       "      <td>143.074573</td>\n",
       "    </tr>\n",
       "    <tr>\n",
       "      <th>0xc1c3257c6123f644e359d3efce3c07e9ec75ec36</th>\n",
       "      <td>143.074573</td>\n",
       "    </tr>\n",
       "  </tbody>\n",
       "</table>\n",
       "</div>"
      ],
      "text/plain": [
       "                                            stddev_received_tx\n",
       "address                                                       \n",
       "0x3f5ce5fbfe3e9af3971dd833d26ba9b5c936f0be           24.813342\n",
       "0x9cc5be83b211620cfe23e25bc65d6da6751bcf09          143.074573\n",
       "0xd8a83b72377476d0a66683cde20a8aad0b628713          100.271299\n",
       "0x310962d9a743f1d9f153743b90b2121e040b42d8          143.074573\n",
       "0xc1c3257c6123f644e359d3efce3c07e9ec75ec36          143.074573"
      ]
     },
     "execution_count": 27,
     "metadata": {},
     "output_type": "execute_result"
    },
    {
     "data": {
      "text/html": [
       "<div>\n",
       "<style scoped>\n",
       "    .dataframe tbody tr th:only-of-type {\n",
       "        vertical-align: middle;\n",
       "    }\n",
       "\n",
       "    .dataframe tbody tr th {\n",
       "        vertical-align: top;\n",
       "    }\n",
       "\n",
       "    .dataframe thead th {\n",
       "        text-align: right;\n",
       "    }\n",
       "</style>\n",
       "<table border=\"1\" class=\"dataframe\">\n",
       "  <thead>\n",
       "    <tr style=\"text-align: right;\">\n",
       "      <th></th>\n",
       "      <th>stddev_received_tx</th>\n",
       "    </tr>\n",
       "    <tr>\n",
       "      <th>address</th>\n",
       "      <th></th>\n",
       "    </tr>\n",
       "  </thead>\n",
       "  <tbody>\n",
       "    <tr>\n",
       "      <th>0x3f5ce5fbfe3e9af3971dd833d26ba9b5c936f0be</th>\n",
       "      <td>24.813342</td>\n",
       "    </tr>\n",
       "    <tr>\n",
       "      <th>0x9cc5be83b211620cfe23e25bc65d6da6751bcf09</th>\n",
       "      <td>143.074573</td>\n",
       "    </tr>\n",
       "    <tr>\n",
       "      <th>0xd8a83b72377476d0a66683cde20a8aad0b628713</th>\n",
       "      <td>100.271299</td>\n",
       "    </tr>\n",
       "    <tr>\n",
       "      <th>0x310962d9a743f1d9f153743b90b2121e040b42d8</th>\n",
       "      <td>143.074573</td>\n",
       "    </tr>\n",
       "    <tr>\n",
       "      <th>0xc1c3257c6123f644e359d3efce3c07e9ec75ec36</th>\n",
       "      <td>143.074573</td>\n",
       "    </tr>\n",
       "  </tbody>\n",
       "</table>\n",
       "</div>"
      ],
      "text/plain": [
       "                                            stddev_received_tx\n",
       "address                                                       \n",
       "0x3f5ce5fbfe3e9af3971dd833d26ba9b5c936f0be           24.813342\n",
       "0x9cc5be83b211620cfe23e25bc65d6da6751bcf09          143.074573\n",
       "0xd8a83b72377476d0a66683cde20a8aad0b628713          100.271299\n",
       "0x310962d9a743f1d9f153743b90b2121e040b42d8          143.074573\n",
       "0xc1c3257c6123f644e359d3efce3c07e9ec75ec36          143.074573"
      ]
     },
     "execution_count": 27,
     "metadata": {},
     "output_type": "execute_result"
    }
   ],
   "source": [
    "stddev_received_tx_py.head()\n",
    "stddev_received_tx_sql.head()"
   ]
  },
  {
   "cell_type": "code",
   "execution_count": 28,
   "metadata": {},
   "outputs": [
    {
     "name": "stdout",
     "output_type": "stream",
     "text": [
      "stddev Test succeeded !!\n"
     ]
    }
   ],
   "source": [
    "np.testing.assert_almost_equal(list(stddev_received_tx_py[\"stddev_received_tx\"]), list(stddev_received_tx_sql[\"stddev_received_tx\"]), decimal=2)\n",
    "print(\"stddev Test succeeded !!\")"
   ]
  },
  {
   "cell_type": "markdown",
   "metadata": {},
   "source": [
    "## feature view \"active_months\""
   ]
  },
  {
   "cell_type": "code",
   "execution_count": 29,
   "metadata": {},
   "outputs": [],
   "source": [
    "current_view_name = \"active_months\"\n",
    "table_ids[current_view_name] = \"{}_{}_{}_{}_{}_view\".format(current_view_name, ADDRESS_SELECTION(address_selection).name, number_of_addresses, re.sub(r'[-.+: ]', '_', observation_period_start),re.sub(r'[-.+: ]', '_', observation_period_end))\n",
    "\n",
    "sql = \"\"\"\n",
    "    SELECT *\n",
    "    FROM `masterarbeit-245718.ethereum_us.{table_id_features}` \n",
    "\"\"\".format(table_id_features = table_ids[current_view_name])\n",
    "\n",
    "query_job = client.query(sql) \n",
    "active_months_sql = query_job.result().to_dataframe(); \n",
    "# refactoring\n",
    "active_months_sql = active_months_sql.set_index(\"address\")"
   ]
  },
  {
   "cell_type": "code",
   "execution_count": 30,
   "metadata": {},
   "outputs": [],
   "source": [
    "from datetime import timedelta\n",
    "\n",
    "def address_was_active(address, month):\n",
    "    for i,t in traces.iterrows():\n",
    "        if (t[\"from_address\"] == address or t[\"to_address\"] == address) and (month.strftime(\"%Y-%m\") == t[\"block_timestamp\"].strftime(\"%Y-%m\")):\n",
    "            return True\n",
    "    return False"
   ]
  },
  {
   "cell_type": "code",
   "execution_count": 31,
   "metadata": {},
   "outputs": [],
   "source": [
    "active_months_py = {}\n",
    "min_ts = traces[\"block_timestamp\"].min()\n",
    "max_ts = traces[\"block_timestamp\"].max()\n",
    "min_ts = min_ts.to_pydatetime()\n",
    "max_ts = max_ts.to_pydatetime()\n",
    "\n",
    "months = [month.to_pydatetime() for month in pd.date_range(start=min_ts, end=(max_ts + timedelta(days=31)), freq=\"MS\")]\n",
    "\n",
    "for address in wei_sql.index:\n",
    "    for month in months:\n",
    "        if (address_was_active(address, month)):\n",
    "            active_months_py[address] = active_months_py[address] + 1 if address in active_months_py else 1 \n",
    "\n",
    "# refactoring\n",
    "active_months_py = pd.DataFrame(pd.Series(active_months_py), columns=[\"active_months\"])\n",
    "active_months_py = active_months_py.reindex(active_months_sql.index)\n",
    "active_months_py = active_months_py.fillna(0.)"
   ]
  },
  {
   "cell_type": "code",
   "execution_count": 32,
   "metadata": {},
   "outputs": [
    {
     "data": {
      "text/html": [
       "<div>\n",
       "<style scoped>\n",
       "    .dataframe tbody tr th:only-of-type {\n",
       "        vertical-align: middle;\n",
       "    }\n",
       "\n",
       "    .dataframe tbody tr th {\n",
       "        vertical-align: top;\n",
       "    }\n",
       "\n",
       "    .dataframe thead th {\n",
       "        text-align: right;\n",
       "    }\n",
       "</style>\n",
       "<table border=\"1\" class=\"dataframe\">\n",
       "  <thead>\n",
       "    <tr style=\"text-align: right;\">\n",
       "      <th></th>\n",
       "      <th>active_months</th>\n",
       "    </tr>\n",
       "    <tr>\n",
       "      <th>address</th>\n",
       "      <th></th>\n",
       "    </tr>\n",
       "  </thead>\n",
       "  <tbody>\n",
       "    <tr>\n",
       "      <th>0x3f5ce5fbfe3e9af3971dd833d26ba9b5c936f0be</th>\n",
       "      <td>1</td>\n",
       "    </tr>\n",
       "    <tr>\n",
       "      <th>0x9cc5be83b211620cfe23e25bc65d6da6751bcf09</th>\n",
       "      <td>1</td>\n",
       "    </tr>\n",
       "    <tr>\n",
       "      <th>0xd8a83b72377476d0a66683cde20a8aad0b628713</th>\n",
       "      <td>1</td>\n",
       "    </tr>\n",
       "    <tr>\n",
       "      <th>0x310962d9a743f1d9f153743b90b2121e040b42d8</th>\n",
       "      <td>1</td>\n",
       "    </tr>\n",
       "    <tr>\n",
       "      <th>0xc1c3257c6123f644e359d3efce3c07e9ec75ec36</th>\n",
       "      <td>1</td>\n",
       "    </tr>\n",
       "  </tbody>\n",
       "</table>\n",
       "</div>"
      ],
      "text/plain": [
       "                                            active_months\n",
       "address                                                  \n",
       "0x3f5ce5fbfe3e9af3971dd833d26ba9b5c936f0be              1\n",
       "0x9cc5be83b211620cfe23e25bc65d6da6751bcf09              1\n",
       "0xd8a83b72377476d0a66683cde20a8aad0b628713              1\n",
       "0x310962d9a743f1d9f153743b90b2121e040b42d8              1\n",
       "0xc1c3257c6123f644e359d3efce3c07e9ec75ec36              1"
      ]
     },
     "execution_count": 32,
     "metadata": {},
     "output_type": "execute_result"
    },
    {
     "data": {
      "text/html": [
       "<div>\n",
       "<style scoped>\n",
       "    .dataframe tbody tr th:only-of-type {\n",
       "        vertical-align: middle;\n",
       "    }\n",
       "\n",
       "    .dataframe tbody tr th {\n",
       "        vertical-align: top;\n",
       "    }\n",
       "\n",
       "    .dataframe thead th {\n",
       "        text-align: right;\n",
       "    }\n",
       "</style>\n",
       "<table border=\"1\" class=\"dataframe\">\n",
       "  <thead>\n",
       "    <tr style=\"text-align: right;\">\n",
       "      <th></th>\n",
       "      <th>active_months</th>\n",
       "    </tr>\n",
       "    <tr>\n",
       "      <th>address</th>\n",
       "      <th></th>\n",
       "    </tr>\n",
       "  </thead>\n",
       "  <tbody>\n",
       "    <tr>\n",
       "      <th>0x3f5ce5fbfe3e9af3971dd833d26ba9b5c936f0be</th>\n",
       "      <td>1</td>\n",
       "    </tr>\n",
       "    <tr>\n",
       "      <th>0x9cc5be83b211620cfe23e25bc65d6da6751bcf09</th>\n",
       "      <td>1</td>\n",
       "    </tr>\n",
       "    <tr>\n",
       "      <th>0xd8a83b72377476d0a66683cde20a8aad0b628713</th>\n",
       "      <td>1</td>\n",
       "    </tr>\n",
       "    <tr>\n",
       "      <th>0x310962d9a743f1d9f153743b90b2121e040b42d8</th>\n",
       "      <td>1</td>\n",
       "    </tr>\n",
       "    <tr>\n",
       "      <th>0xc1c3257c6123f644e359d3efce3c07e9ec75ec36</th>\n",
       "      <td>1</td>\n",
       "    </tr>\n",
       "  </tbody>\n",
       "</table>\n",
       "</div>"
      ],
      "text/plain": [
       "                                            active_months\n",
       "address                                                  \n",
       "0x3f5ce5fbfe3e9af3971dd833d26ba9b5c936f0be              1\n",
       "0x9cc5be83b211620cfe23e25bc65d6da6751bcf09              1\n",
       "0xd8a83b72377476d0a66683cde20a8aad0b628713              1\n",
       "0x310962d9a743f1d9f153743b90b2121e040b42d8              1\n",
       "0xc1c3257c6123f644e359d3efce3c07e9ec75ec36              1"
      ]
     },
     "execution_count": 32,
     "metadata": {},
     "output_type": "execute_result"
    }
   ],
   "source": [
    "active_months_py.head()\n",
    "active_months_sql.head()"
   ]
  },
  {
   "cell_type": "code",
   "execution_count": 33,
   "metadata": {},
   "outputs": [
    {
     "name": "stdout",
     "output_type": "stream",
     "text": [
      "active months Test succeeded!!\n"
     ]
    }
   ],
   "source": [
    "pd.testing.assert_frame_equal(active_months_py, active_months_sql)\n",
    "print(\"active months Test succeeded!!\")"
   ]
  },
  {
   "cell_type": "markdown",
   "metadata": {},
   "source": [
    "## feature view \"mined_blocks\""
   ]
  },
  {
   "cell_type": "code",
   "execution_count": 50,
   "metadata": {},
   "outputs": [],
   "source": [
    "# Todo"
   ]
  },
  {
   "cell_type": "markdown",
   "metadata": {},
   "source": [
    "## feature view \"stddev_sent_tx\""
   ]
  },
  {
   "cell_type": "code",
   "execution_count": 34,
   "metadata": {},
   "outputs": [],
   "source": [
    "# Todo"
   ]
  },
  {
   "cell_type": "markdown",
   "metadata": {},
   "source": [
    "## feature view \"usd_received\""
   ]
  },
  {
   "cell_type": "code",
   "execution_count": 35,
   "metadata": {},
   "outputs": [],
   "source": [
    "# Todo"
   ]
  },
  {
   "cell_type": "markdown",
   "metadata": {},
   "source": [
    "## feature view \"usd_sent\""
   ]
  },
  {
   "cell_type": "code",
   "execution_count": 36,
   "metadata": {},
   "outputs": [],
   "source": [
    "# Todo"
   ]
  },
  {
   "cell_type": "markdown",
   "metadata": {},
   "source": [
    "## feature view \"avg_wei_sent\""
   ]
  },
  {
   "cell_type": "code",
   "execution_count": 37,
   "metadata": {},
   "outputs": [],
   "source": [
    "# Todo"
   ]
  },
  {
   "cell_type": "markdown",
   "metadata": {},
   "source": [
    "## feature view \"avg_wei_received\""
   ]
  },
  {
   "cell_type": "code",
   "execution_count": 38,
   "metadata": {},
   "outputs": [],
   "source": [
    "# Todo"
   ]
  },
  {
   "cell_type": "markdown",
   "metadata": {},
   "source": [
    "## feature view \"avg_usd_received\""
   ]
  },
  {
   "cell_type": "code",
   "execution_count": 39,
   "metadata": {},
   "outputs": [],
   "source": [
    "# Todo"
   ]
  },
  {
   "cell_type": "markdown",
   "metadata": {},
   "source": [
    "## feature view \"monthly_wei_sent\""
   ]
  },
  {
   "cell_type": "code",
   "execution_count": 40,
   "metadata": {},
   "outputs": [],
   "source": [
    "# Todo"
   ]
  },
  {
   "cell_type": "markdown",
   "metadata": {},
   "source": [
    "## feature view \"monthly_wei_received\""
   ]
  },
  {
   "cell_type": "code",
   "execution_count": 41,
   "metadata": {},
   "outputs": [],
   "source": [
    "# Todo"
   ]
  },
  {
   "cell_type": "markdown",
   "metadata": {},
   "source": [
    "## feature view \"monthly_wei_received\""
   ]
  },
  {
   "cell_type": "code",
   "execution_count": 42,
   "metadata": {},
   "outputs": [],
   "source": [
    "# Todo"
   ]
  },
  {
   "cell_type": "markdown",
   "metadata": {},
   "source": [
    "## feature view \"monthly_usd_sent\""
   ]
  },
  {
   "cell_type": "code",
   "execution_count": 43,
   "metadata": {},
   "outputs": [],
   "source": [
    "# Todo"
   ]
  },
  {
   "cell_type": "markdown",
   "metadata": {},
   "source": [
    "## feature view \"monthly_usd_received\""
   ]
  },
  {
   "cell_type": "code",
   "execution_count": 44,
   "metadata": {},
   "outputs": [],
   "source": [
    "# Todo"
   ]
  },
  {
   "cell_type": "markdown",
   "metadata": {},
   "source": [
    "## feature view \"monthly_outgoing_txns\""
   ]
  },
  {
   "cell_type": "code",
   "execution_count": 45,
   "metadata": {},
   "outputs": [],
   "source": [
    "# Todo"
   ]
  },
  {
   "cell_type": "markdown",
   "metadata": {},
   "source": [
    "## feature view \"monthly_incoming_txns\""
   ]
  },
  {
   "cell_type": "code",
   "execution_count": 46,
   "metadata": {},
   "outputs": [],
   "source": [
    "# Todo"
   ]
  },
  {
   "cell_type": "markdown",
   "metadata": {},
   "source": [
    "## feature view \"number_of_contracts_created\""
   ]
  },
  {
   "cell_type": "code",
   "execution_count": 47,
   "metadata": {},
   "outputs": [],
   "source": [
    "# Todo"
   ]
  },
  {
   "cell_type": "markdown",
   "metadata": {},
   "source": [
    "## feature view \"contract_tx\""
   ]
  },
  {
   "cell_type": "code",
   "execution_count": 48,
   "metadata": {},
   "outputs": [],
   "source": [
    "# Todo"
   ]
  },
  {
   "cell_type": "markdown",
   "metadata": {},
   "source": [
    "## feature view \"diff_token_used\""
   ]
  },
  {
   "cell_type": "code",
   "execution_count": 49,
   "metadata": {},
   "outputs": [],
   "source": [
    "# Todo"
   ]
  }
 ],
 "metadata": {
  "kernelspec": {
   "display_name": "Python 3",
   "language": "python",
   "name": "python3"
  },
  "language_info": {
   "codemirror_mode": {
    "name": "ipython",
    "version": 3
   },
   "file_extension": ".py",
   "mimetype": "text/x-python",
   "name": "python",
   "nbconvert_exporter": "python",
   "pygments_lexer": "ipython3",
   "version": "3.6.9"
  }
 },
 "nbformat": 4,
 "nbformat_minor": 2
}

{
 "cells": [
  {
   "cell_type": "code",
   "execution_count": 30,
   "metadata": {},
   "outputs": [
    {
     "name": "stdout",
     "output_type": "stream",
     "text": [
      "env: GOOGLE_APPLICATION_CREDENTIALS=../secrets/bigquery-service-account.json\n"
     ]
    }
   ],
   "source": [
    "import pandas as pd\n",
    "import numpy as np\n",
    "import matplotlib.pyplot as plt\n",
    "from google.cloud import bigquery\n",
    "import time\n",
    "%env GOOGLE_APPLICATION_CREDENTIALS=../secrets/bigquery-service-account.json \n",
    "client = bigquery.Client()\n",
    "from IPython.core.interactiveshell import InteractiveShell\n",
    "InteractiveShell.ast_node_interactivity = \"all\""
   ]
  },
  {
   "cell_type": "code",
   "execution_count": 31,
   "metadata": {},
   "outputs": [
    {
     "name": "stdout",
     "output_type": "stream",
     "text": [
      "The google.cloud.bigquery extension is already loaded. To reload it, use:\n",
      "  %reload_ext google.cloud.bigquery\n"
     ]
    }
   ],
   "source": [
    "%load_ext google.cloud.bigquery"
   ]
  },
  {
   "cell_type": "code",
   "execution_count": 32,
   "metadata": {},
   "outputs": [
    {
     "name": "stdout",
     "output_type": "stream",
     "text": [
      "Executing query with job ID: 322a332c-e520-4136-83ab-52b15482b0f5\n",
      "Query executing: 1.03s\n",
      "Query complete after 1.75s\n"
     ]
    }
   ],
   "source": [
    "%%bigquery metadata --project masterarbeit-245718 --verbose \n",
    "SELECT * FROM `bigquery-public-data`.crypto_ethereum.INFORMATION_SCHEMA.COLUMNS where table_name = \"traces\""
   ]
  },
  {
   "cell_type": "code",
   "execution_count": 33,
   "metadata": {},
   "outputs": [],
   "source": [
    "size_sample_data = 1000"
   ]
  },
  {
   "cell_type": "markdown",
   "metadata": {},
   "source": [
    "### Generate sample data for \"call_type\""
   ]
  },
  {
   "cell_type": "code",
   "execution_count": 34,
   "metadata": {},
   "outputs": [],
   "source": [
    "# %%bigquery call_types_sql_result --project masterarbeit-245718 --verbose \n",
    "# select DISTINCT call_type from `bigquery-public-data.crypto_ethereum.traces`\n",
    "# where DATE(block_timestamp) >= '2019-07-6' AND DATE(block_timestamp) <= '2019-7-7'"
   ]
  },
  {
   "cell_type": "code",
   "execution_count": 35,
   "metadata": {},
   "outputs": [],
   "source": [
    "call_types = ['call', 'delegatecall', 'staticcall', 'callcode', None]\n",
    "prob_call_types = [0.7, 0.05, 0.025, 0.025, 0.2]"
   ]
  },
  {
   "cell_type": "code",
   "execution_count": 36,
   "metadata": {},
   "outputs": [],
   "source": [
    "call_type_sample = np.random.choice(call_types, size_sample_data, p=prob_call_types)"
   ]
  },
  {
   "cell_type": "markdown",
   "metadata": {},
   "source": [
    "### Generate sample data for \"status\""
   ]
  },
  {
   "cell_type": "code",
   "execution_count": 37,
   "metadata": {},
   "outputs": [],
   "source": [
    "# %%bigquery status_values --project masterarbeit-245718 --verbose \n",
    "# select DISTINCT status from `bigquery-public-data.crypto_ethereum.traces`\n",
    "# where DATE(block_timestamp) >= '2019-07-6' AND DATE(block_timestamp) <= '2019-7-7'"
   ]
  },
  {
   "cell_type": "code",
   "execution_count": 38,
   "metadata": {},
   "outputs": [],
   "source": [
    "status_values = [0, 1]\n",
    "probs_status_values = [0.05, 0.95]"
   ]
  },
  {
   "cell_type": "code",
   "execution_count": 39,
   "metadata": {},
   "outputs": [],
   "source": [
    "probs_status_values = [0.05, 0.95]"
   ]
  },
  {
   "cell_type": "code",
   "execution_count": 40,
   "metadata": {},
   "outputs": [],
   "source": [
    "status_sample = np.random.choice(status_values, size_sample_data, p=probs_status_values)"
   ]
  },
  {
   "cell_type": "markdown",
   "metadata": {},
   "source": [
    "### Generate sample accounts "
   ]
  },
  {
   "cell_type": "code",
   "execution_count": 41,
   "metadata": {},
   "outputs": [],
   "source": [
    "exchanges = [\"exchange_{}\".format(i) for i in range(1,int(0.05*size_sample_data + 1))]"
   ]
  },
  {
   "cell_type": "code",
   "execution_count": 42,
   "metadata": {},
   "outputs": [],
   "source": [
    "speculators = [\"speculator_{}\".format(i) for i in range(1,int(0.95*size_sample_data + 1))]"
   ]
  },
  {
   "cell_type": "code",
   "execution_count": 43,
   "metadata": {},
   "outputs": [],
   "source": [
    "addresses_testdata = []\n",
    "addresses_testdata.extend(speculators)\n",
    "addresses_testdata.extend(exchanges)"
   ]
  },
  {
   "cell_type": "code",
   "execution_count": 44,
   "metadata": {},
   "outputs": [],
   "source": [
    "addresses_testdata = pd.DataFrame(addresses_testdata, columns=[\"address\"])"
   ]
  },
  {
   "cell_type": "markdown",
   "metadata": {},
   "source": [
    "## Upload 'addresses' table to bigquery "
   ]
  },
  {
   "cell_type": "code",
   "execution_count": 45,
   "metadata": {},
   "outputs": [
    {
     "name": "stderr",
     "output_type": "stream",
     "text": [
      "1it [00:03,  3.79s/it]\n"
     ]
    }
   ],
   "source": [
    "addresses_testdata.to_gbq('ethereum_us.addresses_testdata', if_exists=\"replace\")"
   ]
  },
  {
   "cell_type": "markdown",
   "metadata": {},
   "source": [
    "### Generate sample transactions (speculators to exchanges)"
   ]
  },
  {
   "cell_type": "code",
   "execution_count": 46,
   "metadata": {},
   "outputs": [],
   "source": [
    "from_spec_addresses = [np.random.choice(speculators) for i in range(int(size_sample_data/2))]\n",
    "to_ex_addresses = [np.random.choice(exchanges) for i in range(int(size_sample_data/2))]\n",
    "values_spec_to_ex = np.random.randint(1, 20, int(size_sample_data/2))"
   ]
  },
  {
   "cell_type": "code",
   "execution_count": 47,
   "metadata": {},
   "outputs": [],
   "source": [
    "txdata1 = pd.DataFrame(zip(from_spec_addresses, to_ex_addresses, values_spec_to_ex), columns=[\"from_address\", \"to_address\", \"value\"])"
   ]
  },
  {
   "cell_type": "markdown",
   "metadata": {},
   "source": [
    "### Generate sample transactions (exchanges to speculators)"
   ]
  },
  {
   "cell_type": "code",
   "execution_count": 48,
   "metadata": {},
   "outputs": [],
   "source": [
    "to_spec_addresses = [np.random.choice(speculators) for i in range(int(size_sample_data/2))]\n",
    "from_ex_addresses = [np.random.choice(exchanges) for i in range(int(size_sample_data/2))]\n",
    "values_ex_to_spec = np.random.randint(1, 5, int(size_sample_data/2))"
   ]
  },
  {
   "cell_type": "code",
   "execution_count": 49,
   "metadata": {},
   "outputs": [],
   "source": [
    "txdata2 = pd.DataFrame(zip(from_ex_addresses, to_spec_addresses, values_ex_to_spec), columns=[\"from_address\", \"to_address\", \"value\"])"
   ]
  },
  {
   "cell_type": "markdown",
   "metadata": {},
   "source": [
    "Anmerkung: Die speculators schicken mehr Geld zu den Börsen als umgekehrt."
   ]
  },
  {
   "cell_type": "code",
   "execution_count": 50,
   "metadata": {},
   "outputs": [],
   "source": [
    "txdata = txdata1.append(txdata2).reset_index(drop=True)"
   ]
  },
  {
   "cell_type": "markdown",
   "metadata": {},
   "source": [
    "### Generate sample \"block_timestamps\""
   ]
  },
  {
   "cell_type": "code",
   "execution_count": 51,
   "metadata": {},
   "outputs": [],
   "source": [
    "import datetime as datetime\n",
    "\n",
    "base = datetime.datetime.utcnow()\n",
    "block_timestamps = [base - datetime.timedelta(seconds=x) for x in range(0, 12*size_sample_data, 12)]"
   ]
  },
  {
   "cell_type": "markdown",
   "metadata": {},
   "source": [
    "### Merge data to sample \"traces\" table"
   ]
  },
  {
   "cell_type": "code",
   "execution_count": 52,
   "metadata": {},
   "outputs": [],
   "source": [
    "traces_sampleData = txdata.copy()"
   ]
  },
  {
   "cell_type": "code",
   "execution_count": 53,
   "metadata": {},
   "outputs": [],
   "source": [
    "traces_sampleData[\"status\"] = status_sample "
   ]
  },
  {
   "cell_type": "code",
   "execution_count": 54,
   "metadata": {},
   "outputs": [],
   "source": [
    "traces_sampleData[\"call_type\"] = call_type_sample "
   ]
  },
  {
   "cell_type": "code",
   "execution_count": 55,
   "metadata": {},
   "outputs": [],
   "source": [
    "traces_sampleData[\"block_timestamp\"] = block_timestamps "
   ]
  },
  {
   "cell_type": "code",
   "execution_count": 56,
   "metadata": {},
   "outputs": [
    {
     "data": {
      "text/html": [
       "<div>\n",
       "<style scoped>\n",
       "    .dataframe tbody tr th:only-of-type {\n",
       "        vertical-align: middle;\n",
       "    }\n",
       "\n",
       "    .dataframe tbody tr th {\n",
       "        vertical-align: top;\n",
       "    }\n",
       "\n",
       "    .dataframe thead th {\n",
       "        text-align: right;\n",
       "    }\n",
       "</style>\n",
       "<table border=\"1\" class=\"dataframe\">\n",
       "  <thead>\n",
       "    <tr style=\"text-align: right;\">\n",
       "      <th></th>\n",
       "      <th>from_address</th>\n",
       "      <th>to_address</th>\n",
       "      <th>value</th>\n",
       "      <th>status</th>\n",
       "      <th>call_type</th>\n",
       "      <th>block_timestamp</th>\n",
       "    </tr>\n",
       "  </thead>\n",
       "  <tbody>\n",
       "    <tr>\n",
       "      <th>0</th>\n",
       "      <td>speculator_214</td>\n",
       "      <td>exchange_47</td>\n",
       "      <td>15</td>\n",
       "      <td>1</td>\n",
       "      <td>call</td>\n",
       "      <td>2020-02-03 15:11:31.146042</td>\n",
       "    </tr>\n",
       "    <tr>\n",
       "      <th>1</th>\n",
       "      <td>speculator_14</td>\n",
       "      <td>exchange_10</td>\n",
       "      <td>10</td>\n",
       "      <td>1</td>\n",
       "      <td>call</td>\n",
       "      <td>2020-02-03 15:11:19.146042</td>\n",
       "    </tr>\n",
       "    <tr>\n",
       "      <th>2</th>\n",
       "      <td>speculator_477</td>\n",
       "      <td>exchange_35</td>\n",
       "      <td>13</td>\n",
       "      <td>1</td>\n",
       "      <td>None</td>\n",
       "      <td>2020-02-03 15:11:07.146042</td>\n",
       "    </tr>\n",
       "    <tr>\n",
       "      <th>3</th>\n",
       "      <td>speculator_294</td>\n",
       "      <td>exchange_23</td>\n",
       "      <td>13</td>\n",
       "      <td>1</td>\n",
       "      <td>call</td>\n",
       "      <td>2020-02-03 15:10:55.146042</td>\n",
       "    </tr>\n",
       "    <tr>\n",
       "      <th>4</th>\n",
       "      <td>speculator_455</td>\n",
       "      <td>exchange_49</td>\n",
       "      <td>1</td>\n",
       "      <td>1</td>\n",
       "      <td>call</td>\n",
       "      <td>2020-02-03 15:10:43.146042</td>\n",
       "    </tr>\n",
       "  </tbody>\n",
       "</table>\n",
       "</div>"
      ],
      "text/plain": [
       "     from_address   to_address  value  status call_type  \\\n",
       "0  speculator_214  exchange_47     15       1      call   \n",
       "1   speculator_14  exchange_10     10       1      call   \n",
       "2  speculator_477  exchange_35     13       1      None   \n",
       "3  speculator_294  exchange_23     13       1      call   \n",
       "4  speculator_455  exchange_49      1       1      call   \n",
       "\n",
       "             block_timestamp  \n",
       "0 2020-02-03 15:11:31.146042  \n",
       "1 2020-02-03 15:11:19.146042  \n",
       "2 2020-02-03 15:11:07.146042  \n",
       "3 2020-02-03 15:10:55.146042  \n",
       "4 2020-02-03 15:10:43.146042  "
      ]
     },
     "execution_count": 56,
     "metadata": {},
     "output_type": "execute_result"
    }
   ],
   "source": [
    "traces_sampleData.head()"
   ]
  },
  {
   "cell_type": "markdown",
   "metadata": {},
   "source": [
    "### Upload \"traces\" table to bigquery"
   ]
  },
  {
   "cell_type": "code",
   "execution_count": 57,
   "metadata": {},
   "outputs": [
    {
     "name": "stderr",
     "output_type": "stream",
     "text": [
      "1it [00:03,  3.89s/it]\n"
     ]
    }
   ],
   "source": [
    "traces_sampleData.to_gbq('ethereum_us.traces_sampleData', if_exists=\"replace\")"
   ]
  },
  {
   "cell_type": "markdown",
   "metadata": {},
   "source": [
    "### Test SQL command for retrieving \"weiReceived\", \"weiSent\""
   ]
  },
  {
   "cell_type": "code",
   "execution_count": 58,
   "metadata": {},
   "outputs": [
    {
     "name": "stdout",
     "output_type": "stream",
     "text": [
      "Executing query with job ID: e63669f8-095b-4ae8-883b-bb108e11034c\n",
      "Query executing: 1.33s\n",
      "Query complete after 2.25s\n"
     ]
    }
   ],
   "source": [
    "%%bigquery res1 --project masterarbeit-245718 --verbose \n",
    "with weiView as (\n",
    "\n",
    "  with weiReceivedView as (\n",
    "        \n",
    "      -- debits\n",
    "      select to_address, sum(ifnull(value, 0)) as weiReceived\n",
    "      from `ethereum_us.traces_sampleData` \n",
    "      where to_address is not null\n",
    "      and status = 1\n",
    "      and (call_type not in ('delegatecall', 'callcode', 'staticcall') or call_type is null) \n",
    "      group by to_address\n",
    "        \n",
    "  ), weiSentView as (\n",
    "  \n",
    "      -- credits\n",
    "      select from_address, sum(ifnull(value, 0)) as weiSent\n",
    "      from  `ethereum_us.traces_sampleData` \n",
    "      where from_address is not null\n",
    "      and status = 1\n",
    "      and (call_type not in ('delegatecall', 'callcode', 'staticcall') or call_type is null) \n",
    "      group by from_address\n",
    "  ) \n",
    "  select \n",
    "  CASE \n",
    "    when to_address is not null then to_address\n",
    "    when from_address is not null then from_address\n",
    "  end as address, \n",
    "  ifnull(weiReceived,0) as weiReceived, \n",
    "  ifnull(weiSent,0) as weiSent\n",
    "  from weiReceivedView full outer join weiSentView on from_address = to_address\n",
    ") \n",
    "select address, weiReceived, weiSent from weiView right join `ethereum_us.addresses_testdata`  using(address)"
   ]
  },
  {
   "cell_type": "code",
   "execution_count": 59,
   "metadata": {},
   "outputs": [],
   "source": [
    "res2 = res1.copy()\n",
    "res2[\"balance\"] = res1.weiReceived - res1.weiSent\n",
    "res2 = res2.set_index(\"address\")\n",
    "res2 = res2.sort_values(by=\"address\", ascending=False)\n",
    "res2 = res2.astype(\"float\")\n",
    "res2 = res2.fillna(0.)\n",
    "balance_result_sql = res2"
   ]
  },
  {
   "cell_type": "code",
   "execution_count": 60,
   "metadata": {},
   "outputs": [
    {
     "name": "stdout",
     "output_type": "stream",
     "text": [
      "Executing query with job ID: 535cee5a-63f8-4756-abc6-9ae48373c204\n",
      "Query executing: 0.85s\n",
      "Query complete after 1.88s\n"
     ]
    }
   ],
   "source": [
    "%%bigquery traces_sampleData --project masterarbeit-245718 --verbose \n",
    "select * from `ethereum_us.traces_sampleData`"
   ]
  },
  {
   "cell_type": "code",
   "execution_count": 61,
   "metadata": {},
   "outputs": [],
   "source": [
    "data1 = [row for (index, row) in traces_sampleData.iterrows() if (row.call_type not in ['delegatecall', 'callcode', 'staticcall'] or row.call_type == None) and row.status == 1]\n",
    "data1 = pd.DataFrame(data1)"
   ]
  },
  {
   "cell_type": "code",
   "execution_count": 68,
   "metadata": {},
   "outputs": [],
   "source": [
    "data2 = pd.DataFrame(index=set(data1[\"from_address\"].unique()) | set(data1[\"to_address\"].unique()))\n",
    "data2[\"weiReceived\"] = data1.groupby('to_address').sum().value\n",
    "data2[\"weiSent\"] = data1.groupby('from_address').sum().value\n",
    "data2[\"weiSent\"] = data2[\"weiSent\"].fillna(0.)\n",
    "data2[\"weiReceived\"] = data2[\"weiReceived\"].fillna(0.)\n",
    "data2[\"balance\"] = data2[\"weiReceived\"] - data2[\"weiSent\"]\n",
    "data2.index = data2.index.rename(\"address\")\n",
    "data2 = data2.reindex(addresses_testdata[\"address\"], fill_value=0.)\n",
    "data2 = data2.sort_values(by=\"address\", ascending=False)\n",
    "balance_result_py = data2"
   ]
  },
  {
   "cell_type": "code",
   "execution_count": 69,
   "metadata": {},
   "outputs": [
    {
     "data": {
      "text/html": [
       "<div>\n",
       "<style scoped>\n",
       "    .dataframe tbody tr th:only-of-type {\n",
       "        vertical-align: middle;\n",
       "    }\n",
       "\n",
       "    .dataframe tbody tr th {\n",
       "        vertical-align: top;\n",
       "    }\n",
       "\n",
       "    .dataframe thead th {\n",
       "        text-align: right;\n",
       "    }\n",
       "</style>\n",
       "<table border=\"1\" class=\"dataframe\">\n",
       "  <thead>\n",
       "    <tr style=\"text-align: right;\">\n",
       "      <th></th>\n",
       "      <th>weiReceived</th>\n",
       "      <th>weiSent</th>\n",
       "      <th>balance</th>\n",
       "    </tr>\n",
       "    <tr>\n",
       "      <th>address</th>\n",
       "      <th></th>\n",
       "      <th></th>\n",
       "      <th></th>\n",
       "    </tr>\n",
       "  </thead>\n",
       "  <tbody>\n",
       "    <tr>\n",
       "      <th>speculator_99</th>\n",
       "      <td>3.0</td>\n",
       "      <td>25.0</td>\n",
       "      <td>-22.0</td>\n",
       "    </tr>\n",
       "    <tr>\n",
       "      <th>speculator_98</th>\n",
       "      <td>7.0</td>\n",
       "      <td>0.0</td>\n",
       "      <td>7.0</td>\n",
       "    </tr>\n",
       "    <tr>\n",
       "      <th>speculator_97</th>\n",
       "      <td>1.0</td>\n",
       "      <td>0.0</td>\n",
       "      <td>1.0</td>\n",
       "    </tr>\n",
       "    <tr>\n",
       "      <th>speculator_96</th>\n",
       "      <td>0.0</td>\n",
       "      <td>3.0</td>\n",
       "      <td>-3.0</td>\n",
       "    </tr>\n",
       "    <tr>\n",
       "      <th>speculator_950</th>\n",
       "      <td>0.0</td>\n",
       "      <td>0.0</td>\n",
       "      <td>0.0</td>\n",
       "    </tr>\n",
       "  </tbody>\n",
       "</table>\n",
       "</div>"
      ],
      "text/plain": [
       "                weiReceived  weiSent  balance\n",
       "address                                      \n",
       "speculator_99           3.0     25.0    -22.0\n",
       "speculator_98           7.0      0.0      7.0\n",
       "speculator_97           1.0      0.0      1.0\n",
       "speculator_96           0.0      3.0     -3.0\n",
       "speculator_950          0.0      0.0      0.0"
      ]
     },
     "execution_count": 69,
     "metadata": {},
     "output_type": "execute_result"
    },
    {
     "data": {
      "text/html": [
       "<div>\n",
       "<style scoped>\n",
       "    .dataframe tbody tr th:only-of-type {\n",
       "        vertical-align: middle;\n",
       "    }\n",
       "\n",
       "    .dataframe tbody tr th {\n",
       "        vertical-align: top;\n",
       "    }\n",
       "\n",
       "    .dataframe thead th {\n",
       "        text-align: right;\n",
       "    }\n",
       "</style>\n",
       "<table border=\"1\" class=\"dataframe\">\n",
       "  <thead>\n",
       "    <tr style=\"text-align: right;\">\n",
       "      <th></th>\n",
       "      <th>weiReceived</th>\n",
       "      <th>weiSent</th>\n",
       "      <th>balance</th>\n",
       "    </tr>\n",
       "    <tr>\n",
       "      <th>address</th>\n",
       "      <th></th>\n",
       "      <th></th>\n",
       "      <th></th>\n",
       "    </tr>\n",
       "  </thead>\n",
       "  <tbody>\n",
       "    <tr>\n",
       "      <th>speculator_99</th>\n",
       "      <td>3.0</td>\n",
       "      <td>25.0</td>\n",
       "      <td>-22.0</td>\n",
       "    </tr>\n",
       "    <tr>\n",
       "      <th>speculator_98</th>\n",
       "      <td>7.0</td>\n",
       "      <td>0.0</td>\n",
       "      <td>7.0</td>\n",
       "    </tr>\n",
       "    <tr>\n",
       "      <th>speculator_97</th>\n",
       "      <td>1.0</td>\n",
       "      <td>0.0</td>\n",
       "      <td>1.0</td>\n",
       "    </tr>\n",
       "    <tr>\n",
       "      <th>speculator_96</th>\n",
       "      <td>0.0</td>\n",
       "      <td>3.0</td>\n",
       "      <td>-3.0</td>\n",
       "    </tr>\n",
       "    <tr>\n",
       "      <th>speculator_950</th>\n",
       "      <td>0.0</td>\n",
       "      <td>0.0</td>\n",
       "      <td>0.0</td>\n",
       "    </tr>\n",
       "  </tbody>\n",
       "</table>\n",
       "</div>"
      ],
      "text/plain": [
       "                weiReceived  weiSent  balance\n",
       "address                                      \n",
       "speculator_99           3.0     25.0    -22.0\n",
       "speculator_98           7.0      0.0      7.0\n",
       "speculator_97           1.0      0.0      1.0\n",
       "speculator_96           0.0      3.0     -3.0\n",
       "speculator_950          0.0      0.0      0.0"
      ]
     },
     "execution_count": 69,
     "metadata": {},
     "output_type": "execute_result"
    }
   ],
   "source": [
    "balance_result_py.head()\n",
    "balance_result_sql.head()"
   ]
  },
  {
   "cell_type": "code",
   "execution_count": 70,
   "metadata": {},
   "outputs": [
    {
     "name": "stdout",
     "output_type": "stream",
     "text": [
      "weiSent, weiReceived Test succeeded!!\n"
     ]
    }
   ],
   "source": [
    "pd.testing.assert_frame_equal(balance_result_py, balance_result_sql)\n",
    "print(\"weiSent, weiReceived Test succeeded!!\")"
   ]
  },
  {
   "cell_type": "markdown",
   "metadata": {},
   "source": [
    "### Test SQL command for retrieving \"txSent\" and \"txReceived\""
   ]
  },
  {
   "cell_type": "code",
   "execution_count": 71,
   "metadata": {},
   "outputs": [
    {
     "name": "stdout",
     "output_type": "stream",
     "text": [
      "Executing query with job ID: 346082c3-4e62-4ba9-b6f0-4b99b73204b0\n",
      "Query executing: 1.49s\n",
      "Query complete after 2.50s\n"
     ]
    }
   ],
   "source": [
    "%%bigquery res2 --project masterarbeit-245718 --verbose \n",
    "with txView as (\n",
    "\n",
    "  with txSent as (\n",
    "      SELECT from_address, count(*) as numberOfTranscationsSent FROM `masterarbeit-245718.ethereum_us.traces_sampleData` \n",
    "      where to_address is not null and status = 1 and (call_type not in ('delegatecall', 'callcode', 'staticcall') or call_type is null) \n",
    "      group by from_address\n",
    "    ), txReceived as (\n",
    "      SELECT to_address, count(*) as numberOfTranscationsReceived FROM `masterarbeit-245718.ethereum_us.traces_sampleData` \n",
    "      where to_address is not null and status = 1 and (call_type not in ('delegatecall', 'callcode', 'staticcall') or call_type is null) \n",
    "      group by to_address\n",
    "    ) \n",
    "    SELECT \n",
    "    CASE  \n",
    "      WHEN to_address IS NOT NULL THEN to_address\n",
    "      WHEN from_address IS NOT NULL THEN from_address\n",
    "    END AS address,\n",
    "    IFNULL(numberOfTranscationsReceived, 0) as numberOfTranscationsReceived, \n",
    "    IFNULL(numberOfTranscationsSent, 0) as numberOfTranscationsSent\n",
    "    from txReceived FULL OUTER JOIN txSent on to_address = from_address\n",
    ") \n",
    "\n",
    "    select address, numberOfTranscationsReceived, numberOfTranscationsSent from txView right join `ethereum_us.addresses_testdata` using(address)"
   ]
  },
  {
   "cell_type": "code",
   "execution_count": 72,
   "metadata": {},
   "outputs": [],
   "source": [
    "res3 = res2.copy()\n",
    "res3 = res3.fillna(0.)\n",
    "res3 = res3.sort_values(by=\"address\", ascending=False)\n",
    "tx_sent_received_result_sql = res3.set_index(\"address\", drop=True)"
   ]
  },
  {
   "cell_type": "code",
   "execution_count": 74,
   "metadata": {},
   "outputs": [],
   "source": [
    "data3 = pd.DataFrame(index=set(data1[\"from_address\"].unique()) | set(data1[\"to_address\"].unique()))\n",
    "data3[\"numberOfTranscationsReceived\"] = data1.groupby('to_address').count().value\n",
    "data3[\"numberOfTranscationsSent\"] = data1.groupby('from_address').count().value\n",
    "data3 = data3.fillna(0)\n",
    "data3 = data3.astype(\"int\")\n",
    "data3.index = data3.index.rename(\"address\")\n",
    "data3 = data3.reindex(addresses_testdata[\"address\"], fill_value=0.)\n",
    "data3 = data3.sort_values(by=\"address\", ascending=False)\n",
    "tx_sent_received_result_py = data3"
   ]
  },
  {
   "cell_type": "code",
   "execution_count": 75,
   "metadata": {},
   "outputs": [
    {
     "name": "stdout",
     "output_type": "stream",
     "text": [
      "txSent, txReceived Test succeeded !!\n"
     ]
    }
   ],
   "source": [
    "pd.testing.assert_frame_equal(tx_sent_received_result_py, tx_sent_received_result_sql)\n",
    "print(\"txSent, txReceived Test succeeded !!\")"
   ]
  },
  {
   "cell_type": "markdown",
   "metadata": {},
   "source": [
    "### Test avg time between tx"
   ]
  },
  {
   "cell_type": "code",
   "execution_count": 76,
   "metadata": {},
   "outputs": [
    {
     "name": "stdout",
     "output_type": "stream",
     "text": [
      "Executing query with job ID: 09fe94bc-a8be-4ee6-8a0c-62cbb06a9c77\n",
      "Query executing: 1.38s\n",
      "Query complete after 2.31s\n"
     ]
    }
   ],
   "source": [
    "%%bigquery res4 --project masterarbeit-245718 --verbose \n",
    "with timeRecView as (\n",
    "\n",
    "  with receivedTx as (\n",
    "    SELECT to_address, count(*) as numberOfTranscationsReceived FROM `masterarbeit-245718.ethereum_us.traces_sampleData` \n",
    "    where to_address is not null \n",
    "      and status = 1 \n",
    "      and (call_type not in ('delegatecall', 'callcode', 'staticcall') or call_type is null)\n",
    "    group by to_address),\n",
    "  \n",
    "  timeStampDiffs as (\n",
    "    SELECT to_address, TIMESTAMP_DIFF(MAX(block_timestamp), MIN( block_timestamp ), second ) as timestampDiff\n",
    "    FROM `masterarbeit-245718.ethereum_us.traces_sampleData`\n",
    "    where to_address is not null \n",
    "      and status = 1 \n",
    "      and (call_type not in ('delegatecall', 'callcode', 'staticcall') or call_type is null)\n",
    "    group by to_address\n",
    "  \n",
    "  ) select to_address as address, \n",
    "  CASE \n",
    "    when (numberOfTranscationsReceived - 1)  > 0 then timestampDiff / (numberOfTranscationsReceived - 1) \n",
    "    else 0\n",
    "  end as avgTimeDiffBetweenReceivedTransactions\n",
    "  from receivedTx inner join  timeStampDiffs using(to_address)\n",
    ")\n",
    "\n",
    "select address, ifnull(avgTimeDiffBetweenReceivedTransactions,0) as avgTimeDiffBetweenReceivedTransactions from timeRecView right join `ethereum_us.addresses_testdata` using(address)"
   ]
  },
  {
   "cell_type": "code",
   "execution_count": 77,
   "metadata": {},
   "outputs": [],
   "source": [
    "res6 = res4.set_index(\"address\", drop=True)\n",
    "res6 = res6.fillna(0.)\n",
    "res6 = res6.sort_values(by=\"address\")\n",
    "avg_time_diff_receivedtx_result_sql = res6"
   ]
  },
  {
   "cell_type": "code",
   "execution_count": 78,
   "metadata": {},
   "outputs": [
    {
     "name": "stdout",
     "output_type": "stream",
     "text": [
      "Executing query with job ID: 5fd3a20c-ebde-4e9f-9e46-a650ec10202c\n",
      "Query executing: 1.45s\n",
      "Query complete after 2.28s\n"
     ]
    }
   ],
   "source": [
    "%%bigquery res5 --project masterarbeit-245718 --verbose \n",
    "with timeSentView as (\n",
    "\n",
    "  with sentTx as (\n",
    "    SELECT from_address, count(*) as numberOfTranscationsSent FROM `masterarbeit-245718.ethereum_us.traces_sampleData` \n",
    "    where to_address is not null \n",
    "      and status = 1 \n",
    "      and (call_type not in ('delegatecall', 'callcode', 'staticcall') or call_type is null)\n",
    "    group by from_address),\n",
    "  timeStampDiffs as (\n",
    "    SELECT from_address, TIMESTAMP_DIFF(MAX(block_timestamp), MIN( block_timestamp ), second ) as timestampDiff\n",
    "    FROM `masterarbeit-245718.ethereum_us.traces_sampleData`\n",
    "    where to_address is not null \n",
    "      and status = 1 \n",
    "      and (call_type not in ('delegatecall', 'callcode', 'staticcall') or call_type is null)\n",
    "    group by from_address\n",
    "  ) select from_address as address, \n",
    "  CASE \n",
    "    when (numberOfTranscationsSent - 1)  > 0 then timestampDiff / (numberOfTranscationsSent - 1) \n",
    "    else 0\n",
    "  end as avgTimeDiffBetweenSentTransactions\n",
    "     from sentTx inner join  timeStampDiffs using(from_address)\n",
    ")\n",
    "\n",
    "select address, ifnull(avgTimeDiffBetweenSentTransactions,0) as avgTimeDiffBetweenSentTransactions from timeSentView right join `ethereum_us.addresses_testdata` using(address)\n",
    "\n",
    "\n",
    "with timeSentView as (\n",
    "\n",
    "  with sentTx as (\n",
    "    SELECT from_address, count(*) as numberOfTranscationsSent FROM `masterarbeit-245718.ethereum_us.traces_sampleData` \n",
    "    where to_address is not null \n",
    "      and status = 1 \n",
    "      and (call_type not in ('delegatecall', 'callcode', 'staticcall') or call_type is null)\n",
    "    group by from_address),\n",
    "  timeStampDiffs as (\n",
    "    SELECT from_address, TIMESTAMP_DIFF(MAX(block_timestamp), MIN( block_timestamp ), second ) as timestampDiff\n",
    "    FROM `masterarbeit-245718.ethereum_us.traces_sampleData`\n",
    "    where to_address is not null \n",
    "      and status = 1 \n",
    "      and (call_type not in ('delegatecall', 'callcode', 'staticcall') or call_type is null)\n",
    "    group by from_address\n",
    "  ) select from_address as address, \n",
    "  CASE \n",
    "    when (numberOfTranscationsSent - 1)  > 0 then timestampDiff / (numberOfTranscationsSent - 1) \n",
    "    else 0\n",
    "  end as avgTimeDiffBetweenSentTransactions\n",
    "     from sentTx inner join  timeStampDiffs using(from_address)\n",
    ")\n",
    "\n",
    "select address, avgTimeDiffBetweenSentTransactions from timeSentView right join `ethereum_us.addresses_testdata` using(address)"
   ]
  },
  {
   "cell_type": "code",
   "execution_count": 357,
   "metadata": {},
   "outputs": [],
   "source": [
    "res6 = res5.set_index(\"address\", drop=True)\n",
    "res6 = res6.fillna(0.)\n",
    "res6 = res6.sort_values(by=\"address\")\n",
    "avg_time_diff_senttx_result_sql = res6"
   ]
  },
  {
   "cell_type": "code",
   "execution_count": 360,
   "metadata": {},
   "outputs": [
    {
     "data": {
      "text/html": [
       "<div>\n",
       "<style scoped>\n",
       "    .dataframe tbody tr th:only-of-type {\n",
       "        vertical-align: middle;\n",
       "    }\n",
       "\n",
       "    .dataframe tbody tr th {\n",
       "        vertical-align: top;\n",
       "    }\n",
       "\n",
       "    .dataframe thead th {\n",
       "        text-align: right;\n",
       "    }\n",
       "</style>\n",
       "<table border=\"1\" class=\"dataframe\">\n",
       "  <thead>\n",
       "    <tr style=\"text-align: right;\">\n",
       "      <th></th>\n",
       "      <th>avgTimeDiffBetweenSentTransactions</th>\n",
       "    </tr>\n",
       "    <tr>\n",
       "      <th>address</th>\n",
       "      <th></th>\n",
       "    </tr>\n",
       "  </thead>\n",
       "  <tbody>\n",
       "    <tr>\n",
       "      <th>exchange_1</th>\n",
       "      <td>840.000000</td>\n",
       "    </tr>\n",
       "    <tr>\n",
       "      <th>exchange_10</th>\n",
       "      <td>786.857143</td>\n",
       "    </tr>\n",
       "    <tr>\n",
       "      <th>exchange_11</th>\n",
       "      <td>377.538462</td>\n",
       "    </tr>\n",
       "    <tr>\n",
       "      <th>exchange_12</th>\n",
       "      <td>878.000000</td>\n",
       "    </tr>\n",
       "    <tr>\n",
       "      <th>exchange_13</th>\n",
       "      <td>400.500000</td>\n",
       "    </tr>\n",
       "    <tr>\n",
       "      <th>exchange_14</th>\n",
       "      <td>738.857143</td>\n",
       "    </tr>\n",
       "    <tr>\n",
       "      <th>exchange_15</th>\n",
       "      <td>568.500000</td>\n",
       "    </tr>\n",
       "    <tr>\n",
       "      <th>exchange_16</th>\n",
       "      <td>1296.000000</td>\n",
       "    </tr>\n",
       "    <tr>\n",
       "      <th>exchange_17</th>\n",
       "      <td>560.400000</td>\n",
       "    </tr>\n",
       "    <tr>\n",
       "      <th>exchange_18</th>\n",
       "      <td>666.000000</td>\n",
       "    </tr>\n",
       "    <tr>\n",
       "      <th>exchange_19</th>\n",
       "      <td>560.400000</td>\n",
       "    </tr>\n",
       "    <tr>\n",
       "      <th>exchange_2</th>\n",
       "      <td>529.090909</td>\n",
       "    </tr>\n",
       "    <tr>\n",
       "      <th>exchange_20</th>\n",
       "      <td>550.285714</td>\n",
       "    </tr>\n",
       "    <tr>\n",
       "      <th>exchange_21</th>\n",
       "      <td>1950.000000</td>\n",
       "    </tr>\n",
       "    <tr>\n",
       "      <th>exchange_22</th>\n",
       "      <td>386.400000</td>\n",
       "    </tr>\n",
       "    <tr>\n",
       "      <th>exchange_23</th>\n",
       "      <td>606.000000</td>\n",
       "    </tr>\n",
       "    <tr>\n",
       "      <th>exchange_24</th>\n",
       "      <td>861.600000</td>\n",
       "    </tr>\n",
       "    <tr>\n",
       "      <th>exchange_25</th>\n",
       "      <td>556.800000</td>\n",
       "    </tr>\n",
       "    <tr>\n",
       "      <th>exchange_26</th>\n",
       "      <td>528.000000</td>\n",
       "    </tr>\n",
       "    <tr>\n",
       "      <th>exchange_27</th>\n",
       "      <td>902.000000</td>\n",
       "    </tr>\n",
       "    <tr>\n",
       "      <th>exchange_28</th>\n",
       "      <td>600.000000</td>\n",
       "    </tr>\n",
       "    <tr>\n",
       "      <th>exchange_29</th>\n",
       "      <td>360.000000</td>\n",
       "    </tr>\n",
       "    <tr>\n",
       "      <th>exchange_3</th>\n",
       "      <td>531.600000</td>\n",
       "    </tr>\n",
       "    <tr>\n",
       "      <th>exchange_30</th>\n",
       "      <td>956.000000</td>\n",
       "    </tr>\n",
       "    <tr>\n",
       "      <th>exchange_31</th>\n",
       "      <td>529.333333</td>\n",
       "    </tr>\n",
       "    <tr>\n",
       "      <th>exchange_32</th>\n",
       "      <td>448.000000</td>\n",
       "    </tr>\n",
       "    <tr>\n",
       "      <th>exchange_33</th>\n",
       "      <td>487.500000</td>\n",
       "    </tr>\n",
       "    <tr>\n",
       "      <th>exchange_34</th>\n",
       "      <td>492.000000</td>\n",
       "    </tr>\n",
       "    <tr>\n",
       "      <th>exchange_35</th>\n",
       "      <td>906.000000</td>\n",
       "    </tr>\n",
       "    <tr>\n",
       "      <th>exchange_36</th>\n",
       "      <td>468.000000</td>\n",
       "    </tr>\n",
       "    <tr>\n",
       "      <th>...</th>\n",
       "      <td>...</td>\n",
       "    </tr>\n",
       "    <tr>\n",
       "      <th>speculator_928</th>\n",
       "      <td>0.000000</td>\n",
       "    </tr>\n",
       "    <tr>\n",
       "      <th>speculator_929</th>\n",
       "      <td>0.000000</td>\n",
       "    </tr>\n",
       "    <tr>\n",
       "      <th>speculator_93</th>\n",
       "      <td>0.000000</td>\n",
       "    </tr>\n",
       "    <tr>\n",
       "      <th>speculator_930</th>\n",
       "      <td>0.000000</td>\n",
       "    </tr>\n",
       "    <tr>\n",
       "      <th>speculator_931</th>\n",
       "      <td>816.000000</td>\n",
       "    </tr>\n",
       "    <tr>\n",
       "      <th>speculator_932</th>\n",
       "      <td>0.000000</td>\n",
       "    </tr>\n",
       "    <tr>\n",
       "      <th>speculator_933</th>\n",
       "      <td>0.000000</td>\n",
       "    </tr>\n",
       "    <tr>\n",
       "      <th>speculator_934</th>\n",
       "      <td>0.000000</td>\n",
       "    </tr>\n",
       "    <tr>\n",
       "      <th>speculator_935</th>\n",
       "      <td>0.000000</td>\n",
       "    </tr>\n",
       "    <tr>\n",
       "      <th>speculator_936</th>\n",
       "      <td>0.000000</td>\n",
       "    </tr>\n",
       "    <tr>\n",
       "      <th>speculator_937</th>\n",
       "      <td>0.000000</td>\n",
       "    </tr>\n",
       "    <tr>\n",
       "      <th>speculator_938</th>\n",
       "      <td>0.000000</td>\n",
       "    </tr>\n",
       "    <tr>\n",
       "      <th>speculator_939</th>\n",
       "      <td>0.000000</td>\n",
       "    </tr>\n",
       "    <tr>\n",
       "      <th>speculator_94</th>\n",
       "      <td>0.000000</td>\n",
       "    </tr>\n",
       "    <tr>\n",
       "      <th>speculator_940</th>\n",
       "      <td>0.000000</td>\n",
       "    </tr>\n",
       "    <tr>\n",
       "      <th>speculator_941</th>\n",
       "      <td>0.000000</td>\n",
       "    </tr>\n",
       "    <tr>\n",
       "      <th>speculator_942</th>\n",
       "      <td>972.000000</td>\n",
       "    </tr>\n",
       "    <tr>\n",
       "      <th>speculator_943</th>\n",
       "      <td>0.000000</td>\n",
       "    </tr>\n",
       "    <tr>\n",
       "      <th>speculator_944</th>\n",
       "      <td>0.000000</td>\n",
       "    </tr>\n",
       "    <tr>\n",
       "      <th>speculator_945</th>\n",
       "      <td>0.000000</td>\n",
       "    </tr>\n",
       "    <tr>\n",
       "      <th>speculator_946</th>\n",
       "      <td>0.000000</td>\n",
       "    </tr>\n",
       "    <tr>\n",
       "      <th>speculator_947</th>\n",
       "      <td>0.000000</td>\n",
       "    </tr>\n",
       "    <tr>\n",
       "      <th>speculator_948</th>\n",
       "      <td>0.000000</td>\n",
       "    </tr>\n",
       "    <tr>\n",
       "      <th>speculator_949</th>\n",
       "      <td>0.000000</td>\n",
       "    </tr>\n",
       "    <tr>\n",
       "      <th>speculator_95</th>\n",
       "      <td>0.000000</td>\n",
       "    </tr>\n",
       "    <tr>\n",
       "      <th>speculator_950</th>\n",
       "      <td>0.000000</td>\n",
       "    </tr>\n",
       "    <tr>\n",
       "      <th>speculator_96</th>\n",
       "      <td>0.000000</td>\n",
       "    </tr>\n",
       "    <tr>\n",
       "      <th>speculator_97</th>\n",
       "      <td>0.000000</td>\n",
       "    </tr>\n",
       "    <tr>\n",
       "      <th>speculator_98</th>\n",
       "      <td>0.000000</td>\n",
       "    </tr>\n",
       "    <tr>\n",
       "      <th>speculator_99</th>\n",
       "      <td>0.000000</td>\n",
       "    </tr>\n",
       "  </tbody>\n",
       "</table>\n",
       "<p>1000 rows × 1 columns</p>\n",
       "</div>"
      ],
      "text/plain": [
       "                avgTimeDiffBetweenSentTransactions\n",
       "address                                           \n",
       "exchange_1                              840.000000\n",
       "exchange_10                             786.857143\n",
       "exchange_11                             377.538462\n",
       "exchange_12                             878.000000\n",
       "exchange_13                             400.500000\n",
       "exchange_14                             738.857143\n",
       "exchange_15                             568.500000\n",
       "exchange_16                            1296.000000\n",
       "exchange_17                             560.400000\n",
       "exchange_18                             666.000000\n",
       "exchange_19                             560.400000\n",
       "exchange_2                              529.090909\n",
       "exchange_20                             550.285714\n",
       "exchange_21                            1950.000000\n",
       "exchange_22                             386.400000\n",
       "exchange_23                             606.000000\n",
       "exchange_24                             861.600000\n",
       "exchange_25                             556.800000\n",
       "exchange_26                             528.000000\n",
       "exchange_27                             902.000000\n",
       "exchange_28                             600.000000\n",
       "exchange_29                             360.000000\n",
       "exchange_3                              531.600000\n",
       "exchange_30                             956.000000\n",
       "exchange_31                             529.333333\n",
       "exchange_32                             448.000000\n",
       "exchange_33                             487.500000\n",
       "exchange_34                             492.000000\n",
       "exchange_35                             906.000000\n",
       "exchange_36                             468.000000\n",
       "...                                            ...\n",
       "speculator_928                            0.000000\n",
       "speculator_929                            0.000000\n",
       "speculator_93                             0.000000\n",
       "speculator_930                            0.000000\n",
       "speculator_931                          816.000000\n",
       "speculator_932                            0.000000\n",
       "speculator_933                            0.000000\n",
       "speculator_934                            0.000000\n",
       "speculator_935                            0.000000\n",
       "speculator_936                            0.000000\n",
       "speculator_937                            0.000000\n",
       "speculator_938                            0.000000\n",
       "speculator_939                            0.000000\n",
       "speculator_94                             0.000000\n",
       "speculator_940                            0.000000\n",
       "speculator_941                            0.000000\n",
       "speculator_942                          972.000000\n",
       "speculator_943                            0.000000\n",
       "speculator_944                            0.000000\n",
       "speculator_945                            0.000000\n",
       "speculator_946                            0.000000\n",
       "speculator_947                            0.000000\n",
       "speculator_948                            0.000000\n",
       "speculator_949                            0.000000\n",
       "speculator_95                             0.000000\n",
       "speculator_950                            0.000000\n",
       "speculator_96                             0.000000\n",
       "speculator_97                             0.000000\n",
       "speculator_98                             0.000000\n",
       "speculator_99                             0.000000\n",
       "\n",
       "[1000 rows x 1 columns]"
      ]
     },
     "execution_count": 360,
     "metadata": {},
     "output_type": "execute_result"
    }
   ],
   "source": [
    "res7 = [row for (index, row) in traces_sampleData.iterrows() if (row.call_type not in ['delegatecall', 'callcode', 'staticcall'] or row.call_type == None) and row.status == 1]\n",
    "res7 = pd.DataFrame(res7)\n",
    "res8 = res7.groupby(\"from_address\").max().block_timestamp\n",
    "res9 = res7.groupby(\"from_address\").min().block_timestamp\n",
    "res10 = res8 - res9\n",
    "res10 = res10.rename(\"seconds_diff\")\n",
    "res10 = tx_sent_received_result_py.join(res10, how=\"right\").drop(\"numberOfTranscationsReceived\", axis=1)\n",
    "res10 = res10.fillna(0.)\n",
    "res10[\"avgTimeDiffBetweenSentTransactions\"] = res10[\"seconds_diff\"] / (res10[\"numberOfTranscationsSent\"] - 1)\n",
    "res10[\"avgTimeDiffBetweenSentTransactions\"] = res10[\"avgTimeDiffBetweenSentTransactions\"].fillna(datetime.timedelta(0))\n",
    "res10 = res10.reindex(addresses, fill_value=0.)\n",
    "res10.index = res10.index.rename(\"address\")\n",
    "res10 = res10.sort_values(by=\"address\")\n",
    "res10 = res10.drop([\"numberOfTranscationsSent\", \"seconds_diff\"],axis=1)\n",
    "res10[\"avgTimeDiffBetweenSentTransactions\"] = [ts.total_seconds() for ts in res10[\"avgTimeDiffBetweenSentTransactions\"]]\n",
    "avg_time_diff_senttx_result_py = res10\n",
    "avg_time_diff_senttx_result_py"
   ]
  },
  {
   "cell_type": "code",
   "execution_count": 361,
   "metadata": {},
   "outputs": [
    {
     "name": "stdout",
     "output_type": "stream",
     "text": [
      "avgTimeDiffBetweenSentTransactions Test succeeded !!\n"
     ]
    }
   ],
   "source": [
    "pd.testing.assert_frame_equal(avg_time_diff_senttx_result_sql, avg_time_diff_senttx_result_py)\n",
    "print(\"avgTimeDiffBetweenSentTransactions Test succeeded !!\")"
   ]
  },
  {
   "cell_type": "code",
   "execution_count": 363,
   "metadata": {},
   "outputs": [],
   "source": [
    "features = balance_result_sql.join(tx_sent_received_result_sql,how=\"left\")\n",
    "features = features.join(avg_time_diff_senttx_result_sql)\n",
    "features = features.join(avg_time_diff_receivedtx_result_sql)\n",
    "features = features.sort_values(by=\"balance\", ascending=False)\n",
    "features = features.fillna(0.0)\n",
    "import sys\n",
    "# addresses that have sent/received only one transaction get the avg time max * 2\n",
    "features[\"avgTimeDiffBetweenSentTransactions\"] = features[\"avgTimeDiffBetweenSentTransactions\"].replace(to_replace=0.0, value=2 * max(features[\"avgTimeDiffBetweenSentTransactions\"]))\n",
    "features[\"avgTimeDiffBetweenReceivedTransactions\"] = features[\"avgTimeDiffBetweenReceivedTransactions\"].replace(to_replace=0.0, value=2 * max(features[\"avgTimeDiffBetweenReceivedTransactions\"]))"
   ]
  },
  {
   "cell_type": "code",
   "execution_count": 364,
   "metadata": {},
   "outputs": [],
   "source": [
    "features = features.reset_index()"
   ]
  },
  {
   "cell_type": "code",
   "execution_count": 367,
   "metadata": {},
   "outputs": [
    {
     "name": "stderr",
     "output_type": "stream",
     "text": [
      "1it [00:04,  4.50s/it]\n"
     ]
    }
   ],
   "source": [
    "features.to_gbq('ethereum_us.features_sampleData', if_exists=\"replace\")"
   ]
  },
  {
   "cell_type": "markdown",
   "metadata": {},
   "source": [
    "# Deprecated"
   ]
  },
  {
   "cell_type": "code",
   "execution_count": 376,
   "metadata": {},
   "outputs": [],
   "source": [
    "tablesToDelete = [\n",
    "    \"token_transfers\"\n",
    "    ,\"tokens\"\n",
    "    ,\"top40k_19_20_features\"\n",
    "    ,\"top40k_19_20_time_rec_tx\"\n",
    "    ,\"top40k_week1777_contracts\"\n",
    ",\"top40k_week1777_logs\"\n",
    ",\"top40k_week1777_token_transfers\"\n",
    " ,   \"top40k_week1777_tokens\"\n",
    "  ,  \"top40k_week1777_traces\"\n",
    "   , \"traces_sampleData\"\n",
    "    ,\"traces_top40k_2019_Q1\"\n",
    "    ,\"transactions\"\n",
    "    \n",
    "]\n",
    "\n",
    "for t in tablesToDelete:\n",
    "    client.delete_table(\"ethereum_us.{}\".format(t), not_found_ok=True) "
   ]
  },
  {
   "cell_type": "code",
   "execution_count": 369,
   "metadata": {},
   "outputs": [
    {
     "ename": "NotFound",
     "evalue": "404 DELETE https://www.googleapis.com/bigquery/v2/projects/masterarbeit-245718/datasets/ethereum_us/tables/blocks: Not found: Table masterarbeit-245718:ethereum_us.blocks",
     "output_type": "error",
     "traceback": [
      "\u001b[0;31m---------------------------------------------------------------------------\u001b[0m",
      "\u001b[0;31mNotFound\u001b[0m                                  Traceback (most recent call last)",
      "\u001b[0;32m<ipython-input-369-0ddb593b4483>\u001b[0m in \u001b[0;36m<module>\u001b[0;34m\u001b[0m\n\u001b[0;32m----> 1\u001b[0;31m \u001b[0mclient\u001b[0m\u001b[0;34m.\u001b[0m\u001b[0mdelete_table\u001b[0m\u001b[0;34m(\u001b[0m\u001b[0;34m\"ethereum_us.blocks\"\u001b[0m\u001b[0;34m,\u001b[0m \u001b[0mnot_found_ok\u001b[0m\u001b[0;34m=\u001b[0m\u001b[0;32mFalse\u001b[0m\u001b[0;34m)\u001b[0m\u001b[0;34m\u001b[0m\u001b[0;34m\u001b[0m\u001b[0m\n\u001b[0m",
      "\u001b[0;32m~/.local/lib/python3.6/site-packages/google/cloud/bigquery/client.py\u001b[0m in \u001b[0;36mdelete_table\u001b[0;34m(self, table, retry, not_found_ok)\u001b[0m\n\u001b[1;32m   1033\u001b[0m \u001b[0;34m\u001b[0m\u001b[0m\n\u001b[1;32m   1034\u001b[0m         \u001b[0;32mtry\u001b[0m\u001b[0;34m:\u001b[0m\u001b[0;34m\u001b[0m\u001b[0;34m\u001b[0m\u001b[0m\n\u001b[0;32m-> 1035\u001b[0;31m             \u001b[0mself\u001b[0m\u001b[0;34m.\u001b[0m\u001b[0m_call_api\u001b[0m\u001b[0;34m(\u001b[0m\u001b[0mretry\u001b[0m\u001b[0;34m,\u001b[0m \u001b[0mmethod\u001b[0m\u001b[0;34m=\u001b[0m\u001b[0;34m\"DELETE\"\u001b[0m\u001b[0;34m,\u001b[0m \u001b[0mpath\u001b[0m\u001b[0;34m=\u001b[0m\u001b[0mtable\u001b[0m\u001b[0;34m.\u001b[0m\u001b[0mpath\u001b[0m\u001b[0;34m)\u001b[0m\u001b[0;34m\u001b[0m\u001b[0;34m\u001b[0m\u001b[0m\n\u001b[0m\u001b[1;32m   1036\u001b[0m         \u001b[0;32mexcept\u001b[0m \u001b[0mgoogle\u001b[0m\u001b[0;34m.\u001b[0m\u001b[0mapi_core\u001b[0m\u001b[0;34m.\u001b[0m\u001b[0mexceptions\u001b[0m\u001b[0;34m.\u001b[0m\u001b[0mNotFound\u001b[0m\u001b[0;34m:\u001b[0m\u001b[0;34m\u001b[0m\u001b[0;34m\u001b[0m\u001b[0m\n\u001b[1;32m   1037\u001b[0m             \u001b[0;32mif\u001b[0m \u001b[0;32mnot\u001b[0m \u001b[0mnot_found_ok\u001b[0m\u001b[0;34m:\u001b[0m\u001b[0;34m\u001b[0m\u001b[0;34m\u001b[0m\u001b[0m\n",
      "\u001b[0;32m~/.local/lib/python3.6/site-packages/google/cloud/bigquery/client.py\u001b[0m in \u001b[0;36m_call_api\u001b[0;34m(self, retry, **kwargs)\u001b[0m\n\u001b[1;32m    454\u001b[0m         \u001b[0;32mif\u001b[0m \u001b[0mretry\u001b[0m\u001b[0;34m:\u001b[0m\u001b[0;34m\u001b[0m\u001b[0;34m\u001b[0m\u001b[0m\n\u001b[1;32m    455\u001b[0m             \u001b[0mcall\u001b[0m \u001b[0;34m=\u001b[0m \u001b[0mretry\u001b[0m\u001b[0;34m(\u001b[0m\u001b[0mcall\u001b[0m\u001b[0;34m)\u001b[0m\u001b[0;34m\u001b[0m\u001b[0;34m\u001b[0m\u001b[0m\n\u001b[0;32m--> 456\u001b[0;31m         \u001b[0;32mreturn\u001b[0m \u001b[0mcall\u001b[0m\u001b[0;34m(\u001b[0m\u001b[0;34m)\u001b[0m\u001b[0;34m\u001b[0m\u001b[0;34m\u001b[0m\u001b[0m\n\u001b[0m\u001b[1;32m    457\u001b[0m \u001b[0;34m\u001b[0m\u001b[0m\n\u001b[1;32m    458\u001b[0m     \u001b[0;32mdef\u001b[0m \u001b[0mget_dataset\u001b[0m\u001b[0;34m(\u001b[0m\u001b[0mself\u001b[0m\u001b[0;34m,\u001b[0m \u001b[0mdataset_ref\u001b[0m\u001b[0;34m,\u001b[0m \u001b[0mretry\u001b[0m\u001b[0;34m=\u001b[0m\u001b[0mDEFAULT_RETRY\u001b[0m\u001b[0;34m)\u001b[0m\u001b[0;34m:\u001b[0m\u001b[0;34m\u001b[0m\u001b[0;34m\u001b[0m\u001b[0m\n",
      "\u001b[0;32m~/.local/lib/python3.6/site-packages/google/api_core/retry.py\u001b[0m in \u001b[0;36mretry_wrapped_func\u001b[0;34m(*args, **kwargs)\u001b[0m\n\u001b[1;32m    271\u001b[0m                 \u001b[0msleep_generator\u001b[0m\u001b[0;34m,\u001b[0m\u001b[0;34m\u001b[0m\u001b[0;34m\u001b[0m\u001b[0m\n\u001b[1;32m    272\u001b[0m                 \u001b[0mself\u001b[0m\u001b[0;34m.\u001b[0m\u001b[0m_deadline\u001b[0m\u001b[0;34m,\u001b[0m\u001b[0;34m\u001b[0m\u001b[0;34m\u001b[0m\u001b[0m\n\u001b[0;32m--> 273\u001b[0;31m                 \u001b[0mon_error\u001b[0m\u001b[0;34m=\u001b[0m\u001b[0mon_error\u001b[0m\u001b[0;34m,\u001b[0m\u001b[0;34m\u001b[0m\u001b[0;34m\u001b[0m\u001b[0m\n\u001b[0m\u001b[1;32m    274\u001b[0m             )\n\u001b[1;32m    275\u001b[0m \u001b[0;34m\u001b[0m\u001b[0m\n",
      "\u001b[0;32m~/.local/lib/python3.6/site-packages/google/api_core/retry.py\u001b[0m in \u001b[0;36mretry_target\u001b[0;34m(target, predicate, sleep_generator, deadline, on_error)\u001b[0m\n\u001b[1;32m    180\u001b[0m     \u001b[0;32mfor\u001b[0m \u001b[0msleep\u001b[0m \u001b[0;32min\u001b[0m \u001b[0msleep_generator\u001b[0m\u001b[0;34m:\u001b[0m\u001b[0;34m\u001b[0m\u001b[0;34m\u001b[0m\u001b[0m\n\u001b[1;32m    181\u001b[0m         \u001b[0;32mtry\u001b[0m\u001b[0;34m:\u001b[0m\u001b[0;34m\u001b[0m\u001b[0;34m\u001b[0m\u001b[0m\n\u001b[0;32m--> 182\u001b[0;31m             \u001b[0;32mreturn\u001b[0m \u001b[0mtarget\u001b[0m\u001b[0;34m(\u001b[0m\u001b[0;34m)\u001b[0m\u001b[0;34m\u001b[0m\u001b[0;34m\u001b[0m\u001b[0m\n\u001b[0m\u001b[1;32m    183\u001b[0m \u001b[0;34m\u001b[0m\u001b[0m\n\u001b[1;32m    184\u001b[0m         \u001b[0;31m# pylint: disable=broad-except\u001b[0m\u001b[0;34m\u001b[0m\u001b[0;34m\u001b[0m\u001b[0;34m\u001b[0m\u001b[0m\n",
      "\u001b[0;32m~/.local/lib/python3.6/site-packages/google/cloud/_http.py\u001b[0m in \u001b[0;36mapi_request\u001b[0;34m(self, method, path, query_params, data, content_type, headers, api_base_url, api_version, expect_json, _target_object)\u001b[0m\n\u001b[1;32m    394\u001b[0m \u001b[0;34m\u001b[0m\u001b[0m\n\u001b[1;32m    395\u001b[0m         \u001b[0;32mif\u001b[0m \u001b[0;32mnot\u001b[0m \u001b[0;36m200\u001b[0m \u001b[0;34m<=\u001b[0m \u001b[0mresponse\u001b[0m\u001b[0;34m.\u001b[0m\u001b[0mstatus_code\u001b[0m \u001b[0;34m<\u001b[0m \u001b[0;36m300\u001b[0m\u001b[0;34m:\u001b[0m\u001b[0;34m\u001b[0m\u001b[0;34m\u001b[0m\u001b[0m\n\u001b[0;32m--> 396\u001b[0;31m             \u001b[0;32mraise\u001b[0m \u001b[0mexceptions\u001b[0m\u001b[0;34m.\u001b[0m\u001b[0mfrom_http_response\u001b[0m\u001b[0;34m(\u001b[0m\u001b[0mresponse\u001b[0m\u001b[0;34m)\u001b[0m\u001b[0;34m\u001b[0m\u001b[0;34m\u001b[0m\u001b[0m\n\u001b[0m\u001b[1;32m    397\u001b[0m \u001b[0;34m\u001b[0m\u001b[0m\n\u001b[1;32m    398\u001b[0m         \u001b[0;32mif\u001b[0m \u001b[0mexpect_json\u001b[0m \u001b[0;32mand\u001b[0m \u001b[0mresponse\u001b[0m\u001b[0;34m.\u001b[0m\u001b[0mcontent\u001b[0m\u001b[0;34m:\u001b[0m\u001b[0;34m\u001b[0m\u001b[0;34m\u001b[0m\u001b[0m\n",
      "\u001b[0;31mNotFound\u001b[0m: 404 DELETE https://www.googleapis.com/bigquery/v2/projects/masterarbeit-245718/datasets/ethereum_us/tables/blocks: Not found: Table masterarbeit-245718:ethereum_us.blocks"
     ]
    }
   ],
   "source": [
    "client.delete_table(\"ethereum_us.blocks\", not_found_ok=False) "
   ]
  },
  {
   "cell_type": "code",
   "execution_count": 377,
   "metadata": {},
   "outputs": [],
   "source": [
    "tablesToDelete = [\"test_1000_address_month_txReceived_txSent\"                                                                  \n",
    "  ,\"test_1000_address_txReceived_txSent\"                                                                        \n",
    "  ,\"test_1000_address_weiSent_weiReceived\"                                                                      \n",
    "  ,\"test_1000_weiSent_weiReceived_withoutTxFees\"                                                                \n",
    "  ,\"test_top10_blocks\"                                                                                          \n",
    "  ,\"test_top10_contracts\"                                                                                       \n",
    "  ,\"test_top10_logs\"                                                                                            \n",
    "  ,\"test_top10_token_transfers\"                                                                                 \n",
    "  ,\"test_top10_tokens\"                                                                                          \n",
    "  ,\"test_top10_traces\"                                                                                          \n",
    "  ,\"test_top10_transactions\"                                                                                                                                                               \n",
    "  ,\"top40k_week1777_features\"                                                                                   \n",
    "  ,\"top40k_week1777_features_avgTimeDiffBetweenReceivedTx\"                                                      \n",
    "  ,\"top40k_week1777_features_avgTimeDiffBetweenSentTx\"                                                          \n",
    "  ,\"top40k_week1777_features_txSent_txReceived\"                                                                 \n",
    "  ,\"top40k_week1777_features_weiSent_weiReceived\"           ] \n",
    "\n",
    "for t in tablesToDelete:\n",
    "     client.delete_table(\"ethereum_us.{}\".format(t), not_found_ok=True)  "
   ]
  },
  {
   "cell_type": "code",
   "execution_count": null,
   "metadata": {},
   "outputs": [],
   "source": []
  },
  {
   "cell_type": "code",
   "execution_count": null,
   "metadata": {},
   "outputs": [],
   "source": []
  },
  {
   "cell_type": "code",
   "execution_count": null,
   "metadata": {},
   "outputs": [],
   "source": []
  }
 ],
 "metadata": {
  "kernelspec": {
   "display_name": "Python 3",
   "language": "python",
   "name": "python3"
  },
  "language_info": {
   "codemirror_mode": {
    "name": "ipython",
    "version": 3
   },
   "file_extension": ".py",
   "mimetype": "text/x-python",
   "name": "python",
   "nbconvert_exporter": "python",
   "pygments_lexer": "ipython3",
   "version": "3.6.9"
  }
 },
 "nbformat": 4,
 "nbformat_minor": 2
}

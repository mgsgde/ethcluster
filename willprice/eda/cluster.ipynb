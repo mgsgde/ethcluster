{
 "cells": [
  {
   "cell_type": "code",
   "execution_count": 1,
   "metadata": {},
   "outputs": [],
   "source": [
    "%load_ext google.cloud.bigquery\n",
    "%matplotlib inline\n",
    "from google.cloud import bigquery\n",
    "client = bigquery.Client()\n",
    "import matplotlib.pyplot as plt\n",
    "import numpy as np\n",
    "import pandas as pd\n",
    "from sklearn import cluster\n",
    "from sklearn.metrics import silhouette_score, silhouette_samples\n",
    "from sklearn.preprocessing import StandardScaler\n",
    "from sklearn.decomposition import PCA\n",
    "from sklearn.pipeline import Pipeline\n",
    "import random\n",
    "from sklearn.cluster import KMeans\n",
    "import matplotlib.cm as cm"
   ]
  },
  {
   "cell_type": "code",
   "execution_count": 2,
   "metadata": {},
   "outputs": [
    {
     "data": {
      "text/html": [
       "<div>\n",
       "<style scoped>\n",
       "    .dataframe tbody tr th:only-of-type {\n",
       "        vertical-align: middle;\n",
       "    }\n",
       "\n",
       "    .dataframe tbody tr th {\n",
       "        vertical-align: top;\n",
       "    }\n",
       "\n",
       "    .dataframe thead th {\n",
       "        text-align: right;\n",
       "    }\n",
       "</style>\n",
       "<table border=\"1\" class=\"dataframe\">\n",
       "  <thead>\n",
       "    <tr style=\"text-align: right;\">\n",
       "      <th></th>\n",
       "      <th>address</th>\n",
       "      <th>outgoing_txns</th>\n",
       "      <th>incoming_txns</th>\n",
       "      <th>total_eth_sent</th>\n",
       "      <th>avg_eth_sent</th>\n",
       "      <th>total_usd_sent</th>\n",
       "      <th>avg_usd_sent</th>\n",
       "      <th>total_eth_recd</th>\n",
       "      <th>avg_eth_recd</th>\n",
       "      <th>total_usd_recd</th>\n",
       "      <th>...</th>\n",
       "      <th>monthly_eth_sent</th>\n",
       "      <th>monthly_usd_sent</th>\n",
       "      <th>monthly_eth_recd</th>\n",
       "      <th>monthly_usd_recd</th>\n",
       "      <th>contracts_created</th>\n",
       "      <th>contract_txns_sent</th>\n",
       "      <th>incoming_avg_time_btwn_txns</th>\n",
       "      <th>incoming_std_time_btwn_txns</th>\n",
       "      <th>outgoing_avg_time_btwn_txns</th>\n",
       "      <th>outgoing_std_time_btwn_txns</th>\n",
       "    </tr>\n",
       "  </thead>\n",
       "  <tbody>\n",
       "    <tr>\n",
       "      <th>0</th>\n",
       "      <td>0x0bcab166dc40a6c7eeff3b45e0c775efbc0fe823</td>\n",
       "      <td>3</td>\n",
       "      <td>3</td>\n",
       "      <td>0.02001</td>\n",
       "      <td>0.00667</td>\n",
       "      <td>4.109595</td>\n",
       "      <td>1.369865</td>\n",
       "      <td>0.044683678</td>\n",
       "      <td>0.014894559</td>\n",
       "      <td>9.147165</td>\n",
       "      <td>...</td>\n",
       "      <td>0.02001</td>\n",
       "      <td>4.109595</td>\n",
       "      <td>0.044683678</td>\n",
       "      <td>9.147165</td>\n",
       "      <td>0</td>\n",
       "      <td>0</td>\n",
       "      <td>266014.0</td>\n",
       "      <td>375097.520002</td>\n",
       "      <td>223173.5</td>\n",
       "      <td>314156.936279</td>\n",
       "    </tr>\n",
       "    <tr>\n",
       "      <th>1</th>\n",
       "      <td>0x0414a9c3498f00de75bfe820126df680574814a2</td>\n",
       "      <td>3</td>\n",
       "      <td>3</td>\n",
       "      <td>1.6450228</td>\n",
       "      <td>0.548340933</td>\n",
       "      <td>346.022462</td>\n",
       "      <td>115.340821</td>\n",
       "      <td>1.6453</td>\n",
       "      <td>0.548433333</td>\n",
       "      <td>346.078500</td>\n",
       "      <td>...</td>\n",
       "      <td>1.6450228</td>\n",
       "      <td>346.022462</td>\n",
       "      <td>1.6453</td>\n",
       "      <td>346.078500</td>\n",
       "      <td>0</td>\n",
       "      <td>0</td>\n",
       "      <td>78084.0</td>\n",
       "      <td>109679.332830</td>\n",
       "      <td>51639.0</td>\n",
       "      <td>72986.147741</td>\n",
       "    </tr>\n",
       "    <tr>\n",
       "      <th>2</th>\n",
       "      <td>0x0711b608c2868363c58b92572affc1a4403204ab</td>\n",
       "      <td>3</td>\n",
       "      <td>3</td>\n",
       "      <td>5.99685</td>\n",
       "      <td>1.99895</td>\n",
       "      <td>1199.290042</td>\n",
       "      <td>399.763347</td>\n",
       "      <td>6</td>\n",
       "      <td>2</td>\n",
       "      <td>1199.920000</td>\n",
       "      <td>...</td>\n",
       "      <td>5.99685</td>\n",
       "      <td>1199.290042</td>\n",
       "      <td>6</td>\n",
       "      <td>1199.920000</td>\n",
       "      <td>0</td>\n",
       "      <td>0</td>\n",
       "      <td>4396.0</td>\n",
       "      <td>4542.453962</td>\n",
       "      <td>4397.0</td>\n",
       "      <td>4558.010312</td>\n",
       "    </tr>\n",
       "    <tr>\n",
       "      <th>3</th>\n",
       "      <td>0x02a5aac67ce9752b0082166cfda8c51d80122a93</td>\n",
       "      <td>3</td>\n",
       "      <td>3</td>\n",
       "      <td>7.91324736</td>\n",
       "      <td>2.63774912</td>\n",
       "      <td>1636.544286</td>\n",
       "      <td>545.514762</td>\n",
       "      <td>7.91941536</td>\n",
       "      <td>2.63980512</td>\n",
       "      <td>1645.615484</td>\n",
       "      <td>...</td>\n",
       "      <td>7.91324736</td>\n",
       "      <td>1636.544286</td>\n",
       "      <td>7.91941536</td>\n",
       "      <td>1645.615484</td>\n",
       "      <td>0</td>\n",
       "      <td>0</td>\n",
       "      <td>335437.0</td>\n",
       "      <td>217104.409241</td>\n",
       "      <td>300557.0</td>\n",
       "      <td>270085.091928</td>\n",
       "    </tr>\n",
       "    <tr>\n",
       "      <th>4</th>\n",
       "      <td>0x0272ab3d04f274a19bed344469dcb2039b1bbad0</td>\n",
       "      <td>3</td>\n",
       "      <td>3</td>\n",
       "      <td>9.58169278</td>\n",
       "      <td>3.193897593</td>\n",
       "      <td>1926.111883</td>\n",
       "      <td>642.037294</td>\n",
       "      <td>9.58574278</td>\n",
       "      <td>3.195247593</td>\n",
       "      <td>1926.926014</td>\n",
       "      <td>...</td>\n",
       "      <td>9.58169278</td>\n",
       "      <td>1926.111883</td>\n",
       "      <td>9.58574278</td>\n",
       "      <td>1926.926014</td>\n",
       "      <td>0</td>\n",
       "      <td>0</td>\n",
       "      <td>5628.0</td>\n",
       "      <td>7670.694362</td>\n",
       "      <td>5653.0</td>\n",
       "      <td>7618.368461</td>\n",
       "    </tr>\n",
       "  </tbody>\n",
       "</table>\n",
       "<p>5 rows × 24 columns</p>\n",
       "</div>"
      ],
      "text/plain": [
       "                                      address  outgoing_txns  incoming_txns  \\\n",
       "0  0x0bcab166dc40a6c7eeff3b45e0c775efbc0fe823              3              3   \n",
       "1  0x0414a9c3498f00de75bfe820126df680574814a2              3              3   \n",
       "2  0x0711b608c2868363c58b92572affc1a4403204ab              3              3   \n",
       "3  0x02a5aac67ce9752b0082166cfda8c51d80122a93              3              3   \n",
       "4  0x0272ab3d04f274a19bed344469dcb2039b1bbad0              3              3   \n",
       "\n",
       "  total_eth_sent avg_eth_sent  total_usd_sent  avg_usd_sent total_eth_recd  \\\n",
       "0        0.02001      0.00667        4.109595      1.369865    0.044683678   \n",
       "1      1.6450228  0.548340933      346.022462    115.340821         1.6453   \n",
       "2        5.99685      1.99895     1199.290042    399.763347              6   \n",
       "3     7.91324736   2.63774912     1636.544286    545.514762     7.91941536   \n",
       "4     9.58169278  3.193897593     1926.111883    642.037294     9.58574278   \n",
       "\n",
       "  avg_eth_recd  total_usd_recd             ...               monthly_eth_sent  \\\n",
       "0  0.014894559        9.147165             ...                        0.02001   \n",
       "1  0.548433333      346.078500             ...                      1.6450228   \n",
       "2            2     1199.920000             ...                        5.99685   \n",
       "3   2.63980512     1645.615484             ...                     7.91324736   \n",
       "4  3.195247593     1926.926014             ...                     9.58169278   \n",
       "\n",
       "   monthly_usd_sent  monthly_eth_recd  monthly_usd_recd contracts_created  \\\n",
       "0          4.109595       0.044683678          9.147165                 0   \n",
       "1        346.022462            1.6453        346.078500                 0   \n",
       "2       1199.290042                 6       1199.920000                 0   \n",
       "3       1636.544286        7.91941536       1645.615484                 0   \n",
       "4       1926.111883        9.58574278       1926.926014                 0   \n",
       "\n",
       "   contract_txns_sent incoming_avg_time_btwn_txns  \\\n",
       "0                   0                    266014.0   \n",
       "1                   0                     78084.0   \n",
       "2                   0                      4396.0   \n",
       "3                   0                    335437.0   \n",
       "4                   0                      5628.0   \n",
       "\n",
       "   incoming_std_time_btwn_txns  outgoing_avg_time_btwn_txns  \\\n",
       "0                375097.520002                     223173.5   \n",
       "1                109679.332830                      51639.0   \n",
       "2                  4542.453962                       4397.0   \n",
       "3                217104.409241                     300557.0   \n",
       "4                  7670.694362                       5653.0   \n",
       "\n",
       "   outgoing_std_time_btwn_txns  \n",
       "0                314156.936279  \n",
       "1                 72986.147741  \n",
       "2                  4558.010312  \n",
       "3                270085.091928  \n",
       "4                  7618.368461  \n",
       "\n",
       "[5 rows x 24 columns]"
      ]
     },
     "execution_count": 2,
     "metadata": {},
     "output_type": "execute_result"
    }
   ],
   "source": [
    "sql = '''\n",
    "SELECT *  FROM `eth-tokens.alldata.clean_avg`\n",
    "'''\n",
    "\n",
    "df = client.query(sql).to_dataframe()\n",
    "df.head()"
   ]
  },
  {
   "cell_type": "code",
   "execution_count": 3,
   "metadata": {},
   "outputs": [],
   "source": [
    "data = df.iloc[:,1:]\n"
   ]
  },
  {
   "cell_type": "code",
   "execution_count": 4,
   "metadata": {},
   "outputs": [],
   "source": [
    "cl = cluster.KMeans(4)\n",
    "\n",
    "fit_cl = cl.fit(data)\n",
    "\n",
    "centroids = fit_cl.cluster_centers_"
   ]
  },
  {
   "cell_type": "code",
   "execution_count": 5,
   "metadata": {},
   "outputs": [
    {
     "data": {
      "text/html": [
       "<div>\n",
       "<style scoped>\n",
       "    .dataframe tbody tr th:only-of-type {\n",
       "        vertical-align: middle;\n",
       "    }\n",
       "\n",
       "    .dataframe tbody tr th {\n",
       "        vertical-align: top;\n",
       "    }\n",
       "\n",
       "    .dataframe thead th {\n",
       "        text-align: right;\n",
       "    }\n",
       "</style>\n",
       "<table border=\"1\" class=\"dataframe\">\n",
       "  <thead>\n",
       "    <tr style=\"text-align: right;\">\n",
       "      <th></th>\n",
       "      <th>outgoing_txns</th>\n",
       "      <th>incoming_txns</th>\n",
       "      <th>total_eth_sent</th>\n",
       "      <th>avg_eth_sent</th>\n",
       "      <th>total_usd_sent</th>\n",
       "      <th>avg_usd_sent</th>\n",
       "      <th>total_eth_recd</th>\n",
       "      <th>avg_eth_recd</th>\n",
       "      <th>total_usd_recd</th>\n",
       "      <th>avg_usd_recd</th>\n",
       "      <th>...</th>\n",
       "      <th>monthly_eth_sent</th>\n",
       "      <th>monthly_usd_sent</th>\n",
       "      <th>monthly_eth_recd</th>\n",
       "      <th>monthly_usd_recd</th>\n",
       "      <th>contracts_created</th>\n",
       "      <th>contract_txns_sent</th>\n",
       "      <th>incoming_avg_time_btwn_txns</th>\n",
       "      <th>incoming_std_time_btwn_txns</th>\n",
       "      <th>outgoing_avg_time_btwn_txns</th>\n",
       "      <th>outgoing_std_time_btwn_txns</th>\n",
       "    </tr>\n",
       "  </thead>\n",
       "  <tbody>\n",
       "    <tr>\n",
       "      <th>0</th>\n",
       "      <td>5.760913</td>\n",
       "      <td>8.363396</td>\n",
       "      <td>1.497597e+02</td>\n",
       "      <td>20.114718</td>\n",
       "      <td>2.904369e+04</td>\n",
       "      <td>4570.178081</td>\n",
       "      <td>1.487961e+02</td>\n",
       "      <td>19.396813</td>\n",
       "      <td>2.157472e+04</td>\n",
       "      <td>3.396016e+03</td>\n",
       "      <td>...</td>\n",
       "      <td>6.444366</td>\n",
       "      <td>1.700226e+03</td>\n",
       "      <td>6.636506</td>\n",
       "      <td>1.472432e+03</td>\n",
       "      <td>1.269929</td>\n",
       "      <td>7.269868</td>\n",
       "      <td>5.018676e+06</td>\n",
       "      <td>5.924145e+06</td>\n",
       "      <td>5.701290e+06</td>\n",
       "      <td>6.848901e+06</td>\n",
       "    </tr>\n",
       "    <tr>\n",
       "      <th>1</th>\n",
       "      <td>25.249644</td>\n",
       "      <td>31.286701</td>\n",
       "      <td>3.196341e+02</td>\n",
       "      <td>30.154204</td>\n",
       "      <td>9.776172e+04</td>\n",
       "      <td>9281.023867</td>\n",
       "      <td>3.490962e+02</td>\n",
       "      <td>22.663235</td>\n",
       "      <td>9.888076e+04</td>\n",
       "      <td>7.195360e+03</td>\n",
       "      <td>...</td>\n",
       "      <td>21.638636</td>\n",
       "      <td>8.074312e+03</td>\n",
       "      <td>22.987356</td>\n",
       "      <td>8.314410e+03</td>\n",
       "      <td>0.061533</td>\n",
       "      <td>8.902758</td>\n",
       "      <td>9.020343e+05</td>\n",
       "      <td>1.074587e+06</td>\n",
       "      <td>1.136841e+06</td>\n",
       "      <td>1.256554e+06</td>\n",
       "    </tr>\n",
       "    <tr>\n",
       "      <th>2</th>\n",
       "      <td>647655.000000</td>\n",
       "      <td>727.000000</td>\n",
       "      <td>6.159823e+06</td>\n",
       "      <td>9.510963</td>\n",
       "      <td>3.714534e+09</td>\n",
       "      <td>5735.358548</td>\n",
       "      <td>6.276248e+06</td>\n",
       "      <td>8633.078188</td>\n",
       "      <td>3.767629e+09</td>\n",
       "      <td>5.182433e+06</td>\n",
       "      <td>...</td>\n",
       "      <td>559983.891670</td>\n",
       "      <td>3.376849e+08</td>\n",
       "      <td>570567.985720</td>\n",
       "      <td>3.425117e+08</td>\n",
       "      <td>0.000000</td>\n",
       "      <td>0.000000</td>\n",
       "      <td>3.667699e+04</td>\n",
       "      <td>5.331568e+04</td>\n",
       "      <td>4.115239e+01</td>\n",
       "      <td>1.296313e+03</td>\n",
       "    </tr>\n",
       "    <tr>\n",
       "      <th>3</th>\n",
       "      <td>266092.250000</td>\n",
       "      <td>174631.000000</td>\n",
       "      <td>6.975334e+06</td>\n",
       "      <td>941.975916</td>\n",
       "      <td>1.388202e+09</td>\n",
       "      <td>305238.452481</td>\n",
       "      <td>6.933007e+06</td>\n",
       "      <td>802.901498</td>\n",
       "      <td>1.373537e+09</td>\n",
       "      <td>2.859746e+05</td>\n",
       "      <td>...</td>\n",
       "      <td>395694.578077</td>\n",
       "      <td>1.160464e+08</td>\n",
       "      <td>391579.777656</td>\n",
       "      <td>1.145559e+08</td>\n",
       "      <td>0.000000</td>\n",
       "      <td>0.000000</td>\n",
       "      <td>4.037431e+03</td>\n",
       "      <td>9.626279e+03</td>\n",
       "      <td>4.273013e+03</td>\n",
       "      <td>1.258338e+04</td>\n",
       "    </tr>\n",
       "  </tbody>\n",
       "</table>\n",
       "<p>4 rows × 23 columns</p>\n",
       "</div>"
      ],
      "text/plain": [
       "   outgoing_txns  incoming_txns  total_eth_sent  avg_eth_sent  total_usd_sent  \\\n",
       "0       5.760913       8.363396    1.497597e+02     20.114718    2.904369e+04   \n",
       "1      25.249644      31.286701    3.196341e+02     30.154204    9.776172e+04   \n",
       "2  647655.000000     727.000000    6.159823e+06      9.510963    3.714534e+09   \n",
       "3  266092.250000  174631.000000    6.975334e+06    941.975916    1.388202e+09   \n",
       "\n",
       "    avg_usd_sent  total_eth_recd  avg_eth_recd  total_usd_recd  avg_usd_recd  \\\n",
       "0    4570.178081    1.487961e+02     19.396813    2.157472e+04  3.396016e+03   \n",
       "1    9281.023867    3.490962e+02     22.663235    9.888076e+04  7.195360e+03   \n",
       "2    5735.358548    6.276248e+06   8633.078188    3.767629e+09  5.182433e+06   \n",
       "3  305238.452481    6.933007e+06    802.901498    1.373537e+09  2.859746e+05   \n",
       "\n",
       "              ...               monthly_eth_sent  monthly_usd_sent  \\\n",
       "0             ...                       6.444366      1.700226e+03   \n",
       "1             ...                      21.638636      8.074312e+03   \n",
       "2             ...                  559983.891670      3.376849e+08   \n",
       "3             ...                  395694.578077      1.160464e+08   \n",
       "\n",
       "   monthly_eth_recd  monthly_usd_recd  contracts_created  contract_txns_sent  \\\n",
       "0          6.636506      1.472432e+03           1.269929            7.269868   \n",
       "1         22.987356      8.314410e+03           0.061533            8.902758   \n",
       "2     570567.985720      3.425117e+08           0.000000            0.000000   \n",
       "3     391579.777656      1.145559e+08           0.000000            0.000000   \n",
       "\n",
       "   incoming_avg_time_btwn_txns  incoming_std_time_btwn_txns  \\\n",
       "0                 5.018676e+06                 5.924145e+06   \n",
       "1                 9.020343e+05                 1.074587e+06   \n",
       "2                 3.667699e+04                 5.331568e+04   \n",
       "3                 4.037431e+03                 9.626279e+03   \n",
       "\n",
       "   outgoing_avg_time_btwn_txns  outgoing_std_time_btwn_txns  \n",
       "0                 5.701290e+06                 6.848901e+06  \n",
       "1                 1.136841e+06                 1.256554e+06  \n",
       "2                 4.115239e+01                 1.296313e+03  \n",
       "3                 4.273013e+03                 1.258338e+04  \n",
       "\n",
       "[4 rows x 23 columns]"
      ]
     },
     "execution_count": 5,
     "metadata": {},
     "output_type": "execute_result"
    }
   ],
   "source": [
    "pd.DataFrame(centroids, columns=data.columns)"
   ]
  },
  {
   "cell_type": "code",
   "execution_count": null,
   "metadata": {},
   "outputs": [],
   "source": []
  },
  {
   "cell_type": "code",
   "execution_count": 6,
   "metadata": {},
   "outputs": [],
   "source": [
    "pipe = Pipeline([('scale', StandardScaler()), ('PCA', PCA(n_components=5))])"
   ]
  },
  {
   "cell_type": "code",
   "execution_count": 7,
   "metadata": {},
   "outputs": [
    {
     "data": {
      "text/plain": [
       "Pipeline(memory=None,\n",
       "     steps=[('scale', StandardScaler(copy=True, with_mean=True, with_std=True)), ('PCA', PCA(copy=True, iterated_power='auto', n_components=5, random_state=None,\n",
       "  svd_solver='auto', tol=0.0, whiten=False))])"
      ]
     },
     "execution_count": 7,
     "metadata": {},
     "output_type": "execute_result"
    }
   ],
   "source": [
    "pipe.fit(data)"
   ]
  },
  {
   "cell_type": "code",
   "execution_count": 8,
   "metadata": {},
   "outputs": [],
   "source": [
    "results = pipe.fit_transform(data)"
   ]
  },
  {
   "cell_type": "code",
   "execution_count": 9,
   "metadata": {},
   "outputs": [],
   "source": [
    "pca = pipe.named_steps['PCA']"
   ]
  },
  {
   "cell_type": "code",
   "execution_count": 10,
   "metadata": {},
   "outputs": [
    {
     "data": {
      "text/plain": [
       "[<matplotlib.lines.Line2D at 0x1a15c54278>]"
      ]
     },
     "execution_count": 10,
     "metadata": {},
     "output_type": "execute_result"
    },
    {
     "data": {
      "image/png": "[encoded data removed]",
      "text/plain": [
       "<Figure size 432x288 with 1 Axes>"
      ]
     },
     "metadata": {},
     "output_type": "display_data"
    }
   ],
   "source": [
    "plt.plot(np.arange(pca.n_components_), pca.explained_variance_ratio_)"
   ]
  },
  {
   "cell_type": "code",
   "execution_count": 11,
   "metadata": {},
   "outputs": [
    {
     "data": {
      "text/plain": [
       "(202709, 5)"
      ]
     },
     "execution_count": 11,
     "metadata": {},
     "output_type": "execute_result"
    }
   ],
   "source": [
    "results.shape"
   ]
  },
  {
   "cell_type": "code",
   "execution_count": 12,
   "metadata": {},
   "outputs": [
    {
     "data": {
      "text/plain": [
       "<matplotlib.collections.PathCollection at 0x1a13b37b00>"
      ]
     },
     "execution_count": 12,
     "metadata": {},
     "output_type": "execute_result"
    },
    {
     "data": {
      "image/png": "[encoded data removed]",
      "text/plain": [
       "<Figure size 432x288 with 1 Axes>"
      ]
     },
     "metadata": {},
     "output_type": "display_data"
    }
   ],
   "source": [
    "plt.scatter(data.active_months, data.avg_usd_sent, c=cl.labels_)"
   ]
  },
  {
   "cell_type": "code",
   "execution_count": 13,
   "metadata": {},
   "outputs": [],
   "source": [
    "cl = cluster.KMeans().fit(results)"
   ]
  },
  {
   "cell_type": "code",
   "execution_count": 14,
   "metadata": {},
   "outputs": [
    {
     "data": {
      "text/plain": [
       "(-50, 50)"
      ]
     },
     "execution_count": 14,
     "metadata": {},
     "output_type": "execute_result"
    },
    {
     "data": {
      "image/png": "[encoded data removed]",
      "text/plain": [
       "<Figure size 432x288 with 1 Axes>"
      ]
     },
     "metadata": {},
     "output_type": "display_data"
    }
   ],
   "source": [
    "plt.scatter(results[:,0],results[:,1],c=cl.labels_)\n",
    "plt.ylim(-50,50)\n",
    "plt.xlim(-50,50)"
   ]
  },
  {
   "cell_type": "code",
   "execution_count": 15,
   "metadata": {},
   "outputs": [
    {
     "data": {
      "text/plain": [
       "0.6332072056631516"
      ]
     },
     "execution_count": 15,
     "metadata": {},
     "output_type": "execute_result"
    }
   ],
   "source": [
    "silhouette_score(results, cl.labels_ )"
   ]
  },
  {
   "cell_type": "code",
   "execution_count": 15,
   "metadata": {},
   "outputs": [
    {
     "name": "stderr",
     "output_type": "stream",
     "text": [
      "/Users/will/anaconda3/lib/python3.6/site-packages/sklearn/utils/validation.py:475: DataConversionWarning: Data with input dtype object was converted to float64 by StandardScaler.\n",
      "  warnings.warn(msg, DataConversionWarning)\n"
     ]
    }
   ],
   "source": [
    "pipe = Pipeline([('scale', StandardScaler()), ('PCA', PCA(n_components=5))])\n",
    "\n",
    "results = pipe.fit_transform(data.values)"
   ]
  },
  {
   "cell_type": "code",
   "execution_count": 17,
   "metadata": {},
   "outputs": [
    {
     "name": "stdout",
     "output_type": "stream",
     "text": [
      "For n_clusters = 6 The average silhouette_score is : 0.698606016966141\n"
     ]
    },
    {
     "data": {
      "image/png": "[encoded data removed]",
      "text/plain": [
       "<Figure size 1296x504 with 2 Axes>"
      ]
     },
     "metadata": {},
     "output_type": "display_data"
    }
   ],
   "source": [
    "\n",
    "X=results\n",
    "\n",
    "\n",
    "\n",
    "\n",
    "\n",
    "range_n_clusters = [6]\n",
    "\n",
    "for n_clusters in range_n_clusters:\n",
    "#     X=data\n",
    "    # Create a subplot with 1 row and 2 columns\n",
    "    fig, (ax1, ax2) = plt.subplots(1, 2)\n",
    "    fig.set_size_inches(18, 7)\n",
    "\n",
    "    # The 1st subplot is the silhouette plot\n",
    "    # The silhouette coefficient can range from -1, 1 but in this example all\n",
    "    # lie within [-0.1, 1]\n",
    "    ax1.set_xlim([-0.1, 1])\n",
    "    # The (n_clusters+1)*10 is for inserting blank space between silhouette\n",
    "    # plots of individual clusters, to demarcate them clearly.\n",
    "    ax1.set_ylim([0, len(X) + (n_clusters + 1) * 10])\n",
    "\n",
    "    # Initialize the clusterer with n_clusters value and a random generator\n",
    "    # seed of 10 for reproducibility.\n",
    "    clusterer = KMeans(n_clusters=n_clusters, random_state=10)\n",
    "    cluster_labels = clusterer.fit_predict(X)\n",
    "\n",
    "    \n",
    "    \n",
    "    # The silhouette_score gives the average value for all the samples.\n",
    "    # This gives a perspective into the density and separation of the formed\n",
    "    # clusters\n",
    "    silhouette_avg = silhouette_score(X, cluster_labels)\n",
    "    print(\"For n_clusters =\", n_clusters,\n",
    "          \"The average silhouette_score is :\", silhouette_avg)\n",
    "\n",
    "    #subset data so I don't kill computer\n",
    "#     X=data[:100]\n",
    "#     cluster_labels[:100]\n",
    "    \n",
    "    # Compute the silhouette scores for each sample\n",
    "    sample_silhouette_values = silhouette_samples(X, cluster_labels)\n",
    "\n",
    "    y_lower = 10\n",
    "    for i in range(n_clusters):\n",
    "        # Aggregate the silhouette scores for samples belonging to\n",
    "        # cluster i, and sort them\n",
    "        ith_cluster_silhouette_values = \\\n",
    "            sample_silhouette_values[cluster_labels == i]\n",
    "\n",
    "        ith_cluster_silhouette_values.sort()\n",
    "\n",
    "        size_cluster_i = ith_cluster_silhouette_values.shape[0]\n",
    "        y_upper = y_lower + size_cluster_i\n",
    "\n",
    "        color = cm.nipy_spectral(float(i) / n_clusters)\n",
    "        ax1.fill_betweenx(np.arange(y_lower, y_upper),\n",
    "                          0, ith_cluster_silhouette_values,\n",
    "                          facecolor=color, edgecolor=color, alpha=0.7)\n",
    "\n",
    "        # Label the silhouette plots with their cluster numbers at the middle\n",
    "        ax1.text(-0.05, y_lower + 0.5 * size_cluster_i, str(i))\n",
    "\n",
    "        # Compute the new y_lower for next plot\n",
    "        y_lower = y_upper + 10  # 10 for the 0 samples\n",
    "\n",
    "    ax1.set_title(\"The silhouette plot for the various clusters.\")\n",
    "    ax1.set_xlabel(\"The silhouette coefficient values\")\n",
    "    ax1.set_ylabel(\"Cluster label\")\n",
    "\n",
    "    # The vertical line for average silhouette score of all the values\n",
    "    ax1.axvline(x=silhouette_avg, color=\"red\", linestyle=\"--\")\n",
    "\n",
    "    ax1.set_yticks([])  # Clear the yaxis labels / ticks\n",
    "    ax1.set_xticks([-0.1, 0, 0.2, 0.4, 0.6, 0.8, 1])\n",
    "\n",
    "    # 2nd Plot showing the actual clusters formed\n",
    "    colors = cm.nipy_spectral(cluster_labels.astype(float) / n_clusters)\n",
    "    ax2.scatter(X[:, 0], X[:, 1], marker='.', s=30, lw=0, alpha=0.7,\n",
    "                c=colors, edgecolor='k')\n",
    "\n",
    "    # Labeling the clusters\n",
    "    centers = clusterer.cluster_centers_\n",
    "    # Draw white circles at cluster centers\n",
    "    ax2.scatter(centers[:, 0], centers[:, 1], marker='o',\n",
    "                c=\"white\", alpha=1, s=200, edgecolor='k')\n",
    "\n",
    "    for i, c in enumerate(centers):\n",
    "        ax2.scatter(c[0], c[1], marker='$%d$' % i, alpha=1,\n",
    "                    s=50, edgecolor='k')\n",
    "\n",
    "    ax2.set_title(\"The visualization of the clustered data.\")\n",
    "    ax2.set_xlabel(\"Feature space for the 1st feature\")\n",
    "    ax2.set_ylabel(\"Feature space for the 2nd feature\")\n",
    "\n",
    "    plt.suptitle((\"Silhouette analysis for KMeans clustering on sample data \"\n",
    "                  \"with n_clusters = %d\" % n_clusters),\n",
    "                 fontsize=14, fontweight='bold')\n",
    "\n",
    "plt.show()"
   ]
  },
  {
   "cell_type": "code",
   "execution_count": 16,
   "metadata": {},
   "outputs": [
    {
     "data": {
      "text/plain": [
       "<Figure size 432x288 with 0 Axes>"
      ]
     },
     "metadata": {},
     "output_type": "display_data"
    }
   ],
   "source": [
    "%run kmedians.py"
   ]
  },
  {
   "cell_type": "code",
   "execution_count": 17,
   "metadata": {},
   "outputs": [],
   "source": [
    "k = 4\n",
    "\n",
    "#length of data\n",
    "datapoints = len(results)\n",
    "indices = [random.randint(0,datapoints-1) for i in range(k+1)]\n",
    "initial_centers = results[indices]\n",
    "\n",
    "km =  kmedians(results, initial_centers, ccore=False)\n",
    "\n"
   ]
  },
  {
   "cell_type": "code",
   "execution_count": 18,
   "metadata": {},
   "outputs": [],
   "source": [
    "km.process()\n",
    "clusters = km.get_clusters()"
   ]
  },
  {
   "cell_type": "code",
   "execution_count": 19,
   "metadata": {},
   "outputs": [],
   "source": [
    "clusters = np.array([np.array(x) for x in clusters])"
   ]
  },
  {
   "cell_type": "code",
   "execution_count": 20,
   "metadata": {},
   "outputs": [
    {
     "data": {
      "text/plain": [
       "(-5, 1)"
      ]
     },
     "execution_count": 20,
     "metadata": {},
     "output_type": "execute_result"
    },
    {
     "data": {
      "image/png": "[encoded data removed]",
      "text/plain": [
       "<Figure size 432x288 with 1 Axes>"
      ]
     },
     "metadata": {},
     "output_type": "display_data"
    }
   ],
   "source": [
    "for i in range(k):\n",
    "    plt.scatter(results[clusters[i]][:,1], results[clusters[i]][:,0], alpha=.3)\n",
    "    \n",
    "plt.xlim(-1,1)\n",
    "plt.ylim(-5,1)"
   ]
  },
  {
   "cell_type": "code",
   "execution_count": 21,
   "metadata": {},
   "outputs": [
    {
     "data": {
      "text/plain": [
       "[[-0.06785560694185913,\n",
       "  1.3967955642679648,\n",
       "  0.0008700996990914867,\n",
       "  0.018198216946313142,\n",
       "  -0.005837685326441482],\n",
       " [-0.04366692310418526,\n",
       "  -0.7896851165656515,\n",
       "  -0.15384161309866945,\n",
       "  0.11799726403321537,\n",
       "  0.031643092631779494],\n",
       " [-0.053286959541144124,\n",
       "  0.06074687183529801,\n",
       "  -0.08965834961700227,\n",
       "  0.07858713668647124,\n",
       "  0.016888699943622618],\n",
       " [-0.028423351234909505,\n",
       "  -1.4417249002160437,\n",
       "  -0.18765160413474247,\n",
       "  0.13808833131955878,\n",
       "  -0.003838051937384755],\n",
       " [-0.09386506631958012,\n",
       "  3.9301142849432935,\n",
       "  0.1766444797226607,\n",
       "  -0.10419545680633627,\n",
       "  -0.04953131449836568]]"
      ]
     },
     "execution_count": 21,
     "metadata": {},
     "output_type": "execute_result"
    }
   ],
   "source": [
    "km.get_medians()"
   ]
  },
  {
   "cell_type": "code",
   "execution_count": null,
   "metadata": {},
   "outputs": [],
   "source": [
    "from sklearn.metrics.pairwise import pairwise_distances\n",
    "import numpy as np\n",
    "\n",
    "import kmedoids\n",
    "\n",
    "\n",
    "# distance matrix\n",
    "D = pairwise_distances(results, metric='euclidean')\n",
    "\n",
    "# split into 4 clusters\n",
    "M, C = kmedoids.kMedoids(D, 8)\n",
    "\n",
    "\n",
    "# print('medoids:')\n",
    "# for point_idx in M:\n",
    "#     print( results[point_idx] )\n",
    "\n",
    "# print('')\n",
    "# print('clustering result:')\n",
    "# for label in C:\n",
    "#     for point_idx in C[label]:\n",
    "#         print('label {0}:　{1}'.format(label, results[point_idx]))"
   ]
  },
  {
   "cell_type": "code",
   "execution_count": null,
   "metadata": {},
   "outputs": [],
   "source": [
    "for lbl in C:\n",
    "    a = results[C[lbl]]\n",
    "    plt.scatter(a[:,0],a[:,1], label = lbl, alpha=.2)\n",
    "plt.legend()\n",
    "plt.xlim(0,20)\n",
    "plt.ylim(-10,10)"
   ]
  },
  {
   "cell_type": "code",
   "execution_count": null,
   "metadata": {},
   "outputs": [],
   "source": [
    "results.shape"
   ]
  },
  {
   "cell_type": "code",
   "execution_count": null,
   "metadata": {},
   "outputs": [],
   "source": []
  },
  {
   "cell_type": "code",
   "execution_count": null,
   "metadata": {},
   "outputs": [],
   "source": []
  }
 ],
 "metadata": {
  "kernelspec": {
   "display_name": "Python 3",
   "language": "python",
   "name": "python3"
  },
  "language_info": {
   "codemirror_mode": {
    "name": "ipython",
    "version": 3
   },
   "file_extension": ".py",
   "mimetype": "text/x-python",
   "name": "python",
   "nbconvert_exporter": "python",
   "pygments_lexer": "ipython3",
   "version": "3.6.5"
  }
 },
 "nbformat": 4,
 "nbformat_minor": 2
}

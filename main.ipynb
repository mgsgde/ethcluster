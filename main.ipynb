{
 "cells": [
  {
   "cell_type": "code",
   "execution_count": 49,
   "metadata": {},
   "outputs": [],
   "source": [
    "import pandas as pd\n",
    "import numpy as np\n",
    "import seaborn as sns\n",
    "from sklearn.cluster import KMeans\n",
    "from sklearn.preprocessing import LabelEncoder\n",
    "from sklearn.preprocessing import MinMaxScaler\n",
    "import matplotlib.pyplot as plt\n",
    "from sklearn.decomposition import PCA\n",
    "from sklearn.preprocessing import StandardScaler\n",
    "from google.cloud import bigquery\n",
    "import time\n",
    "from sklearn import metrics\n",
    "from sklearn.metrics import pairwise_distances\n",
    "import seaborn as sns\n",
    "import simplejson as json\n",
    "import os\n",
    "from datetime import timedelta\n",
    "import webbrowser\n",
    "import papermill as pm\n",
    "from enum import Enum\n",
    "import re\n",
    "import simplejson as json\n",
    "from IPython.core.interactiveshell import InteractiveShell\n",
    "from sklearn.ensemble import IsolationForest\n",
    "from sklearn.cluster import OPTICS\n",
    "from collections import Counter"
   ]
  },
  {
   "cell_type": "markdown",
   "metadata": {},
   "source": [
    "# Configuration"
   ]
  },
  {
   "cell_type": "code",
   "execution_count": 50,
   "metadata": {},
   "outputs": [],
   "source": [
    "max_number_of_clusters = 30\n",
    "min_number_of_clusters = 2\n",
    "\n",
    "class OUTLIER_REMOVAL(Enum):\n",
    "    NONE = 1 \n",
    "    VARIANCE_THRESHOLD_WITHIN_CLUSTER = 2 \n",
    "    ISOLATION_FOREST = 3 \n",
    "\n",
    "outlier_removal = OUTLIER_REMOVAL.VARIANCE_THRESHOLD_WITHIN_CLUSTER.value\n",
    "\n",
    "class CLUSTER_METHOD(Enum):\n",
    "    KMEANS = 1 \n",
    "    OPTICS = 2 \n",
    "\n",
    "cluster_method = CLUSTER_METHOD.KMEANS.value"
   ]
  },
  {
   "cell_type": "code",
   "execution_count": 51,
   "metadata": {},
   "outputs": [],
   "source": [
    "number_of_addresses = 1000\n",
    "\n",
    "# format: yyyy-mm-dd\n",
    "observation_period_start = \"2020-01-01 00:00:00+00\"\n",
    "observation_period_end = \"2020-02-01 00:00:00+00\"\n",
    "\n",
    "class ADDRESS_SELECTION(Enum):\n",
    "    RANDOM = 1 # selects random features.index, that have been active within the observation period.\n",
    "    RICHEST = 2 # selects the accounts that have the most ether # not yet implemented\n",
    "    HIGHEST_TURNOVER = 3 # selects the accounts that have the most ether received + sent\n",
    "\n",
    "address_selection = ADDRESS_SELECTION.RICHEST.value\n",
    "\n",
    "# max USD amount to spent for executing sql queries\n",
    "max_bigquery_costs_usd = 2\n",
    "\n",
    "# Delete existing tables\n",
    "reset = False"
   ]
  },
  {
   "cell_type": "markdown",
   "metadata": {},
   "source": [
    "# Execute Clusteranalysis Experiments"
   ]
  },
  {
   "cell_type": "code",
   "execution_count": null,
   "metadata": {},
   "outputs": [
    {
     "data": {
      "application/vnd.jupyter.widget-view+json": {
       "model_id": "5837f141edc44713b29c7012819b680c",
       "version_major": 2,
       "version_minor": 0
      },
      "text/plain": [
       "HBox(children=(FloatProgress(value=0.0, description='Executing', max=81.0, style=ProgressStyle(description_wid…"
      ]
     },
     "metadata": {},
     "output_type": "display_data"
    }
   ],
   "source": [
    "for addsel in ADDRESS_SELECTION.__members__:\n",
    "    for outrem in OUTLIER_REMOVAL.__members__: \n",
    "        for clumet in CLUSTER_METHOD.__members__: \n",
    "            experiment_id = \"clusteranalysis_{}_{}_{}_{}_{}_{}\".format(addsel, outrem, clumet, number_of_addresses, re.sub(r'[-.+: ]', '_', observation_period_start),re.sub(r'[-.+: ]', '_', observation_period_end))\n",
    "\n",
    "            address_selection = ADDRESS_SELECTION[addsel].value\n",
    "            outlier_removal = OUTLIER_REMOVAL[outrem].value\n",
    "            cluster_method = CLUSTER_METHOD[clumet].value\n",
    "\n",
    "            pm.execute_notebook(\n",
    "                   './clusteranalysis.ipynb',\n",
    "                   './{}.build.ipynb'.format(experiment_id),\n",
    "                   parameters = dict(number_of_addresses=number_of_addresses, \n",
    "                                     observation_period_start=observation_period_start,\n",
    "                                     observation_period_end=observation_period_end, \n",
    "                                     address_selection=address_selection,\n",
    "                                     max_bigquery_costs_usd=max_bigquery_costs_usd, \n",
    "                                     reset = reset,\n",
    "                                     outlier_removal = outlier_removal,\n",
    "                                     cluster_method = cluster_method,\n",
    "                                     max_number_of_clusters = max_number_of_clusters,\n",
    "                                     min_number_of_clusters = min_number_of_clusters\n",
    "                                    )\n",
    "                )\n"
   ]
  }
 ],
 "metadata": {
  "kernelspec": {
   "display_name": "Python 3",
   "language": "python",
   "name": "python3"
  },
  "language_info": {
   "codemirror_mode": {
    "name": "ipython",
    "version": 3
   },
   "file_extension": ".py",
   "mimetype": "text/x-python",
   "name": "python",
   "nbconvert_exporter": "python",
   "pygments_lexer": "ipython3",
   "version": "3.6.9"
  }
 },
 "nbformat": 4,
 "nbformat_minor": 2
}

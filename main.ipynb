{
 "cells": [
  {
   "cell_type": "code",
   "execution_count": 155,
   "metadata": {},
   "outputs": [
    {
     "name": "stdout",
     "output_type": "stream",
     "text": [
      "env: GOOGLE_APPLICATION_CREDENTIALS=./bigquery-service-account.json\n"
     ]
    }
   ],
   "source": [
    "import pandas as pd\n",
    "import numpy as np\n",
    "import seaborn as sns\n",
    "from sklearn.cluster import KMeans\n",
    "from sklearn.preprocessing import LabelEncoder\n",
    "from sklearn.preprocessing import MinMaxScaler\n",
    "import matplotlib.pyplot as plt\n",
    "from sklearn.decomposition import PCA\n",
    "from sklearn.preprocessing import StandardScaler\n",
    "from google.cloud import bigquery\n",
    "import time\n",
    "from sklearn import metrics\n",
    "from sklearn.metrics import pairwise_distances\n",
    "import seaborn as sns\n",
    "%env GOOGLE_APPLICATION_CREDENTIALS=./bigquery-service-account.json \n",
    "client = bigquery.Client()"
   ]
  },
  {
   "cell_type": "markdown",
   "metadata": {},
   "source": [
    "# Adress-Merkmal Datensatz erstellen"
   ]
  },
  {
   "cell_type": "code",
   "execution_count": 156,
   "metadata": {},
   "outputs": [
    {
     "name": "stdout",
     "output_type": "stream",
     "text": [
      "19.443607568740845\n"
     ]
    }
   ],
   "source": [
    "query_job = client.query(\"SELECT * from `masterarbeit-245718.ethereum_us.top40k_week1777_features`\")\n",
    "start = time.time()\n",
    "retrievedData = query_job.result().to_dataframe()  # Waits for job to complete.\n",
    "done = time.time()\n",
    "elapsed = done - start\n",
    "print(elapsed)"
   ]
  },
  {
   "cell_type": "code",
   "execution_count": 157,
   "metadata": {},
   "outputs": [
    {
     "data": {
      "text/html": [
       "<div>\n",
       "<style scoped>\n",
       "    .dataframe tbody tr th:only-of-type {\n",
       "        vertical-align: middle;\n",
       "    }\n",
       "\n",
       "    .dataframe tbody tr th {\n",
       "        vertical-align: top;\n",
       "    }\n",
       "\n",
       "    .dataframe thead th {\n",
       "        text-align: right;\n",
       "    }\n",
       "</style>\n",
       "<table border=\"1\" class=\"dataframe\">\n",
       "  <thead>\n",
       "    <tr style=\"text-align: right;\">\n",
       "      <th></th>\n",
       "      <th>address</th>\n",
       "      <th>weiReceived</th>\n",
       "      <th>weiSent</th>\n",
       "      <th>numberOfTranscationsReceived</th>\n",
       "      <th>numberOfTranscationsSent</th>\n",
       "      <th>avgTimeDiffBetweenSentTransactions</th>\n",
       "      <th>avgTimeDiffBetweenReceivedTransactions</th>\n",
       "    </tr>\n",
       "  </thead>\n",
       "  <tbody>\n",
       "    <tr>\n",
       "      <th>0</th>\n",
       "      <td>0xfbb1b73c4f0bda4f67dca266ce6ef42f520fbb98</td>\n",
       "      <td>52757990803363109075085</td>\n",
       "      <td>37972196194020000000000</td>\n",
       "      <td>14330</td>\n",
       "      <td>33393</td>\n",
       "      <td>18.109966</td>\n",
       "      <td>42.197990</td>\n",
       "    </tr>\n",
       "    <tr>\n",
       "      <th>1</th>\n",
       "      <td>0x5d154c145db2ca90b8ab5e8fe3e716afa4ab7ff0</td>\n",
       "      <td>5175350560981998478942</td>\n",
       "      <td>5244975800350778401905</td>\n",
       "      <td>8336</td>\n",
       "      <td>22497</td>\n",
       "      <td>26.876245</td>\n",
       "      <td>72.538452</td>\n",
       "    </tr>\n",
       "    <tr>\n",
       "      <th>2</th>\n",
       "      <td>0x9ae49c0d7f8f9ef4b864e004fe86ac8294e20950</td>\n",
       "      <td>19370258531717665804498</td>\n",
       "      <td>23053671968774623536152</td>\n",
       "      <td>4077</td>\n",
       "      <td>30782</td>\n",
       "      <td>19.644359</td>\n",
       "      <td>148.188911</td>\n",
       "    </tr>\n",
       "    <tr>\n",
       "      <th>3</th>\n",
       "      <td>0xbd6d79f3f02584cfcb754437ac6776c4c6e0a0ec</td>\n",
       "      <td>3564148762741827354478</td>\n",
       "      <td>2470600314900000000000</td>\n",
       "      <td>785</td>\n",
       "      <td>5515</td>\n",
       "      <td>109.364527</td>\n",
       "      <td>753.126276</td>\n",
       "    </tr>\n",
       "    <tr>\n",
       "      <th>4</th>\n",
       "      <td>0xff3c260f2391a5a936df3b693b2590045ce62d62</td>\n",
       "      <td>221741486600000000000</td>\n",
       "      <td>425797346240000000000</td>\n",
       "      <td>65</td>\n",
       "      <td>422</td>\n",
       "      <td>1432.128266</td>\n",
       "      <td>8785.468750</td>\n",
       "    </tr>\n",
       "  </tbody>\n",
       "</table>\n",
       "</div>"
      ],
      "text/plain": [
       "                                      address              weiReceived  \\\n",
       "0  0xfbb1b73c4f0bda4f67dca266ce6ef42f520fbb98  52757990803363109075085   \n",
       "1  0x5d154c145db2ca90b8ab5e8fe3e716afa4ab7ff0   5175350560981998478942   \n",
       "2  0x9ae49c0d7f8f9ef4b864e004fe86ac8294e20950  19370258531717665804498   \n",
       "3  0xbd6d79f3f02584cfcb754437ac6776c4c6e0a0ec   3564148762741827354478   \n",
       "4  0xff3c260f2391a5a936df3b693b2590045ce62d62    221741486600000000000   \n",
       "\n",
       "                   weiSent  numberOfTranscationsReceived  \\\n",
       "0  37972196194020000000000                         14330   \n",
       "1   5244975800350778401905                          8336   \n",
       "2  23053671968774623536152                          4077   \n",
       "3   2470600314900000000000                           785   \n",
       "4    425797346240000000000                            65   \n",
       "\n",
       "   numberOfTranscationsSent  avgTimeDiffBetweenSentTransactions  \\\n",
       "0                     33393                           18.109966   \n",
       "1                     22497                           26.876245   \n",
       "2                     30782                           19.644359   \n",
       "3                      5515                          109.364527   \n",
       "4                       422                         1432.128266   \n",
       "\n",
       "   avgTimeDiffBetweenReceivedTransactions  \n",
       "0                               42.197990  \n",
       "1                               72.538452  \n",
       "2                              148.188911  \n",
       "3                              753.126276  \n",
       "4                             8785.468750  "
      ]
     },
     "execution_count": 157,
     "metadata": {},
     "output_type": "execute_result"
    }
   ],
   "source": [
    "results = retrievedData.copy()\n",
    "results.head()"
   ]
  },
  {
   "cell_type": "code",
   "execution_count": 158,
   "metadata": {},
   "outputs": [
    {
     "name": "stdout",
     "output_type": "stream",
     "text": [
      "Size of the account feature dataset: 9.584808 Megabytes\n"
     ]
    }
   ],
   "source": [
    "m = results.memory_usage()\n",
    "totalBytes = 0\n",
    "\n",
    "for bytes_ in m:\n",
    "    totalBytes = totalBytes + bytes_\n",
    "    \n",
    "print(\"Size of the account feature dataset:\",totalBytes/10**6, \"Megabytes\")"
   ]
  },
  {
   "cell_type": "markdown",
   "metadata": {},
   "source": [
    "# Merkmalsausprägungen standardisieren, so dass Mittelwert und Standardabweichung für alle Merkmale gleich sind "
   ]
  },
  {
   "cell_type": "code",
   "execution_count": 159,
   "metadata": {},
   "outputs": [
    {
     "data": {
      "text/html": [
       "<div>\n",
       "<style scoped>\n",
       "    .dataframe tbody tr th:only-of-type {\n",
       "        vertical-align: middle;\n",
       "    }\n",
       "\n",
       "    .dataframe tbody tr th {\n",
       "        vertical-align: top;\n",
       "    }\n",
       "\n",
       "    .dataframe thead th {\n",
       "        text-align: right;\n",
       "    }\n",
       "</style>\n",
       "<table border=\"1\" class=\"dataframe\">\n",
       "  <thead>\n",
       "    <tr style=\"text-align: right;\">\n",
       "      <th></th>\n",
       "      <th>weiReceived</th>\n",
       "      <th>weiSent</th>\n",
       "      <th>numberOfTranscationsReceived</th>\n",
       "      <th>numberOfTranscationsSent</th>\n",
       "      <th>avgTimeDiffBetweenSentTransactions</th>\n",
       "      <th>avgTimeDiffBetweenReceivedTransactions</th>\n",
       "    </tr>\n",
       "  </thead>\n",
       "  <tbody>\n",
       "    <tr>\n",
       "      <th>0</th>\n",
       "      <td>52757990803363109075085</td>\n",
       "      <td>37972196194020000000000</td>\n",
       "      <td>14330</td>\n",
       "      <td>33393</td>\n",
       "      <td>18.109966</td>\n",
       "      <td>42.197990</td>\n",
       "    </tr>\n",
       "    <tr>\n",
       "      <th>1</th>\n",
       "      <td>5175350560981998478942</td>\n",
       "      <td>5244975800350778401905</td>\n",
       "      <td>8336</td>\n",
       "      <td>22497</td>\n",
       "      <td>26.876245</td>\n",
       "      <td>72.538452</td>\n",
       "    </tr>\n",
       "    <tr>\n",
       "      <th>2</th>\n",
       "      <td>19370258531717665804498</td>\n",
       "      <td>23053671968774623536152</td>\n",
       "      <td>4077</td>\n",
       "      <td>30782</td>\n",
       "      <td>19.644359</td>\n",
       "      <td>148.188911</td>\n",
       "    </tr>\n",
       "    <tr>\n",
       "      <th>3</th>\n",
       "      <td>3564148762741827354478</td>\n",
       "      <td>2470600314900000000000</td>\n",
       "      <td>785</td>\n",
       "      <td>5515</td>\n",
       "      <td>109.364527</td>\n",
       "      <td>753.126276</td>\n",
       "    </tr>\n",
       "    <tr>\n",
       "      <th>4</th>\n",
       "      <td>221741486600000000000</td>\n",
       "      <td>425797346240000000000</td>\n",
       "      <td>65</td>\n",
       "      <td>422</td>\n",
       "      <td>1432.128266</td>\n",
       "      <td>8785.468750</td>\n",
       "    </tr>\n",
       "  </tbody>\n",
       "</table>\n",
       "</div>"
      ],
      "text/plain": [
       "               weiReceived                  weiSent  \\\n",
       "0  52757990803363109075085  37972196194020000000000   \n",
       "1   5175350560981998478942   5244975800350778401905   \n",
       "2  19370258531717665804498  23053671968774623536152   \n",
       "3   3564148762741827354478   2470600314900000000000   \n",
       "4    221741486600000000000    425797346240000000000   \n",
       "\n",
       "   numberOfTranscationsReceived  numberOfTranscationsSent  \\\n",
       "0                         14330                     33393   \n",
       "1                          8336                     22497   \n",
       "2                          4077                     30782   \n",
       "3                           785                      5515   \n",
       "4                            65                       422   \n",
       "\n",
       "   avgTimeDiffBetweenSentTransactions  avgTimeDiffBetweenReceivedTransactions  \n",
       "0                           18.109966                               42.197990  \n",
       "1                           26.876245                               72.538452  \n",
       "2                           19.644359                              148.188911  \n",
       "3                          109.364527                              753.126276  \n",
       "4                         1432.128266                             8785.468750  "
      ]
     },
     "execution_count": 159,
     "metadata": {},
     "output_type": "execute_result"
    }
   ],
   "source": [
    "featureNames = ['weiReceived', 'weiSent', 'numberOfTranscationsReceived', 'numberOfTranscationsSent', 'avgTimeDiffBetweenSentTransactions', 'avgTimeDiffBetweenReceivedTransactions']\n",
    "featureValues = results.loc[:,featureNames]\n",
    "featureValues.head()"
   ]
  },
  {
   "cell_type": "code",
   "execution_count": 160,
   "metadata": {},
   "outputs": [
    {
     "data": {
      "text/html": [
       "<div>\n",
       "<style scoped>\n",
       "    .dataframe tbody tr th:only-of-type {\n",
       "        vertical-align: middle;\n",
       "    }\n",
       "\n",
       "    .dataframe tbody tr th {\n",
       "        vertical-align: top;\n",
       "    }\n",
       "\n",
       "    .dataframe thead th {\n",
       "        text-align: right;\n",
       "    }\n",
       "</style>\n",
       "<table border=\"1\" class=\"dataframe\">\n",
       "  <thead>\n",
       "    <tr style=\"text-align: right;\">\n",
       "      <th></th>\n",
       "      <th>weiReceived</th>\n",
       "      <th>weiSent</th>\n",
       "      <th>numberOfTranscationsReceived</th>\n",
       "      <th>numberOfTranscationsSent</th>\n",
       "      <th>avgTimeDiffBetweenSentTransactions</th>\n",
       "      <th>avgTimeDiffBetweenReceivedTransactions</th>\n",
       "    </tr>\n",
       "  </thead>\n",
       "  <tbody>\n",
       "    <tr>\n",
       "      <th>0</th>\n",
       "      <td>21.546644</td>\n",
       "      <td>16.154493</td>\n",
       "      <td>38.485732</td>\n",
       "      <td>70.758603</td>\n",
       "      <td>-0.440679</td>\n",
       "      <td>-0.457151</td>\n",
       "    </tr>\n",
       "    <tr>\n",
       "      <th>1</th>\n",
       "      <td>2.092973</td>\n",
       "      <td>2.210745</td>\n",
       "      <td>22.379294</td>\n",
       "      <td>47.663649</td>\n",
       "      <td>-0.440580</td>\n",
       "      <td>-0.456809</td>\n",
       "    </tr>\n",
       "    <tr>\n",
       "      <th>2</th>\n",
       "      <td>7.896415</td>\n",
       "      <td>9.798311</td>\n",
       "      <td>10.934964</td>\n",
       "      <td>65.224377</td>\n",
       "      <td>-0.440661</td>\n",
       "      <td>-0.455956</td>\n",
       "    </tr>\n",
       "    <tr>\n",
       "      <th>3</th>\n",
       "      <td>1.434250</td>\n",
       "      <td>1.028695</td>\n",
       "      <td>2.089053</td>\n",
       "      <td>11.668924</td>\n",
       "      <td>-0.439654</td>\n",
       "      <td>-0.449140</td>\n",
       "    </tr>\n",
       "    <tr>\n",
       "      <th>4</th>\n",
       "      <td>0.067742</td>\n",
       "      <td>0.157487</td>\n",
       "      <td>0.154346</td>\n",
       "      <td>0.873898</td>\n",
       "      <td>-0.424803</td>\n",
       "      <td>-0.358632</td>\n",
       "    </tr>\n",
       "  </tbody>\n",
       "</table>\n",
       "</div>"
      ],
      "text/plain": [
       "   weiReceived    weiSent  numberOfTranscationsReceived  \\\n",
       "0    21.546644  16.154493                     38.485732   \n",
       "1     2.092973   2.210745                     22.379294   \n",
       "2     7.896415   9.798311                     10.934964   \n",
       "3     1.434250   1.028695                      2.089053   \n",
       "4     0.067742   0.157487                      0.154346   \n",
       "\n",
       "   numberOfTranscationsSent  avgTimeDiffBetweenSentTransactions  \\\n",
       "0                 70.758603                           -0.440679   \n",
       "1                 47.663649                           -0.440580   \n",
       "2                 65.224377                           -0.440661   \n",
       "3                 11.668924                           -0.439654   \n",
       "4                  0.873898                           -0.424803   \n",
       "\n",
       "   avgTimeDiffBetweenReceivedTransactions  \n",
       "0                               -0.457151  \n",
       "1                               -0.456809  \n",
       "2                               -0.455956  \n",
       "3                               -0.449140  \n",
       "4                               -0.358632  "
      ]
     },
     "execution_count": 160,
     "metadata": {},
     "output_type": "execute_result"
    }
   ],
   "source": [
    "scaler = StandardScaler(copy=True, with_mean=True, with_std=True)\n",
    "featureValues_std= scaler.fit_transform(featureValues)\n",
    "featureValues_std = pd.DataFrame(featureValues_std, columns=featureNames)\n",
    "featureValues_std.head()"
   ]
  },
  {
   "cell_type": "markdown",
   "metadata": {},
   "source": [
    "# Via Principal Component Analyse die Anzahl der Dimensionen der Datenpunkten für das k-means Clustering Verfahren minimieren "
   ]
  },
  {
   "cell_type": "markdown",
   "metadata": {},
   "source": [
    "**Frage:** Wie viel Varianz sollte von der Teilmenge der Principal Components, welche die meiste Varianz erklären, mindestens erklärt werden? Im Folgenden treffe ich die Annahme, dass 80% ausreicht."
   ]
  },
  {
   "cell_type": "code",
   "execution_count": 161,
   "metadata": {},
   "outputs": [
    {
     "data": {
      "text/plain": [
       "array([0.39862491, 0.66777379, 0.81966772, 0.93250518, 0.99665139,\n",
       "       1.        ])"
      ]
     },
     "execution_count": 161,
     "metadata": {},
     "output_type": "execute_result"
    }
   ],
   "source": [
    "pca2 = PCA(n_components=6)\n",
    "pca2.fit(featureValuesStandardised)\n",
    "pca2.explained_variance_ratio_\n",
    "np.cumsum(pca2.explained_variance_ratio_)"
   ]
  },
  {
   "cell_type": "code",
   "execution_count": 162,
   "metadata": {},
   "outputs": [
    {
     "data": {
      "text/plain": [
       "Text(0.5, 0, 'Principal Components')"
      ]
     },
     "execution_count": 162,
     "metadata": {},
     "output_type": "execute_result"
    },
    {
     "data": {
      "image/png": "[encoded data removed]",
      "text/plain": [
       "<Figure size 576x576 with 1 Axes>"
      ]
     },
     "metadata": {
      "needs_background": "light"
     },
     "output_type": "display_data"
    }
   ],
   "source": [
    "fig = plt.figure(figsize = (8,8))\n",
    "ax = fig.add_subplot(1,1,1)\n",
    "plt.bar([1,2,3,4,5,6], np.cumsum(pca2.explained_variance_ratio_))\n",
    "ax.set_ylabel('Cumulative Explained Variance')\n",
    "ax.set_xlabel('Principal Components')"
   ]
  },
  {
   "cell_type": "code",
   "execution_count": 163,
   "metadata": {},
   "outputs": [
    {
     "name": "stdout",
     "output_type": "stream",
     "text": [
      "Die 3 ersten Komponenten erklären mehr als 80.0 % der Varianz.\n"
     ]
    }
   ],
   "source": [
    "numberOfPCAComponents = 0\n",
    "explainedVarianceTargetValue = 0.8\n",
    "for i in np.cumsum(pca2.explained_variance_ratio_):\n",
    "    numberOfPCAComponents = numberOfPCAComponents + 1\n",
    "    if i > explainedVarianceTargetValue:\n",
    "        print(\"Die\",numberOfPCAComponents,\"ersten Komponenten erklären mehr als\",explainedVarianceTargetValue * 100,\"% der Varianz.\")\n",
    "        break"
   ]
  },
  {
   "cell_type": "code",
   "execution_count": 164,
   "metadata": {},
   "outputs": [],
   "source": [
    "pca = PCA(n_components=numberOfPCAComponents)\n",
    "featureValues_std_pca = pca.fit_transform(featureValues_std)\n",
    "featureValues_std_pca = pd.DataFrame(featureValues_std_pca, columns=[\"pca_comp_1\", \"pca_comp_2\",\"pca_comp_3\"])"
   ]
  },
  {
   "cell_type": "markdown",
   "metadata": {},
   "source": [
    "# Die Anzahl der Cluster bestimmen"
   ]
  },
  {
   "cell_type": "markdown",
   "metadata": {},
   "source": [
    "**Frage:** Soll ich hier schon die nach PCA transformierten feature values verwenden? Im Folgenden treffe ich die Annahme, dass die nach PCA transformierten feature values verwendet werden sollten."
   ]
  },
  {
   "cell_type": "code",
   "execution_count": 165,
   "metadata": {},
   "outputs": [
    {
     "data": {
      "text/plain": [
       "[<matplotlib.lines.Line2D at 0x7f83e1aa0400>]"
      ]
     },
     "execution_count": 165,
     "metadata": {},
     "output_type": "execute_result"
    },
    {
     "data": {
      "image/png": "[encoded data removed]",
      "text/plain": [
       "<Figure size 432x288 with 1 Axes>"
      ]
     },
     "metadata": {
      "needs_background": "light"
     },
     "output_type": "display_data"
    }
   ],
   "source": [
    "scores = []\n",
    "numberOfCluster = []\n",
    "\n",
    "for i in range(2,30,1):\n",
    "    kmeans = KMeans(n_clusters=i)\n",
    "    kmeans.fit(featureValues_std_pca)\n",
    "    numberOfCluster.append(i)\n",
    "    scores.append(metrics.calinski_harabasz_score(featureValues, kmeans.labels_))  \n",
    "\n",
    "plt.plot(numberOfCluster, scores)"
   ]
  },
  {
   "cell_type": "code",
   "execution_count": 166,
   "metadata": {},
   "outputs": [
    {
     "name": "stdout",
     "output_type": "stream",
     "text": [
      "Based on calinski_harabasz_score the number of clusters should be 16\n"
     ]
    }
   ],
   "source": [
    "optimalNumberOfClusters = numberOfCluster[np.argmax(scores)]\n",
    "print(\"Based on calinski_harabasz_score the number of clusters should be\", optimalNumberOfClusters)"
   ]
  },
  {
   "cell_type": "markdown",
   "metadata": {},
   "source": [
    "# Ausreißer eliminieren"
   ]
  },
  {
   "cell_type": "code",
   "execution_count": 167,
   "metadata": {},
   "outputs": [],
   "source": [
    "def remove_outliers(results, cl, threshold):\n",
    "    '''\n",
    "    returns subset of results, and associated labels as a tuple\n",
    "    takes results and a fit KMeans cluster object'''\n",
    "    \n",
    "    new_labels = []\n",
    "    new_results = []\n",
    "    \n",
    "    \n",
    "    #code for deciding what clusters to keep\n",
    "    for i, center in enumerate(cl.cluster_centers_):\n",
    "        within_cluster_results = results[cl.labels_==i]\n",
    "        centroid = cl.cluster_centers_[i]\n",
    "        #calc std vectors\n",
    "        stdev = np.std(within_cluster_results, axis=0)\n",
    "       \n",
    "        keep = np.linalg.norm((centroid - within_cluster_results), axis=1) < threshold*np.linalg.norm(stdev)\n",
    "        new_results.append(within_cluster_results[keep])\n",
    "        #add labels?\n",
    "        new_labels.extend([i for j in range(len(within_cluster_results[keep]))])\n",
    "    return np.vstack(new_results), np.array(new_labels)\n"
   ]
  },
  {
   "cell_type": "code",
   "execution_count": 168,
   "metadata": {},
   "outputs": [],
   "source": [
    "from sklearn.metrics import calinski_harabaz_score as ch_score\n",
    "\n",
    "thresholds = np.linspace(.1,3, 20)\n",
    "\n",
    "test = [remove_outliers(featureValues_std_pca, kmeans,t) for t in thresholds]\n",
    "\n",
    "scores= []\n",
    "\n",
    "for (res, labels) in test:\n",
    "    scores.append(metrics.calinski_harabasz_score(res, labels)) "
   ]
  },
  {
   "cell_type": "code",
   "execution_count": 169,
   "metadata": {},
   "outputs": [
    {
     "data": {
      "text/plain": [
       "Text(0.5, 1.0, 'Calinski Harabaz Scores as std threshold changes')"
      ]
     },
     "execution_count": 169,
     "metadata": {},
     "output_type": "execute_result"
    },
    {
     "data": {
      "image/png": "[encoded data removed]",
      "text/plain": [
       "<Figure size 432x288 with 1 Axes>"
      ]
     },
     "metadata": {
      "needs_background": "light"
     },
     "output_type": "display_data"
    }
   ],
   "source": [
    "plt.plot(thresholds, scores)\n",
    "plt.title('Calinski Harabaz Scores as std threshold changes')"
   ]
  },
  {
   "cell_type": "code",
   "execution_count": 170,
   "metadata": {},
   "outputs": [
    {
     "name": "stdout",
     "output_type": "stream",
     "text": [
      "The threshold leading to the highes Calinski Harabaz Score is 0.25263157894736843\n"
     ]
    }
   ],
   "source": [
    "optimalThreshold = thresholds[np.argmax(scores)]\n",
    "print(\"The threshold leading to the highes Calinski Harabaz Score is\", optimalThreshold)\n"
   ]
  },
  {
   "cell_type": "markdown",
   "metadata": {},
   "source": [
    "# Berechnung und Visualisierung des Entscheidungsmodells via kmeans Cluster Analyse Verfahren "
   ]
  },
  {
   "cell_type": "code",
   "execution_count": 171,
   "metadata": {},
   "outputs": [],
   "source": [
    "featureValues_std_pca_out, labels = remove_outliers(featureValuesStandardisedAndPCATransformed, kmeans, optimalThreshold)"
   ]
  },
  {
   "cell_type": "code",
   "execution_count": 172,
   "metadata": {},
   "outputs": [
    {
     "data": {
      "text/plain": [
       "KMeans(algorithm='auto', copy_x=True, init='k-means++', max_iter=300,\n",
       "       n_clusters=29, n_init=10, n_jobs=None, precompute_distances='auto',\n",
       "       random_state=None, tol=0.0001, verbose=0)"
      ]
     },
     "execution_count": 172,
     "metadata": {},
     "output_type": "execute_result"
    }
   ],
   "source": [
    "kmeans = KMeans(n_clusters=i)\n",
    "kmeans.fit(featureValues_std_pca_out)"
   ]
  },
  {
   "cell_type": "code",
   "execution_count": null,
   "metadata": {},
   "outputs": [],
   "source": [
    "sns.set_context(\"notebook\", font_scale=1.1)\n",
    "sns.set_style(\"ticks\")\n",
    "\n",
    "featureValues_std_pca_out[\"Label\"] = kmeans.labels_\n",
    "featureValues_std_pca_out.columns = [\"x\", \"y\", \"Label\"]\n",
    "\n",
    "sns.lmplot(x='x',\n",
    "           y='y',\n",
    "           data=featureValues_std_pca_out,\n",
    "           fit_reg=False,\n",
    "           legend=True,\n",
    "           height=9,\n",
    "           hue='Label',\n",
    "           scatter_kws={\"s\":200, \"alpha\":0.3})\n",
    "\n",
    "\n",
    "plt.title('PCA Results:', weight='bold').set_fontsize('14')\n",
    "plt.xlabel('Prin Comp 1', weight='bold').set_fontsize('10')\n",
    "plt.ylabel('Prin Comp 2', weight='bold').set_fontsize('10')"
   ]
  },
  {
   "cell_type": "code",
   "execution_count": null,
   "metadata": {},
   "outputs": [
    {
     "name": "stdout",
     "output_type": "stream",
     "text": [
      "[t-SNE] Computing 121 nearest neighbors...\n",
      "[t-SNE] Indexed 115678 samples in 0.570s...\n",
      "[t-SNE] Computed neighbors for 115678 samples in 5.097s...\n",
      "[t-SNE] Computed conditional probabilities for sample 1000 / 115678\n",
      "[t-SNE] Computed conditional probabilities for sample 2000 / 115678\n",
      "[t-SNE] Computed conditional probabilities for sample 3000 / 115678\n",
      "[t-SNE] Computed conditional probabilities for sample 4000 / 115678\n",
      "[t-SNE] Computed conditional probabilities for sample 5000 / 115678\n",
      "[t-SNE] Computed conditional probabilities for sample 6000 / 115678\n",
      "[t-SNE] Computed conditional probabilities for sample 7000 / 115678\n",
      "[t-SNE] Computed conditional probabilities for sample 8000 / 115678\n",
      "[t-SNE] Computed conditional probabilities for sample 9000 / 115678\n",
      "[t-SNE] Computed conditional probabilities for sample 10000 / 115678\n",
      "[t-SNE] Computed conditional probabilities for sample 11000 / 115678\n",
      "[t-SNE] Computed conditional probabilities for sample 12000 / 115678\n",
      "[t-SNE] Computed conditional probabilities for sample 13000 / 115678\n",
      "[t-SNE] Computed conditional probabilities for sample 14000 / 115678\n",
      "[t-SNE] Computed conditional probabilities for sample 15000 / 115678\n",
      "[t-SNE] Computed conditional probabilities for sample 16000 / 115678\n",
      "[t-SNE] Computed conditional probabilities for sample 17000 / 115678\n",
      "[t-SNE] Computed conditional probabilities for sample 18000 / 115678\n",
      "[t-SNE] Computed conditional probabilities for sample 19000 / 115678\n",
      "[t-SNE] Computed conditional probabilities for sample 20000 / 115678\n",
      "[t-SNE] Computed conditional probabilities for sample 21000 / 115678\n",
      "[t-SNE] Computed conditional probabilities for sample 22000 / 115678\n",
      "[t-SNE] Computed conditional probabilities for sample 23000 / 115678\n",
      "[t-SNE] Computed conditional probabilities for sample 24000 / 115678\n",
      "[t-SNE] Computed conditional probabilities for sample 25000 / 115678\n",
      "[t-SNE] Computed conditional probabilities for sample 26000 / 115678\n",
      "[t-SNE] Computed conditional probabilities for sample 27000 / 115678\n",
      "[t-SNE] Computed conditional probabilities for sample 28000 / 115678\n",
      "[t-SNE] Computed conditional probabilities for sample 29000 / 115678\n",
      "[t-SNE] Computed conditional probabilities for sample 30000 / 115678\n",
      "[t-SNE] Computed conditional probabilities for sample 31000 / 115678\n",
      "[t-SNE] Computed conditional probabilities for sample 32000 / 115678\n",
      "[t-SNE] Computed conditional probabilities for sample 33000 / 115678\n",
      "[t-SNE] Computed conditional probabilities for sample 34000 / 115678\n",
      "[t-SNE] Computed conditional probabilities for sample 35000 / 115678\n",
      "[t-SNE] Computed conditional probabilities for sample 36000 / 115678\n",
      "[t-SNE] Computed conditional probabilities for sample 37000 / 115678\n",
      "[t-SNE] Computed conditional probabilities for sample 38000 / 115678\n",
      "[t-SNE] Computed conditional probabilities for sample 39000 / 115678\n",
      "[t-SNE] Computed conditional probabilities for sample 40000 / 115678\n",
      "[t-SNE] Computed conditional probabilities for sample 41000 / 115678\n",
      "[t-SNE] Computed conditional probabilities for sample 42000 / 115678\n",
      "[t-SNE] Computed conditional probabilities for sample 43000 / 115678\n",
      "[t-SNE] Computed conditional probabilities for sample 44000 / 115678\n",
      "[t-SNE] Computed conditional probabilities for sample 45000 / 115678\n",
      "[t-SNE] Computed conditional probabilities for sample 46000 / 115678\n",
      "[t-SNE] Computed conditional probabilities for sample 47000 / 115678\n",
      "[t-SNE] Computed conditional probabilities for sample 48000 / 115678\n",
      "[t-SNE] Computed conditional probabilities for sample 49000 / 115678\n",
      "[t-SNE] Computed conditional probabilities for sample 50000 / 115678\n",
      "[t-SNE] Computed conditional probabilities for sample 51000 / 115678\n",
      "[t-SNE] Computed conditional probabilities for sample 52000 / 115678\n",
      "[t-SNE] Computed conditional probabilities for sample 53000 / 115678\n",
      "[t-SNE] Computed conditional probabilities for sample 54000 / 115678\n",
      "[t-SNE] Computed conditional probabilities for sample 55000 / 115678\n",
      "[t-SNE] Computed conditional probabilities for sample 56000 / 115678\n",
      "[t-SNE] Computed conditional probabilities for sample 57000 / 115678\n",
      "[t-SNE] Computed conditional probabilities for sample 58000 / 115678\n",
      "[t-SNE] Computed conditional probabilities for sample 59000 / 115678\n",
      "[t-SNE] Computed conditional probabilities for sample 60000 / 115678\n",
      "[t-SNE] Computed conditional probabilities for sample 61000 / 115678\n",
      "[t-SNE] Computed conditional probabilities for sample 62000 / 115678\n",
      "[t-SNE] Computed conditional probabilities for sample 63000 / 115678\n",
      "[t-SNE] Computed conditional probabilities for sample 64000 / 115678\n",
      "[t-SNE] Computed conditional probabilities for sample 65000 / 115678\n",
      "[t-SNE] Computed conditional probabilities for sample 66000 / 115678\n",
      "[t-SNE] Computed conditional probabilities for sample 67000 / 115678\n",
      "[t-SNE] Computed conditional probabilities for sample 68000 / 115678\n",
      "[t-SNE] Computed conditional probabilities for sample 69000 / 115678\n",
      "[t-SNE] Computed conditional probabilities for sample 70000 / 115678\n",
      "[t-SNE] Computed conditional probabilities for sample 71000 / 115678\n",
      "[t-SNE] Computed conditional probabilities for sample 72000 / 115678\n",
      "[t-SNE] Computed conditional probabilities for sample 73000 / 115678\n",
      "[t-SNE] Computed conditional probabilities for sample 74000 / 115678\n",
      "[t-SNE] Computed conditional probabilities for sample 75000 / 115678\n",
      "[t-SNE] Computed conditional probabilities for sample 76000 / 115678\n",
      "[t-SNE] Computed conditional probabilities for sample 77000 / 115678\n",
      "[t-SNE] Computed conditional probabilities for sample 78000 / 115678\n",
      "[t-SNE] Computed conditional probabilities for sample 79000 / 115678\n",
      "[t-SNE] Computed conditional probabilities for sample 80000 / 115678\n",
      "[t-SNE] Computed conditional probabilities for sample 81000 / 115678\n",
      "[t-SNE] Computed conditional probabilities for sample 82000 / 115678\n",
      "[t-SNE] Computed conditional probabilities for sample 83000 / 115678\n",
      "[t-SNE] Computed conditional probabilities for sample 84000 / 115678\n",
      "[t-SNE] Computed conditional probabilities for sample 85000 / 115678\n",
      "[t-SNE] Computed conditional probabilities for sample 86000 / 115678\n",
      "[t-SNE] Computed conditional probabilities for sample 87000 / 115678\n",
      "[t-SNE] Computed conditional probabilities for sample 88000 / 115678\n",
      "[t-SNE] Computed conditional probabilities for sample 89000 / 115678\n",
      "[t-SNE] Computed conditional probabilities for sample 90000 / 115678\n",
      "[t-SNE] Computed conditional probabilities for sample 91000 / 115678\n",
      "[t-SNE] Computed conditional probabilities for sample 92000 / 115678\n",
      "[t-SNE] Computed conditional probabilities for sample 93000 / 115678\n",
      "[t-SNE] Computed conditional probabilities for sample 94000 / 115678\n",
      "[t-SNE] Computed conditional probabilities for sample 95000 / 115678\n",
      "[t-SNE] Computed conditional probabilities for sample 96000 / 115678\n",
      "[t-SNE] Computed conditional probabilities for sample 97000 / 115678\n",
      "[t-SNE] Computed conditional probabilities for sample 98000 / 115678\n",
      "[t-SNE] Computed conditional probabilities for sample 99000 / 115678\n",
      "[t-SNE] Computed conditional probabilities for sample 100000 / 115678\n",
      "[t-SNE] Computed conditional probabilities for sample 101000 / 115678\n",
      "[t-SNE] Computed conditional probabilities for sample 102000 / 115678\n",
      "[t-SNE] Computed conditional probabilities for sample 103000 / 115678\n",
      "[t-SNE] Computed conditional probabilities for sample 104000 / 115678\n",
      "[t-SNE] Computed conditional probabilities for sample 105000 / 115678\n",
      "[t-SNE] Computed conditional probabilities for sample 106000 / 115678\n",
      "[t-SNE] Computed conditional probabilities for sample 107000 / 115678\n",
      "[t-SNE] Computed conditional probabilities for sample 108000 / 115678\n",
      "[t-SNE] Computed conditional probabilities for sample 109000 / 115678\n",
      "[t-SNE] Computed conditional probabilities for sample 110000 / 115678\n",
      "[t-SNE] Computed conditional probabilities for sample 111000 / 115678\n",
      "[t-SNE] Computed conditional probabilities for sample 112000 / 115678\n",
      "[t-SNE] Computed conditional probabilities for sample 113000 / 115678\n",
      "[t-SNE] Computed conditional probabilities for sample 114000 / 115678\n",
      "[t-SNE] Computed conditional probabilities for sample 115000 / 115678\n",
      "[t-SNE] Computed conditional probabilities for sample 115678 / 115678\n",
      "[t-SNE] Mean sigma: 0.000000\n",
      "[t-SNE] KL divergence after 250 iterations with early exaggeration: 87.125603\n"
     ]
    }
   ],
   "source": [
    "from sklearn.manifold import TSNE\n",
    "\n",
    "time_start = time.time()\n",
    "\n",
    "tsne = TSNE(n_components=2, verbose=1, perplexity=40, n_iter=1000)\n",
    "featureValues_std_pca_out_tsne = tsne.fit_transform(featureValues_std_pca_out)\n",
    "featureValues_std_pca_out_tsne = pd.DataFrame(featureValues_std_pca_out_tsne, columns=[\"1_tsne_comp\",\"1_tsne_comp\"])\n",
    "featureValues_std_pca_out_tsne.head()\n",
    "\n",
    "print('t-SNE done! Time elapsed: {} seconds'.format(time.time()-time_start))"
   ]
  },
  {
   "cell_type": "code",
   "execution_count": null,
   "metadata": {},
   "outputs": [],
   "source": [
    "# Plot Digits t-SNE\n",
    "import seaborn as sns\n",
    "\n",
    "# Set style of scatterplot\n",
    "sns.set_context(\"notebook\", font_scale=1.1)\n",
    "sns.set_style(\"ticks\")\n",
    "\n",
    "featureValues_std_pca_out_tsne[\"Label\"] = kmeans.labels_\n",
    "featureValues_std_pca_out_tsne.columns = [\"x\", \"y\", \"Label\"]\n",
    "\n",
    "sns.lmplot(x='x',\n",
    "           y='y',\n",
    "           data=featureValues_std_pca_out_tsne,\n",
    "           fit_reg=False,\n",
    "           legend=True,\n",
    "           height=9,\n",
    "           hue='Label',\n",
    "           scatter_kws={\"s\":200, \"alpha\":0.3})\n",
    "\n",
    "\n",
    "plt.title('t-SNE Results:', weight='bold').set_fontsize('14')\n",
    "plt.xlabel('Prin Comp 1', weight='bold').set_fontsize('10')\n",
    "plt.ylabel('Prin Comp 2', weight='bold').set_fontsize('10')"
   ]
  },
  {
   "cell_type": "code",
   "execution_count": null,
   "metadata": {},
   "outputs": [],
   "source": []
  },
  {
   "cell_type": "code",
   "execution_count": null,
   "metadata": {},
   "outputs": [],
   "source": []
  },
  {
   "cell_type": "code",
   "execution_count": null,
   "metadata": {},
   "outputs": [],
   "source": []
  },
  {
   "cell_type": "code",
   "execution_count": null,
   "metadata": {},
   "outputs": [],
   "source": []
  },
  {
   "cell_type": "markdown",
   "metadata": {},
   "source": [
    "# Verifiziere das Funktionieren des Entscheidungsmodells mit bekannten Adressen"
   ]
  },
  {
   "cell_type": "markdown",
   "metadata": {},
   "source": [
    "# Identifiziere die von den Clustern repräsentierten Nutzergruppen"
   ]
  },
  {
   "cell_type": "markdown",
   "metadata": {},
   "source": [
    "# Visualisiere die Interaktion zwischen den Clustern und interpretiere die Ergebnisse"
   ]
  },
  {
   "cell_type": "markdown",
   "metadata": {},
   "source": [
    "# Temporary stuff"
   ]
  },
  {
   "cell_type": "code",
   "execution_count": null,
   "metadata": {},
   "outputs": [],
   "source": []
  },
  {
   "cell_type": "code",
   "execution_count": null,
   "metadata": {},
   "outputs": [],
   "source": []
  },
  {
   "cell_type": "code",
   "execution_count": null,
   "metadata": {},
   "outputs": [],
   "source": []
  },
  {
   "cell_type": "code",
   "execution_count": null,
   "metadata": {},
   "outputs": [],
   "source": []
  },
  {
   "cell_type": "code",
   "execution_count": null,
   "metadata": {},
   "outputs": [],
   "source": []
  },
  {
   "cell_type": "code",
   "execution_count": null,
   "metadata": {},
   "outputs": [],
   "source": []
  },
  {
   "cell_type": "code",
   "execution_count": null,
   "metadata": {},
   "outputs": [],
   "source": []
  },
  {
   "cell_type": "code",
   "execution_count": null,
   "metadata": {},
   "outputs": [],
   "source": []
  },
  {
   "cell_type": "code",
   "execution_count": null,
   "metadata": {},
   "outputs": [],
   "source": []
  }
 ],
 "metadata": {
  "kernelspec": {
   "display_name": "ethclusterkernel",
   "language": "python",
   "name": "ethclusterkernel"
  },
  "language_info": {
   "codemirror_mode": {
    "name": "ipython",
    "version": 3
   },
   "file_extension": ".py",
   "mimetype": "text/x-python",
   "name": "python",
   "nbconvert_exporter": "python",
   "pygments_lexer": "ipython3",
   "version": "3.6.8"
  }
 },
 "nbformat": 4,
 "nbformat_minor": 2
}

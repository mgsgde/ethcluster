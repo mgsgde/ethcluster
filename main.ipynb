{
 "cells": [
  {
   "cell_type": "code",
   "execution_count": 1,
   "metadata": {},
   "outputs": [
    {
     "name": "stdout",
     "output_type": "stream",
     "text": [
      "env: GOOGLE_APPLICATION_CREDENTIALS=./bigquery-service-account.json\n"
     ]
    }
   ],
   "source": [
    "import pandas as pd\n",
    "import numpy as np\n",
    "import seaborn as sns\n",
    "from sklearn.cluster import KMeans\n",
    "from sklearn.preprocessing import LabelEncoder\n",
    "from sklearn.preprocessing import MinMaxScaler\n",
    "import matplotlib.pyplot as plt\n",
    "from sklearn.decomposition import PCA\n",
    "from sklearn.preprocessing import StandardScaler\n",
    "from google.cloud import bigquery\n",
    "import time\n",
    "from sklearn import metrics\n",
    "from sklearn.metrics import pairwise_distances\n",
    "import seaborn as sns\n",
    "%env GOOGLE_APPLICATION_CREDENTIALS=./bigquery-service-account.json \n",
    "client = bigquery.Client()"
   ]
  },
  {
   "cell_type": "markdown",
   "metadata": {},
   "source": [
    "# Adress-Merkmal Datensatz erstellen"
   ]
  },
  {
   "cell_type": "markdown",
   "metadata": {},
   "source": [
    "#### Funktionen"
   ]
  },
  {
   "cell_type": "code",
   "execution_count": 2,
   "metadata": {},
   "outputs": [],
   "source": [
    "def getDateFromBigQuery(tableName):\n",
    "    %env GOOGLE_APPLICATION_CREDENTIALS=./bigquery-service-account.json \n",
    "    client = bigquery.Client()\n",
    "    query = \"SELECT * from `\" + tableName+\"`\"; print(query);\n",
    "    query_job = client.query(query);\n",
    "    start = time.time();\n",
    "    data = query_job.result().to_dataframe();  \n",
    "    featureNames = ['weiReceived', 'weiSent', 'numberOfTranscationsReceived', 'numberOfTranscationsSent', 'avgTimeDiffBetweenSentTransactions', 'avgTimeDiffBetweenReceivedTransactions']\n",
    "    featureValues = data.loc[:,featureNames]\n",
    "    done = time.time();\n",
    "    elapsed = round(done - start);\n",
    "    return featureValues, elapsed;"
   ]
  },
  {
   "cell_type": "code",
   "execution_count": 3,
   "metadata": {},
   "outputs": [],
   "source": [
    "def getMemoryUsageInMB(data):\n",
    "    m = data.memory_usage();\n",
    "    totalBytes = 0;\n",
    "\n",
    "    for bytes_ in m:\n",
    "        totalBytes = totalBytes + bytes_;\n",
    "    \n",
    "    totalMegabytes = totalBytes/10**6;\n",
    "    \n",
    "    return totalMegabytes;"
   ]
  },
  {
   "cell_type": "code",
   "execution_count": 4,
   "metadata": {},
   "outputs": [],
   "source": [
    "def getSampleDigitsDataSet():\n",
    "    from sklearn import datasets;\n",
    "    result = datasets.load_digits();\n",
    "    data = result.data;\n",
    "    data_df = pd.DataFrame(data)\n",
    "    data_df = data_df.drop(columns=0)\n",
    "    labels = pd.DataFrame(result.target.astype(int), columns=[\"Label\"]);\n",
    "    return data_df, labels;"
   ]
  },
  {
   "cell_type": "code",
   "execution_count": 5,
   "metadata": {},
   "outputs": [],
   "source": [
    "def getSampleIrisDataSet():\n",
    "    from sklearn import datasets;\n",
    "    result = datasets.load_iris();\n",
    "    data = result.data;\n",
    "    data_df = pd.DataFrame(data)\n",
    "    data_df = data_df.drop(columns=0)\n",
    "    labels = pd.DataFrame(result.target.astype(int), columns=[\"Label\"]);\n",
    "    return data_df, labels;"
   ]
  },
  {
   "cell_type": "code",
   "execution_count": 6,
   "metadata": {},
   "outputs": [],
   "source": [
    "def getVerySimpleSampleDataSet():\n",
    "    x1 = np.array([3, 1, 1, 2, 1, 6, 6, 6, 5, 6, 7, 8, 9, 8, 9, 9, 8]);\n",
    "    x2 = np.array([5, 4, 5, 6, 5, 8, 6, 7, 6, 7, 1, 2, 1, 2, 3, 2, 3]);\n",
    "    return pd.DataFrame(np.transpose(np.array([x1, x2])));"
   ]
  },
  {
   "cell_type": "markdown",
   "metadata": {},
   "source": [
    "#### Test-Daten: Very Simple"
   ]
  },
  {
   "cell_type": "code",
   "execution_count": 7,
   "metadata": {},
   "outputs": [
    {
     "data": {
      "image/png": "[encoded data removed]",
      "text/plain": [
       "<Figure size 432x288 with 1 Axes>"
      ]
     },
     "metadata": {
      "needs_background": "light"
     },
     "output_type": "display_data"
    }
   ],
   "source": [
    "verySimple_featureValues = getVerySimpleSampleDataSet();\n",
    "plt.plot()\n",
    "plt.xlim([0, 10])\n",
    "plt.ylim([0, 10])\n",
    "plt.title('Dataset')\n",
    "plt.scatter(verySimple_featureValues.iloc[:,0], verySimple_featureValues.iloc[:,1])\n",
    "plt.show()"
   ]
  },
  {
   "cell_type": "markdown",
   "metadata": {},
   "source": [
    "#### Test-Daten: iris"
   ]
  },
  {
   "cell_type": "code",
   "execution_count": 8,
   "metadata": {},
   "outputs": [
    {
     "data": {
      "text/html": [
       "<div>\n",
       "<style scoped>\n",
       "    .dataframe tbody tr th:only-of-type {\n",
       "        vertical-align: middle;\n",
       "    }\n",
       "\n",
       "    .dataframe tbody tr th {\n",
       "        vertical-align: top;\n",
       "    }\n",
       "\n",
       "    .dataframe thead th {\n",
       "        text-align: right;\n",
       "    }\n",
       "</style>\n",
       "<table border=\"1\" class=\"dataframe\">\n",
       "  <thead>\n",
       "    <tr style=\"text-align: right;\">\n",
       "      <th></th>\n",
       "      <th>1</th>\n",
       "      <th>2</th>\n",
       "      <th>3</th>\n",
       "    </tr>\n",
       "  </thead>\n",
       "  <tbody>\n",
       "    <tr>\n",
       "      <th>0</th>\n",
       "      <td>3.5</td>\n",
       "      <td>1.4</td>\n",
       "      <td>0.2</td>\n",
       "    </tr>\n",
       "    <tr>\n",
       "      <th>1</th>\n",
       "      <td>3.0</td>\n",
       "      <td>1.4</td>\n",
       "      <td>0.2</td>\n",
       "    </tr>\n",
       "    <tr>\n",
       "      <th>2</th>\n",
       "      <td>3.2</td>\n",
       "      <td>1.3</td>\n",
       "      <td>0.2</td>\n",
       "    </tr>\n",
       "    <tr>\n",
       "      <th>3</th>\n",
       "      <td>3.1</td>\n",
       "      <td>1.5</td>\n",
       "      <td>0.2</td>\n",
       "    </tr>\n",
       "    <tr>\n",
       "      <th>4</th>\n",
       "      <td>3.6</td>\n",
       "      <td>1.4</td>\n",
       "      <td>0.2</td>\n",
       "    </tr>\n",
       "    <tr>\n",
       "      <th>...</th>\n",
       "      <td>...</td>\n",
       "      <td>...</td>\n",
       "      <td>...</td>\n",
       "    </tr>\n",
       "    <tr>\n",
       "      <th>145</th>\n",
       "      <td>3.0</td>\n",
       "      <td>5.2</td>\n",
       "      <td>2.3</td>\n",
       "    </tr>\n",
       "    <tr>\n",
       "      <th>146</th>\n",
       "      <td>2.5</td>\n",
       "      <td>5.0</td>\n",
       "      <td>1.9</td>\n",
       "    </tr>\n",
       "    <tr>\n",
       "      <th>147</th>\n",
       "      <td>3.0</td>\n",
       "      <td>5.2</td>\n",
       "      <td>2.0</td>\n",
       "    </tr>\n",
       "    <tr>\n",
       "      <th>148</th>\n",
       "      <td>3.4</td>\n",
       "      <td>5.4</td>\n",
       "      <td>2.3</td>\n",
       "    </tr>\n",
       "    <tr>\n",
       "      <th>149</th>\n",
       "      <td>3.0</td>\n",
       "      <td>5.1</td>\n",
       "      <td>1.8</td>\n",
       "    </tr>\n",
       "  </tbody>\n",
       "</table>\n",
       "<p>150 rows × 3 columns</p>\n",
       "</div>"
      ],
      "text/plain": [
       "       1    2    3\n",
       "0    3.5  1.4  0.2\n",
       "1    3.0  1.4  0.2\n",
       "2    3.2  1.3  0.2\n",
       "3    3.1  1.5  0.2\n",
       "4    3.6  1.4  0.2\n",
       "..   ...  ...  ...\n",
       "145  3.0  5.2  2.3\n",
       "146  2.5  5.0  1.9\n",
       "147  3.0  5.2  2.0\n",
       "148  3.4  5.4  2.3\n",
       "149  3.0  5.1  1.8\n",
       "\n",
       "[150 rows x 3 columns]"
      ]
     },
     "execution_count": 8,
     "metadata": {},
     "output_type": "execute_result"
    }
   ],
   "source": [
    "sampleIrisFeatureValues, labels = getSampleIrisDataSet();\n",
    "sampleIrisFeatureValues"
   ]
  },
  {
   "cell_type": "markdown",
   "metadata": {},
   "source": [
    "#### Test-Daten: digits"
   ]
  },
  {
   "cell_type": "code",
   "execution_count": 9,
   "metadata": {},
   "outputs": [
    {
     "data": {
      "text/html": [
       "<div>\n",
       "<style scoped>\n",
       "    .dataframe tbody tr th:only-of-type {\n",
       "        vertical-align: middle;\n",
       "    }\n",
       "\n",
       "    .dataframe tbody tr th {\n",
       "        vertical-align: top;\n",
       "    }\n",
       "\n",
       "    .dataframe thead th {\n",
       "        text-align: right;\n",
       "    }\n",
       "</style>\n",
       "<table border=\"1\" class=\"dataframe\">\n",
       "  <thead>\n",
       "    <tr style=\"text-align: right;\">\n",
       "      <th></th>\n",
       "      <th>1</th>\n",
       "      <th>2</th>\n",
       "      <th>3</th>\n",
       "      <th>4</th>\n",
       "      <th>5</th>\n",
       "      <th>6</th>\n",
       "      <th>7</th>\n",
       "      <th>8</th>\n",
       "      <th>9</th>\n",
       "      <th>10</th>\n",
       "      <th>...</th>\n",
       "      <th>54</th>\n",
       "      <th>55</th>\n",
       "      <th>56</th>\n",
       "      <th>57</th>\n",
       "      <th>58</th>\n",
       "      <th>59</th>\n",
       "      <th>60</th>\n",
       "      <th>61</th>\n",
       "      <th>62</th>\n",
       "      <th>63</th>\n",
       "    </tr>\n",
       "  </thead>\n",
       "  <tbody>\n",
       "    <tr>\n",
       "      <th>0</th>\n",
       "      <td>0.0</td>\n",
       "      <td>5.0</td>\n",
       "      <td>13.0</td>\n",
       "      <td>9.0</td>\n",
       "      <td>1.0</td>\n",
       "      <td>0.0</td>\n",
       "      <td>0.0</td>\n",
       "      <td>0.0</td>\n",
       "      <td>0.0</td>\n",
       "      <td>13.0</td>\n",
       "      <td>...</td>\n",
       "      <td>0.0</td>\n",
       "      <td>0.0</td>\n",
       "      <td>0.0</td>\n",
       "      <td>0.0</td>\n",
       "      <td>6.0</td>\n",
       "      <td>13.0</td>\n",
       "      <td>10.0</td>\n",
       "      <td>0.0</td>\n",
       "      <td>0.0</td>\n",
       "      <td>0.0</td>\n",
       "    </tr>\n",
       "    <tr>\n",
       "      <th>1</th>\n",
       "      <td>0.0</td>\n",
       "      <td>0.0</td>\n",
       "      <td>12.0</td>\n",
       "      <td>13.0</td>\n",
       "      <td>5.0</td>\n",
       "      <td>0.0</td>\n",
       "      <td>0.0</td>\n",
       "      <td>0.0</td>\n",
       "      <td>0.0</td>\n",
       "      <td>0.0</td>\n",
       "      <td>...</td>\n",
       "      <td>0.0</td>\n",
       "      <td>0.0</td>\n",
       "      <td>0.0</td>\n",
       "      <td>0.0</td>\n",
       "      <td>0.0</td>\n",
       "      <td>11.0</td>\n",
       "      <td>16.0</td>\n",
       "      <td>10.0</td>\n",
       "      <td>0.0</td>\n",
       "      <td>0.0</td>\n",
       "    </tr>\n",
       "    <tr>\n",
       "      <th>2</th>\n",
       "      <td>0.0</td>\n",
       "      <td>0.0</td>\n",
       "      <td>4.0</td>\n",
       "      <td>15.0</td>\n",
       "      <td>12.0</td>\n",
       "      <td>0.0</td>\n",
       "      <td>0.0</td>\n",
       "      <td>0.0</td>\n",
       "      <td>0.0</td>\n",
       "      <td>3.0</td>\n",
       "      <td>...</td>\n",
       "      <td>5.0</td>\n",
       "      <td>0.0</td>\n",
       "      <td>0.0</td>\n",
       "      <td>0.0</td>\n",
       "      <td>0.0</td>\n",
       "      <td>3.0</td>\n",
       "      <td>11.0</td>\n",
       "      <td>16.0</td>\n",
       "      <td>9.0</td>\n",
       "      <td>0.0</td>\n",
       "    </tr>\n",
       "    <tr>\n",
       "      <th>3</th>\n",
       "      <td>0.0</td>\n",
       "      <td>7.0</td>\n",
       "      <td>15.0</td>\n",
       "      <td>13.0</td>\n",
       "      <td>1.0</td>\n",
       "      <td>0.0</td>\n",
       "      <td>0.0</td>\n",
       "      <td>0.0</td>\n",
       "      <td>8.0</td>\n",
       "      <td>13.0</td>\n",
       "      <td>...</td>\n",
       "      <td>9.0</td>\n",
       "      <td>0.0</td>\n",
       "      <td>0.0</td>\n",
       "      <td>0.0</td>\n",
       "      <td>7.0</td>\n",
       "      <td>13.0</td>\n",
       "      <td>13.0</td>\n",
       "      <td>9.0</td>\n",
       "      <td>0.0</td>\n",
       "      <td>0.0</td>\n",
       "    </tr>\n",
       "    <tr>\n",
       "      <th>4</th>\n",
       "      <td>0.0</td>\n",
       "      <td>0.0</td>\n",
       "      <td>1.0</td>\n",
       "      <td>11.0</td>\n",
       "      <td>0.0</td>\n",
       "      <td>0.0</td>\n",
       "      <td>0.0</td>\n",
       "      <td>0.0</td>\n",
       "      <td>0.0</td>\n",
       "      <td>0.0</td>\n",
       "      <td>...</td>\n",
       "      <td>0.0</td>\n",
       "      <td>0.0</td>\n",
       "      <td>0.0</td>\n",
       "      <td>0.0</td>\n",
       "      <td>0.0</td>\n",
       "      <td>2.0</td>\n",
       "      <td>16.0</td>\n",
       "      <td>4.0</td>\n",
       "      <td>0.0</td>\n",
       "      <td>0.0</td>\n",
       "    </tr>\n",
       "    <tr>\n",
       "      <th>...</th>\n",
       "      <td>...</td>\n",
       "      <td>...</td>\n",
       "      <td>...</td>\n",
       "      <td>...</td>\n",
       "      <td>...</td>\n",
       "      <td>...</td>\n",
       "      <td>...</td>\n",
       "      <td>...</td>\n",
       "      <td>...</td>\n",
       "      <td>...</td>\n",
       "      <td>...</td>\n",
       "      <td>...</td>\n",
       "      <td>...</td>\n",
       "      <td>...</td>\n",
       "      <td>...</td>\n",
       "      <td>...</td>\n",
       "      <td>...</td>\n",
       "      <td>...</td>\n",
       "      <td>...</td>\n",
       "      <td>...</td>\n",
       "      <td>...</td>\n",
       "    </tr>\n",
       "    <tr>\n",
       "      <th>1792</th>\n",
       "      <td>0.0</td>\n",
       "      <td>4.0</td>\n",
       "      <td>10.0</td>\n",
       "      <td>13.0</td>\n",
       "      <td>6.0</td>\n",
       "      <td>0.0</td>\n",
       "      <td>0.0</td>\n",
       "      <td>0.0</td>\n",
       "      <td>1.0</td>\n",
       "      <td>16.0</td>\n",
       "      <td>...</td>\n",
       "      <td>4.0</td>\n",
       "      <td>0.0</td>\n",
       "      <td>0.0</td>\n",
       "      <td>0.0</td>\n",
       "      <td>2.0</td>\n",
       "      <td>14.0</td>\n",
       "      <td>15.0</td>\n",
       "      <td>9.0</td>\n",
       "      <td>0.0</td>\n",
       "      <td>0.0</td>\n",
       "    </tr>\n",
       "    <tr>\n",
       "      <th>1793</th>\n",
       "      <td>0.0</td>\n",
       "      <td>6.0</td>\n",
       "      <td>16.0</td>\n",
       "      <td>13.0</td>\n",
       "      <td>11.0</td>\n",
       "      <td>1.0</td>\n",
       "      <td>0.0</td>\n",
       "      <td>0.0</td>\n",
       "      <td>0.0</td>\n",
       "      <td>16.0</td>\n",
       "      <td>...</td>\n",
       "      <td>1.0</td>\n",
       "      <td>0.0</td>\n",
       "      <td>0.0</td>\n",
       "      <td>0.0</td>\n",
       "      <td>6.0</td>\n",
       "      <td>16.0</td>\n",
       "      <td>14.0</td>\n",
       "      <td>6.0</td>\n",
       "      <td>0.0</td>\n",
       "      <td>0.0</td>\n",
       "    </tr>\n",
       "    <tr>\n",
       "      <th>1794</th>\n",
       "      <td>0.0</td>\n",
       "      <td>1.0</td>\n",
       "      <td>11.0</td>\n",
       "      <td>15.0</td>\n",
       "      <td>1.0</td>\n",
       "      <td>0.0</td>\n",
       "      <td>0.0</td>\n",
       "      <td>0.0</td>\n",
       "      <td>0.0</td>\n",
       "      <td>13.0</td>\n",
       "      <td>...</td>\n",
       "      <td>0.0</td>\n",
       "      <td>0.0</td>\n",
       "      <td>0.0</td>\n",
       "      <td>0.0</td>\n",
       "      <td>2.0</td>\n",
       "      <td>9.0</td>\n",
       "      <td>13.0</td>\n",
       "      <td>6.0</td>\n",
       "      <td>0.0</td>\n",
       "      <td>0.0</td>\n",
       "    </tr>\n",
       "    <tr>\n",
       "      <th>1795</th>\n",
       "      <td>0.0</td>\n",
       "      <td>2.0</td>\n",
       "      <td>10.0</td>\n",
       "      <td>7.0</td>\n",
       "      <td>0.0</td>\n",
       "      <td>0.0</td>\n",
       "      <td>0.0</td>\n",
       "      <td>0.0</td>\n",
       "      <td>0.0</td>\n",
       "      <td>14.0</td>\n",
       "      <td>...</td>\n",
       "      <td>2.0</td>\n",
       "      <td>0.0</td>\n",
       "      <td>0.0</td>\n",
       "      <td>0.0</td>\n",
       "      <td>5.0</td>\n",
       "      <td>12.0</td>\n",
       "      <td>16.0</td>\n",
       "      <td>12.0</td>\n",
       "      <td>0.0</td>\n",
       "      <td>0.0</td>\n",
       "    </tr>\n",
       "    <tr>\n",
       "      <th>1796</th>\n",
       "      <td>0.0</td>\n",
       "      <td>10.0</td>\n",
       "      <td>14.0</td>\n",
       "      <td>8.0</td>\n",
       "      <td>1.0</td>\n",
       "      <td>0.0</td>\n",
       "      <td>0.0</td>\n",
       "      <td>0.0</td>\n",
       "      <td>2.0</td>\n",
       "      <td>16.0</td>\n",
       "      <td>...</td>\n",
       "      <td>8.0</td>\n",
       "      <td>0.0</td>\n",
       "      <td>0.0</td>\n",
       "      <td>1.0</td>\n",
       "      <td>8.0</td>\n",
       "      <td>12.0</td>\n",
       "      <td>14.0</td>\n",
       "      <td>12.0</td>\n",
       "      <td>1.0</td>\n",
       "      <td>0.0</td>\n",
       "    </tr>\n",
       "  </tbody>\n",
       "</table>\n",
       "<p>1797 rows × 63 columns</p>\n",
       "</div>"
      ],
      "text/plain": [
       "       1     2     3     4     5    6    7    8    9     10  ...   54   55  \\\n",
       "0     0.0   5.0  13.0   9.0   1.0  0.0  0.0  0.0  0.0  13.0  ...  0.0  0.0   \n",
       "1     0.0   0.0  12.0  13.0   5.0  0.0  0.0  0.0  0.0   0.0  ...  0.0  0.0   \n",
       "2     0.0   0.0   4.0  15.0  12.0  0.0  0.0  0.0  0.0   3.0  ...  5.0  0.0   \n",
       "3     0.0   7.0  15.0  13.0   1.0  0.0  0.0  0.0  8.0  13.0  ...  9.0  0.0   \n",
       "4     0.0   0.0   1.0  11.0   0.0  0.0  0.0  0.0  0.0   0.0  ...  0.0  0.0   \n",
       "...   ...   ...   ...   ...   ...  ...  ...  ...  ...   ...  ...  ...  ...   \n",
       "1792  0.0   4.0  10.0  13.0   6.0  0.0  0.0  0.0  1.0  16.0  ...  4.0  0.0   \n",
       "1793  0.0   6.0  16.0  13.0  11.0  1.0  0.0  0.0  0.0  16.0  ...  1.0  0.0   \n",
       "1794  0.0   1.0  11.0  15.0   1.0  0.0  0.0  0.0  0.0  13.0  ...  0.0  0.0   \n",
       "1795  0.0   2.0  10.0   7.0   0.0  0.0  0.0  0.0  0.0  14.0  ...  2.0  0.0   \n",
       "1796  0.0  10.0  14.0   8.0   1.0  0.0  0.0  0.0  2.0  16.0  ...  8.0  0.0   \n",
       "\n",
       "       56   57   58    59    60    61   62   63  \n",
       "0     0.0  0.0  6.0  13.0  10.0   0.0  0.0  0.0  \n",
       "1     0.0  0.0  0.0  11.0  16.0  10.0  0.0  0.0  \n",
       "2     0.0  0.0  0.0   3.0  11.0  16.0  9.0  0.0  \n",
       "3     0.0  0.0  7.0  13.0  13.0   9.0  0.0  0.0  \n",
       "4     0.0  0.0  0.0   2.0  16.0   4.0  0.0  0.0  \n",
       "...   ...  ...  ...   ...   ...   ...  ...  ...  \n",
       "1792  0.0  0.0  2.0  14.0  15.0   9.0  0.0  0.0  \n",
       "1793  0.0  0.0  6.0  16.0  14.0   6.0  0.0  0.0  \n",
       "1794  0.0  0.0  2.0   9.0  13.0   6.0  0.0  0.0  \n",
       "1795  0.0  0.0  5.0  12.0  16.0  12.0  0.0  0.0  \n",
       "1796  0.0  1.0  8.0  12.0  14.0  12.0  1.0  0.0  \n",
       "\n",
       "[1797 rows x 63 columns]"
      ]
     },
     "execution_count": 9,
     "metadata": {},
     "output_type": "execute_result"
    }
   ],
   "source": [
    "sampleFeatureValues, labels = getSampleDigitsDataSet();\n",
    "sampleFeatureValues"
   ]
  },
  {
   "cell_type": "markdown",
   "metadata": {},
   "source": [
    "#### Daten"
   ]
  },
  {
   "cell_type": "code",
   "execution_count": 10,
   "metadata": {},
   "outputs": [
    {
     "name": "stdout",
     "output_type": "stream",
     "text": [
      "env: GOOGLE_APPLICATION_CREDENTIALS=./bigquery-service-account.json\n",
      "SELECT * from `masterarbeit-245718.ethereum_us.top40k_week1777_features`\n"
     ]
    }
   ],
   "source": [
    "featureValues, elapsed = getDateFromBigQuery('masterarbeit-245718.ethereum_us.top40k_week1777_features');"
   ]
  },
  {
   "cell_type": "code",
   "execution_count": 11,
   "metadata": {
    "scrolled": true
   },
   "outputs": [
    {
     "name": "stdout",
     "output_type": "stream",
     "text": [
      "It took 16 seconds to retrieve the data from BigQuery.\n"
     ]
    },
    {
     "data": {
      "text/html": [
       "<div>\n",
       "<style scoped>\n",
       "    .dataframe tbody tr th:only-of-type {\n",
       "        vertical-align: middle;\n",
       "    }\n",
       "\n",
       "    .dataframe tbody tr th {\n",
       "        vertical-align: top;\n",
       "    }\n",
       "\n",
       "    .dataframe thead th {\n",
       "        text-align: right;\n",
       "    }\n",
       "</style>\n",
       "<table border=\"1\" class=\"dataframe\">\n",
       "  <thead>\n",
       "    <tr style=\"text-align: right;\">\n",
       "      <th></th>\n",
       "      <th>weiReceived</th>\n",
       "      <th>weiSent</th>\n",
       "      <th>numberOfTranscationsReceived</th>\n",
       "      <th>numberOfTranscationsSent</th>\n",
       "      <th>avgTimeDiffBetweenSentTransactions</th>\n",
       "      <th>avgTimeDiffBetweenReceivedTransactions</th>\n",
       "    </tr>\n",
       "  </thead>\n",
       "  <tbody>\n",
       "    <tr>\n",
       "      <th>0</th>\n",
       "      <td>2673424351547697257256</td>\n",
       "      <td>2661894151216616483725</td>\n",
       "      <td>19131</td>\n",
       "      <td>6409</td>\n",
       "      <td>94.372191</td>\n",
       "      <td>31.611971</td>\n",
       "    </tr>\n",
       "    <tr>\n",
       "      <th>1</th>\n",
       "      <td>241342246048141213278</td>\n",
       "      <td>352380832560000000000</td>\n",
       "      <td>194</td>\n",
       "      <td>156</td>\n",
       "      <td>3725.632258</td>\n",
       "      <td>2992.088083</td>\n",
       "    </tr>\n",
       "    <tr>\n",
       "      <th>2</th>\n",
       "      <td>385154555423705114270</td>\n",
       "      <td>580227652636489062950</td>\n",
       "      <td>4779</td>\n",
       "      <td>5760</td>\n",
       "      <td>104.925161</td>\n",
       "      <td>126.467978</td>\n",
       "    </tr>\n",
       "    <tr>\n",
       "      <th>3</th>\n",
       "      <td>0</td>\n",
       "      <td>5000000000000000000</td>\n",
       "      <td>47</td>\n",
       "      <td>1</td>\n",
       "      <td>0.000000</td>\n",
       "      <td>10909.847826</td>\n",
       "    </tr>\n",
       "    <tr>\n",
       "      <th>4</th>\n",
       "      <td>2161000000000000000</td>\n",
       "      <td>75161000000000000000</td>\n",
       "      <td>102</td>\n",
       "      <td>1</td>\n",
       "      <td>0.000000</td>\n",
       "      <td>5913.356436</td>\n",
       "    </tr>\n",
       "    <tr>\n",
       "      <th>...</th>\n",
       "      <td>...</td>\n",
       "      <td>...</td>\n",
       "      <td>...</td>\n",
       "      <td>...</td>\n",
       "      <td>...</td>\n",
       "      <td>...</td>\n",
       "    </tr>\n",
       "    <tr>\n",
       "      <th>171150</th>\n",
       "      <td>9087211315761715615</td>\n",
       "      <td>9084271315761715615</td>\n",
       "      <td>7</td>\n",
       "      <td>7</td>\n",
       "      <td>86695.500000</td>\n",
       "      <td>86592.333333</td>\n",
       "    </tr>\n",
       "    <tr>\n",
       "      <th>171151</th>\n",
       "      <td>3041303489986103825</td>\n",
       "      <td>3203061294000000000</td>\n",
       "      <td>7</td>\n",
       "      <td>3</td>\n",
       "      <td>129507.000000</td>\n",
       "      <td>86459.833333</td>\n",
       "    </tr>\n",
       "    <tr>\n",
       "      <th>171152</th>\n",
       "      <td>939204643789455210</td>\n",
       "      <td>1074984311319900000</td>\n",
       "      <td>7</td>\n",
       "      <td>1</td>\n",
       "      <td>0.000000</td>\n",
       "      <td>86411.333333</td>\n",
       "    </tr>\n",
       "    <tr>\n",
       "      <th>171153</th>\n",
       "      <td>914500000000000000</td>\n",
       "      <td>0</td>\n",
       "      <td>7</td>\n",
       "      <td>36</td>\n",
       "      <td>14773.628571</td>\n",
       "      <td>86162.666667</td>\n",
       "    </tr>\n",
       "    <tr>\n",
       "      <th>171154</th>\n",
       "      <td>3009451244932848783</td>\n",
       "      <td>3464124546000000000</td>\n",
       "      <td>7</td>\n",
       "      <td>4</td>\n",
       "      <td>137314.000000</td>\n",
       "      <td>86380.166667</td>\n",
       "    </tr>\n",
       "  </tbody>\n",
       "</table>\n",
       "<p>171155 rows × 6 columns</p>\n",
       "</div>"
      ],
      "text/plain": [
       "                   weiReceived                 weiSent  \\\n",
       "0       2673424351547697257256  2661894151216616483725   \n",
       "1        241342246048141213278   352380832560000000000   \n",
       "2        385154555423705114270   580227652636489062950   \n",
       "3                            0     5000000000000000000   \n",
       "4          2161000000000000000    75161000000000000000   \n",
       "...                        ...                     ...   \n",
       "171150     9087211315761715615     9084271315761715615   \n",
       "171151     3041303489986103825     3203061294000000000   \n",
       "171152      939204643789455210     1074984311319900000   \n",
       "171153      914500000000000000                       0   \n",
       "171154     3009451244932848783     3464124546000000000   \n",
       "\n",
       "        numberOfTranscationsReceived  numberOfTranscationsSent  \\\n",
       "0                              19131                      6409   \n",
       "1                                194                       156   \n",
       "2                               4779                      5760   \n",
       "3                                 47                         1   \n",
       "4                                102                         1   \n",
       "...                              ...                       ...   \n",
       "171150                             7                         7   \n",
       "171151                             7                         3   \n",
       "171152                             7                         1   \n",
       "171153                             7                        36   \n",
       "171154                             7                         4   \n",
       "\n",
       "        avgTimeDiffBetweenSentTransactions  \\\n",
       "0                                94.372191   \n",
       "1                              3725.632258   \n",
       "2                               104.925161   \n",
       "3                                 0.000000   \n",
       "4                                 0.000000   \n",
       "...                                    ...   \n",
       "171150                        86695.500000   \n",
       "171151                       129507.000000   \n",
       "171152                            0.000000   \n",
       "171153                        14773.628571   \n",
       "171154                       137314.000000   \n",
       "\n",
       "        avgTimeDiffBetweenReceivedTransactions  \n",
       "0                                    31.611971  \n",
       "1                                  2992.088083  \n",
       "2                                   126.467978  \n",
       "3                                 10909.847826  \n",
       "4                                  5913.356436  \n",
       "...                                        ...  \n",
       "171150                            86592.333333  \n",
       "171151                            86459.833333  \n",
       "171152                            86411.333333  \n",
       "171153                            86162.666667  \n",
       "171154                            86380.166667  \n",
       "\n",
       "[171155 rows x 6 columns]"
      ]
     },
     "execution_count": 11,
     "metadata": {},
     "output_type": "execute_result"
    }
   ],
   "source": [
    "print(\"It took\",elapsed,\"seconds to retrieve the data from BigQuery.\")\n",
    "featureValues"
   ]
  },
  {
   "cell_type": "code",
   "execution_count": 12,
   "metadata": {},
   "outputs": [
    {
     "name": "stdout",
     "output_type": "stream",
     "text": [
      "Size of the account feature dataset: 8.215568 Megabytes\n"
     ]
    }
   ],
   "source": [
    "print(\"Size of the account feature dataset:\",getMemoryUsageInMB(featureValues), \"Megabytes\")"
   ]
  },
  {
   "cell_type": "markdown",
   "metadata": {},
   "source": [
    "# Merkmalsausprägungen standardisieren, so dass Mittelwert und Standardabweichung für alle Merkmale gleich sind "
   ]
  },
  {
   "cell_type": "markdown",
   "metadata": {},
   "source": [
    "#### Funktionen"
   ]
  },
  {
   "cell_type": "code",
   "execution_count": 13,
   "metadata": {},
   "outputs": [],
   "source": [
    "def standardize(featureValues):\n",
    "    scaler = StandardScaler(copy=True, with_mean=True, with_std=True);\n",
    "    featureValues_std= scaler.fit_transform(featureValues);\n",
    "    featureValues_std = pd.DataFrame(featureValues_std, columns=featureValues.columns);\n",
    "    return featureValues_std;"
   ]
  },
  {
   "cell_type": "markdown",
   "metadata": {},
   "source": [
    "#### Test-Verfahren: Very Simple Dataset"
   ]
  },
  {
   "cell_type": "code",
   "execution_count": 14,
   "metadata": {},
   "outputs": [
    {
     "data": {
      "text/html": [
       "<div>\n",
       "<style scoped>\n",
       "    .dataframe tbody tr th:only-of-type {\n",
       "        vertical-align: middle;\n",
       "    }\n",
       "\n",
       "    .dataframe tbody tr th {\n",
       "        vertical-align: top;\n",
       "    }\n",
       "\n",
       "    .dataframe thead th {\n",
       "        text-align: right;\n",
       "    }\n",
       "</style>\n",
       "<table border=\"1\" class=\"dataframe\">\n",
       "  <thead>\n",
       "    <tr style=\"text-align: right;\">\n",
       "      <th></th>\n",
       "      <th>0</th>\n",
       "      <th>1</th>\n",
       "    </tr>\n",
       "  </thead>\n",
       "  <tbody>\n",
       "    <tr>\n",
       "      <th>0</th>\n",
       "      <td>-0.908037</td>\n",
       "      <td>0.326357</td>\n",
       "    </tr>\n",
       "    <tr>\n",
       "      <th>1</th>\n",
       "      <td>-1.609702</td>\n",
       "      <td>-0.135982</td>\n",
       "    </tr>\n",
       "    <tr>\n",
       "      <th>2</th>\n",
       "      <td>-1.609702</td>\n",
       "      <td>0.326357</td>\n",
       "    </tr>\n",
       "    <tr>\n",
       "      <th>3</th>\n",
       "      <td>-1.258870</td>\n",
       "      <td>0.788696</td>\n",
       "    </tr>\n",
       "    <tr>\n",
       "      <th>4</th>\n",
       "      <td>-1.609702</td>\n",
       "      <td>0.326357</td>\n",
       "    </tr>\n",
       "    <tr>\n",
       "      <th>5</th>\n",
       "      <td>0.144460</td>\n",
       "      <td>1.713374</td>\n",
       "    </tr>\n",
       "    <tr>\n",
       "      <th>6</th>\n",
       "      <td>0.144460</td>\n",
       "      <td>0.788696</td>\n",
       "    </tr>\n",
       "    <tr>\n",
       "      <th>7</th>\n",
       "      <td>0.144460</td>\n",
       "      <td>1.251035</td>\n",
       "    </tr>\n",
       "    <tr>\n",
       "      <th>8</th>\n",
       "      <td>-0.206372</td>\n",
       "      <td>0.788696</td>\n",
       "    </tr>\n",
       "    <tr>\n",
       "      <th>9</th>\n",
       "      <td>0.144460</td>\n",
       "      <td>1.251035</td>\n",
       "    </tr>\n",
       "    <tr>\n",
       "      <th>10</th>\n",
       "      <td>0.495293</td>\n",
       "      <td>-1.522999</td>\n",
       "    </tr>\n",
       "    <tr>\n",
       "      <th>11</th>\n",
       "      <td>0.846126</td>\n",
       "      <td>-1.060660</td>\n",
       "    </tr>\n",
       "    <tr>\n",
       "      <th>12</th>\n",
       "      <td>1.196958</td>\n",
       "      <td>-1.522999</td>\n",
       "    </tr>\n",
       "    <tr>\n",
       "      <th>13</th>\n",
       "      <td>0.846126</td>\n",
       "      <td>-1.060660</td>\n",
       "    </tr>\n",
       "    <tr>\n",
       "      <th>14</th>\n",
       "      <td>1.196958</td>\n",
       "      <td>-0.598321</td>\n",
       "    </tr>\n",
       "    <tr>\n",
       "      <th>15</th>\n",
       "      <td>1.196958</td>\n",
       "      <td>-1.060660</td>\n",
       "    </tr>\n",
       "    <tr>\n",
       "      <th>16</th>\n",
       "      <td>0.846126</td>\n",
       "      <td>-0.598321</td>\n",
       "    </tr>\n",
       "  </tbody>\n",
       "</table>\n",
       "</div>"
      ],
      "text/plain": [
       "           0         1\n",
       "0  -0.908037  0.326357\n",
       "1  -1.609702 -0.135982\n",
       "2  -1.609702  0.326357\n",
       "3  -1.258870  0.788696\n",
       "4  -1.609702  0.326357\n",
       "5   0.144460  1.713374\n",
       "6   0.144460  0.788696\n",
       "7   0.144460  1.251035\n",
       "8  -0.206372  0.788696\n",
       "9   0.144460  1.251035\n",
       "10  0.495293 -1.522999\n",
       "11  0.846126 -1.060660\n",
       "12  1.196958 -1.522999\n",
       "13  0.846126 -1.060660\n",
       "14  1.196958 -0.598321\n",
       "15  1.196958 -1.060660\n",
       "16  0.846126 -0.598321"
      ]
     },
     "execution_count": 14,
     "metadata": {},
     "output_type": "execute_result"
    }
   ],
   "source": [
    "verySimple_featureValues_std = standardize(verySimple_featureValues);\n",
    "verySimple_featureValues_std"
   ]
  },
  {
   "cell_type": "markdown",
   "metadata": {},
   "source": [
    "#### Test-Verfahren: Iris"
   ]
  },
  {
   "cell_type": "code",
   "execution_count": 15,
   "metadata": {},
   "outputs": [
    {
     "data": {
      "text/html": [
       "<div>\n",
       "<style scoped>\n",
       "    .dataframe tbody tr th:only-of-type {\n",
       "        vertical-align: middle;\n",
       "    }\n",
       "\n",
       "    .dataframe tbody tr th {\n",
       "        vertical-align: top;\n",
       "    }\n",
       "\n",
       "    .dataframe thead th {\n",
       "        text-align: right;\n",
       "    }\n",
       "</style>\n",
       "<table border=\"1\" class=\"dataframe\">\n",
       "  <thead>\n",
       "    <tr style=\"text-align: right;\">\n",
       "      <th></th>\n",
       "      <th>1</th>\n",
       "      <th>2</th>\n",
       "      <th>3</th>\n",
       "    </tr>\n",
       "  </thead>\n",
       "  <tbody>\n",
       "    <tr>\n",
       "      <th>0</th>\n",
       "      <td>1.019004</td>\n",
       "      <td>-1.340227</td>\n",
       "      <td>-1.315444</td>\n",
       "    </tr>\n",
       "    <tr>\n",
       "      <th>1</th>\n",
       "      <td>-0.131979</td>\n",
       "      <td>-1.340227</td>\n",
       "      <td>-1.315444</td>\n",
       "    </tr>\n",
       "    <tr>\n",
       "      <th>2</th>\n",
       "      <td>0.328414</td>\n",
       "      <td>-1.397064</td>\n",
       "      <td>-1.315444</td>\n",
       "    </tr>\n",
       "    <tr>\n",
       "      <th>3</th>\n",
       "      <td>0.098217</td>\n",
       "      <td>-1.283389</td>\n",
       "      <td>-1.315444</td>\n",
       "    </tr>\n",
       "    <tr>\n",
       "      <th>4</th>\n",
       "      <td>1.249201</td>\n",
       "      <td>-1.340227</td>\n",
       "      <td>-1.315444</td>\n",
       "    </tr>\n",
       "    <tr>\n",
       "      <th>...</th>\n",
       "      <td>...</td>\n",
       "      <td>...</td>\n",
       "      <td>...</td>\n",
       "    </tr>\n",
       "    <tr>\n",
       "      <th>145</th>\n",
       "      <td>-0.131979</td>\n",
       "      <td>0.819596</td>\n",
       "      <td>1.448832</td>\n",
       "    </tr>\n",
       "    <tr>\n",
       "      <th>146</th>\n",
       "      <td>-1.282963</td>\n",
       "      <td>0.705921</td>\n",
       "      <td>0.922303</td>\n",
       "    </tr>\n",
       "    <tr>\n",
       "      <th>147</th>\n",
       "      <td>-0.131979</td>\n",
       "      <td>0.819596</td>\n",
       "      <td>1.053935</td>\n",
       "    </tr>\n",
       "    <tr>\n",
       "      <th>148</th>\n",
       "      <td>0.788808</td>\n",
       "      <td>0.933271</td>\n",
       "      <td>1.448832</td>\n",
       "    </tr>\n",
       "    <tr>\n",
       "      <th>149</th>\n",
       "      <td>-0.131979</td>\n",
       "      <td>0.762758</td>\n",
       "      <td>0.790671</td>\n",
       "    </tr>\n",
       "  </tbody>\n",
       "</table>\n",
       "<p>150 rows × 3 columns</p>\n",
       "</div>"
      ],
      "text/plain": [
       "            1         2         3\n",
       "0    1.019004 -1.340227 -1.315444\n",
       "1   -0.131979 -1.340227 -1.315444\n",
       "2    0.328414 -1.397064 -1.315444\n",
       "3    0.098217 -1.283389 -1.315444\n",
       "4    1.249201 -1.340227 -1.315444\n",
       "..        ...       ...       ...\n",
       "145 -0.131979  0.819596  1.448832\n",
       "146 -1.282963  0.705921  0.922303\n",
       "147 -0.131979  0.819596  1.053935\n",
       "148  0.788808  0.933271  1.448832\n",
       "149 -0.131979  0.762758  0.790671\n",
       "\n",
       "[150 rows x 3 columns]"
      ]
     },
     "execution_count": 15,
     "metadata": {},
     "output_type": "execute_result"
    }
   ],
   "source": [
    "sampleIrisFeatureValues_std = standardize(sampleIrisFeatureValues);\n",
    "sampleIrisFeatureValues_std"
   ]
  },
  {
   "cell_type": "markdown",
   "metadata": {},
   "source": [
    "#### Test-Verfahren: Digits"
   ]
  },
  {
   "cell_type": "code",
   "execution_count": 16,
   "metadata": {},
   "outputs": [
    {
     "data": {
      "text/html": [
       "<div>\n",
       "<style scoped>\n",
       "    .dataframe tbody tr th:only-of-type {\n",
       "        vertical-align: middle;\n",
       "    }\n",
       "\n",
       "    .dataframe tbody tr th {\n",
       "        vertical-align: top;\n",
       "    }\n",
       "\n",
       "    .dataframe thead th {\n",
       "        text-align: right;\n",
       "    }\n",
       "</style>\n",
       "<table border=\"1\" class=\"dataframe\">\n",
       "  <thead>\n",
       "    <tr style=\"text-align: right;\">\n",
       "      <th></th>\n",
       "      <th>1</th>\n",
       "      <th>2</th>\n",
       "      <th>3</th>\n",
       "      <th>4</th>\n",
       "      <th>5</th>\n",
       "      <th>6</th>\n",
       "      <th>7</th>\n",
       "      <th>8</th>\n",
       "      <th>9</th>\n",
       "      <th>10</th>\n",
       "      <th>...</th>\n",
       "      <th>54</th>\n",
       "      <th>55</th>\n",
       "      <th>56</th>\n",
       "      <th>57</th>\n",
       "      <th>58</th>\n",
       "      <th>59</th>\n",
       "      <th>60</th>\n",
       "      <th>61</th>\n",
       "      <th>62</th>\n",
       "      <th>63</th>\n",
       "    </tr>\n",
       "  </thead>\n",
       "  <tbody>\n",
       "    <tr>\n",
       "      <th>0</th>\n",
       "      <td>-0.335016</td>\n",
       "      <td>-0.043081</td>\n",
       "      <td>0.274072</td>\n",
       "      <td>-0.664478</td>\n",
       "      <td>-0.844129</td>\n",
       "      <td>-0.409724</td>\n",
       "      <td>-0.125023</td>\n",
       "      <td>-0.059078</td>\n",
       "      <td>-0.624009</td>\n",
       "      <td>0.482974</td>\n",
       "      <td>...</td>\n",
       "      <td>-0.757436</td>\n",
       "      <td>-0.209785</td>\n",
       "      <td>-0.023596</td>\n",
       "      <td>-0.299081</td>\n",
       "      <td>0.086719</td>\n",
       "      <td>0.208293</td>\n",
       "      <td>-0.366771</td>\n",
       "      <td>-1.146647</td>\n",
       "      <td>-0.505670</td>\n",
       "      <td>-0.196008</td>\n",
       "    </tr>\n",
       "    <tr>\n",
       "      <th>1</th>\n",
       "      <td>-0.335016</td>\n",
       "      <td>-1.094937</td>\n",
       "      <td>0.038648</td>\n",
       "      <td>0.268751</td>\n",
       "      <td>-0.138020</td>\n",
       "      <td>-0.409724</td>\n",
       "      <td>-0.125023</td>\n",
       "      <td>-0.059078</td>\n",
       "      <td>-0.624009</td>\n",
       "      <td>-1.915573</td>\n",
       "      <td>...</td>\n",
       "      <td>-0.757436</td>\n",
       "      <td>-0.209785</td>\n",
       "      <td>-0.023596</td>\n",
       "      <td>-0.299081</td>\n",
       "      <td>-1.089383</td>\n",
       "      <td>-0.249010</td>\n",
       "      <td>0.849632</td>\n",
       "      <td>0.548561</td>\n",
       "      <td>-0.505670</td>\n",
       "      <td>-0.196008</td>\n",
       "    </tr>\n",
       "    <tr>\n",
       "      <th>2</th>\n",
       "      <td>-0.335016</td>\n",
       "      <td>-1.094937</td>\n",
       "      <td>-1.844742</td>\n",
       "      <td>0.735366</td>\n",
       "      <td>1.097673</td>\n",
       "      <td>-0.409724</td>\n",
       "      <td>-0.125023</td>\n",
       "      <td>-0.059078</td>\n",
       "      <td>-0.624009</td>\n",
       "      <td>-1.362062</td>\n",
       "      <td>...</td>\n",
       "      <td>0.259230</td>\n",
       "      <td>-0.209785</td>\n",
       "      <td>-0.023596</td>\n",
       "      <td>-0.299081</td>\n",
       "      <td>-1.089383</td>\n",
       "      <td>-2.078218</td>\n",
       "      <td>-0.164037</td>\n",
       "      <td>1.565686</td>\n",
       "      <td>1.695137</td>\n",
       "      <td>-0.196008</td>\n",
       "    </tr>\n",
       "    <tr>\n",
       "      <th>3</th>\n",
       "      <td>-0.335016</td>\n",
       "      <td>0.377661</td>\n",
       "      <td>0.744919</td>\n",
       "      <td>0.268751</td>\n",
       "      <td>-0.844129</td>\n",
       "      <td>-0.409724</td>\n",
       "      <td>-0.125023</td>\n",
       "      <td>-0.059078</td>\n",
       "      <td>1.879691</td>\n",
       "      <td>0.482974</td>\n",
       "      <td>...</td>\n",
       "      <td>1.072563</td>\n",
       "      <td>-0.209785</td>\n",
       "      <td>-0.023596</td>\n",
       "      <td>-0.299081</td>\n",
       "      <td>0.282736</td>\n",
       "      <td>0.208293</td>\n",
       "      <td>0.241430</td>\n",
       "      <td>0.379040</td>\n",
       "      <td>-0.505670</td>\n",
       "      <td>-0.196008</td>\n",
       "    </tr>\n",
       "    <tr>\n",
       "      <th>4</th>\n",
       "      <td>-0.335016</td>\n",
       "      <td>-1.094937</td>\n",
       "      <td>-2.551014</td>\n",
       "      <td>-0.197863</td>\n",
       "      <td>-1.020657</td>\n",
       "      <td>-0.409724</td>\n",
       "      <td>-0.125023</td>\n",
       "      <td>-0.059078</td>\n",
       "      <td>-0.624009</td>\n",
       "      <td>-1.915573</td>\n",
       "      <td>...</td>\n",
       "      <td>-0.757436</td>\n",
       "      <td>-0.209785</td>\n",
       "      <td>-0.023596</td>\n",
       "      <td>-0.299081</td>\n",
       "      <td>-1.089383</td>\n",
       "      <td>-2.306869</td>\n",
       "      <td>0.849632</td>\n",
       "      <td>-0.468564</td>\n",
       "      <td>-0.505670</td>\n",
       "      <td>-0.196008</td>\n",
       "    </tr>\n",
       "    <tr>\n",
       "      <th>...</th>\n",
       "      <td>...</td>\n",
       "      <td>...</td>\n",
       "      <td>...</td>\n",
       "      <td>...</td>\n",
       "      <td>...</td>\n",
       "      <td>...</td>\n",
       "      <td>...</td>\n",
       "      <td>...</td>\n",
       "      <td>...</td>\n",
       "      <td>...</td>\n",
       "      <td>...</td>\n",
       "      <td>...</td>\n",
       "      <td>...</td>\n",
       "      <td>...</td>\n",
       "      <td>...</td>\n",
       "      <td>...</td>\n",
       "      <td>...</td>\n",
       "      <td>...</td>\n",
       "      <td>...</td>\n",
       "      <td>...</td>\n",
       "      <td>...</td>\n",
       "    </tr>\n",
       "    <tr>\n",
       "      <th>1792</th>\n",
       "      <td>-0.335016</td>\n",
       "      <td>-0.253452</td>\n",
       "      <td>-0.432200</td>\n",
       "      <td>0.268751</td>\n",
       "      <td>0.038508</td>\n",
       "      <td>-0.409724</td>\n",
       "      <td>-0.125023</td>\n",
       "      <td>-0.059078</td>\n",
       "      <td>-0.311047</td>\n",
       "      <td>1.036485</td>\n",
       "      <td>...</td>\n",
       "      <td>0.055897</td>\n",
       "      <td>-0.209785</td>\n",
       "      <td>-0.023596</td>\n",
       "      <td>-0.299081</td>\n",
       "      <td>-0.697349</td>\n",
       "      <td>0.436944</td>\n",
       "      <td>0.646898</td>\n",
       "      <td>0.379040</td>\n",
       "      <td>-0.505670</td>\n",
       "      <td>-0.196008</td>\n",
       "    </tr>\n",
       "    <tr>\n",
       "      <th>1793</th>\n",
       "      <td>-0.335016</td>\n",
       "      <td>0.167290</td>\n",
       "      <td>0.980343</td>\n",
       "      <td>0.268751</td>\n",
       "      <td>0.921145</td>\n",
       "      <td>-0.108958</td>\n",
       "      <td>-0.125023</td>\n",
       "      <td>-0.059078</td>\n",
       "      <td>-0.624009</td>\n",
       "      <td>1.036485</td>\n",
       "      <td>...</td>\n",
       "      <td>-0.554103</td>\n",
       "      <td>-0.209785</td>\n",
       "      <td>-0.023596</td>\n",
       "      <td>-0.299081</td>\n",
       "      <td>0.086719</td>\n",
       "      <td>0.894246</td>\n",
       "      <td>0.444164</td>\n",
       "      <td>-0.129523</td>\n",
       "      <td>-0.505670</td>\n",
       "      <td>-0.196008</td>\n",
       "    </tr>\n",
       "    <tr>\n",
       "      <th>1794</th>\n",
       "      <td>-0.335016</td>\n",
       "      <td>-0.884566</td>\n",
       "      <td>-0.196776</td>\n",
       "      <td>0.735366</td>\n",
       "      <td>-0.844129</td>\n",
       "      <td>-0.409724</td>\n",
       "      <td>-0.125023</td>\n",
       "      <td>-0.059078</td>\n",
       "      <td>-0.624009</td>\n",
       "      <td>0.482974</td>\n",
       "      <td>...</td>\n",
       "      <td>-0.757436</td>\n",
       "      <td>-0.209785</td>\n",
       "      <td>-0.023596</td>\n",
       "      <td>-0.299081</td>\n",
       "      <td>-0.697349</td>\n",
       "      <td>-0.706312</td>\n",
       "      <td>0.241430</td>\n",
       "      <td>-0.129523</td>\n",
       "      <td>-0.505670</td>\n",
       "      <td>-0.196008</td>\n",
       "    </tr>\n",
       "    <tr>\n",
       "      <th>1795</th>\n",
       "      <td>-0.335016</td>\n",
       "      <td>-0.674195</td>\n",
       "      <td>-0.432200</td>\n",
       "      <td>-1.131092</td>\n",
       "      <td>-1.020657</td>\n",
       "      <td>-0.409724</td>\n",
       "      <td>-0.125023</td>\n",
       "      <td>-0.059078</td>\n",
       "      <td>-0.624009</td>\n",
       "      <td>0.667478</td>\n",
       "      <td>...</td>\n",
       "      <td>-0.350769</td>\n",
       "      <td>-0.209785</td>\n",
       "      <td>-0.023596</td>\n",
       "      <td>-0.299081</td>\n",
       "      <td>-0.109298</td>\n",
       "      <td>-0.020358</td>\n",
       "      <td>0.849632</td>\n",
       "      <td>0.887602</td>\n",
       "      <td>-0.505670</td>\n",
       "      <td>-0.196008</td>\n",
       "    </tr>\n",
       "    <tr>\n",
       "      <th>1796</th>\n",
       "      <td>-0.335016</td>\n",
       "      <td>1.008775</td>\n",
       "      <td>0.509495</td>\n",
       "      <td>-0.897785</td>\n",
       "      <td>-0.844129</td>\n",
       "      <td>-0.409724</td>\n",
       "      <td>-0.125023</td>\n",
       "      <td>-0.059078</td>\n",
       "      <td>0.001916</td>\n",
       "      <td>1.036485</td>\n",
       "      <td>...</td>\n",
       "      <td>0.869229</td>\n",
       "      <td>-0.209785</td>\n",
       "      <td>-0.023596</td>\n",
       "      <td>0.771535</td>\n",
       "      <td>0.478753</td>\n",
       "      <td>-0.020358</td>\n",
       "      <td>0.444164</td>\n",
       "      <td>0.887602</td>\n",
       "      <td>-0.261136</td>\n",
       "      <td>-0.196008</td>\n",
       "    </tr>\n",
       "  </tbody>\n",
       "</table>\n",
       "<p>1797 rows × 63 columns</p>\n",
       "</div>"
      ],
      "text/plain": [
       "            1         2         3         4         5         6         7   \\\n",
       "0    -0.335016 -0.043081  0.274072 -0.664478 -0.844129 -0.409724 -0.125023   \n",
       "1    -0.335016 -1.094937  0.038648  0.268751 -0.138020 -0.409724 -0.125023   \n",
       "2    -0.335016 -1.094937 -1.844742  0.735366  1.097673 -0.409724 -0.125023   \n",
       "3    -0.335016  0.377661  0.744919  0.268751 -0.844129 -0.409724 -0.125023   \n",
       "4    -0.335016 -1.094937 -2.551014 -0.197863 -1.020657 -0.409724 -0.125023   \n",
       "...        ...       ...       ...       ...       ...       ...       ...   \n",
       "1792 -0.335016 -0.253452 -0.432200  0.268751  0.038508 -0.409724 -0.125023   \n",
       "1793 -0.335016  0.167290  0.980343  0.268751  0.921145 -0.108958 -0.125023   \n",
       "1794 -0.335016 -0.884566 -0.196776  0.735366 -0.844129 -0.409724 -0.125023   \n",
       "1795 -0.335016 -0.674195 -0.432200 -1.131092 -1.020657 -0.409724 -0.125023   \n",
       "1796 -0.335016  1.008775  0.509495 -0.897785 -0.844129 -0.409724 -0.125023   \n",
       "\n",
       "            8         9         10  ...        54        55        56  \\\n",
       "0    -0.059078 -0.624009  0.482974  ... -0.757436 -0.209785 -0.023596   \n",
       "1    -0.059078 -0.624009 -1.915573  ... -0.757436 -0.209785 -0.023596   \n",
       "2    -0.059078 -0.624009 -1.362062  ...  0.259230 -0.209785 -0.023596   \n",
       "3    -0.059078  1.879691  0.482974  ...  1.072563 -0.209785 -0.023596   \n",
       "4    -0.059078 -0.624009 -1.915573  ... -0.757436 -0.209785 -0.023596   \n",
       "...        ...       ...       ...  ...       ...       ...       ...   \n",
       "1792 -0.059078 -0.311047  1.036485  ...  0.055897 -0.209785 -0.023596   \n",
       "1793 -0.059078 -0.624009  1.036485  ... -0.554103 -0.209785 -0.023596   \n",
       "1794 -0.059078 -0.624009  0.482974  ... -0.757436 -0.209785 -0.023596   \n",
       "1795 -0.059078 -0.624009  0.667478  ... -0.350769 -0.209785 -0.023596   \n",
       "1796 -0.059078  0.001916  1.036485  ...  0.869229 -0.209785 -0.023596   \n",
       "\n",
       "            57        58        59        60        61        62        63  \n",
       "0    -0.299081  0.086719  0.208293 -0.366771 -1.146647 -0.505670 -0.196008  \n",
       "1    -0.299081 -1.089383 -0.249010  0.849632  0.548561 -0.505670 -0.196008  \n",
       "2    -0.299081 -1.089383 -2.078218 -0.164037  1.565686  1.695137 -0.196008  \n",
       "3    -0.299081  0.282736  0.208293  0.241430  0.379040 -0.505670 -0.196008  \n",
       "4    -0.299081 -1.089383 -2.306869  0.849632 -0.468564 -0.505670 -0.196008  \n",
       "...        ...       ...       ...       ...       ...       ...       ...  \n",
       "1792 -0.299081 -0.697349  0.436944  0.646898  0.379040 -0.505670 -0.196008  \n",
       "1793 -0.299081  0.086719  0.894246  0.444164 -0.129523 -0.505670 -0.196008  \n",
       "1794 -0.299081 -0.697349 -0.706312  0.241430 -0.129523 -0.505670 -0.196008  \n",
       "1795 -0.299081 -0.109298 -0.020358  0.849632  0.887602 -0.505670 -0.196008  \n",
       "1796  0.771535  0.478753 -0.020358  0.444164  0.887602 -0.261136 -0.196008  \n",
       "\n",
       "[1797 rows x 63 columns]"
      ]
     },
     "execution_count": 16,
     "metadata": {},
     "output_type": "execute_result"
    }
   ],
   "source": [
    "sampleFeatureValues_std = standardize(sampleFeatureValues);\n",
    "sampleFeatureValues_std"
   ]
  },
  {
   "cell_type": "code",
   "execution_count": 17,
   "metadata": {},
   "outputs": [
    {
     "data": {
      "text/plain": [
       "1     1.000278\n",
       "2     1.000278\n",
       "3     1.000278\n",
       "4     1.000278\n",
       "5     1.000278\n",
       "        ...   \n",
       "59    1.000278\n",
       "60    1.000278\n",
       "61    1.000278\n",
       "62    1.000278\n",
       "63    1.000278\n",
       "Length: 63, dtype: float64"
      ]
     },
     "metadata": {},
     "output_type": "display_data"
    },
    {
     "data": {
      "text/plain": [
       "1     1.064566e-15\n",
       "2     4.024481e-16\n",
       "3    -3.064389e-17\n",
       "4    -1.510571e-16\n",
       "5    -3.142852e-16\n",
       "          ...     \n",
       "59   -6.113447e-16\n",
       "60   -9.403225e-17\n",
       "61   -1.338199e-16\n",
       "62    1.306690e-15\n",
       "63   -1.147508e-15\n",
       "Length: 63, dtype: float64"
      ]
     },
     "metadata": {},
     "output_type": "display_data"
    }
   ],
   "source": [
    "for x in sampleFeatureValues_std.mean():\n",
    "    np.testing.assert_almost_equal(x, 0)\n",
    "\n",
    "display(sampleFeatureValues_std.std())\n",
    "display(sampleFeatureValues_std.mean())"
   ]
  },
  {
   "cell_type": "markdown",
   "metadata": {},
   "source": [
    "#### Verfahren"
   ]
  },
  {
   "cell_type": "code",
   "execution_count": 18,
   "metadata": {},
   "outputs": [],
   "source": [
    "featureValues_std = standardize(featureValues);"
   ]
  },
  {
   "cell_type": "code",
   "execution_count": 19,
   "metadata": {},
   "outputs": [
    {
     "data": {
      "text/plain": [
       "weiReceived                               1.000003\n",
       "weiSent                                   1.000003\n",
       "numberOfTranscationsReceived              1.000003\n",
       "numberOfTranscationsSent                  1.000003\n",
       "avgTimeDiffBetweenSentTransactions        1.000003\n",
       "avgTimeDiffBetweenReceivedTransactions    1.000003\n",
       "dtype: float64"
      ]
     },
     "metadata": {},
     "output_type": "display_data"
    },
    {
     "data": {
      "text/plain": [
       "weiReceived                              -6.728175e-16\n",
       "weiSent                                  -1.173056e-15\n",
       "numberOfTranscationsReceived             -1.448059e-14\n",
       "numberOfTranscationsSent                 -1.899614e-14\n",
       "avgTimeDiffBetweenSentTransactions       -3.401230e-13\n",
       "avgTimeDiffBetweenReceivedTransactions   -3.660899e-13\n",
       "dtype: float64"
      ]
     },
     "metadata": {},
     "output_type": "display_data"
    }
   ],
   "source": [
    "for x in featureValues_std.mean():\n",
    "    np.testing.assert_almost_equal(x, 0)\n",
    "\n",
    "display(featureValues_std.std())\n",
    "display(featureValues_std.mean())"
   ]
  },
  {
   "cell_type": "markdown",
   "metadata": {},
   "source": [
    "# Via Principal Component Analyse die Anzahl der Dimensionen der Datenpunkten für das k-means Clustering Verfahren minimieren "
   ]
  },
  {
   "cell_type": "markdown",
   "metadata": {},
   "source": [
    "**Frage:** Wie viel Varianz sollte von der Teilmenge der Principal Components, welche die meiste Varianz erklären, mindestens erklärt werden? Im Folgenden treffe ich die Annahme, dass 80% ausreicht."
   ]
  },
  {
   "cell_type": "markdown",
   "metadata": {},
   "source": [
    "#### Funktionen"
   ]
  },
  {
   "cell_type": "code",
   "execution_count": 20,
   "metadata": {},
   "outputs": [],
   "source": [
    "def getPCAComponents(data_std, minExplainedVariance):\n",
    "    pca = PCA().fit(data_std)\n",
    "    numberOfPCAComponents = 0\n",
    "    for i in np.cumsum(pca.explained_variance_ratio_):\n",
    "        numberOfPCAComponents = numberOfPCAComponents + 1\n",
    "        if i > minExplainedVariance:\n",
    "            print(\"Die\",numberOfPCAComponents,\"ersten PCA Komponenten erklären mehr als\",minExplainedVariance * 100,\"% der Varianz.\")\n",
    "            return pca, numberOfPCAComponents;"
   ]
  },
  {
   "cell_type": "code",
   "execution_count": 21,
   "metadata": {},
   "outputs": [],
   "source": [
    "def plotPCA(pcaResult, title):\n",
    "    plt.figure()\n",
    "    plt.bar(range(1, len(pcaResult.explained_variance_ratio_) + 1, 1), np.cumsum(pcaResult.explained_variance_ratio_))\n",
    "    plt.xlabel('Number of Components')\n",
    "    plt.ylabel('Variance (%)') #for each component\n",
    "    plt.title(title + ': Explained Variance')\n",
    "    plt.show()"
   ]
  },
  {
   "cell_type": "code",
   "execution_count": 22,
   "metadata": {},
   "outputs": [],
   "source": [
    "def transformDataViaPCA(data_std, numberOfPCAComponents):\n",
    "    pca = PCA(n_components=numberOfPCAComponents)\n",
    "    data_std_pca = pca.fit_transform(data_std)\n",
    "    data_std_pca = pd.DataFrame(data_std_pca)\n",
    "    return data_std_pca"
   ]
  },
  {
   "cell_type": "markdown",
   "metadata": {},
   "source": [
    "#### Test-Verfahren: Very Simple Dataset"
   ]
  },
  {
   "cell_type": "code",
   "execution_count": 23,
   "metadata": {},
   "outputs": [
    {
     "name": "stdout",
     "output_type": "stream",
     "text": [
      "Die 2 ersten PCA Komponenten erklären mehr als 90.0 % der Varianz.\n"
     ]
    }
   ],
   "source": [
    "verySimple_pcaResult, verySimple_numberOfPCAComponents  = getPCAComponents(verySimple_featureValues_std, 0.9)"
   ]
  },
  {
   "cell_type": "code",
   "execution_count": 24,
   "metadata": {},
   "outputs": [
    {
     "data": {
      "image/png": "[encoded data removed]",
      "text/plain": [
       "<Figure size 432x288 with 1 Axes>"
      ]
     },
     "metadata": {
      "needs_background": "light"
     },
     "output_type": "display_data"
    }
   ],
   "source": [
    "plotPCA(verySimple_pcaResult, \"Very Simple Sample Dataset\")"
   ]
  },
  {
   "cell_type": "code",
   "execution_count": 25,
   "metadata": {},
   "outputs": [],
   "source": [
    "verySimple_featureValues_std_pca = transformDataViaPCA(verySimple_featureValues_std, verySimple_numberOfPCAComponents)"
   ]
  },
  {
   "cell_type": "markdown",
   "metadata": {},
   "source": [
    "#### Test-Verfahren: Iris"
   ]
  },
  {
   "cell_type": "code",
   "execution_count": 26,
   "metadata": {},
   "outputs": [
    {
     "name": "stdout",
     "output_type": "stream",
     "text": [
      "Die 2 ersten PCA Komponenten erklären mehr als 90.0 % der Varianz.\n"
     ]
    }
   ],
   "source": [
    "pcaIrisTestResult, numberOfIrisTestPCAComponents  = getPCAComponents(sampleIrisFeatureValues_std, 0.9)"
   ]
  },
  {
   "cell_type": "code",
   "execution_count": 27,
   "metadata": {},
   "outputs": [
    {
     "data": {
      "image/png": "[encoded data removed]",
      "text/plain": [
       "<Figure size 432x288 with 1 Axes>"
      ]
     },
     "metadata": {
      "needs_background": "light"
     },
     "output_type": "display_data"
    }
   ],
   "source": [
    "plotPCA(pcaIrisTestResult, \"Sample Iris Dataset\")"
   ]
  },
  {
   "cell_type": "code",
   "execution_count": 28,
   "metadata": {},
   "outputs": [],
   "source": [
    "sampleIrisFeatureValues_std_pca = transformDataViaPCA(sampleIrisFeatureValues_std, numberOfIrisTestPCAComponents)"
   ]
  },
  {
   "cell_type": "markdown",
   "metadata": {},
   "source": [
    "#### Test-Verfahren: Digits"
   ]
  },
  {
   "cell_type": "code",
   "execution_count": 29,
   "metadata": {},
   "outputs": [
    {
     "name": "stdout",
     "output_type": "stream",
     "text": [
      "Die 31 ersten PCA Komponenten erklären mehr als 90.0 % der Varianz.\n"
     ]
    }
   ],
   "source": [
    "pcaTestResult, numberOfTestPCAComponents  = getPCAComponents(sampleFeatureValues_std, 0.9)"
   ]
  },
  {
   "cell_type": "code",
   "execution_count": 30,
   "metadata": {},
   "outputs": [
    {
     "data": {
      "image/png": "[encoded data removed]",
      "text/plain": [
       "<Figure size 432x288 with 1 Axes>"
      ]
     },
     "metadata": {
      "needs_background": "light"
     },
     "output_type": "display_data"
    }
   ],
   "source": [
    "plotPCA(pcaTestResult, \"Sample Digits Dataset\")"
   ]
  },
  {
   "cell_type": "code",
   "execution_count": 31,
   "metadata": {},
   "outputs": [],
   "source": [
    "sampleFeatureValues_std_pca = transformDataViaPCA(sampleFeatureValues_std, numberOfTestPCAComponents)"
   ]
  },
  {
   "cell_type": "markdown",
   "metadata": {},
   "source": [
    "#### Verfahren"
   ]
  },
  {
   "cell_type": "code",
   "execution_count": 32,
   "metadata": {},
   "outputs": [
    {
     "name": "stdout",
     "output_type": "stream",
     "text": [
      "Die 4 ersten PCA Komponenten erklären mehr als 90.0 % der Varianz.\n"
     ]
    }
   ],
   "source": [
    "pcaResult, numberOfPCAComponents  = getPCAComponents(featureValues_std, 0.9)"
   ]
  },
  {
   "cell_type": "code",
   "execution_count": 33,
   "metadata": {},
   "outputs": [
    {
     "data": {
      "image/png": "[encoded data removed]",
      "text/plain": [
       "<Figure size 432x288 with 1 Axes>"
      ]
     },
     "metadata": {
      "needs_background": "light"
     },
     "output_type": "display_data"
    }
   ],
   "source": [
    "plotPCA(pcaResult, \"Account Feature Dataset\")"
   ]
  },
  {
   "cell_type": "code",
   "execution_count": 34,
   "metadata": {},
   "outputs": [],
   "source": [
    "featureValues_std_pca = transformDataViaPCA(featureValues_std, numberOfPCAComponents)"
   ]
  },
  {
   "cell_type": "markdown",
   "metadata": {},
   "source": [
    "# Die Anzahl der Cluster bestimmen"
   ]
  },
  {
   "cell_type": "markdown",
   "metadata": {},
   "source": [
    "**Frage:** Soll ich hier schon die nach PCA transformierten feature values verwenden? Im Folgenden treffe ich die Annahme, dass die nach PCA transformierten feature values verwendet werden sollten."
   ]
  },
  {
   "cell_type": "markdown",
   "metadata": {},
   "source": [
    "#### Funktionen"
   ]
  },
  {
   "cell_type": "code",
   "execution_count": 35,
   "metadata": {},
   "outputs": [],
   "source": [
    "def estimateNumberOfClusters(featureValues, featureValues_std_pca, maxNumberOfClusters):\n",
    "    scores = []\n",
    "    numberOfCluster = []\n",
    "\n",
    "    for i in range(2,maxNumberOfClusters,1):\n",
    "        kmeans_tmp = KMeans(n_clusters=i)\n",
    "        kmeans_tmp.fit(featureValues_std_pca)\n",
    "        numberOfCluster.append(i)\n",
    "        scores.append(metrics.calinski_harabasz_score(featureValues, kmeans_tmp.labels_))  \n",
    "    \n",
    "    result = pd.DataFrame(np.transpose(np.array([numberOfCluster, scores])).astype(int), columns=[\"Number of Clusters\", \"C.H. Score\"]);\n",
    "    optimalNumberOfClusters = numberOfCluster[np.argmax(scores)];\n",
    "    \n",
    "    return result, optimalNumberOfClusters;"
   ]
  },
  {
   "cell_type": "code",
   "execution_count": 36,
   "metadata": {},
   "outputs": [],
   "source": [
    "def plotScores(scores):\n",
    "    plt.figure()\n",
    "    plt.bar(scores.iloc[:, 0],scores.iloc[:, 1] )\n",
    "    plt.xlabel('Number of Clusters')\n",
    "    plt.ylabel('C.H. Score') #for each component\n",
    "    plt.title('Calinski Harabasz Score')\n",
    "    plt.show()"
   ]
  },
  {
   "cell_type": "markdown",
   "metadata": {},
   "source": [
    "#### Test-Verfahren: Very Simple Dataset"
   ]
  },
  {
   "cell_type": "code",
   "execution_count": 37,
   "metadata": {},
   "outputs": [
    {
     "data": {
      "image/png": "[encoded data removed]",
      "text/plain": [
       "<Figure size 432x288 with 1 Axes>"
      ]
     },
     "metadata": {
      "needs_background": "light"
     },
     "output_type": "display_data"
    }
   ],
   "source": [
    "verySimple_scores, verySimple_optimalNumberOfClusters = estimateNumberOfClusters(verySimple_featureValues, verySimple_featureValues_std_pca, 10)\n",
    "plotScores(verySimple_scores)"
   ]
  },
  {
   "cell_type": "markdown",
   "metadata": {},
   "source": [
    "#### Test-Verfahren: Iris"
   ]
  },
  {
   "cell_type": "code",
   "execution_count": 38,
   "metadata": {},
   "outputs": [
    {
     "data": {
      "image/png": "[encoded data removed]",
      "text/plain": [
       "<Figure size 432x288 with 1 Axes>"
      ]
     },
     "metadata": {
      "needs_background": "light"
     },
     "output_type": "display_data"
    }
   ],
   "source": [
    "test_iris_scores, test_iris_optimalNumberOfClusters = estimateNumberOfClusters(sampleIrisFeatureValues, sampleIrisFeatureValues_std_pca, 10)\n",
    "plotScores(test_iris_scores)"
   ]
  },
  {
   "cell_type": "markdown",
   "metadata": {},
   "source": [
    "Anmerkung: Eigt sollte der C.H. Score bei den Nummer für 3 am höchsten sein."
   ]
  },
  {
   "cell_type": "markdown",
   "metadata": {},
   "source": [
    "#### Test-Verfahren: Digits"
   ]
  },
  {
   "cell_type": "code",
   "execution_count": 39,
   "metadata": {},
   "outputs": [
    {
     "data": {
      "image/png": "[encoded data removed]",
      "text/plain": [
       "<Figure size 432x288 with 1 Axes>"
      ]
     },
     "metadata": {
      "needs_background": "light"
     },
     "output_type": "display_data"
    }
   ],
   "source": [
    "test_scores, test_optimalNumberOfClusters = estimateNumberOfClusters(sampleFeatureValues, sampleFeatureValues_std_pca, 30)\n",
    "plotScores(test_scores)"
   ]
  },
  {
   "cell_type": "markdown",
   "metadata": {},
   "source": [
    "Anmerkung: Eigt sollte der C.H. Score bei den Nummer für 10 am höchsten sein."
   ]
  },
  {
   "cell_type": "markdown",
   "metadata": {},
   "source": [
    "#### Verfahren"
   ]
  },
  {
   "cell_type": "code",
   "execution_count": 40,
   "metadata": {},
   "outputs": [],
   "source": [
    "scores, optimalNumberOfClusters = estimateNumberOfClusters(featureValues, featureValues_std_pca, 10)"
   ]
  },
  {
   "cell_type": "code",
   "execution_count": 41,
   "metadata": {},
   "outputs": [
    {
     "data": {
      "image/png": "[encoded data removed]",
      "text/plain": [
       "<Figure size 432x288 with 1 Axes>"
      ]
     },
     "metadata": {
      "needs_background": "light"
     },
     "output_type": "display_data"
    }
   ],
   "source": [
    "plotScores(scores)"
   ]
  },
  {
   "cell_type": "markdown",
   "metadata": {},
   "source": [
    "# Ausreißer eliminieren"
   ]
  },
  {
   "cell_type": "code",
   "execution_count": 42,
   "metadata": {},
   "outputs": [],
   "source": [
    "def remove_outliers(featureValues, featureValues_std_pca, kmeans, threshold):\n",
    "\n",
    "    new_labels = [];\n",
    "    new_featureValues = [];\n",
    "    new_featureValues_std_pca = [];\n",
    "    within_cluster_featureValues_std_pca = [];\n",
    "    within_cluster_featureValues = [];\n",
    "    new_labels = [];\n",
    "    res1 = [];\n",
    "    res2 = [];\n",
    "    res3 = [];\n",
    "    \n",
    "    for i, center in enumerate(kmeans.cluster_centers_):\n",
    "\n",
    "        within_cluster_featureValues_std_pca = featureValues_std_pca[kmeans.labels_==i]\n",
    "        within_cluster_featureValues = featureValues[kmeans.labels_==i]\n",
    "        \n",
    "        centroid = kmeans.cluster_centers_[i]\n",
    "\n",
    "        stdev = np.std(within_cluster_featureValues_std_pca, axis=0)\n",
    "       \n",
    "        keep = np.linalg.norm((centroid - within_cluster_featureValues_std_pca), axis=1) < threshold*np.linalg.norm(stdev)\n",
    "\n",
    "        if (all(False == e for e in keep)):\n",
    "            continue;\n",
    "            \n",
    "        new_featureValues_std_pca.append(within_cluster_featureValues_std_pca[keep])\n",
    "        new_featureValues.append(within_cluster_featureValues[keep])\n",
    "        \n",
    "        new_labels.extend([i for j in range(len(within_cluster_featureValues_std_pca[keep]))])\n",
    "        \n",
    "    if (len(new_featureValues) > 1):\n",
    "        res1 = np.vstack(new_featureValues)\n",
    "        \n",
    "    if (len(new_featureValues_std_pca) >1 ):\n",
    "        res2 = np.vstack(new_featureValues_std_pca)\n",
    "        \n",
    "    if (len(new_labels) > 1):\n",
    "        res3 = np.array(new_labels)\n",
    "        \n",
    "    return res1, res2, res3\n"
   ]
  },
  {
   "cell_type": "markdown",
   "metadata": {},
   "source": [
    "#### Test-Verfahren: Very Simple Dataset"
   ]
  },
  {
   "cell_type": "code",
   "execution_count": 43,
   "metadata": {},
   "outputs": [
    {
     "data": {
      "text/plain": [
       "KMeans(algorithm='auto', copy_x=True, init='k-means++', max_iter=300,\n",
       "       n_clusters=3, n_init=10, n_jobs=None, precompute_distances='auto',\n",
       "       random_state=None, tol=0.0001, verbose=0)"
      ]
     },
     "execution_count": 43,
     "metadata": {},
     "output_type": "execute_result"
    }
   ],
   "source": [
    "kmeans_opt = KMeans(n_clusters=verySimple_optimalNumberOfClusters)\n",
    "kmeans_opt.fit(verySimple_featureValues_std_pca)"
   ]
  },
  {
   "cell_type": "code",
   "execution_count": 44,
   "metadata": {},
   "outputs": [
    {
     "name": "stdout",
     "output_type": "stream",
     "text": [
      "1\n",
      "2\n",
      "3\n",
      "4\n"
     ]
    }
   ],
   "source": [
    "keep = [False, False, False, False, False, False, False]\n",
    "all(False == e for e in keep)\n",
    "\n",
    "for i in range(0,5,1):\n",
    "    if (i == 0):\n",
    "        continue; \n",
    "    else:\n",
    "        print(i)"
   ]
  },
  {
   "cell_type": "code",
   "execution_count": 45,
   "metadata": {},
   "outputs": [],
   "source": [
    "from sklearn.metrics import calinski_harabaz_score as ch_score\n",
    "\n",
    "thresholds = np.linspace(.4,3, 20)\n",
    "\n",
    "test = [remove_outliers(verySimple_featureValues, verySimple_featureValues_std_pca, kmeans_opt,t) for t in thresholds]\n",
    "\n",
    "scores= []\n",
    "\n",
    "for (res1, res2, labels) in test:\n",
    "    if (len(res1)<=1 | len(res2)<=1 | len(labels) <= 1):\n",
    "        continue;\n",
    "    scores.append(metrics.calinski_harabasz_score(res2, labels)) "
   ]
  },
  {
   "cell_type": "code",
   "execution_count": 46,
   "metadata": {},
   "outputs": [
    {
     "name": "stdout",
     "output_type": "stream",
     "text": [
      "20\n",
      "17\n"
     ]
    }
   ],
   "source": [
    "print(len(scores))\n",
    "print(len(labels))"
   ]
  },
  {
   "cell_type": "code",
   "execution_count": 47,
   "metadata": {},
   "outputs": [
    {
     "data": {
      "text/plain": [
       "Text(0.5, 1.0, 'Calinski Harabaz Scores as std threshold changes')"
      ]
     },
     "execution_count": 47,
     "metadata": {},
     "output_type": "execute_result"
    },
    {
     "data": {
      "image/png": "[encoded data removed]",
      "text/plain": [
       "<Figure size 432x288 with 1 Axes>"
      ]
     },
     "metadata": {
      "needs_background": "light"
     },
     "output_type": "display_data"
    }
   ],
   "source": [
    "plt.plot(thresholds, scores)\n",
    "plt.title('Calinski Harabaz Scores as std threshold changes')"
   ]
  },
  {
   "cell_type": "markdown",
   "metadata": {},
   "source": [
    "#### Verfahren"
   ]
  },
  {
   "cell_type": "code",
   "execution_count": 48,
   "metadata": {},
   "outputs": [
    {
     "data": {
      "text/plain": [
       "KMeans(algorithm='auto', copy_x=True, init='k-means++', max_iter=300,\n",
       "       n_clusters=5, n_init=10, n_jobs=None, precompute_distances='auto',\n",
       "       random_state=None, tol=0.0001, verbose=0)"
      ]
     },
     "execution_count": 48,
     "metadata": {},
     "output_type": "execute_result"
    }
   ],
   "source": [
    "kmeans_opt = KMeans(n_clusters=optimalNumberOfClusters)\n",
    "kmeans_opt.fit(featureValues_std_pca)"
   ]
  },
  {
   "cell_type": "code",
   "execution_count": 49,
   "metadata": {},
   "outputs": [],
   "source": [
    "from sklearn.metrics import calinski_harabaz_score as ch_score\n",
    "\n",
    "thresholds = np.linspace(.01,3, 20)\n",
    "\n",
    "test = [remove_outliers(featureValues, featureValues_std_pca, kmeans_opt,t) for t in thresholds]\n",
    "\n",
    "scores= []\n",
    "\n",
    "for (res1, res2, labels) in test:\n",
    "    scores.append(metrics.calinski_harabasz_score(res2, labels)) "
   ]
  },
  {
   "cell_type": "code",
   "execution_count": 50,
   "metadata": {},
   "outputs": [
    {
     "data": {
      "text/plain": [
       "Text(0.5, 1.0, 'Calinski Harabaz Scores as std threshold changes')"
      ]
     },
     "execution_count": 50,
     "metadata": {},
     "output_type": "execute_result"
    },
    {
     "data": {
      "image/png": "[encoded data removed]",
      "text/plain": [
       "<Figure size 432x288 with 1 Axes>"
      ]
     },
     "metadata": {
      "needs_background": "light"
     },
     "output_type": "display_data"
    }
   ],
   "source": [
    "plt.plot(thresholds, scores)\n",
    "plt.title('Calinski Harabaz Scores as std threshold changes')"
   ]
  },
  {
   "cell_type": "code",
   "execution_count": 51,
   "metadata": {},
   "outputs": [
    {
     "name": "stdout",
     "output_type": "stream",
     "text": [
      "The threshold leading to the highest Calinski Harabaz Score is 0.3247368421052632\n"
     ]
    }
   ],
   "source": [
    "optimalThreshold = thresholds[np.argmax(scores)]\n",
    "print(\"The threshold leading to the highest Calinski Harabaz Score is\", optimalThreshold)"
   ]
  },
  {
   "cell_type": "markdown",
   "metadata": {},
   "source": [
    "# Berechnung und Visualisierung des Entscheidungsmodells via kmeans Cluster Analyse Verfahren "
   ]
  },
  {
   "cell_type": "code",
   "execution_count": 52,
   "metadata": {},
   "outputs": [],
   "source": [
    "featureValues_out, featureValues_std_pca_out, labels = remove_outliers(featureValues, featureValues_std_pca, kmeans_opt, optimalThreshold)\n",
    "featureValues_std_pca_out = pd.DataFrame(featureValues_std_pca_out)\n",
    "featureValues_out = pd.DataFrame(featureValues_out)"
   ]
  },
  {
   "cell_type": "code",
   "execution_count": 53,
   "metadata": {},
   "outputs": [
    {
     "data": {
      "text/plain": [
       "KMeans(algorithm='auto', copy_x=True, init='k-means++', max_iter=300,\n",
       "       n_clusters=5, n_init=10, n_jobs=None, precompute_distances='auto',\n",
       "       random_state=None, tol=0.0001, verbose=0)"
      ]
     },
     "execution_count": 53,
     "metadata": {},
     "output_type": "execute_result"
    }
   ],
   "source": [
    "kmeans_opt.fit(featureValues_std_pca_out)"
   ]
  },
  {
   "cell_type": "markdown",
   "metadata": {},
   "source": [
    "#### Visualisierung"
   ]
  },
  {
   "cell_type": "code",
   "execution_count": null,
   "metadata": {},
   "outputs": [
    {
     "name": "stdout",
     "output_type": "stream",
     "text": [
      "[t-SNE] Computing 121 nearest neighbors...\n",
      "[t-SNE] Indexed 125479 samples in 0.152s...\n",
      "[t-SNE] Computed neighbors for 125479 samples in 3.477s...\n",
      "[t-SNE] Computed conditional probabilities for sample 1000 / 125479\n",
      "[t-SNE] Computed conditional probabilities for sample 2000 / 125479\n",
      "[t-SNE] Computed conditional probabilities for sample 3000 / 125479\n",
      "[t-SNE] Computed conditional probabilities for sample 4000 / 125479\n",
      "[t-SNE] Computed conditional probabilities for sample 5000 / 125479\n",
      "[t-SNE] Computed conditional probabilities for sample 6000 / 125479\n",
      "[t-SNE] Computed conditional probabilities for sample 7000 / 125479\n",
      "[t-SNE] Computed conditional probabilities for sample 8000 / 125479\n",
      "[t-SNE] Computed conditional probabilities for sample 9000 / 125479\n",
      "[t-SNE] Computed conditional probabilities for sample 10000 / 125479\n",
      "[t-SNE] Computed conditional probabilities for sample 11000 / 125479\n",
      "[t-SNE] Computed conditional probabilities for sample 12000 / 125479\n",
      "[t-SNE] Computed conditional probabilities for sample 13000 / 125479\n",
      "[t-SNE] Computed conditional probabilities for sample 14000 / 125479\n",
      "[t-SNE] Computed conditional probabilities for sample 15000 / 125479\n",
      "[t-SNE] Computed conditional probabilities for sample 16000 / 125479\n",
      "[t-SNE] Computed conditional probabilities for sample 17000 / 125479\n",
      "[t-SNE] Computed conditional probabilities for sample 18000 / 125479\n",
      "[t-SNE] Computed conditional probabilities for sample 19000 / 125479\n",
      "[t-SNE] Computed conditional probabilities for sample 20000 / 125479\n",
      "[t-SNE] Computed conditional probabilities for sample 21000 / 125479\n",
      "[t-SNE] Computed conditional probabilities for sample 22000 / 125479\n",
      "[t-SNE] Computed conditional probabilities for sample 23000 / 125479\n",
      "[t-SNE] Computed conditional probabilities for sample 24000 / 125479\n",
      "[t-SNE] Computed conditional probabilities for sample 25000 / 125479\n",
      "[t-SNE] Computed conditional probabilities for sample 26000 / 125479\n",
      "[t-SNE] Computed conditional probabilities for sample 27000 / 125479\n",
      "[t-SNE] Computed conditional probabilities for sample 28000 / 125479\n",
      "[t-SNE] Computed conditional probabilities for sample 29000 / 125479\n",
      "[t-SNE] Computed conditional probabilities for sample 30000 / 125479\n",
      "[t-SNE] Computed conditional probabilities for sample 31000 / 125479\n",
      "[t-SNE] Computed conditional probabilities for sample 32000 / 125479\n",
      "[t-SNE] Computed conditional probabilities for sample 33000 / 125479\n",
      "[t-SNE] Computed conditional probabilities for sample 34000 / 125479\n",
      "[t-SNE] Computed conditional probabilities for sample 35000 / 125479\n",
      "[t-SNE] Computed conditional probabilities for sample 36000 / 125479\n",
      "[t-SNE] Computed conditional probabilities for sample 37000 / 125479\n",
      "[t-SNE] Computed conditional probabilities for sample 38000 / 125479\n",
      "[t-SNE] Computed conditional probabilities for sample 39000 / 125479\n",
      "[t-SNE] Computed conditional probabilities for sample 40000 / 125479\n",
      "[t-SNE] Computed conditional probabilities for sample 41000 / 125479\n",
      "[t-SNE] Computed conditional probabilities for sample 42000 / 125479\n",
      "[t-SNE] Computed conditional probabilities for sample 43000 / 125479\n",
      "[t-SNE] Computed conditional probabilities for sample 44000 / 125479\n",
      "[t-SNE] Computed conditional probabilities for sample 45000 / 125479\n",
      "[t-SNE] Computed conditional probabilities for sample 46000 / 125479\n",
      "[t-SNE] Computed conditional probabilities for sample 47000 / 125479\n",
      "[t-SNE] Computed conditional probabilities for sample 48000 / 125479\n",
      "[t-SNE] Computed conditional probabilities for sample 49000 / 125479\n",
      "[t-SNE] Computed conditional probabilities for sample 50000 / 125479\n",
      "[t-SNE] Computed conditional probabilities for sample 51000 / 125479\n",
      "[t-SNE] Computed conditional probabilities for sample 52000 / 125479\n",
      "[t-SNE] Computed conditional probabilities for sample 53000 / 125479\n",
      "[t-SNE] Computed conditional probabilities for sample 54000 / 125479\n",
      "[t-SNE] Computed conditional probabilities for sample 55000 / 125479\n",
      "[t-SNE] Computed conditional probabilities for sample 56000 / 125479\n",
      "[t-SNE] Computed conditional probabilities for sample 57000 / 125479\n",
      "[t-SNE] Computed conditional probabilities for sample 58000 / 125479\n",
      "[t-SNE] Computed conditional probabilities for sample 59000 / 125479\n",
      "[t-SNE] Computed conditional probabilities for sample 60000 / 125479\n",
      "[t-SNE] Computed conditional probabilities for sample 61000 / 125479\n",
      "[t-SNE] Computed conditional probabilities for sample 62000 / 125479\n",
      "[t-SNE] Computed conditional probabilities for sample 63000 / 125479\n",
      "[t-SNE] Computed conditional probabilities for sample 64000 / 125479\n",
      "[t-SNE] Computed conditional probabilities for sample 65000 / 125479\n",
      "[t-SNE] Computed conditional probabilities for sample 66000 / 125479\n",
      "[t-SNE] Computed conditional probabilities for sample 67000 / 125479\n",
      "[t-SNE] Computed conditional probabilities for sample 68000 / 125479\n",
      "[t-SNE] Computed conditional probabilities for sample 69000 / 125479\n",
      "[t-SNE] Computed conditional probabilities for sample 70000 / 125479\n",
      "[t-SNE] Computed conditional probabilities for sample 71000 / 125479\n",
      "[t-SNE] Computed conditional probabilities for sample 72000 / 125479\n",
      "[t-SNE] Computed conditional probabilities for sample 73000 / 125479\n",
      "[t-SNE] Computed conditional probabilities for sample 74000 / 125479\n",
      "[t-SNE] Computed conditional probabilities for sample 75000 / 125479\n",
      "[t-SNE] Computed conditional probabilities for sample 76000 / 125479\n",
      "[t-SNE] Computed conditional probabilities for sample 77000 / 125479\n",
      "[t-SNE] Computed conditional probabilities for sample 78000 / 125479\n",
      "[t-SNE] Computed conditional probabilities for sample 79000 / 125479\n",
      "[t-SNE] Computed conditional probabilities for sample 80000 / 125479\n",
      "[t-SNE] Computed conditional probabilities for sample 81000 / 125479\n",
      "[t-SNE] Computed conditional probabilities for sample 82000 / 125479\n",
      "[t-SNE] Computed conditional probabilities for sample 83000 / 125479\n",
      "[t-SNE] Computed conditional probabilities for sample 84000 / 125479\n",
      "[t-SNE] Computed conditional probabilities for sample 85000 / 125479\n",
      "[t-SNE] Computed conditional probabilities for sample 86000 / 125479\n",
      "[t-SNE] Computed conditional probabilities for sample 87000 / 125479\n",
      "[t-SNE] Computed conditional probabilities for sample 88000 / 125479\n",
      "[t-SNE] Computed conditional probabilities for sample 89000 / 125479\n",
      "[t-SNE] Computed conditional probabilities for sample 90000 / 125479\n",
      "[t-SNE] Computed conditional probabilities for sample 91000 / 125479\n",
      "[t-SNE] Computed conditional probabilities for sample 92000 / 125479\n",
      "[t-SNE] Computed conditional probabilities for sample 93000 / 125479\n",
      "[t-SNE] Computed conditional probabilities for sample 94000 / 125479\n",
      "[t-SNE] Computed conditional probabilities for sample 95000 / 125479\n",
      "[t-SNE] Computed conditional probabilities for sample 96000 / 125479\n",
      "[t-SNE] Computed conditional probabilities for sample 97000 / 125479\n",
      "[t-SNE] Computed conditional probabilities for sample 98000 / 125479\n",
      "[t-SNE] Computed conditional probabilities for sample 99000 / 125479\n",
      "[t-SNE] Computed conditional probabilities for sample 100000 / 125479\n",
      "[t-SNE] Computed conditional probabilities for sample 101000 / 125479\n",
      "[t-SNE] Computed conditional probabilities for sample 102000 / 125479\n",
      "[t-SNE] Computed conditional probabilities for sample 103000 / 125479\n",
      "[t-SNE] Computed conditional probabilities for sample 104000 / 125479\n",
      "[t-SNE] Computed conditional probabilities for sample 105000 / 125479\n",
      "[t-SNE] Computed conditional probabilities for sample 106000 / 125479\n",
      "[t-SNE] Computed conditional probabilities for sample 107000 / 125479\n",
      "[t-SNE] Computed conditional probabilities for sample 108000 / 125479\n",
      "[t-SNE] Computed conditional probabilities for sample 109000 / 125479\n",
      "[t-SNE] Computed conditional probabilities for sample 110000 / 125479\n",
      "[t-SNE] Computed conditional probabilities for sample 111000 / 125479\n",
      "[t-SNE] Computed conditional probabilities for sample 112000 / 125479\n",
      "[t-SNE] Computed conditional probabilities for sample 113000 / 125479\n",
      "[t-SNE] Computed conditional probabilities for sample 114000 / 125479\n",
      "[t-SNE] Computed conditional probabilities for sample 115000 / 125479\n",
      "[t-SNE] Computed conditional probabilities for sample 116000 / 125479\n",
      "[t-SNE] Computed conditional probabilities for sample 117000 / 125479\n",
      "[t-SNE] Computed conditional probabilities for sample 118000 / 125479\n",
      "[t-SNE] Computed conditional probabilities for sample 119000 / 125479\n",
      "[t-SNE] Computed conditional probabilities for sample 120000 / 125479\n",
      "[t-SNE] Computed conditional probabilities for sample 121000 / 125479\n"
     ]
    },
    {
     "name": "stdout",
     "output_type": "stream",
     "text": [
      "[t-SNE] Computed conditional probabilities for sample 122000 / 125479\n",
      "[t-SNE] Computed conditional probabilities for sample 123000 / 125479\n",
      "[t-SNE] Computed conditional probabilities for sample 124000 / 125479\n",
      "[t-SNE] Computed conditional probabilities for sample 125000 / 125479\n",
      "[t-SNE] Computed conditional probabilities for sample 125479 / 125479\n",
      "[t-SNE] Mean sigma: 0.000000\n",
      "[t-SNE] KL divergence after 250 iterations with early exaggeration: 88.639572\n"
     ]
    }
   ],
   "source": [
    "from sklearn.manifold import TSNE\n",
    "\n",
    "time_start = time.time()\n",
    "\n",
    "tsne = TSNE(n_components=2, verbose=1, perplexity=40, n_iter=500)\n",
    "featureValues_std_pca_out_tsne = tsne.fit_transform(featureValues_std_pca_out)\n",
    "featureValues_std_pca_out_tsne = pd.DataFrame(featureValues_std_pca_out_tsne, columns=[\"1_tsne_comp\",\"1_tsne_comp\"])\n",
    "featureValues_std_pca_out_tsne.head()\n",
    "\n",
    "print('t-SNE done! Time elapsed: {} seconds'.format(time.time()-time_start))"
   ]
  },
  {
   "cell_type": "code",
   "execution_count": null,
   "metadata": {},
   "outputs": [],
   "source": [
    "# Plot Digits t-SNE\n",
    "import seaborn as sns\n",
    "\n",
    "# Set style of scatterplot\n",
    "sns.set_context(\"notebook\", font_scale=1.1)\n",
    "sns.set_style(\"ticks\")\n",
    "\n",
    "featureValues_std_pca_out_tsne[\"Label\"] = kmeans_opt.labels_\n",
    "featureValues_std_pca_out_tsne.columns = [\"x\", \"y\", \"Label\"]\n",
    "\n",
    "sns.lmplot(x='x',\n",
    "           y='y',\n",
    "           data=featureValues_std_pca_out_tsne,\n",
    "           fit_reg=False,\n",
    "           legend=True,\n",
    "           height=9,\n",
    "           hue='Label',\n",
    "           scatter_kws={\"s\":200, \"alpha\":0.3})\n",
    "\n",
    "\n",
    "plt.title('t-SNE Results:', weight='bold').set_fontsize('14')\n",
    "plt.xlabel('Prin Comp 1', weight='bold').set_fontsize('10')\n",
    "plt.ylabel('Prin Comp 2', weight='bold').set_fontsize('10')"
   ]
  },
  {
   "cell_type": "markdown",
   "metadata": {},
   "source": [
    "## PCA 3d Diagramm"
   ]
  },
  {
   "cell_type": "code",
   "execution_count": null,
   "metadata": {},
   "outputs": [],
   "source": [
    "from mpl_toolkits.mplot3d import Axes3D\n",
    "# To getter a better understanding of interaction of the dimensions\n",
    "# plot the first three PCA dimensions\n",
    "fig = plt.figure(1, figsize=(8, 6))\n",
    "ax = Axes3D(fig, elev=-150, azim=110)\n",
    "X_reduced = PCA(n_components=3).fit_transform(featureValues_out)\n",
    "ax.scatter(X_reduced[:, 0], X_reduced[:, 1], X_reduced[:, 2], c=kmeans_opt.labels_,\n",
    "           cmap=plt.cm.Set1, edgecolor='k', s=40)\n",
    "ax.set_title(\"First three PCA directions\")\n",
    "ax.set_xlabel(\"1st eigenvector\")\n",
    "ax.w_xaxis.set_ticklabels([])\n",
    "ax.set_ylabel(\"2nd eigenvector\")\n",
    "ax.w_yaxis.set_ticklabels([])\n",
    "ax.set_zlabel(\"3rd eigenvector\")\n",
    "ax.w_zaxis.set_ticklabels([])"
   ]
  },
  {
   "cell_type": "markdown",
   "metadata": {},
   "source": [
    "#### Radar Plots"
   ]
  },
  {
   "cell_type": "code",
   "execution_count": null,
   "metadata": {},
   "outputs": [],
   "source": []
  },
  {
   "cell_type": "markdown",
   "metadata": {},
   "source": [
    "# Verifiziere das Funktionieren des Entscheidungsmodells mit bekannten Adressen"
   ]
  },
  {
   "cell_type": "markdown",
   "metadata": {},
   "source": [
    "# Identifiziere die von den Clustern repräsentierten Nutzergruppen"
   ]
  },
  {
   "cell_type": "markdown",
   "metadata": {},
   "source": [
    "# Visualisiere die Interaktion zwischen den Clustern und interpretiere die Ergebnisse"
   ]
  },
  {
   "cell_type": "markdown",
   "metadata": {},
   "source": [
    "# Temporary stuff"
   ]
  },
  {
   "cell_type": "code",
   "execution_count": 430,
   "metadata": {},
   "outputs": [
    {
     "data": {
      "text/plain": [
       "[weiReceived                               6.933649e+18\n",
       " weiSent                                   7.570623e+18\n",
       " numberOfTranscationsReceived              2.854468e+00\n",
       " numberOfTranscationsSent                  2.644681e+00\n",
       " avgTimeDiffBetweenSentTransactions        1.933578e+05\n",
       " avgTimeDiffBetweenReceivedTransactions    1.915551e+05\n",
       " dtype: float64, weiReceived                               5.323625e+18\n",
       " weiSent                                   5.248085e+18\n",
       " numberOfTranscationsReceived              1.140950e+00\n",
       " numberOfTranscationsSent                  1.127341e+00\n",
       " avgTimeDiffBetweenSentTransactions        9.741412e+01\n",
       " avgTimeDiffBetweenReceivedTransactions    1.196589e+02\n",
       " dtype: float64, weiReceived                               1.918363e+19\n",
       " weiSent                                   1.819940e+19\n",
       " numberOfTranscationsReceived              4.398769e+00\n",
       " numberOfTranscationsSent                  4.790907e+00\n",
       " avgTimeDiffBetweenSentTransactions        9.796833e+03\n",
       " avgTimeDiffBetweenReceivedTransactions    1.082611e+04\n",
       " dtype: float64, weiReceived                               6.641167e+18\n",
       " weiSent                                   7.506420e+18\n",
       " numberOfTranscationsReceived              2.895775e+00\n",
       " numberOfTranscationsSent                  2.435010e+00\n",
       " avgTimeDiffBetweenSentTransactions        2.263832e+05\n",
       " avgTimeDiffBetweenReceivedTransactions    2.157029e+05\n",
       " dtype: float64, weiReceived                               1.810209e+19\n",
       " weiSent                                   1.754278e+19\n",
       " numberOfTranscationsReceived              3.994166e+00\n",
       " numberOfTranscationsSent                  4.416600e+00\n",
       " avgTimeDiffBetweenSentTransactions        2.251988e+04\n",
       " avgTimeDiffBetweenReceivedTransactions    2.221024e+04\n",
       " dtype: float64]"
      ]
     },
     "execution_count": 430,
     "metadata": {},
     "output_type": "execute_result"
    }
   ],
   "source": [
    "clusterMeans = []\n",
    "for i, center in enumerate(kmeans_opt.cluster_centers_):\n",
    "    within_cluster_featureValues = featureValues_out[kmeans_opt.labels_==i]\n",
    "    within_cluster_featureValues.columns = ['weiReceived', 'weiSent', 'numberOfTranscationsReceived', 'numberOfTranscationsSent', 'avgTimeDiffBetweenSentTransactions', 'avgTimeDiffBetweenReceivedTransactions']\n",
    "    clusterMeans.append(within_cluster_featureValues.mean())\n",
    "clusterMeans"
   ]
  },
  {
   "cell_type": "code",
   "execution_count": 460,
   "metadata": {},
   "outputs": [
    {
     "data": {
      "text/html": [
       "<div>\n",
       "<style scoped>\n",
       "    .dataframe tbody tr th:only-of-type {\n",
       "        vertical-align: middle;\n",
       "    }\n",
       "\n",
       "    .dataframe tbody tr th {\n",
       "        vertical-align: top;\n",
       "    }\n",
       "\n",
       "    .dataframe thead th {\n",
       "        text-align: right;\n",
       "    }\n",
       "</style>\n",
       "<table border=\"1\" class=\"dataframe\">\n",
       "  <thead>\n",
       "    <tr style=\"text-align: right;\">\n",
       "      <th></th>\n",
       "      <th>weiReceived</th>\n",
       "      <th>weiSent</th>\n",
       "      <th>numberOfTranscationsReceived</th>\n",
       "      <th>numberOfTranscationsSent</th>\n",
       "      <th>avgTimeDiffBetweenSentTransactions</th>\n",
       "      <th>avgTimeDiffBetweenReceivedTransactions</th>\n",
       "    </tr>\n",
       "  </thead>\n",
       "  <tbody>\n",
       "    <tr>\n",
       "      <th>0</th>\n",
       "      <td>0</td>\n",
       "      <td>5000000000000000000</td>\n",
       "      <td>47</td>\n",
       "      <td>1</td>\n",
       "      <td>0</td>\n",
       "      <td>10909.8</td>\n",
       "    </tr>\n",
       "    <tr>\n",
       "      <th>1</th>\n",
       "      <td>2194529286109153479</td>\n",
       "      <td>2194529280000000000</td>\n",
       "      <td>86</td>\n",
       "      <td>43</td>\n",
       "      <td>13962.7</td>\n",
       "      <td>6902.96</td>\n",
       "    </tr>\n",
       "    <tr>\n",
       "      <th>4</th>\n",
       "      <td>94010000000000000000</td>\n",
       "      <td>175000000000000000000</td>\n",
       "      <td>12</td>\n",
       "      <td>5</td>\n",
       "      <td>18229.5</td>\n",
       "      <td>6793.18</td>\n",
       "    </tr>\n",
       "    <tr>\n",
       "      <th>9</th>\n",
       "      <td>183950000000000000000</td>\n",
       "      <td>183950000000000000000</td>\n",
       "      <td>43</td>\n",
       "      <td>43</td>\n",
       "      <td>14115.5</td>\n",
       "      <td>14115.5</td>\n",
       "    </tr>\n",
       "    <tr>\n",
       "      <th>11</th>\n",
       "      <td>2267000000000000000</td>\n",
       "      <td>1729477609512207807</td>\n",
       "      <td>18</td>\n",
       "      <td>77</td>\n",
       "      <td>2327.33</td>\n",
       "      <td>10404.5</td>\n",
       "    </tr>\n",
       "    <tr>\n",
       "      <th>...</th>\n",
       "      <td>...</td>\n",
       "      <td>...</td>\n",
       "      <td>...</td>\n",
       "      <td>...</td>\n",
       "      <td>...</td>\n",
       "      <td>...</td>\n",
       "    </tr>\n",
       "    <tr>\n",
       "      <th>121143</th>\n",
       "      <td>114910000000000000000</td>\n",
       "      <td>114858110000000000000</td>\n",
       "      <td>7</td>\n",
       "      <td>7</td>\n",
       "      <td>11538.2</td>\n",
       "      <td>11552.7</td>\n",
       "    </tr>\n",
       "    <tr>\n",
       "      <th>121147</th>\n",
       "      <td>11897586000000000000</td>\n",
       "      <td>11886102700000000000</td>\n",
       "      <td>7</td>\n",
       "      <td>4</td>\n",
       "      <td>17764.3</td>\n",
       "      <td>9241.67</td>\n",
       "    </tr>\n",
       "    <tr>\n",
       "      <th>121150</th>\n",
       "      <td>21409200000000000000</td>\n",
       "      <td>21031690000000000000</td>\n",
       "      <td>7</td>\n",
       "      <td>2</td>\n",
       "      <td>1137</td>\n",
       "      <td>10058</td>\n",
       "    </tr>\n",
       "    <tr>\n",
       "      <th>121153</th>\n",
       "      <td>15340000000000000000</td>\n",
       "      <td>8879424000000000000</td>\n",
       "      <td>7</td>\n",
       "      <td>1</td>\n",
       "      <td>0</td>\n",
       "      <td>12094</td>\n",
       "    </tr>\n",
       "    <tr>\n",
       "      <th>121154</th>\n",
       "      <td>75671100000000000000</td>\n",
       "      <td>75669420000000000000</td>\n",
       "      <td>7</td>\n",
       "      <td>4</td>\n",
       "      <td>16686.7</td>\n",
       "      <td>8396.67</td>\n",
       "    </tr>\n",
       "  </tbody>\n",
       "</table>\n",
       "<p>4223 rows × 6 columns</p>\n",
       "</div>"
      ],
      "text/plain": [
       "                  weiReceived                weiSent  \\\n",
       "0                           0    5000000000000000000   \n",
       "1         2194529286109153479    2194529280000000000   \n",
       "4        94010000000000000000  175000000000000000000   \n",
       "9       183950000000000000000  183950000000000000000   \n",
       "11        2267000000000000000    1729477609512207807   \n",
       "...                       ...                    ...   \n",
       "121143  114910000000000000000  114858110000000000000   \n",
       "121147   11897586000000000000   11886102700000000000   \n",
       "121150   21409200000000000000   21031690000000000000   \n",
       "121153   15340000000000000000    8879424000000000000   \n",
       "121154   75671100000000000000   75669420000000000000   \n",
       "\n",
       "       numberOfTranscationsReceived numberOfTranscationsSent  \\\n",
       "0                                47                        1   \n",
       "1                                86                       43   \n",
       "4                                12                        5   \n",
       "9                                43                       43   \n",
       "11                               18                       77   \n",
       "...                             ...                      ...   \n",
       "121143                            7                        7   \n",
       "121147                            7                        4   \n",
       "121150                            7                        2   \n",
       "121153                            7                        1   \n",
       "121154                            7                        4   \n",
       "\n",
       "       avgTimeDiffBetweenSentTransactions  \\\n",
       "0                                       0   \n",
       "1                                 13962.7   \n",
       "4                                 18229.5   \n",
       "9                                 14115.5   \n",
       "11                                2327.33   \n",
       "...                                   ...   \n",
       "121143                            11538.2   \n",
       "121147                            17764.3   \n",
       "121150                               1137   \n",
       "121153                                  0   \n",
       "121154                            16686.7   \n",
       "\n",
       "       avgTimeDiffBetweenReceivedTransactions  \n",
       "0                                     10909.8  \n",
       "1                                     6902.96  \n",
       "4                                     6793.18  \n",
       "9                                     14115.5  \n",
       "11                                    10404.5  \n",
       "...                                       ...  \n",
       "121143                                11552.7  \n",
       "121147                                9241.67  \n",
       "121150                                  10058  \n",
       "121153                                  12094  \n",
       "121154                                8396.67  \n",
       "\n",
       "[4223 rows x 6 columns]"
      ]
     },
     "execution_count": 460,
     "metadata": {},
     "output_type": "execute_result"
    }
   ],
   "source": [
    " within_cluster_featureValues = featureValues_out[kmeans_opt.labels_==2]\n",
    "within_cluster_featureValues.columns = ['weiReceived', 'weiSent', 'numberOfTranscationsReceived', 'numberOfTranscationsSent', 'avgTimeDiffBetweenSentTransactions', 'avgTimeDiffBetweenReceivedTransactions']\n",
    "within_cluster_featureValues"
   ]
  },
  {
   "cell_type": "code",
   "execution_count": 456,
   "metadata": {},
   "outputs": [
    {
     "data": {
      "text/plain": [
       "weiReceived                               6.933649e+18\n",
       "weiSent                                   7.570623e+18\n",
       "numberOfTranscationsReceived              2.854468e+00\n",
       "numberOfTranscationsSent                  2.644681e+00\n",
       "avgTimeDiffBetweenSentTransactions        1.933578e+05\n",
       "avgTimeDiffBetweenReceivedTransactions    1.915551e+05\n",
       "dtype: float64"
      ]
     },
     "metadata": {},
     "output_type": "display_data"
    },
    {
     "data": {
      "text/plain": [
       "<matplotlib.axes._subplots.AxesSubplot at 0x7fa4a41297b8>"
      ]
     },
     "execution_count": 456,
     "metadata": {},
     "output_type": "execute_result"
    },
    {
     "data": {
      "image/png": "[encoded data removed]",
      "text/plain": [
       "<Figure size 432x288 with 1 Axes>"
      ]
     },
     "metadata": {
      "needs_background": "light"
     },
     "output_type": "display_data"
    }
   ],
   "source": [
    "import numpy as np\n",
    "import matplotlib.pyplot as plt\n",
    "plt.style.use('seaborn-deep')\n",
    "\n",
    "display(clusterMeans[0])\n",
    "x = np.array(clusterMeans[0])\n",
    "clusterMeans[0].plot.bar()"
   ]
  },
  {
   "cell_type": "code",
   "execution_count": 439,
   "metadata": {},
   "outputs": [
    {
     "data": {
      "image/png": "[encoded data removed]",
      "text/plain": [
       "<Figure size 432x288 with 1 Axes>"
      ]
     },
     "metadata": {
      "needs_background": "light"
     },
     "output_type": "display_data"
    }
   ],
   "source": [
    "import numpy as np\n",
    "import matplotlib.pyplot as plt\n",
    "plt.style.use('seaborn-deep')\n",
    "\n",
    "x = np.random.normal(1, 2, 5000)\n",
    "y = np.random.normal(-1, 3, 2000)\n",
    "\n",
    "bins = np.linspace(-10, 10, 30)\n",
    "\n",
    "plt.hist([x, y], bins, label=['x', 'y'])\n",
    "plt.legend(loc='upper right')\n",
    "plt.show()"
   ]
  },
  {
   "cell_type": "code",
   "execution_count": null,
   "metadata": {},
   "outputs": [],
   "source": [
    "featureValues_out[]"
   ]
  },
  {
   "cell_type": "code",
   "execution_count": null,
   "metadata": {},
   "outputs": [],
   "source": []
  },
  {
   "cell_type": "code",
   "execution_count": null,
   "metadata": {},
   "outputs": [],
   "source": []
  },
  {
   "cell_type": "code",
   "execution_count": null,
   "metadata": {},
   "outputs": [],
   "source": []
  },
  {
   "cell_type": "code",
   "execution_count": null,
   "metadata": {},
   "outputs": [],
   "source": []
  },
  {
   "cell_type": "code",
   "execution_count": null,
   "metadata": {},
   "outputs": [],
   "source": []
  }
 ],
 "metadata": {
  "kernelspec": {
   "display_name": "ethclusterkernel",
   "language": "python",
   "name": "ethclusterkernel"
  },
  "language_info": {
   "codemirror_mode": {
    "name": "ipython",
    "version": 3
   },
   "file_extension": ".py",
   "mimetype": "text/x-python",
   "name": "python",
   "nbconvert_exporter": "python",
   "pygments_lexer": "ipython3",
   "version": "3.6.8"
  }
 },
 "nbformat": 4,
 "nbformat_minor": 2
}

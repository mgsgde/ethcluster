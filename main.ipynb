{
 "cells": [
  {
   "cell_type": "code",
   "execution_count": 9,
   "metadata": {},
   "outputs": [
    {
     "name": "stdout",
     "output_type": "stream",
     "text": [
      "env: GOOGLE_APPLICATION_CREDENTIALS=./bigquery-service-account.json\n"
     ]
    }
   ],
   "source": [
    "import pandas as pd\n",
    "import numpy as np\n",
    "import seaborn as sns\n",
    "from sklearn.cluster import KMeans\n",
    "from sklearn.preprocessing import LabelEncoder\n",
    "from sklearn.preprocessing import MinMaxScaler\n",
    "import matplotlib.pyplot as plt\n",
    "from sklearn.decomposition import PCA\n",
    "from sklearn.preprocessing import StandardScaler\n",
    "from google.cloud import bigquery\n",
    "import time\n",
    "from sklearn import metrics\n",
    "from sklearn.metrics import pairwise_distances\n",
    "%env GOOGLE_APPLICATION_CREDENTIALS=./bigquery-service-account.json \n",
    "client = bigquery.Client()"
   ]
  },
  {
   "cell_type": "markdown",
   "metadata": {},
   "source": [
    "# Adress-Merkmal Datensatz erstellen"
   ]
  },
  {
   "cell_type": "code",
   "execution_count": 10,
   "metadata": {},
   "outputs": [
    {
     "name": "stdout",
     "output_type": "stream",
     "text": [
      "17.294569969177246\n"
     ]
    }
   ],
   "source": [
    "query_job = client.query(\"SELECT * from `masterarbeit-245718.ethereum_us.top40k_week1777_features`\")\n",
    "start = time.time()\n",
    "retrievedData = query_job.result().to_dataframe()  # Waits for job to complete.\n",
    "done = time.time()\n",
    "elapsed = done - start\n",
    "print(elapsed)"
   ]
  },
  {
   "cell_type": "code",
   "execution_count": 11,
   "metadata": {},
   "outputs": [
    {
     "data": {
      "text/html": [
       "<div>\n",
       "<style scoped>\n",
       "    .dataframe tbody tr th:only-of-type {\n",
       "        vertical-align: middle;\n",
       "    }\n",
       "\n",
       "    .dataframe tbody tr th {\n",
       "        vertical-align: top;\n",
       "    }\n",
       "\n",
       "    .dataframe thead th {\n",
       "        text-align: right;\n",
       "    }\n",
       "</style>\n",
       "<table border=\"1\" class=\"dataframe\">\n",
       "  <thead>\n",
       "    <tr style=\"text-align: right;\">\n",
       "      <th></th>\n",
       "      <th>address</th>\n",
       "      <th>weiReceived</th>\n",
       "      <th>weiSent</th>\n",
       "      <th>numberOfTranscationsReceived</th>\n",
       "      <th>numberOfTranscationsSent</th>\n",
       "      <th>avgTimeDiffBetweenSentTransactions</th>\n",
       "      <th>avgTimeDiffBetweenReceivedTransactions</th>\n",
       "    </tr>\n",
       "  </thead>\n",
       "  <tbody>\n",
       "    <tr>\n",
       "      <th>0</th>\n",
       "      <td>0xfbb1b73c4f0bda4f67dca266ce6ef42f520fbb98</td>\n",
       "      <td>52757990803363109075085</td>\n",
       "      <td>37972196194020000000000</td>\n",
       "      <td>14330</td>\n",
       "      <td>33393</td>\n",
       "      <td>18.109966</td>\n",
       "      <td>42.197990</td>\n",
       "    </tr>\n",
       "    <tr>\n",
       "      <th>1</th>\n",
       "      <td>0x5d154c145db2ca90b8ab5e8fe3e716afa4ab7ff0</td>\n",
       "      <td>5175350560981998478942</td>\n",
       "      <td>5244975800350778401905</td>\n",
       "      <td>8336</td>\n",
       "      <td>22497</td>\n",
       "      <td>26.876245</td>\n",
       "      <td>72.538452</td>\n",
       "    </tr>\n",
       "    <tr>\n",
       "      <th>2</th>\n",
       "      <td>0x9ae49c0d7f8f9ef4b864e004fe86ac8294e20950</td>\n",
       "      <td>19370258531717665804498</td>\n",
       "      <td>23053671968774623536152</td>\n",
       "      <td>4077</td>\n",
       "      <td>30782</td>\n",
       "      <td>19.644359</td>\n",
       "      <td>148.188911</td>\n",
       "    </tr>\n",
       "    <tr>\n",
       "      <th>3</th>\n",
       "      <td>0xbd6d79f3f02584cfcb754437ac6776c4c6e0a0ec</td>\n",
       "      <td>3564148762741827354478</td>\n",
       "      <td>2470600314900000000000</td>\n",
       "      <td>785</td>\n",
       "      <td>5515</td>\n",
       "      <td>109.364527</td>\n",
       "      <td>753.126276</td>\n",
       "    </tr>\n",
       "    <tr>\n",
       "      <th>4</th>\n",
       "      <td>0xff3c260f2391a5a936df3b693b2590045ce62d62</td>\n",
       "      <td>221741486600000000000</td>\n",
       "      <td>425797346240000000000</td>\n",
       "      <td>65</td>\n",
       "      <td>422</td>\n",
       "      <td>1432.128266</td>\n",
       "      <td>8785.468750</td>\n",
       "    </tr>\n",
       "  </tbody>\n",
       "</table>\n",
       "</div>"
      ],
      "text/plain": [
       "                                      address              weiReceived  \\\n",
       "0  0xfbb1b73c4f0bda4f67dca266ce6ef42f520fbb98  52757990803363109075085   \n",
       "1  0x5d154c145db2ca90b8ab5e8fe3e716afa4ab7ff0   5175350560981998478942   \n",
       "2  0x9ae49c0d7f8f9ef4b864e004fe86ac8294e20950  19370258531717665804498   \n",
       "3  0xbd6d79f3f02584cfcb754437ac6776c4c6e0a0ec   3564148762741827354478   \n",
       "4  0xff3c260f2391a5a936df3b693b2590045ce62d62    221741486600000000000   \n",
       "\n",
       "                   weiSent  numberOfTranscationsReceived  \\\n",
       "0  37972196194020000000000                         14330   \n",
       "1   5244975800350778401905                          8336   \n",
       "2  23053671968774623536152                          4077   \n",
       "3   2470600314900000000000                           785   \n",
       "4    425797346240000000000                            65   \n",
       "\n",
       "   numberOfTranscationsSent  avgTimeDiffBetweenSentTransactions  \\\n",
       "0                     33393                           18.109966   \n",
       "1                     22497                           26.876245   \n",
       "2                     30782                           19.644359   \n",
       "3                      5515                          109.364527   \n",
       "4                       422                         1432.128266   \n",
       "\n",
       "   avgTimeDiffBetweenReceivedTransactions  \n",
       "0                               42.197990  \n",
       "1                               72.538452  \n",
       "2                              148.188911  \n",
       "3                              753.126276  \n",
       "4                             8785.468750  "
      ]
     },
     "execution_count": 11,
     "metadata": {},
     "output_type": "execute_result"
    }
   ],
   "source": [
    "results = retrievedData.copy()\n",
    "results.head()"
   ]
  },
  {
   "cell_type": "code",
   "execution_count": 9,
   "metadata": {},
   "outputs": [
    {
     "name": "stdout",
     "output_type": "stream",
     "text": [
      "Size of the account feature dataset: 9.58476 Megabytes\n"
     ]
    }
   ],
   "source": [
    "m = results.memory_usage()\n",
    "totalBytes = 0\n",
    "\n",
    "for bytes_ in m:\n",
    "    totalBytes = totalBytes + bytes_\n",
    "    \n",
    "print(\"Size of the account feature dataset:\",totalBytes/10**6, \"Megabytes\")"
   ]
  },
  {
   "cell_type": "markdown",
   "metadata": {},
   "source": [
    "# Merkmalsausprägungen standardisieren, so dass Mittelwert und Standardabweichung für alle Merkmale gleich sind "
   ]
  },
  {
   "cell_type": "code",
   "execution_count": 14,
   "metadata": {},
   "outputs": [
    {
     "data": {
      "text/html": [
       "<div>\n",
       "<style scoped>\n",
       "    .dataframe tbody tr th:only-of-type {\n",
       "        vertical-align: middle;\n",
       "    }\n",
       "\n",
       "    .dataframe tbody tr th {\n",
       "        vertical-align: top;\n",
       "    }\n",
       "\n",
       "    .dataframe thead th {\n",
       "        text-align: right;\n",
       "    }\n",
       "</style>\n",
       "<table border=\"1\" class=\"dataframe\">\n",
       "  <thead>\n",
       "    <tr style=\"text-align: right;\">\n",
       "      <th></th>\n",
       "      <th>weiReceived</th>\n",
       "      <th>weiSent</th>\n",
       "      <th>numberOfTranscationsReceived</th>\n",
       "      <th>numberOfTranscationsSent</th>\n",
       "      <th>avgTimeDiffBetweenSentTransactions</th>\n",
       "      <th>avgTimeDiffBetweenReceivedTransactions</th>\n",
       "    </tr>\n",
       "  </thead>\n",
       "  <tbody>\n",
       "    <tr>\n",
       "      <th>0</th>\n",
       "      <td>52757990803363109075085</td>\n",
       "      <td>37972196194020000000000</td>\n",
       "      <td>14330</td>\n",
       "      <td>33393</td>\n",
       "      <td>18.109966</td>\n",
       "      <td>42.197990</td>\n",
       "    </tr>\n",
       "    <tr>\n",
       "      <th>1</th>\n",
       "      <td>5175350560981998478942</td>\n",
       "      <td>5244975800350778401905</td>\n",
       "      <td>8336</td>\n",
       "      <td>22497</td>\n",
       "      <td>26.876245</td>\n",
       "      <td>72.538452</td>\n",
       "    </tr>\n",
       "    <tr>\n",
       "      <th>2</th>\n",
       "      <td>19370258531717665804498</td>\n",
       "      <td>23053671968774623536152</td>\n",
       "      <td>4077</td>\n",
       "      <td>30782</td>\n",
       "      <td>19.644359</td>\n",
       "      <td>148.188911</td>\n",
       "    </tr>\n",
       "    <tr>\n",
       "      <th>3</th>\n",
       "      <td>3564148762741827354478</td>\n",
       "      <td>2470600314900000000000</td>\n",
       "      <td>785</td>\n",
       "      <td>5515</td>\n",
       "      <td>109.364527</td>\n",
       "      <td>753.126276</td>\n",
       "    </tr>\n",
       "    <tr>\n",
       "      <th>4</th>\n",
       "      <td>221741486600000000000</td>\n",
       "      <td>425797346240000000000</td>\n",
       "      <td>65</td>\n",
       "      <td>422</td>\n",
       "      <td>1432.128266</td>\n",
       "      <td>8785.468750</td>\n",
       "    </tr>\n",
       "  </tbody>\n",
       "</table>\n",
       "</div>"
      ],
      "text/plain": [
       "               weiReceived                  weiSent  \\\n",
       "0  52757990803363109075085  37972196194020000000000   \n",
       "1   5175350560981998478942   5244975800350778401905   \n",
       "2  19370258531717665804498  23053671968774623536152   \n",
       "3   3564148762741827354478   2470600314900000000000   \n",
       "4    221741486600000000000    425797346240000000000   \n",
       "\n",
       "   numberOfTranscationsReceived  numberOfTranscationsSent  \\\n",
       "0                         14330                     33393   \n",
       "1                          8336                     22497   \n",
       "2                          4077                     30782   \n",
       "3                           785                      5515   \n",
       "4                            65                       422   \n",
       "\n",
       "   avgTimeDiffBetweenSentTransactions  avgTimeDiffBetweenReceivedTransactions  \n",
       "0                           18.109966                               42.197990  \n",
       "1                           26.876245                               72.538452  \n",
       "2                           19.644359                              148.188911  \n",
       "3                          109.364527                              753.126276  \n",
       "4                         1432.128266                             8785.468750  "
      ]
     },
     "execution_count": 14,
     "metadata": {},
     "output_type": "execute_result"
    }
   ],
   "source": [
    "featureNames = ['weiReceived', 'weiSent', 'numberOfTranscationsReceived', 'numberOfTranscationsSent', 'avgTimeDiffBetweenSentTransactions', 'avgTimeDiffBetweenReceivedTransactions']\n",
    "featureValues = results.loc[:,featureNames]\n",
    "featureValues.head()"
   ]
  },
  {
   "cell_type": "code",
   "execution_count": 36,
   "metadata": {},
   "outputs": [
    {
     "data": {
      "text/html": [
       "<div>\n",
       "<style scoped>\n",
       "    .dataframe tbody tr th:only-of-type {\n",
       "        vertical-align: middle;\n",
       "    }\n",
       "\n",
       "    .dataframe tbody tr th {\n",
       "        vertical-align: top;\n",
       "    }\n",
       "\n",
       "    .dataframe thead th {\n",
       "        text-align: right;\n",
       "    }\n",
       "</style>\n",
       "<table border=\"1\" class=\"dataframe\">\n",
       "  <thead>\n",
       "    <tr style=\"text-align: right;\">\n",
       "      <th></th>\n",
       "      <th>weiReceived</th>\n",
       "      <th>weiSent</th>\n",
       "      <th>numberOfTranscationsReceived</th>\n",
       "      <th>numberOfTranscationsSent</th>\n",
       "      <th>avgTimeDiffBetweenSentTransactions</th>\n",
       "      <th>avgTimeDiffBetweenReceivedTransactions</th>\n",
       "    </tr>\n",
       "  </thead>\n",
       "  <tbody>\n",
       "    <tr>\n",
       "      <th>0</th>\n",
       "      <td>21.546644</td>\n",
       "      <td>16.154493</td>\n",
       "      <td>38.485732</td>\n",
       "      <td>70.758603</td>\n",
       "      <td>-0.440679</td>\n",
       "      <td>-0.457151</td>\n",
       "    </tr>\n",
       "    <tr>\n",
       "      <th>1</th>\n",
       "      <td>2.092973</td>\n",
       "      <td>2.210745</td>\n",
       "      <td>22.379294</td>\n",
       "      <td>47.663649</td>\n",
       "      <td>-0.440580</td>\n",
       "      <td>-0.456809</td>\n",
       "    </tr>\n",
       "    <tr>\n",
       "      <th>2</th>\n",
       "      <td>7.896415</td>\n",
       "      <td>9.798311</td>\n",
       "      <td>10.934964</td>\n",
       "      <td>65.224377</td>\n",
       "      <td>-0.440661</td>\n",
       "      <td>-0.455956</td>\n",
       "    </tr>\n",
       "    <tr>\n",
       "      <th>3</th>\n",
       "      <td>1.434250</td>\n",
       "      <td>1.028695</td>\n",
       "      <td>2.089053</td>\n",
       "      <td>11.668924</td>\n",
       "      <td>-0.439654</td>\n",
       "      <td>-0.449140</td>\n",
       "    </tr>\n",
       "    <tr>\n",
       "      <th>4</th>\n",
       "      <td>0.067742</td>\n",
       "      <td>0.157487</td>\n",
       "      <td>0.154346</td>\n",
       "      <td>0.873898</td>\n",
       "      <td>-0.424803</td>\n",
       "      <td>-0.358632</td>\n",
       "    </tr>\n",
       "  </tbody>\n",
       "</table>\n",
       "</div>"
      ],
      "text/plain": [
       "   weiReceived    weiSent  numberOfTranscationsReceived  \\\n",
       "0    21.546644  16.154493                     38.485732   \n",
       "1     2.092973   2.210745                     22.379294   \n",
       "2     7.896415   9.798311                     10.934964   \n",
       "3     1.434250   1.028695                      2.089053   \n",
       "4     0.067742   0.157487                      0.154346   \n",
       "\n",
       "   numberOfTranscationsSent  avgTimeDiffBetweenSentTransactions  \\\n",
       "0                 70.758603                           -0.440679   \n",
       "1                 47.663649                           -0.440580   \n",
       "2                 65.224377                           -0.440661   \n",
       "3                 11.668924                           -0.439654   \n",
       "4                  0.873898                           -0.424803   \n",
       "\n",
       "   avgTimeDiffBetweenReceivedTransactions  \n",
       "0                               -0.457151  \n",
       "1                               -0.456809  \n",
       "2                               -0.455956  \n",
       "3                               -0.449140  \n",
       "4                               -0.358632  "
      ]
     },
     "execution_count": 36,
     "metadata": {},
     "output_type": "execute_result"
    }
   ],
   "source": [
    "scaler = StandardScaler(copy=True, with_mean=True, with_std=True)\n",
    "featureValuesStandardised= scaler.fit_transform(featureValues)\n",
    "featureValuesStandardised = pd.DataFrame(featureValuesStandardised, columns=features)\n",
    "featureValuesStandardised.head()"
   ]
  },
  {
   "cell_type": "markdown",
   "metadata": {},
   "source": [
    "# Via Principal Component Analyse die Anzahl der Dimensionen der Datenpunkten für das k-means Clustering Verfahren minimieren "
   ]
  },
  {
   "cell_type": "markdown",
   "metadata": {},
   "source": [
    "**Frage:** Wie viel Varianz sollte von der Teilmenge der Principal Components, welche die meiste Varianz erklären, mindestens erklärt werden? Im Folgenden treffe ich die Annahme, dass 80% ausreicht."
   ]
  },
  {
   "cell_type": "code",
   "execution_count": 37,
   "metadata": {},
   "outputs": [
    {
     "data": {
      "text/plain": [
       "array([0.39862491, 0.66777379, 0.81966772, 0.93250518, 0.99665139,\n",
       "       1.        ])"
      ]
     },
     "execution_count": 37,
     "metadata": {},
     "output_type": "execute_result"
    }
   ],
   "source": [
    "pca2 = PCA(n_components=6)\n",
    "pca2.fit(featureValuesStandardised)\n",
    "pca2.explained_variance_ratio_\n",
    "np.cumsum(pca2.explained_variance_ratio_)"
   ]
  },
  {
   "cell_type": "code",
   "execution_count": 38,
   "metadata": {},
   "outputs": [
    {
     "data": {
      "text/plain": [
       "Text(0.5, 0, 'Principal Components')"
      ]
     },
     "execution_count": 38,
     "metadata": {},
     "output_type": "execute_result"
    },
    {
     "data": {
      "image/png": "[encoded data removed]",
      "text/plain": [
       "<Figure size 576x576 with 1 Axes>"
      ]
     },
     "metadata": {
      "needs_background": "light"
     },
     "output_type": "display_data"
    }
   ],
   "source": [
    "fig = plt.figure(figsize = (8,8))\n",
    "ax = fig.add_subplot(1,1,1)\n",
    "plt.bar([1,2,3,4,5,6], np.cumsum(pca2.explained_variance_ratio_))\n",
    "ax.set_ylabel('Cumulative Explained Variance')\n",
    "ax.set_xlabel('Principal Components')"
   ]
  },
  {
   "cell_type": "code",
   "execution_count": 66,
   "metadata": {},
   "outputs": [
    {
     "name": "stdout",
     "output_type": "stream",
     "text": [
      "Die 4 ersten Komponenten erklären mehr als 80.0 % der Varianz.\n"
     ]
    }
   ],
   "source": [
    "numberOfPCAComponents = 0\n",
    "explainedVarianceTargetValue = 0.8\n",
    "for i in np.cumsum(pca2.explained_variance_ratio_):\n",
    "    numberOfPCAComponents = numberOfComponents + 1\n",
    "    if i > explainedVarianceTargetValue:\n",
    "        print(\"Die\",numberOfPCAComponents,\"ersten Komponenten erklären mehr als\",explainedVarianceTargetValue * 100,\"% der Varianz.\")\n",
    "        break"
   ]
  },
  {
   "cell_type": "code",
   "execution_count": 74,
   "metadata": {},
   "outputs": [],
   "source": [
    "pca = PCA(n_components=numberOfPCAComponents)\n",
    "featureValuesStandardisedAndTransformed = pca.fit_transform(featureValuesStandardised)"
   ]
  },
  {
   "cell_type": "markdown",
   "metadata": {},
   "source": [
    "# Die Anzahl der Cluster bestimmen"
   ]
  },
  {
   "cell_type": "markdown",
   "metadata": {},
   "source": [
    "**Frage:** Soll ich hier schon die nach PCA transformierten feature values verwenden? Im Folgenden treffe ich die Annahme, dass die nach PCA transformierten feature values verwendet werden sollten."
   ]
  },
  {
   "cell_type": "code",
   "execution_count": 73,
   "metadata": {},
   "outputs": [
    {
     "data": {
      "text/plain": [
       "[<matplotlib.lines.Line2D at 0x7f45e10a1e10>]"
      ]
     },
     "execution_count": 73,
     "metadata": {},
     "output_type": "execute_result"
    },
    {
     "data": {
      "image/png": "[encoded data removed]",
      "text/plain": [
       "<Figure size 432x288 with 1 Axes>"
      ]
     },
     "metadata": {
      "needs_background": "light"
     },
     "output_type": "display_data"
    }
   ],
   "source": [
    "scores = []\n",
    "numberOfCluster = []\n",
    "\n",
    "for i in range(2,30,1):\n",
    "    kmeans = KMeans(n_clusters=i)\n",
    "    kmeans.fit(featureValuesStandardisedAndTransformed)\n",
    "    numberOfCluster.append(i)\n",
    "    scores.append(metrics.calinski_harabasz_score(featureValues, kmeans.labels_))  \n",
    "\n",
    "plt.plot(numberOfCluster, scores)"
   ]
  },
  {
   "cell_type": "code",
   "execution_count": 79,
   "metadata": {},
   "outputs": [
    {
     "name": "stdout",
     "output_type": "stream",
     "text": [
      "Based on calinski_harabasz_score the number of clusters should be 22\n"
     ]
    }
   ],
   "source": [
    "print(\"Based on calinski_harabasz_score the number of clusters should be\", numberOfCluster[np.argmax(scores)])"
   ]
  },
  {
   "cell_type": "markdown",
   "metadata": {},
   "source": [
    "# Ausreißer eliminieren"
   ]
  },
  {
   "cell_type": "markdown",
   "metadata": {},
   "source": [
    "# Berechnung und Visualisierung des Entscheidungsmodells via kmeans Cluster Analyse Verfahren "
   ]
  },
  {
   "cell_type": "markdown",
   "metadata": {},
   "source": [
    "# Verifiziere das Funktionieren des Entscheidungsmodells mit bekannten Adressen"
   ]
  },
  {
   "cell_type": "markdown",
   "metadata": {},
   "source": [
    "# Identifiziere die von den Clustern repräsentierten Nutzergruppen"
   ]
  },
  {
   "cell_type": "markdown",
   "metadata": {},
   "source": [
    "# Visualisiere die Interaktion zwischen den Clustern und interpretiere die Ergebnisse"
   ]
  },
  {
   "cell_type": "markdown",
   "metadata": {},
   "source": [
    "# Temporary stuff"
   ]
  },
  {
   "cell_type": "code",
   "execution_count": 9,
   "metadata": {},
   "outputs": [
    {
     "data": {
      "text/plain": [
       "KMeans(algorithm='auto', copy_x=True, init='k-means++', max_iter=300,\n",
       "       n_clusters=5, n_init=10, n_jobs=None, precompute_distances='auto',\n",
       "       random_state=None, tol=0.0001, verbose=0)"
      ]
     },
     "execution_count": 9,
     "metadata": {},
     "output_type": "execute_result"
    }
   ],
   "source": [
    "kmeans = KMeans(n_clusters=5) \n",
    "kmeans.fit(x_transformed)"
   ]
  },
  {
   "cell_type": "code",
   "execution_count": 10,
   "metadata": {},
   "outputs": [
    {
     "data": {
      "text/plain": [
       "KMeans(algorithm='auto', copy_x=True, init='k-means++', max_iter=300,\n",
       "       n_clusters=5, n_init=10, n_jobs=None, precompute_distances='auto',\n",
       "       random_state=None, tol=0.0001, verbose=0)"
      ]
     },
     "execution_count": 10,
     "metadata": {},
     "output_type": "execute_result"
    }
   ],
   "source": [
    "kmeans = KMeans(n_clusters=5) \n",
    "pca = PCA(n_components=3)\n",
    "kmeans.fit(pca.fit_transform(x_transformed))"
   ]
  },
  {
   "cell_type": "code",
   "execution_count": 11,
   "metadata": {
    "scrolled": false
   },
   "outputs": [
    {
     "data": {
      "text/plain": [
       "<matplotlib.collections.PathCollection at 0x7f10d93b9eb8>"
      ]
     },
     "execution_count": 11,
     "metadata": {},
     "output_type": "execute_result"
    },
    {
     "data": {
      "image/png": "[encoded data removed]",
      "text/plain": [
       "<Figure size 720x720 with 1 Axes>"
      ]
     },
     "metadata": {
      "needs_background": "light"
     },
     "output_type": "display_data"
    }
   ],
   "source": [
    "pca1 = PCA(n_components=2)\n",
    "principalDf = pd.DataFrame(pca1.fit_transform(x_transformed), columns=[\"principal component 1\", \"principal component 2\"])\n",
    "fig = plt.figure(figsize = (10,10))\n",
    "ax = fig.add_subplot(1,1,1)\n",
    "ax.set_xlabel('Principal Component 1', fontsize = 15)\n",
    "ax.set_ylabel('Principal Component 2', fontsize = 15)\n",
    "ax.scatter(principalDf.loc[:,'principal component 1'], principalDf.loc[:,'principal component 2'], s = 50, c=kmeans.labels_)"
   ]
  },
  {
   "cell_type": "code",
   "execution_count": 12,
   "metadata": {},
   "outputs": [
    {
     "data": {
      "text/plain": [
       "Text(0.5, 0, 'Principal Component 3')"
      ]
     },
     "execution_count": 12,
     "metadata": {},
     "output_type": "execute_result"
    },
    {
     "data": {
      "image/png": "[encoded data removed]",
      "text/plain": [
       "<Figure size 720x720 with 1 Axes>"
      ]
     },
     "metadata": {
      "needs_background": "light"
     },
     "output_type": "display_data"
    }
   ],
   "source": [
    "from mpl_toolkits import mplot3d\n",
    "plt.figure(figsize=(10,10))\n",
    "ax = plt.axes(projection='3d')\n",
    "pca3 = PCA(n_components=3)\n",
    "principalDf = pd.DataFrame(pca3.fit_transform(x_transformed), columns=[\"principal component 1\", \"principal component 2\", \"principal component 3\"])\n",
    "ax.scatter3D(principalDf.loc[:,'principal component 1'], principalDf.loc[:,'principal component 2'], principalDf.loc[:,'principal component 3'], s = 50, c=kmeans.labels_)\n",
    "ax.set_xlabel('Principal Component 1', fontsize = 15)\n",
    "ax.set_ylabel('Principal Component 2', fontsize = 15)\n",
    "ax.set_zlabel('Principal Component 3', fontsize = 15)"
   ]
  },
  {
   "cell_type": "code",
   "execution_count": 13,
   "metadata": {},
   "outputs": [],
   "source": [
    "ax?"
   ]
  },
  {
   "cell_type": "code",
   "execution_count": 14,
   "metadata": {},
   "outputs": [
    {
     "name": "stdout",
     "output_type": "stream",
     "text": [
      "Cluster 0 has 24132 addresses.\n",
      "Cluster 1 has 15 addresses.\n",
      "Cluster 2 has 146980 addresses.\n",
      "Cluster 3 has 26 addresses.\n",
      "Cluster 4 has 2 addresses.\n"
     ]
    }
   ],
   "source": [
    "for i in range(0,5,1):\n",
    "    res = kmeans.labels_[kmeans.labels_ == i] \n",
    "    print(\"Cluster {} has {} addresses.\".format(i, len(res))) \n"
   ]
  },
  {
   "cell_type": "code",
   "execution_count": 15,
   "metadata": {},
   "outputs": [],
   "source": [
    "results[\"cluster\"] = kmeans.labels_\n",
    "results[\"weiReceived\"] = (results.loc[:,\"weiReceived\"] / 10**18).astype(float).round(2)\n",
    "results[\"weiSent\"] = (results.loc[:,\"weiSent\"] / 10**18).astype(float).round(2)\n",
    "results.rename(columns={\"weiReceived\": \"ethReceived\", \"weiSent\": \"ethSent\"}, inplace=True)"
   ]
  },
  {
   "cell_type": "code",
   "execution_count": 16,
   "metadata": {},
   "outputs": [
    {
     "data": {
      "text/html": [
       "<div>\n",
       "<style scoped>\n",
       "    .dataframe tbody tr th:only-of-type {\n",
       "        vertical-align: middle;\n",
       "    }\n",
       "\n",
       "    .dataframe tbody tr th {\n",
       "        vertical-align: top;\n",
       "    }\n",
       "\n",
       "    .dataframe thead th {\n",
       "        text-align: right;\n",
       "    }\n",
       "</style>\n",
       "<table border=\"1\" class=\"dataframe\">\n",
       "  <thead>\n",
       "    <tr style=\"text-align: right;\">\n",
       "      <th></th>\n",
       "      <th>ethReceived</th>\n",
       "      <th>ethSent</th>\n",
       "      <th>numberOfTranscationsReceived</th>\n",
       "      <th>numberOfTranscationsSent</th>\n",
       "      <th>avgTimeDiffBetweenSentTransactions</th>\n",
       "      <th>avgTimeDiffBetweenReceivedTransactions</th>\n",
       "      <th>cluster</th>\n",
       "    </tr>\n",
       "  </thead>\n",
       "  <tbody>\n",
       "    <tr>\n",
       "      <th>count</th>\n",
       "      <td>15.000000</td>\n",
       "      <td>15.000000</td>\n",
       "      <td>15.000000</td>\n",
       "      <td>15.000000</td>\n",
       "      <td>15.000000</td>\n",
       "      <td>15.000000</td>\n",
       "      <td>15.0</td>\n",
       "    </tr>\n",
       "    <tr>\n",
       "      <th>mean</th>\n",
       "      <td>12043.826667</td>\n",
       "      <td>15137.688667</td>\n",
       "      <td>16830.666667</td>\n",
       "      <td>37023.800000</td>\n",
       "      <td>27.964422</td>\n",
       "      <td>16161.601660</td>\n",
       "      <td>1.0</td>\n",
       "    </tr>\n",
       "    <tr>\n",
       "      <th>std</th>\n",
       "      <td>15236.629332</td>\n",
       "      <td>11768.728714</td>\n",
       "      <td>22796.945578</td>\n",
       "      <td>28722.582868</td>\n",
       "      <td>32.661344</td>\n",
       "      <td>62026.632139</td>\n",
       "      <td>0.0</td>\n",
       "    </tr>\n",
       "    <tr>\n",
       "      <th>min</th>\n",
       "      <td>0.000000</td>\n",
       "      <td>0.000000</td>\n",
       "      <td>1.000000</td>\n",
       "      <td>4250.000000</td>\n",
       "      <td>4.780650</td>\n",
       "      <td>0.000000</td>\n",
       "      <td>1.0</td>\n",
       "    </tr>\n",
       "    <tr>\n",
       "      <th>25%</th>\n",
       "      <td>809.555000</td>\n",
       "      <td>5655.995000</td>\n",
       "      <td>2197.000000</td>\n",
       "      <td>22570.000000</td>\n",
       "      <td>15.243500</td>\n",
       "      <td>16.093919</td>\n",
       "      <td>1.0</td>\n",
       "    </tr>\n",
       "    <tr>\n",
       "      <th>50%</th>\n",
       "      <td>5175.920000</td>\n",
       "      <td>12420.230000</td>\n",
       "      <td>8077.000000</td>\n",
       "      <td>30782.000000</td>\n",
       "      <td>19.644359</td>\n",
       "      <td>42.197990</td>\n",
       "      <td>1.0</td>\n",
       "    </tr>\n",
       "    <tr>\n",
       "      <th>75%</th>\n",
       "      <td>16964.825000</td>\n",
       "      <td>23467.195000</td>\n",
       "      <td>23002.000000</td>\n",
       "      <td>39656.000000</td>\n",
       "      <td>26.792000</td>\n",
       "      <td>114.088966</td>\n",
       "      <td>1.0</td>\n",
       "    </tr>\n",
       "    <tr>\n",
       "      <th>max</th>\n",
       "      <td>52757.990000</td>\n",
       "      <td>37972.200000</td>\n",
       "      <td>83862.000000</td>\n",
       "      <td>126470.000000</td>\n",
       "      <td>142.280537</td>\n",
       "      <td>240371.000000</td>\n",
       "      <td>1.0</td>\n",
       "    </tr>\n",
       "  </tbody>\n",
       "</table>\n",
       "</div>"
      ],
      "text/plain": [
       "        ethReceived       ethSent  numberOfTranscationsReceived  \\\n",
       "count     15.000000     15.000000                     15.000000   \n",
       "mean   12043.826667  15137.688667                  16830.666667   \n",
       "std    15236.629332  11768.728714                  22796.945578   \n",
       "min        0.000000      0.000000                      1.000000   \n",
       "25%      809.555000   5655.995000                   2197.000000   \n",
       "50%     5175.920000  12420.230000                   8077.000000   \n",
       "75%    16964.825000  23467.195000                  23002.000000   \n",
       "max    52757.990000  37972.200000                  83862.000000   \n",
       "\n",
       "       numberOfTranscationsSent  avgTimeDiffBetweenSentTransactions  \\\n",
       "count                 15.000000                           15.000000   \n",
       "mean               37023.800000                           27.964422   \n",
       "std                28722.582868                           32.661344   \n",
       "min                 4250.000000                            4.780650   \n",
       "25%                22570.000000                           15.243500   \n",
       "50%                30782.000000                           19.644359   \n",
       "75%                39656.000000                           26.792000   \n",
       "max               126470.000000                          142.280537   \n",
       "\n",
       "       avgTimeDiffBetweenReceivedTransactions  cluster  \n",
       "count                               15.000000     15.0  \n",
       "mean                             16161.601660      1.0  \n",
       "std                              62026.632139      0.0  \n",
       "min                                  0.000000      1.0  \n",
       "25%                                 16.093919      1.0  \n",
       "50%                                 42.197990      1.0  \n",
       "75%                                114.088966      1.0  \n",
       "max                             240371.000000      1.0  "
      ]
     },
     "execution_count": 16,
     "metadata": {},
     "output_type": "execute_result"
    }
   ],
   "source": [
    "results[results.cluster == 1].describe()"
   ]
  },
  {
   "cell_type": "code",
   "execution_count": 17,
   "metadata": {},
   "outputs": [
    {
     "data": {
      "text/html": [
       "<div>\n",
       "<style scoped>\n",
       "    .dataframe tbody tr th:only-of-type {\n",
       "        vertical-align: middle;\n",
       "    }\n",
       "\n",
       "    .dataframe tbody tr th {\n",
       "        vertical-align: top;\n",
       "    }\n",
       "\n",
       "    .dataframe thead th {\n",
       "        text-align: right;\n",
       "    }\n",
       "</style>\n",
       "<table border=\"1\" class=\"dataframe\">\n",
       "  <thead>\n",
       "    <tr style=\"text-align: right;\">\n",
       "      <th></th>\n",
       "      <th>ethReceived</th>\n",
       "      <th>ethSent</th>\n",
       "      <th>numberOfTranscationsReceived</th>\n",
       "      <th>numberOfTranscationsSent</th>\n",
       "      <th>avgTimeDiffBetweenSentTransactions</th>\n",
       "      <th>avgTimeDiffBetweenReceivedTransactions</th>\n",
       "      <th>cluster</th>\n",
       "    </tr>\n",
       "  </thead>\n",
       "  <tbody>\n",
       "    <tr>\n",
       "      <th>count</th>\n",
       "      <td>24132.000000</td>\n",
       "      <td>24132.000000</td>\n",
       "      <td>24132.000000</td>\n",
       "      <td>24132.000000</td>\n",
       "      <td>24132.000000</td>\n",
       "      <td>24132.000000</td>\n",
       "      <td>24132.0</td>\n",
       "    </tr>\n",
       "    <tr>\n",
       "      <th>mean</th>\n",
       "      <td>15.912927</td>\n",
       "      <td>16.292400</td>\n",
       "      <td>2.988646</td>\n",
       "      <td>2.753771</td>\n",
       "      <td>208353.791007</td>\n",
       "      <td>208901.188795</td>\n",
       "      <td>0.0</td>\n",
       "    </tr>\n",
       "    <tr>\n",
       "      <th>std</th>\n",
       "      <td>230.054361</td>\n",
       "      <td>230.047559</td>\n",
       "      <td>3.432356</td>\n",
       "      <td>11.122934</td>\n",
       "      <td>130013.685657</td>\n",
       "      <td>125040.386901</td>\n",
       "      <td>0.0</td>\n",
       "    </tr>\n",
       "    <tr>\n",
       "      <th>min</th>\n",
       "      <td>0.000000</td>\n",
       "      <td>0.000000</td>\n",
       "      <td>1.000000</td>\n",
       "      <td>1.000000</td>\n",
       "      <td>0.000000</td>\n",
       "      <td>0.000000</td>\n",
       "      <td>0.0</td>\n",
       "    </tr>\n",
       "    <tr>\n",
       "      <th>25%</th>\n",
       "      <td>0.150000</td>\n",
       "      <td>0.170000</td>\n",
       "      <td>2.000000</td>\n",
       "      <td>2.000000</td>\n",
       "      <td>126557.562500</td>\n",
       "      <td>118049.250000</td>\n",
       "      <td>0.0</td>\n",
       "    </tr>\n",
       "    <tr>\n",
       "      <th>50%</th>\n",
       "      <td>0.500000</td>\n",
       "      <td>0.640000</td>\n",
       "      <td>2.000000</td>\n",
       "      <td>2.000000</td>\n",
       "      <td>196423.500000</td>\n",
       "      <td>191356.500000</td>\n",
       "      <td>0.0</td>\n",
       "    </tr>\n",
       "    <tr>\n",
       "      <th>75%</th>\n",
       "      <td>3.032500</td>\n",
       "      <td>3.520000</td>\n",
       "      <td>3.000000</td>\n",
       "      <td>3.000000</td>\n",
       "      <td>291925.500000</td>\n",
       "      <td>288529.000000</td>\n",
       "      <td>0.0</td>\n",
       "    </tr>\n",
       "    <tr>\n",
       "      <th>max</th>\n",
       "      <td>16827.000000</td>\n",
       "      <td>19048.990000</td>\n",
       "      <td>250.000000</td>\n",
       "      <td>1039.000000</td>\n",
       "      <td>595492.000000</td>\n",
       "      <td>601969.000000</td>\n",
       "      <td>0.0</td>\n",
       "    </tr>\n",
       "  </tbody>\n",
       "</table>\n",
       "</div>"
      ],
      "text/plain": [
       "        ethReceived       ethSent  numberOfTranscationsReceived  \\\n",
       "count  24132.000000  24132.000000                  24132.000000   \n",
       "mean      15.912927     16.292400                      2.988646   \n",
       "std      230.054361    230.047559                      3.432356   \n",
       "min        0.000000      0.000000                      1.000000   \n",
       "25%        0.150000      0.170000                      2.000000   \n",
       "50%        0.500000      0.640000                      2.000000   \n",
       "75%        3.032500      3.520000                      3.000000   \n",
       "max    16827.000000  19048.990000                    250.000000   \n",
       "\n",
       "       numberOfTranscationsSent  avgTimeDiffBetweenSentTransactions  \\\n",
       "count              24132.000000                        24132.000000   \n",
       "mean                   2.753771                       208353.791007   \n",
       "std                   11.122934                       130013.685657   \n",
       "min                    1.000000                            0.000000   \n",
       "25%                    2.000000                       126557.562500   \n",
       "50%                    2.000000                       196423.500000   \n",
       "75%                    3.000000                       291925.500000   \n",
       "max                 1039.000000                       595492.000000   \n",
       "\n",
       "       avgTimeDiffBetweenReceivedTransactions  cluster  \n",
       "count                            24132.000000  24132.0  \n",
       "mean                            208901.188795      0.0  \n",
       "std                             125040.386901      0.0  \n",
       "min                                  0.000000      0.0  \n",
       "25%                             118049.250000      0.0  \n",
       "50%                             191356.500000      0.0  \n",
       "75%                             288529.000000      0.0  \n",
       "max                             601969.000000      0.0  "
      ]
     },
     "execution_count": 17,
     "metadata": {},
     "output_type": "execute_result"
    }
   ],
   "source": [
    "results[results.cluster == 0].describe()"
   ]
  },
  {
   "cell_type": "code",
   "execution_count": 18,
   "metadata": {},
   "outputs": [
    {
     "data": {
      "text/html": [
       "<div>\n",
       "<style scoped>\n",
       "    .dataframe tbody tr th:only-of-type {\n",
       "        vertical-align: middle;\n",
       "    }\n",
       "\n",
       "    .dataframe tbody tr th {\n",
       "        vertical-align: top;\n",
       "    }\n",
       "\n",
       "    .dataframe thead th {\n",
       "        text-align: right;\n",
       "    }\n",
       "</style>\n",
       "<table border=\"1\" class=\"dataframe\">\n",
       "  <thead>\n",
       "    <tr style=\"text-align: right;\">\n",
       "      <th></th>\n",
       "      <th>ethReceived</th>\n",
       "      <th>ethSent</th>\n",
       "      <th>numberOfTranscationsReceived</th>\n",
       "      <th>numberOfTranscationsSent</th>\n",
       "      <th>avgTimeDiffBetweenSentTransactions</th>\n",
       "      <th>avgTimeDiffBetweenReceivedTransactions</th>\n",
       "      <th>cluster</th>\n",
       "    </tr>\n",
       "  </thead>\n",
       "  <tbody>\n",
       "    <tr>\n",
       "      <th>count</th>\n",
       "      <td>146980.000000</td>\n",
       "      <td>146980.000000</td>\n",
       "      <td>146980.00000</td>\n",
       "      <td>146980.000000</td>\n",
       "      <td>146980.000000</td>\n",
       "      <td>146980.000000</td>\n",
       "      <td>146980.0</td>\n",
       "    </tr>\n",
       "    <tr>\n",
       "      <th>mean</th>\n",
       "      <td>33.385114</td>\n",
       "      <td>34.206128</td>\n",
       "      <td>4.40943</td>\n",
       "      <td>5.599292</td>\n",
       "      <td>11516.229798</td>\n",
       "      <td>12991.419820</td>\n",
       "      <td>2.0</td>\n",
       "    </tr>\n",
       "    <tr>\n",
       "      <th>std</th>\n",
       "      <td>695.837665</td>\n",
       "      <td>727.152233</td>\n",
       "      <td>114.84537</td>\n",
       "      <td>145.147310</td>\n",
       "      <td>31586.259624</td>\n",
       "      <td>34510.577002</td>\n",
       "      <td>0.0</td>\n",
       "    </tr>\n",
       "    <tr>\n",
       "      <th>min</th>\n",
       "      <td>0.000000</td>\n",
       "      <td>0.000000</td>\n",
       "      <td>1.00000</td>\n",
       "      <td>1.000000</td>\n",
       "      <td>0.000000</td>\n",
       "      <td>0.000000</td>\n",
       "      <td>2.0</td>\n",
       "    </tr>\n",
       "    <tr>\n",
       "      <th>25%</th>\n",
       "      <td>0.230000</td>\n",
       "      <td>0.250000</td>\n",
       "      <td>1.00000</td>\n",
       "      <td>1.000000</td>\n",
       "      <td>0.000000</td>\n",
       "      <td>0.000000</td>\n",
       "      <td>2.0</td>\n",
       "    </tr>\n",
       "    <tr>\n",
       "      <th>50%</th>\n",
       "      <td>1.680000</td>\n",
       "      <td>1.730000</td>\n",
       "      <td>1.00000</td>\n",
       "      <td>1.000000</td>\n",
       "      <td>0.000000</td>\n",
       "      <td>0.000000</td>\n",
       "      <td>2.0</td>\n",
       "    </tr>\n",
       "    <tr>\n",
       "      <th>75%</th>\n",
       "      <td>4.500000</td>\n",
       "      <td>4.620000</td>\n",
       "      <td>2.00000</td>\n",
       "      <td>1.000000</td>\n",
       "      <td>0.000000</td>\n",
       "      <td>67.592391</td>\n",
       "      <td>2.0</td>\n",
       "    </tr>\n",
       "    <tr>\n",
       "      <th>max</th>\n",
       "      <td>104351.590000</td>\n",
       "      <td>71037.000000</td>\n",
       "      <td>19131.00000</td>\n",
       "      <td>21626.000000</td>\n",
       "      <td>221274.000000</td>\n",
       "      <td>220245.000000</td>\n",
       "      <td>2.0</td>\n",
       "    </tr>\n",
       "  </tbody>\n",
       "</table>\n",
       "</div>"
      ],
      "text/plain": [
       "         ethReceived        ethSent  numberOfTranscationsReceived  \\\n",
       "count  146980.000000  146980.000000                  146980.00000   \n",
       "mean       33.385114      34.206128                       4.40943   \n",
       "std       695.837665     727.152233                     114.84537   \n",
       "min         0.000000       0.000000                       1.00000   \n",
       "25%         0.230000       0.250000                       1.00000   \n",
       "50%         1.680000       1.730000                       1.00000   \n",
       "75%         4.500000       4.620000                       2.00000   \n",
       "max    104351.590000   71037.000000                   19131.00000   \n",
       "\n",
       "       numberOfTranscationsSent  avgTimeDiffBetweenSentTransactions  \\\n",
       "count             146980.000000                       146980.000000   \n",
       "mean                   5.599292                        11516.229798   \n",
       "std                  145.147310                        31586.259624   \n",
       "min                    1.000000                            0.000000   \n",
       "25%                    1.000000                            0.000000   \n",
       "50%                    1.000000                            0.000000   \n",
       "75%                    1.000000                            0.000000   \n",
       "max                21626.000000                       221274.000000   \n",
       "\n",
       "       avgTimeDiffBetweenReceivedTransactions   cluster  \n",
       "count                           146980.000000  146980.0  \n",
       "mean                             12991.419820       2.0  \n",
       "std                              34510.577002       0.0  \n",
       "min                                  0.000000       2.0  \n",
       "25%                                  0.000000       2.0  \n",
       "50%                                  0.000000       2.0  \n",
       "75%                                 67.592391       2.0  \n",
       "max                             220245.000000       2.0  "
      ]
     },
     "execution_count": 18,
     "metadata": {},
     "output_type": "execute_result"
    }
   ],
   "source": [
    "results[results.cluster == 2].describe()"
   ]
  },
  {
   "cell_type": "code",
   "execution_count": 19,
   "metadata": {},
   "outputs": [
    {
     "data": {
      "text/html": [
       "<div>\n",
       "<style scoped>\n",
       "    .dataframe tbody tr th:only-of-type {\n",
       "        vertical-align: middle;\n",
       "    }\n",
       "\n",
       "    .dataframe tbody tr th {\n",
       "        vertical-align: top;\n",
       "    }\n",
       "\n",
       "    .dataframe thead th {\n",
       "        text-align: right;\n",
       "    }\n",
       "</style>\n",
       "<table border=\"1\" class=\"dataframe\">\n",
       "  <thead>\n",
       "    <tr style=\"text-align: right;\">\n",
       "      <th></th>\n",
       "      <th>address</th>\n",
       "      <th>ethReceived</th>\n",
       "      <th>ethSent</th>\n",
       "      <th>numberOfTranscationsReceived</th>\n",
       "      <th>numberOfTranscationsSent</th>\n",
       "      <th>avgTimeDiffBetweenSentTransactions</th>\n",
       "      <th>avgTimeDiffBetweenReceivedTransactions</th>\n",
       "      <th>cluster</th>\n",
       "    </tr>\n",
       "  </thead>\n",
       "  <tbody>\n",
       "    <tr>\n",
       "      <th>287</th>\n",
       "      <td>0x034f854b44d28e26386c1bc37ff9b20c6380b00d</td>\n",
       "      <td>67261.58</td>\n",
       "      <td>83958.00</td>\n",
       "      <td>9177</td>\n",
       "      <td>21</td>\n",
       "      <td>28034.700000</td>\n",
       "      <td>65.851787</td>\n",
       "      <td>3</td>\n",
       "    </tr>\n",
       "    <tr>\n",
       "      <th>512</th>\n",
       "      <td>0x6f50c6bff08ec925232937b204b0ae23c488402a</td>\n",
       "      <td>140498.08</td>\n",
       "      <td>138898.97</td>\n",
       "      <td>9007</td>\n",
       "      <td>9679</td>\n",
       "      <td>62.466419</td>\n",
       "      <td>67.114035</td>\n",
       "      <td>3</td>\n",
       "    </tr>\n",
       "    <tr>\n",
       "      <th>860</th>\n",
       "      <td>0x0d0707963952f2fba59dd06f2b425ace40b492fe</td>\n",
       "      <td>90317.24</td>\n",
       "      <td>82085.39</td>\n",
       "      <td>5249</td>\n",
       "      <td>17625</td>\n",
       "      <td>34.310429</td>\n",
       "      <td>109.843750</td>\n",
       "      <td>3</td>\n",
       "    </tr>\n",
       "    <tr>\n",
       "      <th>1264</th>\n",
       "      <td>0xa356c39acdbd3d3c3a732cfb3501543942c85cbd</td>\n",
       "      <td>82084.14</td>\n",
       "      <td>84750.35</td>\n",
       "      <td>24</td>\n",
       "      <td>2189</td>\n",
       "      <td>275.374771</td>\n",
       "      <td>26186.000000</td>\n",
       "      <td>3</td>\n",
       "    </tr>\n",
       "    <tr>\n",
       "      <th>1463</th>\n",
       "      <td>0xc02aaa39b223fe8d0a0e5c4f27ead9083c756cc2</td>\n",
       "      <td>121453.23</td>\n",
       "      <td>98430.25</td>\n",
       "      <td>79666</td>\n",
       "      <td>5935</td>\n",
       "      <td>101.900236</td>\n",
       "      <td>7.591452</td>\n",
       "      <td>3</td>\n",
       "    </tr>\n",
       "  </tbody>\n",
       "</table>\n",
       "</div>"
      ],
      "text/plain": [
       "                                         address  ethReceived    ethSent  \\\n",
       "287   0x034f854b44d28e26386c1bc37ff9b20c6380b00d     67261.58   83958.00   \n",
       "512   0x6f50c6bff08ec925232937b204b0ae23c488402a    140498.08  138898.97   \n",
       "860   0x0d0707963952f2fba59dd06f2b425ace40b492fe     90317.24   82085.39   \n",
       "1264  0xa356c39acdbd3d3c3a732cfb3501543942c85cbd     82084.14   84750.35   \n",
       "1463  0xc02aaa39b223fe8d0a0e5c4f27ead9083c756cc2    121453.23   98430.25   \n",
       "\n",
       "      numberOfTranscationsReceived  numberOfTranscationsSent  \\\n",
       "287                           9177                        21   \n",
       "512                           9007                      9679   \n",
       "860                           5249                     17625   \n",
       "1264                            24                      2189   \n",
       "1463                         79666                      5935   \n",
       "\n",
       "      avgTimeDiffBetweenSentTransactions  \\\n",
       "287                         28034.700000   \n",
       "512                            62.466419   \n",
       "860                            34.310429   \n",
       "1264                          275.374771   \n",
       "1463                          101.900236   \n",
       "\n",
       "      avgTimeDiffBetweenReceivedTransactions  cluster  \n",
       "287                                65.851787        3  \n",
       "512                                67.114035        3  \n",
       "860                               109.843750        3  \n",
       "1264                            26186.000000        3  \n",
       "1463                                7.591452        3  "
      ]
     },
     "execution_count": 19,
     "metadata": {},
     "output_type": "execute_result"
    }
   ],
   "source": [
    "results[results.cluster == 3].head()"
   ]
  },
  {
   "cell_type": "code",
   "execution_count": 20,
   "metadata": {},
   "outputs": [
    {
     "data": {
      "text/html": [
       "<div>\n",
       "<style scoped>\n",
       "    .dataframe tbody tr th:only-of-type {\n",
       "        vertical-align: middle;\n",
       "    }\n",
       "\n",
       "    .dataframe tbody tr th {\n",
       "        vertical-align: top;\n",
       "    }\n",
       "\n",
       "    .dataframe thead th {\n",
       "        text-align: right;\n",
       "    }\n",
       "</style>\n",
       "<table border=\"1\" class=\"dataframe\">\n",
       "  <thead>\n",
       "    <tr style=\"text-align: right;\">\n",
       "      <th></th>\n",
       "      <th>address</th>\n",
       "      <th>ethReceived</th>\n",
       "      <th>ethSent</th>\n",
       "      <th>numberOfTranscationsReceived</th>\n",
       "      <th>numberOfTranscationsSent</th>\n",
       "      <th>avgTimeDiffBetweenSentTransactions</th>\n",
       "      <th>avgTimeDiffBetweenReceivedTransactions</th>\n",
       "      <th>cluster</th>\n",
       "    </tr>\n",
       "  </thead>\n",
       "  <tbody>\n",
       "    <tr>\n",
       "      <th>1093</th>\n",
       "      <td>0x6cc5f688a315f3dc28a7781717a9a798a59fda7b</td>\n",
       "      <td>379299.46</td>\n",
       "      <td>323899.88</td>\n",
       "      <td>7231</td>\n",
       "      <td>6580</td>\n",
       "      <td>91.818361</td>\n",
       "      <td>83.262517</td>\n",
       "      <td>4</td>\n",
       "    </tr>\n",
       "    <tr>\n",
       "      <th>1979</th>\n",
       "      <td>0x3f5ce5fbfe3e9af3971dd833d26ba9b5c936f0be</td>\n",
       "      <td>632879.53</td>\n",
       "      <td>610690.94</td>\n",
       "      <td>31871</td>\n",
       "      <td>16960</td>\n",
       "      <td>35.656348</td>\n",
       "      <td>18.935488</td>\n",
       "      <td>4</td>\n",
       "    </tr>\n",
       "  </tbody>\n",
       "</table>\n",
       "</div>"
      ],
      "text/plain": [
       "                                         address  ethReceived    ethSent  \\\n",
       "1093  0x6cc5f688a315f3dc28a7781717a9a798a59fda7b    379299.46  323899.88   \n",
       "1979  0x3f5ce5fbfe3e9af3971dd833d26ba9b5c936f0be    632879.53  610690.94   \n",
       "\n",
       "      numberOfTranscationsReceived  numberOfTranscationsSent  \\\n",
       "1093                          7231                      6580   \n",
       "1979                         31871                     16960   \n",
       "\n",
       "      avgTimeDiffBetweenSentTransactions  \\\n",
       "1093                           91.818361   \n",
       "1979                           35.656348   \n",
       "\n",
       "      avgTimeDiffBetweenReceivedTransactions  cluster  \n",
       "1093                               83.262517        4  \n",
       "1979                               18.935488        4  "
      ]
     },
     "execution_count": 20,
     "metadata": {},
     "output_type": "execute_result"
    }
   ],
   "source": [
    "results[results.cluster == 4].head()"
   ]
  },
  {
   "cell_type": "code",
   "execution_count": 21,
   "metadata": {},
   "outputs": [
    {
     "data": {
      "text/html": [
       "<div>\n",
       "<style scoped>\n",
       "    .dataframe tbody tr th:only-of-type {\n",
       "        vertical-align: middle;\n",
       "    }\n",
       "\n",
       "    .dataframe tbody tr th {\n",
       "        vertical-align: top;\n",
       "    }\n",
       "\n",
       "    .dataframe thead th {\n",
       "        text-align: right;\n",
       "    }\n",
       "</style>\n",
       "<table border=\"1\" class=\"dataframe\">\n",
       "  <thead>\n",
       "    <tr style=\"text-align: right;\">\n",
       "      <th></th>\n",
       "      <th>address</th>\n",
       "      <th>ethReceived</th>\n",
       "      <th>ethSent</th>\n",
       "      <th>numberOfTranscationsReceived</th>\n",
       "      <th>numberOfTranscationsSent</th>\n",
       "      <th>avgTimeDiffBetweenSentTransactions</th>\n",
       "      <th>avgTimeDiffBetweenReceivedTransactions</th>\n",
       "      <th>cluster</th>\n",
       "    </tr>\n",
       "  </thead>\n",
       "  <tbody>\n",
       "    <tr>\n",
       "      <th>0</th>\n",
       "      <td>0x89140e261d15fdc7c1b2fa377f5378e5960d3a31</td>\n",
       "      <td>11629.71</td>\n",
       "      <td>11649.74</td>\n",
       "      <td>1428</td>\n",
       "      <td>24</td>\n",
       "      <td>23288.521739</td>\n",
       "      <td>410.468115</td>\n",
       "      <td>2</td>\n",
       "    </tr>\n",
       "    <tr>\n",
       "      <th>1</th>\n",
       "      <td>0x65417798ae3c68332a5f4779afbe3e7cb6870f04</td>\n",
       "      <td>235.56</td>\n",
       "      <td>67.36</td>\n",
       "      <td>15</td>\n",
       "      <td>7</td>\n",
       "      <td>63913.666667</td>\n",
       "      <td>31964.000000</td>\n",
       "      <td>2</td>\n",
       "    </tr>\n",
       "    <tr>\n",
       "      <th>2</th>\n",
       "      <td>0xb830a7e63b51c2a22985c2e3b2dbcbfa838920f6</td>\n",
       "      <td>25.96</td>\n",
       "      <td>3.00</td>\n",
       "      <td>11</td>\n",
       "      <td>3</td>\n",
       "      <td>133013.000000</td>\n",
       "      <td>50356.900000</td>\n",
       "      <td>2</td>\n",
       "    </tr>\n",
       "    <tr>\n",
       "      <th>3</th>\n",
       "      <td>0x1550318d0bc8938b3ad0a2b000e00e14747742c0</td>\n",
       "      <td>44.86</td>\n",
       "      <td>0.00</td>\n",
       "      <td>13</td>\n",
       "      <td>13</td>\n",
       "      <td>30036.666667</td>\n",
       "      <td>46010.416667</td>\n",
       "      <td>2</td>\n",
       "    </tr>\n",
       "    <tr>\n",
       "      <th>4</th>\n",
       "      <td>0x0d810ff086fa4ebd29b705a2f55ac30644044571</td>\n",
       "      <td>1.00</td>\n",
       "      <td>1.00</td>\n",
       "      <td>10</td>\n",
       "      <td>5</td>\n",
       "      <td>115055.750000</td>\n",
       "      <td>51152.666667</td>\n",
       "      <td>2</td>\n",
       "    </tr>\n",
       "  </tbody>\n",
       "</table>\n",
       "</div>"
      ],
      "text/plain": [
       "                                      address  ethReceived   ethSent  \\\n",
       "0  0x89140e261d15fdc7c1b2fa377f5378e5960d3a31     11629.71  11649.74   \n",
       "1  0x65417798ae3c68332a5f4779afbe3e7cb6870f04       235.56     67.36   \n",
       "2  0xb830a7e63b51c2a22985c2e3b2dbcbfa838920f6        25.96      3.00   \n",
       "3  0x1550318d0bc8938b3ad0a2b000e00e14747742c0        44.86      0.00   \n",
       "4  0x0d810ff086fa4ebd29b705a2f55ac30644044571         1.00      1.00   \n",
       "\n",
       "   numberOfTranscationsReceived  numberOfTranscationsSent  \\\n",
       "0                          1428                        24   \n",
       "1                            15                         7   \n",
       "2                            11                         3   \n",
       "3                            13                        13   \n",
       "4                            10                         5   \n",
       "\n",
       "   avgTimeDiffBetweenSentTransactions  avgTimeDiffBetweenReceivedTransactions  \\\n",
       "0                        23288.521739                              410.468115   \n",
       "1                        63913.666667                            31964.000000   \n",
       "2                       133013.000000                            50356.900000   \n",
       "3                        30036.666667                            46010.416667   \n",
       "4                       115055.750000                            51152.666667   \n",
       "\n",
       "   cluster  \n",
       "0        2  \n",
       "1        2  \n",
       "2        2  \n",
       "3        2  \n",
       "4        2  "
      ]
     },
     "execution_count": 21,
     "metadata": {},
     "output_type": "execute_result"
    }
   ],
   "source": [
    "results[results.cluster == 2].head()"
   ]
  },
  {
   "cell_type": "code",
   "execution_count": null,
   "metadata": {},
   "outputs": [],
   "source": []
  }
 ],
 "metadata": {
  "kernelspec": {
   "display_name": "ethclusterkernel",
   "language": "python",
   "name": "ethclusterkernel"
  }
 },
 "nbformat": 4,
 "nbformat_minor": 2
}
